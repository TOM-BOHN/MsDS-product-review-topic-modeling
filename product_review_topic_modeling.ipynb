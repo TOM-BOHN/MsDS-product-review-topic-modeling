{
  "nbformat": 4,
  "nbformat_minor": 0,
  "metadata": {
    "colab": {
      "provenance": [],
      "authorship_tag": "ABX9TyOE4Brc1/TUOn5HIvhrg+9s",
      "include_colab_link": true
    },
    "kernelspec": {
      "name": "python3",
      "display_name": "Python 3"
    },
    "language_info": {
      "name": "python"
    }
  },
  "cells": [
    {
      "cell_type": "markdown",
      "metadata": {
        "id": "view-in-github",
        "colab_type": "text"
      },
      "source": [
        "<a href=\"https://colab.research.google.com/github/TOM-BOHN/MsDS-product-review-topic-modeling/blob/main/product_review_topic_modeling.ipynb\" target=\"_parent\"><img src=\"https://colab.research.google.com/assets/colab-badge.svg\" alt=\"Open In Colab\"/></a>"
      ]
    },
    {
      "cell_type": "markdown",
      "source": [
        "# Product Review Topic Modeling\n",
        "**Thomas Bohn**   --   **2023-09-18**\n",
        "\n",
        "A report focused on modeling topics on text review data from Amazon for clothing and shoes manufactured by Nike. Use unsupervised clustering methods to create popular topics in the review data.\n",
        "\n",
        "--  [Main Report](https://github.com/TOM-BOHN/MsDS-product-review-topic-modeling/blob/main/product_review_topic_modeling.ipynb)  --  [Github Repo](https://github.com/TOM-BOHN/MsDS-product-review-topic-modeling)  --  [Presentation Slides](tbd)  --  [Presentation Video](tbd) --"
      ],
      "metadata": {
        "id": "lY1sN4KoCifk"
      }
    },
    {
      "cell_type": "code",
      "execution_count": null,
      "metadata": {
        "id": "DJERv9sHCB9H"
      },
      "outputs": [],
      "source": []
    },
    {
      "cell_type": "markdown",
      "source": [
        "# 1.&nbsp;Introduction"
      ],
      "metadata": {
        "id": "Vm8H3NhtDkZD"
      }
    },
    {
      "cell_type": "markdown",
      "source": [
        "## Python Libraries\n",
        "\n",
        "The following python libraries are used in this notebook."
      ],
      "metadata": {
        "id": "Rc9iJV4NDkj6"
      }
    },
    {
      "cell_type": "code",
      "source": [
        "# File Connection and File Manipulation\n",
        "import os\n",
        "import time\n",
        "from time import sleep\n",
        "import pickle\n",
        "import json\n",
        "import glob\n",
        "# Basic Data Science Toolkits\n",
        "import pandas as pd\n",
        "import numpy as np\n",
        "import math\n",
        "import time\n",
        "# Basic Data Vizualization\n",
        "import seaborn as sns\n",
        "import matplotlib.pyplot as plt"
      ],
      "metadata": {
        "id": "H380lVJDDpRT"
      },
      "execution_count": 1,
      "outputs": []
    },
    {
      "cell_type": "markdown",
      "source": [
        "## Verify GPU Runtime"
      ],
      "metadata": {
        "id": "trDcYLfsDkpX"
      }
    },
    {
      "cell_type": "code",
      "source": [
        "gpu_info = !nvidia-smi\n",
        "gpu_info = '\\n'.join(gpu_info)\n",
        "if gpu_info.find('failed') >= 0:\n",
        "  print('Not connected to a GPU')\n",
        "else:\n",
        "  print(gpu_info)"
      ],
      "metadata": {
        "colab": {
          "base_uri": "https://localhost:8080/"
        },
        "id": "s7yTkyWkDt9R",
        "outputId": "809ddbdc-ddae-4bfa-8356-810189c753cd"
      },
      "execution_count": 2,
      "outputs": [
        {
          "output_type": "stream",
          "name": "stdout",
          "text": [
            "/bin/bash: line 1: nvidia-smi: command not found\n"
          ]
        }
      ]
    },
    {
      "cell_type": "code",
      "source": [
        "from psutil import virtual_memory\n",
        "ram_gb = virtual_memory().total / 1e9\n",
        "print('Your runtime has {:.1f} gigabytes of available RAM\\n'.format(ram_gb))\n",
        "\n",
        "if ram_gb < 20:\n",
        "  print('Not using a high-RAM runtime')\n",
        "else:\n",
        "  print('You are using a high-RAM runtime!')"
      ],
      "metadata": {
        "colab": {
          "base_uri": "https://localhost:8080/"
        },
        "id": "O-WqHeL7Dxyp",
        "outputId": "e3b4c746-f5fd-49ae-c044-44a2c5abcf0f"
      },
      "execution_count": 3,
      "outputs": [
        {
          "output_type": "stream",
          "name": "stdout",
          "text": [
            "Your runtime has 13.6 gigabytes of available RAM\n",
            "\n",
            "Not using a high-RAM runtime\n"
          ]
        }
      ]
    },
    {
      "cell_type": "markdown",
      "source": [
        "## Mount Google Drive"
      ],
      "metadata": {
        "id": "I-dych_HDktc"
      }
    },
    {
      "cell_type": "code",
      "source": [
        "from google.colab import drive\n",
        "drive.mount('/content/drive')"
      ],
      "metadata": {
        "colab": {
          "base_uri": "https://localhost:8080/"
        },
        "id": "hsxT8HBSD1TA",
        "outputId": "39320588-df05-4ed9-c56e-3317f6a2fd9a"
      },
      "execution_count": 4,
      "outputs": [
        {
          "output_type": "stream",
          "name": "stdout",
          "text": [
            "Mounted at /content/drive\n"
          ]
        }
      ]
    },
    {
      "cell_type": "markdown",
      "source": [
        "## Setup Directories"
      ],
      "metadata": {
        "id": "ux9ssn7tDkwc"
      }
    },
    {
      "cell_type": "code",
      "source": [
        "ROOT_DIR = \"/content/drive/MyDrive/MSDS_marketing_text_analytics/master_files/2_topic_modeling\"\n",
        "DATA_DIR = \"%s/data\" % ROOT_DIR\n",
        "EVAL_DIR = \"%s/evaluation\" % ROOT_DIR\n",
        "MODEL_DIR = \"%s/models\" % ROOT_DIR\n",
        "\n",
        "#Create missing directories, if they don't exist\n",
        "if not os.path.exists(DATA_DIR):\n",
        "  # Create a new directory because it does not exist\n",
        "  os.makedirs(DATA_DIR)\n",
        "  print(\"The data directory is created!\")\n",
        "if not os.path.exists(EVAL_DIR):\n",
        "  # Create a new directory because it does not exist\n",
        "  os.makedirs(EVAL_DIR)\n",
        "  print(\"The evaluation directory is created!\")\n",
        "if not os.path.exists(MODEL_DIR):\n",
        "  # Create a new directory because it does not exist\n",
        "  os.makedirs(MODEL_DIR)\n",
        "  print(\"The model directory is created!\")"
      ],
      "metadata": {
        "id": "QgUhHdlkD4_h"
      },
      "execution_count": 32,
      "outputs": []
    },
    {
      "cell_type": "code",
      "source": [
        "META_FILE_PATH = '%s/meta_Clothing_Shoes_and_Jewelry.json.gz' % DATA_DIR\n",
        "REVIEW_FILE_PATH = '%s/reviews_Clothing_Shoes_and_Jewelry.json.gz' % DATA_DIR"
      ],
      "metadata": {
        "id": "lBKP2muyHPGY"
      },
      "execution_count": 18,
      "outputs": []
    },
    {
      "cell_type": "markdown",
      "source": [
        "# 2.&nbsp;Data Source"
      ],
      "metadata": {
        "id": "uaL-mWljDkzE"
      }
    },
    {
      "cell_type": "markdown",
      "source": [
        "## Copy Data From Source"
      ],
      "metadata": {
        "id": "GwCxNYFLD_mO"
      }
    },
    {
      "cell_type": "code",
      "source": [
        "#!wget <URL> -P <COLAB PATH>\n",
        "#source_url = 'http://128.138.93.164/meta_Clothing_Shoes_and_Jewelry.json.gz' # true source, need better link\n",
        "source_url = 'https://docs.google.com/uc?export=download&id=12cPbdNpQ6Dmqg25Fb0kAxFSEug-8t3gc&confirm=t' # local source, working for testing\n",
        "dest_path = '%s/meta_Clothing_Shoes_and_Jewelry.jsonl.gz' % DATA_DIR\n",
        "!wget \"$source_url\" -O \"$dest_path\"\n"
      ],
      "metadata": {
        "colab": {
          "base_uri": "https://localhost:8080/"
        },
        "id": "qF0u3FMYFN2l",
        "outputId": "482bb923-4933-41aa-d12b-416e0ac5da66"
      },
      "execution_count": 43,
      "outputs": [
        {
          "output_type": "stream",
          "name": "stdout",
          "text": [
            "--2023-09-18 22:13:46--  https://docs.google.com/uc?export=download&id=12cPbdNpQ6Dmqg25Fb0kAxFSEug-8t3gc&confirm=t\n",
            "Resolving docs.google.com (docs.google.com)... 108.177.126.138, 108.177.126.139, 108.177.126.113, ...\n",
            "Connecting to docs.google.com (docs.google.com)|108.177.126.138|:443... connected.\n",
            "HTTP request sent, awaiting response... 303 See Other\n",
            "Location: https://doc-0o-58-docs.googleusercontent.com/docs/securesc/ha0ro937gcuc7l7deffksulhg5h7mbp1/7qeuhp3jkprbc4o70snmnq820i7po11u/1695075225000/15741694635513001712/*/12cPbdNpQ6Dmqg25Fb0kAxFSEug-8t3gc?e=download&uuid=df5822a8-2268-40fd-a6f4-bb63239e6a05 [following]\n",
            "Warning: wildcards not supported in HTTP.\n",
            "--2023-09-18 22:13:47--  https://doc-0o-58-docs.googleusercontent.com/docs/securesc/ha0ro937gcuc7l7deffksulhg5h7mbp1/7qeuhp3jkprbc4o70snmnq820i7po11u/1695075225000/15741694635513001712/*/12cPbdNpQ6Dmqg25Fb0kAxFSEug-8t3gc?e=download&uuid=df5822a8-2268-40fd-a6f4-bb63239e6a05\n",
            "Resolving doc-0o-58-docs.googleusercontent.com (doc-0o-58-docs.googleusercontent.com)... 142.251.18.132, 2a00:1450:4013:c18::84\n",
            "Connecting to doc-0o-58-docs.googleusercontent.com (doc-0o-58-docs.googleusercontent.com)|142.251.18.132|:443... connected.\n",
            "HTTP request sent, awaiting response... 200 OK\n",
            "Length: 279297714 (266M) [application/x-gzip]\n",
            "Saving to: ‘/content/drive/MyDrive/MSDS_marketing_text_analytics/master_files/2_topic_modeling/data/meta_Clothing_Shoes_and_Jewelry.jsonl.gz’\n",
            "\n",
            "/content/drive/MyDr 100%[===================>] 266.36M  32.6MB/s    in 7.7s    \n",
            "\n",
            "2023-09-18 22:13:55 (34.5 MB/s) - ‘/content/drive/MyDrive/MSDS_marketing_text_analytics/master_files/2_topic_modeling/data/meta_Clothing_Shoes_and_Jewelry.jsonl.gz’ saved [279297714/279297714]\n",
            "\n"
          ]
        }
      ]
    },
    {
      "cell_type": "code",
      "source": [
        "#!wget <URL> -P <COLAB PATH>\n",
        "#source_url = 'http://128.138.93.164/reviews_Clothing_Shoes_and_Jewelry.json.gz' # true source, need better link\n",
        "source_url = \"https://docs.google.com/uc?export=download&id=12detwlesuD7S-O8i9w4LOii1DWML0i7Q&confirm=t\" # local source, working for testing\n",
        "dest_path = '%s/reviews_Clothing_Shoes_and_Jewelry.json.gz' % DATA_DIR\n",
        "file_name = 'reviews_Clothing_Shoes_and_Jewelry.json.gz'\n",
        "print(dest_path)\n",
        "!wget \"$source_url\" -O \"$dest_path\""
      ],
      "metadata": {
        "colab": {
          "base_uri": "https://localhost:8080/"
        },
        "id": "UiXBplpkFN-Z",
        "outputId": "22cb641f-dce3-46ea-ae12-452bb7e13f79"
      },
      "execution_count": 44,
      "outputs": [
        {
          "output_type": "stream",
          "name": "stdout",
          "text": [
            "/content/drive/MyDrive/MSDS_marketing_text_analytics/master_files/2_topic_modeling/data/reviews_Clothing_Shoes_and_Jewelry.json.gz\n",
            "--2023-09-18 22:14:37--  https://docs.google.com/uc?export=download&id=12detwlesuD7S-O8i9w4LOii1DWML0i7Q&confirm=t\n",
            "Resolving docs.google.com (docs.google.com)... 108.177.126.138, 108.177.126.102, 108.177.126.100, ...\n",
            "Connecting to docs.google.com (docs.google.com)|108.177.126.138|:443... connected.\n",
            "HTTP request sent, awaiting response... 303 See Other\n",
            "Location: https://doc-0o-58-docs.googleusercontent.com/docs/securesc/ha0ro937gcuc7l7deffksulhg5h7mbp1/bhu56oc1bj6feidn253emcrplo7110r7/1695075225000/15741694635513001712/*/12detwlesuD7S-O8i9w4LOii1DWML0i7Q?e=download&uuid=ba539796-3687-4d5a-b0d9-600b1016498d [following]\n",
            "Warning: wildcards not supported in HTTP.\n",
            "--2023-09-18 22:14:38--  https://doc-0o-58-docs.googleusercontent.com/docs/securesc/ha0ro937gcuc7l7deffksulhg5h7mbp1/bhu56oc1bj6feidn253emcrplo7110r7/1695075225000/15741694635513001712/*/12detwlesuD7S-O8i9w4LOii1DWML0i7Q?e=download&uuid=ba539796-3687-4d5a-b0d9-600b1016498d\n",
            "Resolving doc-0o-58-docs.googleusercontent.com (doc-0o-58-docs.googleusercontent.com)... 142.251.18.132, 2a00:1450:4013:c18::84\n",
            "Connecting to doc-0o-58-docs.googleusercontent.com (doc-0o-58-docs.googleusercontent.com)|142.251.18.132|:443... connected.\n",
            "HTTP request sent, awaiting response... 200 OK\n",
            "Length: 888065454 (847M) [application/x-gzip]\n",
            "Saving to: ‘/content/drive/MyDrive/MSDS_marketing_text_analytics/master_files/2_topic_modeling/data/reviews_Clothing_Shoes_and_Jewelry.json.gz’\n",
            "\n",
            "/content/drive/MyDr 100%[===================>] 846.92M  23.4MB/s    in 35s     \n",
            "\n",
            "2023-09-18 22:15:13 (24.1 MB/s) - ‘/content/drive/MyDrive/MSDS_marketing_text_analytics/master_files/2_topic_modeling/data/reviews_Clothing_Shoes_and_Jewelry.json.gz’ saved [888065454/888065454]\n",
            "\n"
          ]
        }
      ]
    },
    {
      "cell_type": "code",
      "source": [
        "meta_file_path = '%s/meta_Clothing_Shoes_and_Jewelry.jsonl.gz' % DATA_DIR\n",
        "review_file_path = '%s/reviews_Clothing_Shoes_and_Jewelry.json.gz' % DATA_DIR\n",
        "\n",
        "!gzip -d \"$meta_file_path\"\n",
        "!gzip -d \"$review_file_path\""
      ],
      "metadata": {
        "id": "RE5Bt8SpGJuJ"
      },
      "execution_count": 45,
      "outputs": []
    },
    {
      "cell_type": "markdown",
      "source": [
        "## Load the Data"
      ],
      "metadata": {
        "id": "iLawHwl8Dk3H"
      }
    },
    {
      "cell_type": "code",
      "source": [
        "##this assigns the filename we're trying to load in to a string variable\n",
        "meta_file_path = '%s/meta_Clothing_Shoes_and_Jewelry.jsonl' % DATA_DIR\n",
        "loadedjson = open(meta_file_path, 'r')"
      ],
      "metadata": {
        "id": "XpLJWRlyG66-"
      },
      "execution_count": 47,
      "outputs": []
    },
    {
      "cell_type": "code",
      "source": [
        "#The data used in this script comes from: http://jmcauley.ucsd.edu/data/amazon/links.html\n",
        "#The data here is the 'per category' data for Clothing, Shoes and Jewelry\n",
        "#use the above url to better understand the data, where it came from, and some\n",
        "#tips on how to use it!\n",
        "\n",
        "#getting reviews is going to be a two step process:\n",
        "#1) go through the amazon product catalog for \"Clothing, Shoes and Jewelery\n",
        "#and extract out matching products by their ASIN\n",
        "#2) go through the review data and parse out the matching reviews by ASIN\n",
        "\n",
        "#1) - Extracting ASINs by brand\n",
        "#First, let's iterate through the data and store it as a python dictionary\n",
        "\n",
        "#let's set a counter to see how many products we have in the json\n",
        "count = 0\n",
        "start_time = time.time()\n",
        "#loading the json file\n",
        "#we've always got to initiate dictionaries before we can use them\n",
        "allproducts = {}\n",
        "\n",
        "#each line of data here is a product and its metadata\n",
        "print('loading product data to dictionary:')\n",
        "for aline in loadedjson:\n",
        "    #creating a counter to know our progress in processing the entire catalog\n",
        "    count += 1\n",
        "    if count % 100000 == 0:\n",
        "        #we're only going to print our count every 100k, this way we don't spam\n",
        "        #our output console\n",
        "        current_runtime = round(time.time() - start_time,3)\n",
        "        print('[-] current progress:', count, 'and a runtime of', current_runtime, 'seconds.')\n",
        "    #interestingly enough, this data isn't true JSON, instead it's python\n",
        "    #dictionaries that have essentially been printed as text. It's odd, but if\n",
        "    #we read the documentaion, all we need to do to load a dictionary is use\n",
        "    #the eval function. https://www.programiz.com/python-programming/methods/built-in/eval\n",
        "    #eval takes whatever string is passed to it, and interprets it as python code\n",
        "    #and runs it. So here, it's exactly what we need to interpret a printed\n",
        "    #python dictionary\n",
        "\n",
        "    aproduct = eval(aline)\n",
        "\n",
        "    #making a dictionary entry with the ASIN of the product as the key\n",
        "    #and it's metadata as nested dictionaries\n",
        "    allproducts[aproduct['asin']] = aproduct"
      ],
      "metadata": {
        "colab": {
          "base_uri": "https://localhost:8080/"
        },
        "id": "JgonsDHsHiGy",
        "outputId": "aa105c7e-e62e-418e-ccfd-609969bb380a"
      },
      "execution_count": 48,
      "outputs": [
        {
          "output_type": "stream",
          "name": "stdout",
          "text": [
            "loading product data to dictionary:\n",
            "[-] current progress: 100000 and a runtime of 14.454 seconds.\n",
            "[-] current progress: 200000 and a runtime of 29.4 seconds.\n",
            "[-] current progress: 300000 and a runtime of 45.329 seconds.\n",
            "[-] current progress: 400000 and a runtime of 63.058 seconds.\n",
            "[-] current progress: 500000 and a runtime of 79.572 seconds.\n",
            "[-] current progress: 600000 and a runtime of 95.584 seconds.\n",
            "[-] current progress: 700000 and a runtime of 113.943 seconds.\n",
            "[-] current progress: 800000 and a runtime of 134.295 seconds.\n",
            "[-] current progress: 900000 and a runtime of 152.333 seconds.\n",
            "[-] current progress: 1000000 and a runtime of 171.838 seconds.\n",
            "[-] current progress: 1100000 and a runtime of 192.491 seconds.\n",
            "[-] current progress: 1200000 and a runtime of 211.064 seconds.\n",
            "[-] current progress: 1300000 and a runtime of 235.86 seconds.\n",
            "[-] current progress: 1400000 and a runtime of 255.625 seconds.\n",
            "[-] current progress: 1500000 and a runtime of 276.365 seconds.\n"
          ]
        }
      ]
    },
    {
      "cell_type": "code",
      "source": [
        "#print a summary of the records processed\n",
        "allproducts_length = len(allproducts)\n",
        "current_runtime = round(time.time() - start_time,3)\n",
        "print('Process completed for', count, 'of', allproducts_length, 'records with a final runtime of', current_runtime, 'seconds.')"
      ],
      "metadata": {
        "colab": {
          "base_uri": "https://localhost:8080/"
        },
        "id": "82nO1J0qK7px",
        "outputId": "1fe01287-267b-46aa-ac79-508a8ced65c2"
      },
      "execution_count": 49,
      "outputs": [
        {
          "output_type": "stream",
          "name": "stdout",
          "text": [
            "Process completed for 1503384 of 1503384 records with a final runtime of 277.317 seconds.\n"
          ]
        }
      ]
    },
    {
      "cell_type": "markdown",
      "source": [
        "## Summarize the Categories"
      ],
      "metadata": {
        "id": "SM_uvP__Xj3q"
      }
    },
    {
      "cell_type": "code",
      "source": [
        "#Next we need to explore the product data to see what categories are common in the\n",
        "#data. As you'll learn, product categories are wishywashy in that they can be\n",
        "#product categories (e.g., baby, house and home), or they can be brands!\n",
        "#We're already dealing with a subset of the product categories, Clothing, Shoes\n",
        "#and Jewlery. We still need to find a list of product ids for our specific\n",
        "#brand. To do this,We're going to use the 'categories' metadata field to find\n",
        "#your brand\n",
        "\n",
        "##Let's create a dictionary of all the product subcategories\n",
        "#and by doing so, also come up with a list of brands and the number of products\n",
        "#they have listed in the amazon product catalog\n",
        "\n",
        "allcategories = {}\n",
        "count = 0\n",
        "start_time = time.time()\n",
        "\n",
        "#each line of data here is a product and its metadata\n",
        "print('loading categories data to dictionary:')\n",
        "for aproduct in allproducts:\n",
        "    #creating a counter to know our progress in processing the entire catalog\n",
        "    count += 1\n",
        "    if count % 100000 == 0:\n",
        "        #we now know there are 1.5 million products, so we can build a counter\n",
        "        #that tells how our processing is going. When the counter reaches one\n",
        "        #we're done!\n",
        "        current_progress = int(round(count/allproducts_length,2)*100)\n",
        "        current_runtime = round(time.time() - start_time,3)\n",
        "        print('[-] current progress:', current_progress, '%', 'and a runtime of', current_runtime, 'seconds.')\n",
        "\n",
        "    #setting a dict up with just one product, so we can inspect and ref it\n",
        "    aproduct = allproducts[aproduct]\n",
        "    #creating a dictionary entry for each product category\n",
        "    #also counting the occurances of each category\n",
        "    if 'categories' in aproduct:\n",
        "        for categories in aproduct['categories']:\n",
        "            for acategory in categories:\n",
        "                if acategory in allcategories:\n",
        "                    allcategories[acategory] += 1\n",
        "                if acategory not in allcategories:\n",
        "                    allcategories[acategory] = 1"
      ],
      "metadata": {
        "colab": {
          "base_uri": "https://localhost:8080/"
        },
        "id": "Z8HacV-QLvxB",
        "outputId": "3cba69f1-0f64-4cc9-c05f-64d940dd3d17"
      },
      "execution_count": 50,
      "outputs": [
        {
          "output_type": "stream",
          "name": "stdout",
          "text": [
            "loading categories data to dictionary:\n",
            "[-] current progress: 7 % and a runtime of 0.801 seconds.\n",
            "[-] current progress: 13 % and a runtime of 1.545 seconds.\n",
            "[-] current progress: 20 % and a runtime of 2.029 seconds.\n",
            "[-] current progress: 27 % and a runtime of 2.492 seconds.\n",
            "[-] current progress: 33 % and a runtime of 2.947 seconds.\n",
            "[-] current progress: 40 % and a runtime of 3.423 seconds.\n",
            "[-] current progress: 47 % and a runtime of 3.853 seconds.\n",
            "[-] current progress: 53 % and a runtime of 4.283 seconds.\n",
            "[-] current progress: 60 % and a runtime of 4.722 seconds.\n",
            "[-] current progress: 67 % and a runtime of 5.135 seconds.\n",
            "[-] current progress: 73 % and a runtime of 5.583 seconds.\n",
            "[-] current progress: 80 % and a runtime of 5.983 seconds.\n",
            "[-] current progress: 86 % and a runtime of 6.392 seconds.\n",
            "[-] current progress: 93 % and a runtime of 6.81 seconds.\n",
            "[-] current progress: 100 % and a runtime of 7.197 seconds.\n"
          ]
        }
      ]
    },
    {
      "cell_type": "code",
      "source": [
        "#print a summary of the categories processed\n",
        "allcategories_length = len(allcategories)\n",
        "current_runtime = round(time.time() - start_time,3)\n",
        "print('Process completed for', allcategories_length, 'categories with a final runtime of', current_runtime, 'seconds.')"
      ],
      "metadata": {
        "colab": {
          "base_uri": "https://localhost:8080/"
        },
        "id": "DYX33syoMams",
        "outputId": "44735419-0b60-44bf-c400-3869b2f8db35"
      },
      "execution_count": 51,
      "outputs": [
        {
          "output_type": "stream",
          "name": "stdout",
          "text": [
            "Process completed for 2773 catregories with a final runtime of 7.224 seconds.\n"
          ]
        }
      ]
    },
    {
      "cell_type": "code",
      "source": [
        "#create a sorted list of categories\n",
        "sortedlist = []\n",
        "#covert the dictionary to a list of tuples\n",
        "for acategory in allcategories:\n",
        "  sortedlist.append((allcategories[acategory],acategory))\n",
        "#sort the list\n",
        "sortedlist = sorted(sortedlist, reverse=True)\n",
        "#print the top x records in the list\n",
        "top_n = 20\n",
        "for item in range(0,top_n):\n",
        "  print('[',str(item).zfill(2),']', sortedlist[item])"
      ],
      "metadata": {
        "colab": {
          "base_uri": "https://localhost:8080/"
        },
        "id": "24HHwOM3MvMp",
        "outputId": "bae6991c-3b17-4a91-cd9e-9de0d923200f"
      },
      "execution_count": 58,
      "outputs": [
        {
          "output_type": "stream",
          "name": "stdout",
          "text": [
            "[ 00 ] (3429257, 'Clothing, Shoes & Jewelry')\n",
            "[ 01 ] (1086181, 'Women')\n",
            "[ 02 ] (617092, 'Clothing')\n",
            "[ 03 ] (541681, 'Men')\n",
            "[ 04 ] (537761, 'Novelty, Costumes & More')\n",
            "[ 05 ] (432653, 'Shoes')\n",
            "[ 06 ] (339900, 'Novelty')\n",
            "[ 07 ] (268065, 'Shoes & Accessories: International Shipping Available')\n",
            "[ 08 ] (255454, 'Jewelry')\n",
            "[ 09 ] (174962, 'Accessories')\n",
            "[ 10 ] (97095, 'Girls')\n",
            "[ 11 ] (93596, 'Tops & Tees')\n",
            "[ 12 ] (87688, 'Dresses')\n",
            "[ 13 ] (84549, 'T-Shirts')\n",
            "[ 14 ] (82063, 'Boots')\n",
            "[ 15 ] (80302, 'Shirts')\n",
            "[ 16 ] (79897, 'Sandals')\n",
            "[ 17 ] (79545, 'Watches')\n",
            "[ 18 ] (77684, 'Boys')\n",
            "[ 19 ] (73507, 'Jewelry: International Shipping Available')\n"
          ]
        }
      ]
    },
    {
      "cell_type": "code",
      "source": [
        "nike_categories = allcategories['Nike']\n",
        "print(nike_categories, 'product records for Nike.')"
      ],
      "metadata": {
        "colab": {
          "base_uri": "https://localhost:8080/"
        },
        "id": "pphGYYnnNJ0B",
        "outputId": "7fe2a764-f8d4-4a2e-9830-1c2c698b176e"
      },
      "execution_count": 53,
      "outputs": [
        {
          "output_type": "stream",
          "name": "stdout",
          "text": [
            "8327 product records for Nike.\n"
          ]
        }
      ]
    },
    {
      "cell_type": "markdown",
      "source": [
        "## Extract a List of Product Ids"
      ],
      "metadata": {
        "id": "9_8Wzo6RXpvC"
      }
    },
    {
      "cell_type": "code",
      "source": [
        "#Now, go ahead and use the Variable Expolorer in Spyder to locate a brand\n",
        "#that has a lot of product entries! Alternatively, type allcategories['Brand name']\n",
        "#to get a count for a specific brand. For instance:\n",
        "#>>allcategories['Nike']\n",
        "#>> 8327\n",
        "#>>allcategories['adidas']\n",
        "#>> 8645\n",
        "\n",
        "#I'd reccommend at least 1.5k products, but you're welcome to try smaller counts\n",
        "#all I care about is whether you have at least 2k reviews when it's all said and done\n",
        "\n",
        "\n",
        "##Now we need to go through our newly first dictionary and extract out the\n",
        "##matching ASINs for Nike\n",
        "\n",
        "##First, create a set where we will store our ASINs\n",
        "##We choose a set here because we don't want duplicates\n",
        "allnikeasins = set()\n",
        "count = 0\n",
        "start_time = time.time()\n",
        "\n",
        "for areview in allproducts:\n",
        "    theproduct = allproducts[areview]\n",
        "    count += 1\n",
        "    if count % 100000 == 0:\n",
        "        current_progress = int(round(count/allproducts_length,2)*100)\n",
        "        current_runtime = round(time.time() - start_time,3)\n",
        "        print('[-] current progress:', current_progress, '%', 'and a runtime of', current_runtime, 'seconds.')\n",
        "\n",
        "    #let's iterate fore each category for a product, again, any given product\n",
        "    #can be assigned multiple product categories,\n",
        "    for categories in theproduct['categories']:\n",
        "        #each category is actually encoded as a list (even though they should\n",
        "        #just be strings, so we need to iterate one more time)\n",
        "        for acategory in categories:\n",
        "            #checking to see if the product category matches Nike\n",
        "            #lowercasing the category string incase capitalization might get\n",
        "            #in the way of a match\n",
        "            if 'nike' in acategory.lower():\n",
        "                #let's go ahead and store it to our set of Nike ASINs\n",
        "                allnikeasins.add(theproduct['asin'])"
      ],
      "metadata": {
        "colab": {
          "base_uri": "https://localhost:8080/"
        },
        "id": "lMutjGO2NxCI",
        "outputId": "8de2f443-b7d1-4620-a644-c65ccd9ddfdf"
      },
      "execution_count": 54,
      "outputs": [
        {
          "output_type": "stream",
          "name": "stdout",
          "text": [
            "[-] current progress: 7 % and a runtime of 0.311 seconds.\n",
            "[-] current progress: 13 % and a runtime of 0.61 seconds.\n",
            "[-] current progress: 20 % and a runtime of 0.932 seconds.\n",
            "[-] current progress: 27 % and a runtime of 1.244 seconds.\n",
            "[-] current progress: 33 % and a runtime of 1.558 seconds.\n",
            "[-] current progress: 40 % and a runtime of 1.858 seconds.\n",
            "[-] current progress: 47 % and a runtime of 2.165 seconds.\n",
            "[-] current progress: 53 % and a runtime of 2.471 seconds.\n",
            "[-] current progress: 60 % and a runtime of 2.753 seconds.\n",
            "[-] current progress: 67 % and a runtime of 3.037 seconds.\n",
            "[-] current progress: 73 % and a runtime of 3.338 seconds.\n",
            "[-] current progress: 80 % and a runtime of 3.63 seconds.\n",
            "[-] current progress: 86 % and a runtime of 3.911 seconds.\n",
            "[-] current progress: 93 % and a runtime of 4.201 seconds.\n",
            "[-] current progress: 100 % and a runtime of 4.649 seconds.\n"
          ]
        }
      ]
    },
    {
      "cell_type": "code",
      "source": [
        "#print a summary of the categories processed\n",
        "allnikeasins_length = len(allnikeasins)\n",
        "current_runtime = round(time.time() - start_time,3)\n",
        "print('Process completed for', allnikeasins_length, 'records with a final runtime of', current_runtime, 'seconds.')"
      ],
      "metadata": {
        "colab": {
          "base_uri": "https://localhost:8080/"
        },
        "id": "QJnKh-pJN31B",
        "outputId": "0d88a64c-46f2-4090-de34-d15de81c47f2"
      },
      "execution_count": 55,
      "outputs": [
        {
          "output_type": "stream",
          "name": "stdout",
          "text": [
            "Process completed for 8327 records with a final runtime of 4.684 seconds.\n"
          ]
        }
      ]
    },
    {
      "cell_type": "code",
      "source": [
        "# write the ASINs out to a file as a checkpoint\n",
        "outputfile = open('%s/allasins.txt' % DATA_DIR, 'w')\n",
        "\n",
        "outputfile.write(','.join(allnikeasins))\n",
        "outputfile.close()"
      ],
      "metadata": {
        "id": "3w3CxJ7AOSrF"
      },
      "execution_count": 56,
      "outputs": []
    },
    {
      "cell_type": "markdown",
      "source": [
        "## Filter Data to Scope of Analysis"
      ],
      "metadata": {
        "id": "9sbFTPRFENk0"
      }
    },
    {
      "cell_type": "markdown",
      "source": [
        "# 3.&nbsp;Preprocessing the Data"
      ],
      "metadata": {
        "id": "VQqWaZtyDk7D"
      }
    },
    {
      "cell_type": "markdown",
      "source": [
        "# 4.&nbsp;Data Cleansing"
      ],
      "metadata": {
        "id": "dQpfi8WaEebc"
      }
    },
    {
      "cell_type": "markdown",
      "source": [
        "# 5.&nbsp;Model: Parameter Tuning"
      ],
      "metadata": {
        "id": "ccZlhJcEEee5"
      }
    },
    {
      "cell_type": "markdown",
      "source": [
        "# 6.&nbsp;Model: Final"
      ],
      "metadata": {
        "id": "GglxxFTwEeh0"
      }
    },
    {
      "cell_type": "markdown",
      "source": [
        "# 7.&nbsp; Model Evaluation"
      ],
      "metadata": {
        "id": "P_ch6h37Eekq"
      }
    },
    {
      "cell_type": "markdown",
      "source": [
        "# 8.&nbsp; Results"
      ],
      "metadata": {
        "id": "cXHvb30HEend"
      }
    },
    {
      "cell_type": "markdown",
      "source": [
        "# 9.&nbsp; References"
      ],
      "metadata": {
        "id": "Q3D69G2sErhN"
      }
    }
  ]
}