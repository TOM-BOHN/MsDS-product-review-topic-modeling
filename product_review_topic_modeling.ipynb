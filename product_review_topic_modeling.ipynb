{
  "nbformat": 4,
  "nbformat_minor": 0,
  "metadata": {
    "colab": {
      "provenance": [],
      "toc_visible": true,
      "authorship_tag": "ABX9TyPHS3Azx8ZXT8+ZID21asuA",
      "include_colab_link": true
    },
    "kernelspec": {
      "name": "python3",
      "display_name": "Python 3"
    },
    "language_info": {
      "name": "python"
    }
  },
  "cells": [
    {
      "cell_type": "markdown",
      "metadata": {
        "id": "view-in-github",
        "colab_type": "text"
      },
      "source": [
        "<a href=\"https://colab.research.google.com/github/TOM-BOHN/MsDS-product-review-topic-modeling/blob/main/product_review_topic_modeling.ipynb\" target=\"_parent\"><img src=\"https://colab.research.google.com/assets/colab-badge.svg\" alt=\"Open In Colab\"/></a>"
      ]
    },
    {
      "cell_type": "markdown",
      "source": [
        "# Product Review Topic Modeling\n",
        "**Thomas Bohn**   --   **2023-09-18**\n",
        "\n",
        "A report focused on modeling topics on text review data from Amazon for clothing and shoes manufactured by Nike. Use unsupervised clustering methods to create popular topics in the review data.\n",
        "\n",
        "--  [Main Report](https://github.com/TOM-BOHN/MsDS-product-review-topic-modeling/blob/main/product_review_topic_modeling.ipynb)  --  [Github Repo](https://github.com/TOM-BOHN/MsDS-product-review-topic-modeling)  --  [Presentation Slides](tbd)  --  [Presentation Video](tbd) --"
      ],
      "metadata": {
        "id": "lY1sN4KoCifk"
      }
    },
    {
      "cell_type": "markdown",
      "source": [
        "# 1.&nbsp;Introduction"
      ],
      "metadata": {
        "id": "Vm8H3NhtDkZD"
      }
    },
    {
      "cell_type": "markdown",
      "source": [
        "## Setup Functions"
      ],
      "metadata": {
        "id": "P8L2lHJra6rW"
      }
    },
    {
      "cell_type": "markdown",
      "source": [
        "### Import Python Libraries\n",
        "\n",
        "The following python libraries are used in this notebook."
      ],
      "metadata": {
        "id": "Rc9iJV4NDkj6"
      }
    },
    {
      "cell_type": "code",
      "source": [
        "# Special Install of Packages\n",
        "print('[-] Importing packages...')\n",
        "#special_install_tmtoolkit\n",
        "import os\n",
        "try:\n",
        "  import tmtoolkit\n",
        "except:\n",
        "  print('starting patch of tmtoolkit.')\n",
        "  !pip install --quiet -U \"tmtoolkit[recommended,lda,sklearn,wordclouds,textproc_extra,topic_modeling_eval_extra]\"\n",
        "  print('finished patch of tmtoolkit.')\n",
        "  os.kill(os.getpid(), 9)\n",
        "\n",
        "#special_install_matplotlib\n",
        "import os\n",
        "import matplotlib\n",
        "if matplotlib.__version__ != \"3.1.3\":\n",
        "    print('starting patch of matplotlib.')\n",
        "    !pip uninstall --quiet -y matplotlib\n",
        "    !pip install --quiet matplotlib==3.1.3\n",
        "    print('finished patch of matplotlib.')\n",
        "    os.kill(os.getpid(), 9)\n",
        "\n",
        "#special_install_lda\n",
        "import os\n",
        "try:\n",
        "  from tmtoolkit.topicmod.tm_lda import compute_models_parallel\n",
        "except:\n",
        "  !pip install --quiet tmtoolkit['lda']\n",
        "  from tmtoolkit.topicmod.tm_lda import compute_models_parallel\n",
        "\n",
        "try:\n",
        "  from lda import LDA\n",
        "except:\n",
        "  !pip install --quiet lda\n",
        "  from lda import LDA\n",
        "\n",
        "#special_install_pyLDAvis\n",
        "try:\n",
        "  import pyLDAvis\n",
        "except:\n",
        "  !pip install --quiet pyLDAvis==2.1.2\n",
        "  import pyLDAvis\n"
      ],
      "metadata": {
        "colab": {
          "base_uri": "https://localhost:8080/"
        },
        "id": "6YRoOyQDwdHV",
        "outputId": "c5c77368-e8a9-4195-e926-fd474f4c8afa"
      },
      "execution_count": 56,
      "outputs": [
        {
          "output_type": "stream",
          "name": "stdout",
          "text": [
            "[-] Importing packages...\n"
          ]
        }
      ]
    },
    {
      "cell_type": "code",
      "source": [
        "print('[-] Importing packages...')\n",
        "# File Connection and File Manipulation\n",
        "import os\n",
        "import pickle\n",
        "import json\n",
        "import glob\n",
        "# Import Usability Functions\n",
        "import logging\n",
        "import warnings\n",
        "# Basic Data Science Toolkits\n",
        "import pandas as pd\n",
        "import numpy as np\n",
        "import math\n",
        "import random\n",
        "import time\n",
        "from time import sleep\n",
        "# Basic Data Vizualization\n",
        "import seaborn as sns\n",
        "import matplotlib.pyplot as plt\n",
        "# Text Preprocessing (tmtoolkit)\n",
        "import tmtoolkit\n",
        "from tmtoolkit.corpus import Corpus, lemmatize, to_lowercase, remove_chars, filter_clean_tokens\n",
        "from tmtoolkit.corpus import filter_for_pos, remove_common_tokens, remove_uncommon_tokens\n",
        "from tmtoolkit.corpus import corpus_num_tokens, corpus_tokens_flattened\n",
        "from tmtoolkit.corpus import doc_tokens, tokens_table, doc_labels, dtm\n",
        "from tmtoolkit.corpus import vocabulary, vocabulary_size, vocabulary_counts\n",
        "from tmtoolkit.topicmod.model_io import print_ldamodel_topic_words\n",
        "from tmtoolkit.topicmod.tm_lda import compute_models_parallel\n",
        "from tmtoolkit.corpus.visualize import plot_doc_lengths_hist, plot_doc_frequencies_hist, plot_ranked_vocab_counts\n",
        "#https://tmtoolkit.readthedocs.io/en/latest/preprocessing.html\n",
        "# Text Preprocessing(other)\n",
        "from string import punctuation\n",
        "import nltk\n",
        "import scipy.sparse\n",
        "# Topic Modeling\n",
        "from lda import LDA\n",
        "import pyLDAvis\n",
        "from tmtoolkit.topicmod import tm_lda\n",
        "from tmtoolkit.topicmod.tm_lda import compute_models_parallel\n",
        "from tmtoolkit.topicmod.model_io import print_ldamodel_topic_words\n",
        "from tmtoolkit.topicmod.model_io import save_ldamodel_to_pickle\n",
        "from tmtoolkit.topicmod.model_io import load_ldamodel_from_pickle\n",
        "from tmtoolkit.topicmod.model_io import ldamodel_top_doc_topics\n",
        "from tmtoolkit.topicmod.evaluate import results_by_parameter\n",
        "from tmtoolkit.topicmod.visualize import plot_eval_results\n",
        "from tmtoolkit.topicmod.visualize import parameters_for_ldavis\n",
        "from tmtoolkit.topicmod.visualize import generate_wordclouds_for_topic_words\n",
        "from tmtoolkit.topicmod.model_stats import generate_topic_labels_from_top_words\n",
        "from tmtoolkit.bow.bow_stats import doc_lengths"
      ],
      "metadata": {
        "id": "H380lVJDDpRT",
        "colab": {
          "base_uri": "https://localhost:8080/"
        },
        "outputId": "25fe1bbc-8b47-472b-e45f-ba533be74e87"
      },
      "execution_count": 57,
      "outputs": [
        {
          "output_type": "stream",
          "name": "stdout",
          "text": [
            "[-] Importing packages...\n"
          ]
        }
      ]
    },
    {
      "cell_type": "markdown",
      "source": [
        "### Set Global Variables"
      ],
      "metadata": {
        "id": "gkSK-tf_w07v"
      }
    },
    {
      "cell_type": "code",
      "source": [
        "random.seed(20191120)   # to make the sampling reproducible\n",
        "np.set_printoptions(precision=5)"
      ],
      "metadata": {
        "id": "VAB5u0jbw1Et"
      },
      "execution_count": 58,
      "outputs": []
    },
    {
      "cell_type": "markdown",
      "source": [
        "### Verify GPU Runtime"
      ],
      "metadata": {
        "id": "trDcYLfsDkpX"
      }
    },
    {
      "cell_type": "code",
      "source": [
        "gpu_info = !nvidia-smi\n",
        "gpu_info = '\\n'.join(gpu_info)\n",
        "if gpu_info.find('failed') >= 0:\n",
        "  print('Not connected to a GPU')\n",
        "else:\n",
        "  print(gpu_info)"
      ],
      "metadata": {
        "colab": {
          "base_uri": "https://localhost:8080/"
        },
        "id": "s7yTkyWkDt9R",
        "outputId": "4d462a78-601d-40b6-c239-3c3bd7721417"
      },
      "execution_count": 59,
      "outputs": [
        {
          "output_type": "stream",
          "name": "stdout",
          "text": [
            "/bin/bash: line 1: nvidia-smi: command not found\n"
          ]
        }
      ]
    },
    {
      "cell_type": "code",
      "source": [
        "from psutil import virtual_memory\n",
        "ram_gb = virtual_memory().total / 1e9\n",
        "print('  [.] Your runtime has {:.1f} gigabytes of available RAM'.format(ram_gb))\n",
        "\n",
        "if ram_gb < 20:\n",
        "  print('  [.] Not using a high-RAM runtime')\n",
        "else:\n",
        "  print('  [.] You are using a high-RAM runtime!')"
      ],
      "metadata": {
        "colab": {
          "base_uri": "https://localhost:8080/"
        },
        "id": "O-WqHeL7Dxyp",
        "outputId": "ab1b3c57-91bb-4aff-cd4c-3e57efd65295"
      },
      "execution_count": 60,
      "outputs": [
        {
          "output_type": "stream",
          "name": "stdout",
          "text": [
            "  [.] Your runtime has 13.6 gigabytes of available RAM\n",
            "  [.] Not using a high-RAM runtime\n"
          ]
        }
      ]
    },
    {
      "cell_type": "markdown",
      "source": [
        "### Mount Google Drive"
      ],
      "metadata": {
        "id": "I-dych_HDktc"
      }
    },
    {
      "cell_type": "code",
      "source": [
        "from google.colab import drive\n",
        "drive.mount('/content/drive')"
      ],
      "metadata": {
        "colab": {
          "base_uri": "https://localhost:8080/"
        },
        "id": "hsxT8HBSD1TA",
        "outputId": "ae0f78c1-c419-4d42-de71-f8c47a65e196"
      },
      "execution_count": 61,
      "outputs": [
        {
          "output_type": "stream",
          "name": "stdout",
          "text": [
            "Drive already mounted at /content/drive; to attempt to forcibly remount, call drive.mount(\"/content/drive\", force_remount=True).\n"
          ]
        }
      ]
    },
    {
      "cell_type": "markdown",
      "source": [
        "### Setup Directories"
      ],
      "metadata": {
        "id": "ux9ssn7tDkwc"
      }
    },
    {
      "cell_type": "code",
      "source": [
        "ROOT_DIR = \"/content/drive/MyDrive/MSDS_marketing_text_analytics/master_files/2_topic_modeling\"\n",
        "DATA_DIR = \"%s/data\" % ROOT_DIR\n",
        "EVAL_DIR = \"%s/evaluation\" % ROOT_DIR\n",
        "MODEL_DIR = \"%s/models\" % ROOT_DIR\n",
        "\n",
        "#Create missing directories, if they don't exist\n",
        "if not os.path.exists(DATA_DIR):\n",
        "  # Create a new directory because it does not exist\n",
        "  os.makedirs(DATA_DIR)\n",
        "  print(\"The data directory is created!\")\n",
        "if not os.path.exists(EVAL_DIR):\n",
        "  # Create a new directory because it does not exist\n",
        "  os.makedirs(EVAL_DIR)\n",
        "  print(\"The evaluation directory is created!\")\n",
        "if not os.path.exists(MODEL_DIR):\n",
        "  # Create a new directory because it does not exist\n",
        "  os.makedirs(MODEL_DIR)\n",
        "  print(\"The model directory is created!\")"
      ],
      "metadata": {
        "id": "QgUhHdlkD4_h"
      },
      "execution_count": 62,
      "outputs": []
    },
    {
      "cell_type": "markdown",
      "source": [
        "# 2.&nbsp;Data Source"
      ],
      "metadata": {
        "id": "uaL-mWljDkzE"
      }
    },
    {
      "cell_type": "markdown",
      "source": [
        "## Copy Data From Source"
      ],
      "metadata": {
        "id": "GwCxNYFLD_mO"
      }
    },
    {
      "cell_type": "code",
      "source": [
        "#!wget <URL> -P <COLAB PATH>\n",
        "#source_url = 'http://128.138.93.164/meta_Clothing_Shoes_and_Jewelry.json.gz' # true source, need better link\n",
        "source_url = 'https://docs.google.com/uc?export=download&id=12cPbdNpQ6Dmqg25Fb0kAxFSEug-8t3gc&confirm=t' # local source, working for testing\n",
        "dest_path = '%s/meta_Clothing_Shoes_and_Jewelry.jsonl.gz' % DATA_DIR\n",
        "!wget \"$source_url\" -O \"$dest_path\"\n"
      ],
      "metadata": {
        "colab": {
          "base_uri": "https://localhost:8080/"
        },
        "id": "qF0u3FMYFN2l",
        "outputId": "482bb923-4933-41aa-d12b-416e0ac5da66"
      },
      "execution_count": null,
      "outputs": [
        {
          "output_type": "stream",
          "name": "stdout",
          "text": [
            "--2023-09-18 22:13:46--  https://docs.google.com/uc?export=download&id=12cPbdNpQ6Dmqg25Fb0kAxFSEug-8t3gc&confirm=t\n",
            "Resolving docs.google.com (docs.google.com)... 108.177.126.138, 108.177.126.139, 108.177.126.113, ...\n",
            "Connecting to docs.google.com (docs.google.com)|108.177.126.138|:443... connected.\n",
            "HTTP request sent, awaiting response... 303 See Other\n",
            "Location: https://doc-0o-58-docs.googleusercontent.com/docs/securesc/ha0ro937gcuc7l7deffksulhg5h7mbp1/7qeuhp3jkprbc4o70snmnq820i7po11u/1695075225000/15741694635513001712/*/12cPbdNpQ6Dmqg25Fb0kAxFSEug-8t3gc?e=download&uuid=df5822a8-2268-40fd-a6f4-bb63239e6a05 [following]\n",
            "Warning: wildcards not supported in HTTP.\n",
            "--2023-09-18 22:13:47--  https://doc-0o-58-docs.googleusercontent.com/docs/securesc/ha0ro937gcuc7l7deffksulhg5h7mbp1/7qeuhp3jkprbc4o70snmnq820i7po11u/1695075225000/15741694635513001712/*/12cPbdNpQ6Dmqg25Fb0kAxFSEug-8t3gc?e=download&uuid=df5822a8-2268-40fd-a6f4-bb63239e6a05\n",
            "Resolving doc-0o-58-docs.googleusercontent.com (doc-0o-58-docs.googleusercontent.com)... 142.251.18.132, 2a00:1450:4013:c18::84\n",
            "Connecting to doc-0o-58-docs.googleusercontent.com (doc-0o-58-docs.googleusercontent.com)|142.251.18.132|:443... connected.\n",
            "HTTP request sent, awaiting response... 200 OK\n",
            "Length: 279297714 (266M) [application/x-gzip]\n",
            "Saving to: ‘/content/drive/MyDrive/MSDS_marketing_text_analytics/master_files/2_topic_modeling/data/meta_Clothing_Shoes_and_Jewelry.jsonl.gz’\n",
            "\n",
            "/content/drive/MyDr 100%[===================>] 266.36M  32.6MB/s    in 7.7s    \n",
            "\n",
            "2023-09-18 22:13:55 (34.5 MB/s) - ‘/content/drive/MyDrive/MSDS_marketing_text_analytics/master_files/2_topic_modeling/data/meta_Clothing_Shoes_and_Jewelry.jsonl.gz’ saved [279297714/279297714]\n",
            "\n"
          ]
        }
      ]
    },
    {
      "cell_type": "code",
      "source": [
        "#!wget <URL> -P <COLAB PATH>\n",
        "#source_url = 'http://128.138.93.164/reviews_Clothing_Shoes_and_Jewelry.json.gz' # true source, need better link\n",
        "source_url = \"https://docs.google.com/uc?export=download&id=12detwlesuD7S-O8i9w4LOii1DWML0i7Q&confirm=t\" # local source, working for testing\n",
        "dest_path = '%s/reviews_Clothing_Shoes_and_Jewelry.json.gz' % DATA_DIR\n",
        "file_name = 'reviews_Clothing_Shoes_and_Jewelry.json.gz'\n",
        "print(dest_path)\n",
        "!wget \"$source_url\" -O \"$dest_path\""
      ],
      "metadata": {
        "colab": {
          "base_uri": "https://localhost:8080/"
        },
        "id": "UiXBplpkFN-Z",
        "outputId": "22cb641f-dce3-46ea-ae12-452bb7e13f79"
      },
      "execution_count": null,
      "outputs": [
        {
          "output_type": "stream",
          "name": "stdout",
          "text": [
            "/content/drive/MyDrive/MSDS_marketing_text_analytics/master_files/2_topic_modeling/data/reviews_Clothing_Shoes_and_Jewelry.json.gz\n",
            "--2023-09-18 22:14:37--  https://docs.google.com/uc?export=download&id=12detwlesuD7S-O8i9w4LOii1DWML0i7Q&confirm=t\n",
            "Resolving docs.google.com (docs.google.com)... 108.177.126.138, 108.177.126.102, 108.177.126.100, ...\n",
            "Connecting to docs.google.com (docs.google.com)|108.177.126.138|:443... connected.\n",
            "HTTP request sent, awaiting response... 303 See Other\n",
            "Location: https://doc-0o-58-docs.googleusercontent.com/docs/securesc/ha0ro937gcuc7l7deffksulhg5h7mbp1/bhu56oc1bj6feidn253emcrplo7110r7/1695075225000/15741694635513001712/*/12detwlesuD7S-O8i9w4LOii1DWML0i7Q?e=download&uuid=ba539796-3687-4d5a-b0d9-600b1016498d [following]\n",
            "Warning: wildcards not supported in HTTP.\n",
            "--2023-09-18 22:14:38--  https://doc-0o-58-docs.googleusercontent.com/docs/securesc/ha0ro937gcuc7l7deffksulhg5h7mbp1/bhu56oc1bj6feidn253emcrplo7110r7/1695075225000/15741694635513001712/*/12detwlesuD7S-O8i9w4LOii1DWML0i7Q?e=download&uuid=ba539796-3687-4d5a-b0d9-600b1016498d\n",
            "Resolving doc-0o-58-docs.googleusercontent.com (doc-0o-58-docs.googleusercontent.com)... 142.251.18.132, 2a00:1450:4013:c18::84\n",
            "Connecting to doc-0o-58-docs.googleusercontent.com (doc-0o-58-docs.googleusercontent.com)|142.251.18.132|:443... connected.\n",
            "HTTP request sent, awaiting response... 200 OK\n",
            "Length: 888065454 (847M) [application/x-gzip]\n",
            "Saving to: ‘/content/drive/MyDrive/MSDS_marketing_text_analytics/master_files/2_topic_modeling/data/reviews_Clothing_Shoes_and_Jewelry.json.gz’\n",
            "\n",
            "/content/drive/MyDr 100%[===================>] 846.92M  23.4MB/s    in 35s     \n",
            "\n",
            "2023-09-18 22:15:13 (24.1 MB/s) - ‘/content/drive/MyDrive/MSDS_marketing_text_analytics/master_files/2_topic_modeling/data/reviews_Clothing_Shoes_and_Jewelry.json.gz’ saved [888065454/888065454]\n",
            "\n"
          ]
        }
      ]
    },
    {
      "cell_type": "code",
      "source": [
        "meta_file_path = '%s/meta_Clothing_Shoes_and_Jewelry.jsonl.gz' % DATA_DIR\n",
        "review_file_path = '%s/reviews_Clothing_Shoes_and_Jewelry.json.gz' % DATA_DIR\n",
        "\n",
        "!gzip -d \"$meta_file_path\"\n",
        "!gzip -d \"$review_file_path\""
      ],
      "metadata": {
        "id": "RE5Bt8SpGJuJ"
      },
      "execution_count": null,
      "outputs": []
    },
    {
      "cell_type": "markdown",
      "source": [
        "## Load the Product Data"
      ],
      "metadata": {
        "id": "iLawHwl8Dk3H"
      }
    },
    {
      "cell_type": "code",
      "source": [
        "##this assigns the filename we're trying to load in to a string variable\n",
        "meta_file_path = '%s/meta_Clothing_Shoes_and_Jewelry.jsonl' % DATA_DIR\n",
        "loadedjson = open(meta_file_path, 'r')"
      ],
      "metadata": {
        "id": "XpLJWRlyG66-"
      },
      "execution_count": null,
      "outputs": []
    },
    {
      "cell_type": "code",
      "source": [
        "#The data used in this script comes from: http://jmcauley.ucsd.edu/data/amazon/links.html\n",
        "#The data here is the 'per category' data for Clothing, Shoes and Jewelry\n",
        "#use the above url to better understand the data, where it came from, and some\n",
        "#tips on how to use it!\n",
        "\n",
        "#getting reviews is going to be a two step process:\n",
        "#1) go through the amazon product catalog for \"Clothing, Shoes and Jewelery\n",
        "#and extract out matching products by their ASIN\n",
        "#2) go through the review data and parse out the matching reviews by ASIN\n",
        "\n",
        "#1) - Extracting ASINs by brand\n",
        "#First, let's iterate through the data and store it as a python dictionary\n",
        "\n",
        "#let's set a counter to see how many products we have in the json\n",
        "count = 0\n",
        "start_time = time.time()\n",
        "#loading the json file\n",
        "#we've always got to initiate dictionaries before we can use them\n",
        "allproducts = {}\n",
        "\n",
        "#each line of data here is a product and its metadata\n",
        "print('loading product data to dictionary:')\n",
        "for aline in loadedjson:\n",
        "    #creating a counter to know our progress in processing the entire catalog\n",
        "    count += 1\n",
        "    if count % 100000 == 0:\n",
        "        #we're only going to print our count every 100k, this way we don't spam\n",
        "        #our output console\n",
        "        current_runtime = round(time.time() - start_time,3)\n",
        "        print('[-] current progress:', count, 'and a runtime of', current_runtime, 'seconds.')\n",
        "    #interestingly enough, this data isn't true JSON, instead it's python\n",
        "    #dictionaries that have essentially been printed as text. It's odd, but if\n",
        "    #we read the documentaion, all we need to do to load a dictionary is use\n",
        "    #the eval function. https://www.programiz.com/python-programming/methods/built-in/eval\n",
        "    #eval takes whatever string is passed to it, and interprets it as python code\n",
        "    #and runs it. So here, it's exactly what we need to interpret a printed\n",
        "    #python dictionary\n",
        "\n",
        "    aproduct = eval(aline)\n",
        "\n",
        "    #making a dictionary entry with the ASIN of the product as the key\n",
        "    #and it's metadata as nested dictionaries\n",
        "    allproducts[aproduct['asin']] = aproduct"
      ],
      "metadata": {
        "colab": {
          "base_uri": "https://localhost:8080/"
        },
        "id": "JgonsDHsHiGy",
        "outputId": "aa105c7e-e62e-418e-ccfd-609969bb380a"
      },
      "execution_count": null,
      "outputs": [
        {
          "output_type": "stream",
          "name": "stdout",
          "text": [
            "loading product data to dictionary:\n",
            "[-] current progress: 100000 and a runtime of 14.454 seconds.\n",
            "[-] current progress: 200000 and a runtime of 29.4 seconds.\n",
            "[-] current progress: 300000 and a runtime of 45.329 seconds.\n",
            "[-] current progress: 400000 and a runtime of 63.058 seconds.\n",
            "[-] current progress: 500000 and a runtime of 79.572 seconds.\n",
            "[-] current progress: 600000 and a runtime of 95.584 seconds.\n",
            "[-] current progress: 700000 and a runtime of 113.943 seconds.\n",
            "[-] current progress: 800000 and a runtime of 134.295 seconds.\n",
            "[-] current progress: 900000 and a runtime of 152.333 seconds.\n",
            "[-] current progress: 1000000 and a runtime of 171.838 seconds.\n",
            "[-] current progress: 1100000 and a runtime of 192.491 seconds.\n",
            "[-] current progress: 1200000 and a runtime of 211.064 seconds.\n",
            "[-] current progress: 1300000 and a runtime of 235.86 seconds.\n",
            "[-] current progress: 1400000 and a runtime of 255.625 seconds.\n",
            "[-] current progress: 1500000 and a runtime of 276.365 seconds.\n"
          ]
        }
      ]
    },
    {
      "cell_type": "code",
      "source": [
        "#print a summary of the records processed\n",
        "allproducts_length = len(allproducts)\n",
        "current_runtime = round(time.time() - start_time,3)\n",
        "print('Process completed for', count, 'of', allproducts_length, 'records with a final runtime of', current_runtime, 'seconds.')"
      ],
      "metadata": {
        "colab": {
          "base_uri": "https://localhost:8080/"
        },
        "id": "82nO1J0qK7px",
        "outputId": "1fe01287-267b-46aa-ac79-508a8ced65c2"
      },
      "execution_count": null,
      "outputs": [
        {
          "output_type": "stream",
          "name": "stdout",
          "text": [
            "Process completed for 1503384 of 1503384 records with a final runtime of 277.317 seconds.\n"
          ]
        }
      ]
    },
    {
      "cell_type": "markdown",
      "source": [
        "## Summarize the Product Categories"
      ],
      "metadata": {
        "id": "SM_uvP__Xj3q"
      }
    },
    {
      "cell_type": "code",
      "source": [
        "#Next we need to explore the product data to see what categories are common in the\n",
        "#data. As you'll learn, product categories are wishywashy in that they can be\n",
        "#product categories (e.g., baby, house and home), or they can be brands!\n",
        "#We're already dealing with a subset of the product categories, Clothing, Shoes\n",
        "#and Jewlery. We still need to find a list of product ids for our specific\n",
        "#brand. To do this,We're going to use the 'categories' metadata field to find\n",
        "#your brand\n",
        "\n",
        "##Let's create a dictionary of all the product subcategories\n",
        "#and by doing so, also come up with a list of brands and the number of products\n",
        "#they have listed in the amazon product catalog\n",
        "\n",
        "allcategories = {}\n",
        "count = 0\n",
        "start_time = time.time()\n",
        "\n",
        "#each line of data here is a product and its metadata\n",
        "print('loading categories data to dictionary:')\n",
        "for aproduct in allproducts:\n",
        "    #creating a counter to know our progress in processing the entire catalog\n",
        "    count += 1\n",
        "    if count % 100000 == 0:\n",
        "        #we now know there are 1.5 million products, so we can build a counter\n",
        "        #that tells how our processing is going. When the counter reaches one\n",
        "        #we're done!\n",
        "        current_progress = int(round(count/allproducts_length,2)*100)\n",
        "        current_runtime = round(time.time() - start_time,3)\n",
        "        print('[-] current progress:', current_progress, '%', 'and a runtime of', current_runtime, 'seconds.')\n",
        "\n",
        "    #setting a dict up with just one product, so we can inspect and ref it\n",
        "    aproduct = allproducts[aproduct]\n",
        "    #creating a dictionary entry for each product category\n",
        "    #also counting the occurances of each category\n",
        "    if 'categories' in aproduct:\n",
        "        for categories in aproduct['categories']:\n",
        "            for acategory in categories:\n",
        "                if acategory in allcategories:\n",
        "                    allcategories[acategory] += 1\n",
        "                if acategory not in allcategories:\n",
        "                    allcategories[acategory] = 1"
      ],
      "metadata": {
        "colab": {
          "base_uri": "https://localhost:8080/"
        },
        "id": "Z8HacV-QLvxB",
        "outputId": "3cba69f1-0f64-4cc9-c05f-64d940dd3d17"
      },
      "execution_count": null,
      "outputs": [
        {
          "output_type": "stream",
          "name": "stdout",
          "text": [
            "loading categories data to dictionary:\n",
            "[-] current progress: 7 % and a runtime of 0.801 seconds.\n",
            "[-] current progress: 13 % and a runtime of 1.545 seconds.\n",
            "[-] current progress: 20 % and a runtime of 2.029 seconds.\n",
            "[-] current progress: 27 % and a runtime of 2.492 seconds.\n",
            "[-] current progress: 33 % and a runtime of 2.947 seconds.\n",
            "[-] current progress: 40 % and a runtime of 3.423 seconds.\n",
            "[-] current progress: 47 % and a runtime of 3.853 seconds.\n",
            "[-] current progress: 53 % and a runtime of 4.283 seconds.\n",
            "[-] current progress: 60 % and a runtime of 4.722 seconds.\n",
            "[-] current progress: 67 % and a runtime of 5.135 seconds.\n",
            "[-] current progress: 73 % and a runtime of 5.583 seconds.\n",
            "[-] current progress: 80 % and a runtime of 5.983 seconds.\n",
            "[-] current progress: 86 % and a runtime of 6.392 seconds.\n",
            "[-] current progress: 93 % and a runtime of 6.81 seconds.\n",
            "[-] current progress: 100 % and a runtime of 7.197 seconds.\n"
          ]
        }
      ]
    },
    {
      "cell_type": "code",
      "source": [
        "#print a summary of the categories processed\n",
        "allcategories_length = len(allcategories)\n",
        "current_runtime = round(time.time() - start_time,3)\n",
        "print('Process completed for', allcategories_length, 'categories with a final runtime of', current_runtime, 'seconds.')"
      ],
      "metadata": {
        "colab": {
          "base_uri": "https://localhost:8080/"
        },
        "id": "DYX33syoMams",
        "outputId": "44735419-0b60-44bf-c400-3869b2f8db35"
      },
      "execution_count": null,
      "outputs": [
        {
          "output_type": "stream",
          "name": "stdout",
          "text": [
            "Process completed for 2773 catregories with a final runtime of 7.224 seconds.\n"
          ]
        }
      ]
    },
    {
      "cell_type": "code",
      "source": [
        "#create a sorted list of categories\n",
        "sortedlist = []\n",
        "#covert the dictionary to a list of tuples\n",
        "for acategory in allcategories:\n",
        "  sortedlist.append((allcategories[acategory],acategory))\n",
        "#sort the list\n",
        "sortedlist = sorted(sortedlist, reverse=True)\n",
        "#print the top x records in the list\n",
        "top_n = 20\n",
        "for item in range(0,top_n):\n",
        "  print('[',str(item).zfill(2),']', sortedlist[item])"
      ],
      "metadata": {
        "colab": {
          "base_uri": "https://localhost:8080/"
        },
        "id": "24HHwOM3MvMp",
        "outputId": "bae6991c-3b17-4a91-cd9e-9de0d923200f"
      },
      "execution_count": null,
      "outputs": [
        {
          "output_type": "stream",
          "name": "stdout",
          "text": [
            "[ 00 ] (3429257, 'Clothing, Shoes & Jewelry')\n",
            "[ 01 ] (1086181, 'Women')\n",
            "[ 02 ] (617092, 'Clothing')\n",
            "[ 03 ] (541681, 'Men')\n",
            "[ 04 ] (537761, 'Novelty, Costumes & More')\n",
            "[ 05 ] (432653, 'Shoes')\n",
            "[ 06 ] (339900, 'Novelty')\n",
            "[ 07 ] (268065, 'Shoes & Accessories: International Shipping Available')\n",
            "[ 08 ] (255454, 'Jewelry')\n",
            "[ 09 ] (174962, 'Accessories')\n",
            "[ 10 ] (97095, 'Girls')\n",
            "[ 11 ] (93596, 'Tops & Tees')\n",
            "[ 12 ] (87688, 'Dresses')\n",
            "[ 13 ] (84549, 'T-Shirts')\n",
            "[ 14 ] (82063, 'Boots')\n",
            "[ 15 ] (80302, 'Shirts')\n",
            "[ 16 ] (79897, 'Sandals')\n",
            "[ 17 ] (79545, 'Watches')\n",
            "[ 18 ] (77684, 'Boys')\n",
            "[ 19 ] (73507, 'Jewelry: International Shipping Available')\n"
          ]
        }
      ]
    },
    {
      "cell_type": "code",
      "source": [
        "nike_categories = allcategories['Nike']\n",
        "print(nike_categories, 'product records for Nike.')"
      ],
      "metadata": {
        "colab": {
          "base_uri": "https://localhost:8080/"
        },
        "id": "pphGYYnnNJ0B",
        "outputId": "7fe2a764-f8d4-4a2e-9830-1c2c698b176e"
      },
      "execution_count": null,
      "outputs": [
        {
          "output_type": "stream",
          "name": "stdout",
          "text": [
            "8327 product records for Nike.\n"
          ]
        }
      ]
    },
    {
      "cell_type": "markdown",
      "source": [
        "## Extract a List of Product Ids"
      ],
      "metadata": {
        "id": "9_8Wzo6RXpvC"
      }
    },
    {
      "cell_type": "code",
      "source": [
        "#Now, go ahead and use the Variable Expolorer in Spyder to locate a brand\n",
        "#that has a lot of product entries! Alternatively, type allcategories['Brand name']\n",
        "#to get a count for a specific brand. For instance:\n",
        "#>>allcategories['Nike']\n",
        "#>> 8327\n",
        "#>>allcategories['adidas']\n",
        "#>> 8645\n",
        "\n",
        "#I'd reccommend at least 1.5k products, but you're welcome to try smaller counts\n",
        "#all I care about is whether you have at least 2k reviews when it's all said and done\n",
        "\n",
        "\n",
        "##Now we need to go through our newly first dictionary and extract out the\n",
        "##matching ASINs for Nike\n",
        "\n",
        "##First, create a set where we will store our ASINs\n",
        "##We choose a set here because we don't want duplicates\n",
        "allnikeasins = set()\n",
        "count = 0\n",
        "start_time = time.time()\n",
        "\n",
        "for areview in allproducts:\n",
        "    theproduct = allproducts[areview]\n",
        "    count += 1\n",
        "    if count % 100000 == 0:\n",
        "        current_progress = int(round(count/allproducts_length,2)*100)\n",
        "        current_runtime = round(time.time() - start_time,3)\n",
        "        print('[-] current progress:', current_progress, '%', 'and a runtime of', current_runtime, 'seconds.')\n",
        "\n",
        "    #let's iterate fore each category for a product, again, any given product\n",
        "    #can be assigned multiple product categories,\n",
        "    for categories in theproduct['categories']:\n",
        "        #each category is actually encoded as a list (even though they should\n",
        "        #just be strings, so we need to iterate one more time)\n",
        "        for acategory in categories:\n",
        "            #checking to see if the product category matches Nike\n",
        "            #lowercasing the category string incase capitalization might get\n",
        "            #in the way of a match\n",
        "            if 'nike' in acategory.lower():\n",
        "                #let's go ahead and store it to our set of Nike ASINs\n",
        "                allnikeasins.add(theproduct['asin'])"
      ],
      "metadata": {
        "colab": {
          "base_uri": "https://localhost:8080/"
        },
        "id": "lMutjGO2NxCI",
        "outputId": "8de2f443-b7d1-4620-a644-c65ccd9ddfdf"
      },
      "execution_count": null,
      "outputs": [
        {
          "output_type": "stream",
          "name": "stdout",
          "text": [
            "[-] current progress: 7 % and a runtime of 0.311 seconds.\n",
            "[-] current progress: 13 % and a runtime of 0.61 seconds.\n",
            "[-] current progress: 20 % and a runtime of 0.932 seconds.\n",
            "[-] current progress: 27 % and a runtime of 1.244 seconds.\n",
            "[-] current progress: 33 % and a runtime of 1.558 seconds.\n",
            "[-] current progress: 40 % and a runtime of 1.858 seconds.\n",
            "[-] current progress: 47 % and a runtime of 2.165 seconds.\n",
            "[-] current progress: 53 % and a runtime of 2.471 seconds.\n",
            "[-] current progress: 60 % and a runtime of 2.753 seconds.\n",
            "[-] current progress: 67 % and a runtime of 3.037 seconds.\n",
            "[-] current progress: 73 % and a runtime of 3.338 seconds.\n",
            "[-] current progress: 80 % and a runtime of 3.63 seconds.\n",
            "[-] current progress: 86 % and a runtime of 3.911 seconds.\n",
            "[-] current progress: 93 % and a runtime of 4.201 seconds.\n",
            "[-] current progress: 100 % and a runtime of 4.649 seconds.\n"
          ]
        }
      ]
    },
    {
      "cell_type": "code",
      "source": [
        "#print a summary of the categories processed\n",
        "allnikeasins_length = len(allnikeasins)\n",
        "current_runtime = round(time.time() - start_time,3)\n",
        "print('Process completed for', allnikeasins_length, 'records with a final runtime of', current_runtime, 'seconds.')"
      ],
      "metadata": {
        "colab": {
          "base_uri": "https://localhost:8080/"
        },
        "id": "QJnKh-pJN31B",
        "outputId": "0d88a64c-46f2-4090-de34-d15de81c47f2"
      },
      "execution_count": null,
      "outputs": [
        {
          "output_type": "stream",
          "name": "stdout",
          "text": [
            "Process completed for 8327 records with a final runtime of 4.684 seconds.\n"
          ]
        }
      ]
    },
    {
      "cell_type": "code",
      "source": [
        "# write the ASINs out to a file as a checkpoint\n",
        "outputfile = open('%s/allasins.txt' % DATA_DIR, 'w')\n",
        "\n",
        "outputfile.write(','.join(allnikeasins))\n",
        "outputfile.close()"
      ],
      "metadata": {
        "id": "3w3CxJ7AOSrF"
      },
      "execution_count": null,
      "outputs": []
    },
    {
      "cell_type": "markdown",
      "source": [
        "## Load the Review Data"
      ],
      "metadata": {
        "id": "FoMzFNfNqYXS"
      }
    },
    {
      "cell_type": "code",
      "source": [
        "#this assigns the filename we're trying to load in to a string variable\n",
        "review_file_path = '%s/reviews_Clothing_Shoes_and_Jewelry.json' % DATA_DIR\n",
        "loadedjson = open(review_file_path, 'r')"
      ],
      "metadata": {
        "id": "JTQOhtdOqYiL"
      },
      "execution_count": null,
      "outputs": []
    },
    {
      "cell_type": "code",
      "source": [
        "#2) - Parsing the review data\n",
        "#First, let's iterate through the data and store it as a python dictionary\n",
        "\n",
        "#let's set a counter to see how many products we have in the json\n",
        "count = 0\n",
        "start_time = time.time()\n",
        "#loading the json file\n",
        "#we've always got to initiate dictionaries before we can use them\n",
        "allreviews = {}\n",
        "\n",
        "#each line of data here is a product and its metadata\n",
        "print('loading review data to dictionary:')\n",
        "for aline in loadedjson:\n",
        "    #creating a counter to know our progress in processing the entire catalog\n",
        "    count += 1\n",
        "    if count % 500000 == 0:\n",
        "        #we're only going to print our count every 100k, this way we don't spam\n",
        "        #our output console\n",
        "        current_runtime = round(time.time() - start_time,3)\n",
        "        print('[-] current progress:', count, 'and a runtime of', current_runtime, 'seconds.')\n",
        "    #interestingly enough, this data isn't true JSON, instead it's python\n",
        "    #dictionaries that have essentially been printed as text. It's odd, but if\n",
        "    #we read the documentaion, all we need to do to load a dictionary is use\n",
        "    #the eval function. https://www.programiz.com/python-programming/methods/built-in/eval\n",
        "    #eval takes whatever string is passed to it, and interprets it as python code\n",
        "    #and runs it. So here, it's exactly what we need to interpret a printed\n",
        "    #python dictionary\n",
        "\n",
        "    areview = eval(aline)\n",
        "\n",
        "    #making a dictionary entry with the iteration count as the review key\n",
        "    #and it's metadata as nested dictionaries\n",
        "    allreviews[count] = areview\n",
        "print('completed load of review data to dictionary.')"
      ],
      "metadata": {
        "colab": {
          "base_uri": "https://localhost:8080/"
        },
        "id": "sBxD7Mz9qYqt",
        "outputId": "59113a0a-c104-40d9-ab32-dbbddb0de015"
      },
      "execution_count": null,
      "outputs": [
        {
          "output_type": "stream",
          "name": "stdout",
          "text": [
            "loading review data to dictionary:\n",
            "[-] current progress: 500000 and a runtime of 36.032 seconds.\n",
            "[-] current progress: 1000000 and a runtime of 68.749 seconds.\n",
            "[-] current progress: 1500000 and a runtime of 101.409 seconds.\n",
            "[-] current progress: 2000000 and a runtime of 132.848 seconds.\n",
            "[-] current progress: 2500000 and a runtime of 165.368 seconds.\n",
            "[-] current progress: 3000000 and a runtime of 199.647 seconds.\n",
            "[-] current progress: 3500000 and a runtime of 236.8 seconds.\n",
            "[-] current progress: 4000000 and a runtime of 275.601 seconds.\n",
            "[-] current progress: 4500000 and a runtime of 308.862 seconds.\n",
            "[-] current progress: 5000000 and a runtime of 343.602 seconds.\n",
            "[-] current progress: 5500000 and a runtime of 372.095 seconds.\n"
          ]
        }
      ]
    },
    {
      "cell_type": "code",
      "source": [
        "#print a summary of the records processed\n",
        "allreviews_length = len(allreviews)\n",
        "current_runtime = round(time.time() - start_time,3)\n",
        "print('Process completed for', count, 'of', allreviews_length, 'records with a final runtime of', current_runtime, 'seconds.')"
      ],
      "metadata": {
        "colab": {
          "base_uri": "https://localhost:8080/"
        },
        "id": "PBwc5FH0qYwm",
        "outputId": "f0e352aa-7e12-4036-87b2-1b319b6244f4"
      },
      "execution_count": null,
      "outputs": [
        {
          "output_type": "stream",
          "name": "stdout",
          "text": [
            "Process completed for 5748920 of 5748920 records with a final runtime of 417.348 seconds.\n"
          ]
        }
      ]
    },
    {
      "cell_type": "markdown",
      "source": [
        "## Extract a List of Reviews Related to the Product Ids"
      ],
      "metadata": {
        "id": "W4mwdMoVrvRc"
      }
    },
    {
      "cell_type": "code",
      "source": [
        "#Load the list of Nike Asins\n",
        "\n",
        "allnikeasins = []\n",
        "allasins_file_path = '%s/allasins.txt' % DATA_DIR\n",
        "\n",
        "#open the file and load to a list\n",
        "for data in open(allasins_file_path, 'r'):\n",
        "  asins = data.split(',')\n",
        "  for anasin in asins:\n",
        "    allnikeasins.append(anasin)"
      ],
      "metadata": {
        "id": "G342m_ScrvZo"
      },
      "execution_count": null,
      "outputs": []
    },
    {
      "cell_type": "code",
      "source": [
        "#print a summary of the records processed\n",
        "allnikeasins_length = len(allnikeasins)\n",
        "print('Process completed for', allnikeasins_length, 'records.')\n",
        "print('First 5 Asins in list:', allnikeasins[0:5])"
      ],
      "metadata": {
        "colab": {
          "base_uri": "https://localhost:8080/"
        },
        "id": "LH-GwtrytizW",
        "outputId": "361970b8-2872-4aaf-f1e1-22d9eea65803"
      },
      "execution_count": null,
      "outputs": [
        {
          "output_type": "stream",
          "name": "stdout",
          "text": [
            "Process completed for 8327 records.\n",
            "First 5 Asins in list: ['B00DT6VLOQ', 'B001LQK6L0', 'B00ANBSBDY', 'B00AQL3UDW', 'B004TU1VV4']\n"
          ]
        }
      ]
    },
    {
      "cell_type": "code",
      "source": [
        "#Now, we need to go through all the reviews and pick out the reviews that\n",
        "#correspond to the matching ASINs, that is reviews that are tied to Nike ASINs\n",
        "\n",
        "#let's set a counter to see how many products we have in the json\n",
        "count = 0\n",
        "start_time = time.time()\n",
        "#loading the json file\n",
        "#we've always got to initiate dictionaries before we can use them\n",
        "nikereviews = {}\n",
        "\n",
        "#each line of data here is a product and its metadata\n",
        "print('loading review data to dictionary:')\n",
        "for areview in allreviews:\n",
        "  count += 1\n",
        "  if count % 500000 == 0:\n",
        "      current_progress = int(round(count/allreviews_length,2)*100)\n",
        "      current_runtime = round(time.time() - start_time,3)\n",
        "      print('[-] current progress:', current_progress, '%', 'and a runtime of', current_runtime, 'seconds.')\n",
        "  #setting current review as a dictionary, so we can easily reference its\n",
        "  #entries\n",
        "  thereview = allreviews[areview]\n",
        "  theasin = thereview['asin']\n",
        "  reviewerid = thereview['reviewerID']\n",
        "  if theasin in allnikeasins:\n",
        "      #im setting the key here as something unique. if we just did by asin\n",
        "      #we'd only have one review for each asin, with the last review the only\n",
        "      #one being stored\n",
        "      thekey = '%s.%s' % (theasin, reviewerid)\n",
        "      nikereviews[thekey] = thereview\n",
        "print('completed load of review data to dictionary.')"
      ],
      "metadata": {
        "colab": {
          "base_uri": "https://localhost:8080/"
        },
        "id": "b-fX3DsWso5E",
        "outputId": "058d5041-6d34-464d-b25f-dc853217f040"
      },
      "execution_count": null,
      "outputs": [
        {
          "output_type": "stream",
          "name": "stdout",
          "text": [
            "loading review data to dictionary:\n",
            "[-] current progress: 9 % and a runtime of 95.051 seconds.\n",
            "[-] current progress: 17 % and a runtime of 188.805 seconds.\n",
            "[-] current progress: 26 % and a runtime of 281.424 seconds.\n",
            "[-] current progress: 35 % and a runtime of 374.236 seconds.\n",
            "[-] current progress: 43 % and a runtime of 466.713 seconds.\n",
            "[-] current progress: 52 % and a runtime of 559.326 seconds.\n",
            "[-] current progress: 61 % and a runtime of 654.168 seconds.\n",
            "[-] current progress: 70 % and a runtime of 747.421 seconds.\n",
            "[-] current progress: 78 % and a runtime of 840.299 seconds.\n",
            "[-] current progress: 87 % and a runtime of 933.018 seconds.\n",
            "[-] current progress: 96 % and a runtime of 1025.682 seconds.\n",
            "completed load of review data to dictionary.\n"
          ]
        }
      ]
    },
    {
      "cell_type": "code",
      "source": [
        "#print a summary of the records processed\n",
        "nikereviews_length = len(nikereviews)\n",
        "current_runtime = round(time.time() - start_time,3)\n",
        "print('Process completed for', count, 'of', nikereviews_length, 'records with a final runtime of', current_runtime, 'seconds.')"
      ],
      "metadata": {
        "colab": {
          "base_uri": "https://localhost:8080/"
        },
        "id": "PId1RbyvsMaO",
        "outputId": "703b1aee-4222-40a6-ff14-8d22d26a24ce"
      },
      "execution_count": null,
      "outputs": [
        {
          "output_type": "stream",
          "name": "stdout",
          "text": [
            "Process completed for 5748920 of 21570 records with a final runtime of 1077.421 seconds.\n"
          ]
        }
      ]
    },
    {
      "cell_type": "code",
      "source": [
        "#save our data to a JSON dictionary\n",
        "allnikereviews_file_path = '%s/allnikereviews.json' % DATA_DIR\n",
        "json.dump(nikereviews, open(allnikereviews_file_path, 'w'))"
      ],
      "metadata": {
        "id": "4FBY0qHUtBtH"
      },
      "execution_count": null,
      "outputs": []
    },
    {
      "cell_type": "markdown",
      "source": [
        "## Preview a Record from the File"
      ],
      "metadata": {
        "id": "idr8Itvsvc4z"
      }
    },
    {
      "cell_type": "code",
      "source": [
        "#this assigns the filename we're trying to load\n",
        "allnikereviews_file_path = '%s/allnikereviews.json' % DATA_DIR\n",
        "json_file = json.load(open(allnikereviews_file_path, 'r'))"
      ],
      "metadata": {
        "id": "yFoB9nR6vdBb"
      },
      "execution_count": null,
      "outputs": []
    },
    {
      "cell_type": "code",
      "source": [
        "#select a random review\n",
        "count = 0\n",
        "for a_review in json_file:\n",
        "  count += 1\n",
        "  if count % 1000 == 0:\n",
        "    the_review = json_file[a_review]\n",
        "    print(the_review)\n",
        "    #sleep(10)\n",
        "  if count >= 10000:\n",
        "    break"
      ],
      "metadata": {
        "colab": {
          "base_uri": "https://localhost:8080/"
        },
        "id": "lAJnHBS7vdFQ",
        "outputId": "9cf15538-ef59-4e42-98e4-53dbe65f212c"
      },
      "execution_count": null,
      "outputs": [
        {
          "output_type": "stream",
          "name": "stdout",
          "text": [
            "{'reviewerID': 'A7H6Q3JAE3UTR', 'asin': 'B000G42Z2Q', 'reviewerName': 'april fritsche', 'helpful': [0, 0], 'reviewText': 'I bought these for my son and he loves them.  He said that that r very comfortable.  He said he wears them all the time.  He said that they look great.', 'overall': 5.0, 'summary': 'love them', 'unixReviewTime': 1388620800, 'reviewTime': '01 2, 2014'}\n",
            "{'reviewerID': 'A278R123DX0CLR', 'asin': 'B0013UXIAK', 'reviewerName': 'AQB', 'helpful': [0, 2], 'reviewText': 'Too much money for the pair. I saw a better pair for less price. I will shop around Zappos or Nike websites next time.', 'overall': 3.0, 'summary': 'its ok', 'unixReviewTime': 1377561600, 'reviewTime': '08 27, 2013'}\n",
            "{'reviewerID': 'A1CZIWT35UVJS6', 'asin': 'B001PA87L8', 'reviewerName': 'Courtney', 'helpful': [1, 1], 'reviewText': \"I love these shoes, they are perfect. Very comfy especially since I'm on my feet all day at work. It's wierd that they don't have a tongue but it only makes them fit better.\", 'overall': 5.0, 'summary': 'Comfy and cute', 'unixReviewTime': 1380067200, 'reviewTime': '09 25, 2013'}\n",
            "{'reviewerID': 'A24AX2P3PW6EBH', 'asin': 'B002FKHOOS', 'reviewerName': 'MattyBoy717', 'helpful': [9, 15], 'reviewText': \"I walked around in these for a month before I noticed that the right shoe was bigger than the left. Yeah, I kept feeling my foot slipping out as I walked, but I have a high arch, so I thought it was me. Finally, I gave them a good look side-by-side and I couldn't believe it. Even though the right shoe was imprinted with the correct shoe size, it was a full size bigger than the left one. And since it had been a month, it was too late to return them. I'm out $80. So, I'm letting myself look like a fool today to all of you out there so you won't make the same mistake I did. When you get your shoes, look at them carefully and make sure they match.\", 'overall': 2.0, 'summary': 'My Fault', 'unixReviewTime': 1371427200, 'reviewTime': '06 17, 2013'}\n",
            "{'reviewerID': 'A269BGMUL7YS1W', 'asin': 'B00310WE0U', 'reviewerName': 'Youn Sang Mo', 'helpful': [2, 4], 'reviewText': 'i am having great day after wearing this shoes. very satisfied and good. i would like to have another purchase.', 'overall': 5.0, 'summary': 'nice and quick', 'unixReviewTime': 1384732800, 'reviewTime': '11 18, 2013'}\n",
            "{'reviewerID': 'A39MEJK05JXJBZ', 'asin': 'B003PBU4Z2', 'reviewerName': 'souldivider', 'helpful': [0, 0], 'reviewText': 'I love this blazer models of Nike and I fell in love with this shoe when I first saw it. The shiny back, the greys, the pinks, they suit very well. I usually wear size 6.5 but only a size 7 was left in stock. Thinking that my other Nike was size 7, I decided to purchase this one. Result: Size 6.5 would be much better, however the puffy inside of this shoe made size 7 OK.', 'overall': 5.0, 'summary': 'Very cute and very cool', 'unixReviewTime': 1297036800, 'reviewTime': '02 7, 2011'}\n",
            "{'reviewerID': 'A32PRDGJLLJFV1', 'asin': 'B004HJT24K', 'reviewerName': 'tiani patterson', 'helpful': [0, 0], 'reviewText': 'I am very pleased, it is just what I expected.  My daughter had these shoes before but they were lost in a fire.  We saw these online and I decided to order them.  The product is exactley the same as if I bought them from the mall.  The delivery was on time, I am very pleased.', 'overall': 5.0, 'summary': 'Like I bought them from the store', 'unixReviewTime': 1355184000, 'reviewTime': '12 11, 2012'}\n",
            "{'reviewerID': 'A1RT1XBKWCT6PH', 'asin': 'B004TRMR1U', 'reviewerName': 'bpkc', 'helpful': [0, 3], 'reviewText': 'I purchased these cleats for my adult wooden bat baseball league. Although the cleats look nice....that is about it.Problems:Uncomfortable...I have worn them for at least 10 games total an I get blisters every time on the outside of my toes.The swoosh that you can switch the colors on....never stay in place....the move around and never match up with the the swoosh on the shoe.The tongue on my left shoe keeps sliding into my cleat...making it very uncomfortable....does not matter how tight I tie the shoe lace (yes i have the laces going through the loop in the middle of the tongue.)Just about every game i have a spike come loose and I have to re tighten them.This is just a bad cleat period. I would not recommend this to a regular ball player....there are far more effective and comfortable cleats out there.', 'overall': 2.0, 'summary': 'Too many problems', 'unixReviewTime': 1365465600, 'reviewTime': '04 9, 2013'}\n",
            "{'reviewerID': 'A1B7PCTWYWQSYV', 'asin': 'B00515GEJK', 'reviewerName': 'Marissa Gaytan', 'helpful': [0, 0], 'reviewText': \"This bag is a perfect fit.  It's not too big and not too small.\", 'overall': 5.0, 'summary': \"This bag is a perfect fit. It's not too big and not too ...\", 'unixReviewTime': 1405209600, 'reviewTime': '07 13, 2014'}\n",
            "{'reviewerID': 'AGP3D5ZB7N3NA', 'asin': 'B00594DYW8', 'reviewerName': 'S. M. Hughes \"mom of 2\"', 'helpful': [0, 0], 'reviewText': 'I absolutely love this pair of shoes. I am more prone to barefoot running, and the flexibility of these shoes are not at all restrictive on my feet and they feel great! I was so very happy to find them for a good price! Seller shipped very quickly and overall, the experience with this purchase was A+!', 'overall': 5.0, 'summary': 'Great Item, great seller!', 'unixReviewTime': 1322524800, 'reviewTime': '11 29, 2011'}\n"
          ]
        }
      ]
    },
    {
      "cell_type": "code",
      "source": [
        "#print the review to the screen\n",
        "the_review"
      ],
      "metadata": {
        "colab": {
          "base_uri": "https://localhost:8080/"
        },
        "id": "ESPlq5dvvdJJ",
        "outputId": "e86f9bd3-03f5-4531-9ea4-8ead2567a57b"
      },
      "execution_count": null,
      "outputs": [
        {
          "output_type": "execute_result",
          "data": {
            "text/plain": [
              "{'reviewerID': 'AGP3D5ZB7N3NA',\n",
              " 'asin': 'B00594DYW8',\n",
              " 'reviewerName': 'S. M. Hughes \"mom of 2\"',\n",
              " 'helpful': [0, 0],\n",
              " 'reviewText': 'I absolutely love this pair of shoes. I am more prone to barefoot running, and the flexibility of these shoes are not at all restrictive on my feet and they feel great! I was so very happy to find them for a good price! Seller shipped very quickly and overall, the experience with this purchase was A+!',\n",
              " 'overall': 5.0,\n",
              " 'summary': 'Great Item, great seller!',\n",
              " 'unixReviewTime': 1322524800,\n",
              " 'reviewTime': '11 29, 2011'}"
            ]
          },
          "metadata": {},
          "execution_count": 28
        }
      ]
    },
    {
      "cell_type": "markdown",
      "source": [
        "# 3.&nbsp;Preprocessing the Data"
      ],
      "metadata": {
        "id": "VQqWaZtyDk7D"
      }
    },
    {
      "cell_type": "markdown",
      "source": [
        "## Load the Nike Review Data"
      ],
      "metadata": {
        "id": "qxanJVFlv_cQ"
      }
    },
    {
      "cell_type": "code",
      "source": [
        "#this assigns the filename we're trying to load\n",
        "allnikereviews_file_path = '%s/allnikereviews.json' % DATA_DIR\n",
        "json_file = json.load(open(allnikereviews_file_path, 'r'))"
      ],
      "metadata": {
        "id": "9FWNy7Fav_kD"
      },
      "execution_count": 78,
      "outputs": []
    },
    {
      "cell_type": "code",
      "source": [
        "#extract review text from all review details\n",
        "reviews = []\n",
        "for a_review in json_file:\n",
        "    the_review = json_file[a_review]\n",
        "    text = the_review[\"reviewText\"]\n",
        "    reviews.append(text)"
      ],
      "metadata": {
        "id": "glFt6w9Fv_ny"
      },
      "execution_count": 79,
      "outputs": []
    },
    {
      "cell_type": "code",
      "source": [
        "#create a corpus of the nike reviews\n",
        "corpus = Corpus({ i:r for i, r in enumerate(reviews)}, language='en')"
      ],
      "metadata": {
        "id": "0BvxUkt_Nrtw"
      },
      "execution_count": null,
      "outputs": []
    },
    {
      "cell_type": "code",
      "source": [
        "#print the length of the corpus\n",
        "corpus_length = len(corpus)\n",
        "print('Length of the Corpus:', corpus_length)"
      ],
      "metadata": {
        "colab": {
          "base_uri": "https://localhost:8080/"
        },
        "id": "yRLd7_Cxv_qr",
        "outputId": "f7d2ef00-b18b-467b-c5d2-ceb7436d3294"
      },
      "execution_count": null,
      "outputs": [
        {
          "output_type": "stream",
          "name": "stdout",
          "text": [
            "Length of the Corpus: 21570\n"
          ]
        }
      ]
    },
    {
      "cell_type": "code",
      "source": [
        "#print a random corpus\n",
        "k = 91\n",
        "print('record for key', k, 'contains:')\n",
        "print(corpus[k])"
      ],
      "metadata": {
        "colab": {
          "base_uri": "https://localhost:8080/"
        },
        "id": "XbbBxEXIv_tq",
        "outputId": "d378f373-9941-480f-e8f4-e2384ad0e8f6"
      },
      "execution_count": null,
      "outputs": [
        {
          "output_type": "stream",
          "name": "stdout",
          "text": [
            "record for key 91 contains:\n",
            "Document \"91\" (102 tokens, 9 token attributes, 2 document attributes)\n"
          ]
        }
      ]
    },
    {
      "cell_type": "code",
      "source": [
        "#view a histogram of document lengths\n",
        "fig, ax = plt.subplots(figsize=(5, 3))   # make the plot larger\n",
        "plot_doc_lengths_hist(fig, ax, corpus, y_log=False, bins=20)  # use 20 bins\n",
        "ax.set_xticks(range(0, 1001, 100))    # set x axis ticks and range\n",
        "plt.show()"
      ],
      "metadata": {
        "colab": {
          "base_uri": "https://localhost:8080/",
          "height": 331
        },
        "id": "VOQEVTwnymRC",
        "outputId": "e148924a-55a9-43f8-f436-52a751dd4794"
      },
      "execution_count": null,
      "outputs": [
        {
          "output_type": "display_data",
          "data": {
            "text/plain": [
              "<Figure size 500x300 with 1 Axes>"
            ],
            "image/png": "[encoded data removed]"
          },
          "metadata": {}
        }
      ]
    },
    {
      "cell_type": "code",
      "source": [
        "#rank-frequency distribution plot for token frequencies\n",
        "fig, ax = plt.subplots(figsize=(5, 3))\n",
        "plot_ranked_vocab_counts(fig, ax, corpus, zipf=True)\n",
        "plt.show();"
      ],
      "metadata": {
        "colab": {
          "base_uri": "https://localhost:8080/",
          "height": 331
        },
        "id": "YbZEU3IeKV2O",
        "outputId": "bd9360b5-5a1d-4628-a326-48001b73e41c"
      },
      "execution_count": null,
      "outputs": [
        {
          "output_type": "display_data",
          "data": {
            "text/plain": [
              "<Figure size 500x300 with 1 Axes>"
            ],
            "image/png": "[encoded data removed]"
          },
          "metadata": {}
        }
      ]
    },
    {
      "cell_type": "code",
      "source": [
        "#save the files to disk\n",
        "corpus_file_path = '%s/corpus_source.p' % DATA_DIR\n",
        "pickle.dump(corpus, open(corpus_file_path, 'wb'))"
      ],
      "metadata": {
        "id": "gHs_P3cBvCXT"
      },
      "execution_count": null,
      "outputs": []
    },
    {
      "cell_type": "code",
      "source": [
        "#save the raw text of reviews to disk\n",
        "text_file_path = '%s/corpus_raw_text.p' % DATA_DIR\n",
        "pickle.dump(reviews, open(text_file_path, 'wb'))"
      ],
      "metadata": {
        "id": "CDD6r0wMOFRp"
      },
      "execution_count": 80,
      "outputs": []
    },
    {
      "cell_type": "markdown",
      "source": [
        "## Preprocess Text Data"
      ],
      "metadata": {
        "id": "rfAX7oZkywiN"
      }
    },
    {
      "cell_type": "code",
      "source": [
        "#location of corpus files\n",
        "corpus_file_path = '%s/corpus_source.p' % DATA_DIR\n",
        "#load the corpus\n",
        "corpus = pickle.load(open(corpus_file_path, 'rb'))"
      ],
      "metadata": {
        "id": "m0mW4aqvvS02"
      },
      "execution_count": null,
      "outputs": []
    },
    {
      "cell_type": "code",
      "source": [
        "#print a random corpus\n",
        "k = 91\n",
        "print('record for key', k, 'contains:')\n",
        "print(corpus[k])"
      ],
      "metadata": {
        "colab": {
          "base_uri": "https://localhost:8080/"
        },
        "id": "hTBI_xPXvqpX",
        "outputId": "61a5f05d-8b88-42f4-d09f-697146e8e1ab"
      },
      "execution_count": null,
      "outputs": [
        {
          "output_type": "stream",
          "name": "stdout",
          "text": [
            "record for key 91 contains:\n",
            "Document \"91\" (102 tokens, 9 token attributes, 2 document attributes)\n"
          ]
        }
      ]
    },
    {
      "cell_type": "code",
      "source": [
        "####create an english pre-processor\n",
        "####preproc = TMPreproc(corpus, language='en')\n",
        "####tag the words with parts of speach\n",
        "####preproc.pos_tag()\n",
        "# lemmatize the words (convert to root base)\n",
        "lemmatize(corpus, inplace=True)\n",
        "# convert words to lowercase\n",
        "to_lowercase(corpus, inplace=True)\n",
        "# remove special charecters\n",
        "#####preproc.remove_special_chars_in_tokens()\n",
        "remove_chars(corpus, chars=punctuation, inplace=True)\n",
        "# add custom stopwords to remove for urls and not\n",
        "####preproc.add_stopwords(['http', 'nt'])       #####\n",
        "filter_clean_tokens(corpus, remove_stopwords=True, inplace=True)\n",
        "# limit words to nouns, verbs, and adjectives\n",
        "filter_for_pos(corpus, search_pos=['N', 'V', 'ADJ'], inplace=True)\n",
        "# remove numbers and any word shorter than 2 characters\n",
        "filter_clean_tokens(corpus, remove_numbers=True, inplace=True)\n",
        "filter_clean_tokens(corpus, remove_shorter_than=2, inplace=True)\n",
        "# remove tokens that are fairly common\n",
        "remove_common_tokens(corpus, df_threshold=0.8, inplace=True)\n",
        "# remove tokens that are extreamly rare\n",
        "remove_uncommon_tokens(corpus, df_threshold=0.01, inplace=True)"
      ],
      "metadata": {
        "id": "6TGbhg9fywqr"
      },
      "execution_count": null,
      "outputs": []
    },
    {
      "cell_type": "markdown",
      "source": [
        "## Review Preprocessing of Text"
      ],
      "metadata": {
        "id": "HNZMaAvjzMR2"
      }
    },
    {
      "cell_type": "code",
      "source": [
        "#create a summary of a sample\n",
        "def preview_sample_review(corpus, k = 0):\n",
        "  samp_texty = corpus[k]\n",
        "  tok = doc_tokens(corpus, with_attr=True)\n",
        "  samp_token_list = tok[k]['token']\n",
        "  samp_token_list_length = len(samp_token_list)\n",
        "\n",
        "  #print a random corpus\n",
        "  print('record for key', k, 'contains:')\n",
        "  print(corpus[k])\n",
        "  print('the text contains', samp_token_list_length, 'tokens.')\n",
        "  print('sample token list:', samp_token_list[0:10])\n",
        "  print()"
      ],
      "metadata": {
        "id": "tILVppqtzMZa"
      },
      "execution_count": null,
      "outputs": []
    },
    {
      "cell_type": "code",
      "source": [
        "preview_sample_review(corpus, k = 91)\n",
        "preview_sample_review(corpus, k = 1)\n",
        "preview_sample_review(corpus, k = 2000)"
      ],
      "metadata": {
        "colab": {
          "base_uri": "https://localhost:8080/"
        },
        "id": "mvge12yS1n15",
        "outputId": "cbe22192-5b4d-445d-e9c9-fe21b2c87189"
      },
      "execution_count": null,
      "outputs": [
        {
          "output_type": "stream",
          "name": "stdout",
          "text": [
            "record for key 91 contains:\n",
            "Document \"91\" (17 tokens, 9 token attributes, 2 document attributes)\n",
            "the text contains 17 tokens.\n",
            "sample token list: ['watch', 'buy', 'find', 'nike', 'get', 'small', 'woman', 'pay', 'man', 'product']\n",
            "\n",
            "record for key 1 contains:\n",
            "Document \"1\" (7 tokens, 9 token attributes, 2 document attributes)\n",
            "the text contains 7 tokens.\n",
            "sample token list: ['cute', 'fit', 'small', 'wrist', 'wear', 'love', 'watch']\n",
            "\n",
            "record for key 2000 contains:\n",
            "Document \"2000\" (8 tokens, 9 token attributes, 2 document attributes)\n",
            "the text contains 8 tokens.\n",
            "sample token list: ['great', 'shoe', 'fit', 'comfortable', 'shoe', 'recommend', 'awesome', 'price']\n",
            "\n"
          ]
        }
      ]
    },
    {
      "cell_type": "code",
      "source": [
        "#create a summary of the preprocess\n",
        "n = 5\n",
        "vocab_size = vocabulary_size(corpus)\n",
        "tokens_table = tokens_table(corpus)\n",
        "#print a summary of the preprocess\n",
        "print('corpus vocabulary size:', vocab_size)\n",
        "print('first', n, 'rows of tokens table:')\n",
        "print(tokens_table.head(5))"
      ],
      "metadata": {
        "colab": {
          "base_uri": "https://localhost:8080/"
        },
        "id": "QV-I-zm1ywuw",
        "outputId": "edb03f7b-28de-4f93-d3f6-910724df0edf"
      },
      "execution_count": null,
      "outputs": [
        {
          "output_type": "stream",
          "name": "stdout",
          "text": [
            "corpus vocabulary size: 245\n",
            "first 5 rows of tokens table:\n",
            "   doc  position     token  is_punct  is_stop     lemma  like_num   pos  tag\n",
            "0    0         0   receive     False    False   receive     False  VERB  VBD\n",
            "1    0         1      blue     False    False      blue     False   ADJ   JJ\n",
            "2    0         2      show     False    False      show     False  VERB  VBN\n",
            "3    0         3    change     False    False    change     False  VERB  VBP\n",
            "4    0         4  daughter     False    False  daughter     False  NOUN   NN\n"
          ]
        }
      ]
    },
    {
      "cell_type": "code",
      "source": [
        "#view a histogram of document lengths\n",
        "fig, ax = plt.subplots(figsize=(5, 3))   # make the plot larger\n",
        "plot_doc_lengths_hist(fig, ax, corpus, y_log=False, bins=50)  # use 20 bins\n",
        "ax.set_xticks(range(0, 201, 20))    # set x axis ticks and range\n",
        "plt.show()"
      ],
      "metadata": {
        "colab": {
          "base_uri": "https://localhost:8080/",
          "height": 331
        },
        "id": "bUht5wnfcq3D",
        "outputId": "e2cb0ad4-6696-4648-eda0-917cf77de1a3"
      },
      "execution_count": null,
      "outputs": [
        {
          "output_type": "display_data",
          "data": {
            "text/plain": [
              "<Figure size 500x300 with 1 Axes>"
            ],
            "image/png": "[encoded data removed]"
          },
          "metadata": {}
        }
      ]
    },
    {
      "cell_type": "code",
      "source": [
        "#rank-frequency distribution plot for token frequencies\n",
        "fig, ax = plt.subplots(figsize=(5, 3))\n",
        "plot_ranked_vocab_counts(fig, ax, corpus, zipf=True)\n",
        "plt.show();"
      ],
      "metadata": {
        "colab": {
          "base_uri": "https://localhost:8080/",
          "height": 331
        },
        "id": "wRCcpYj7c2lY",
        "outputId": "cf2bb28f-eb6b-4794-d3c9-7a0c654c13e9"
      },
      "execution_count": null,
      "outputs": [
        {
          "output_type": "display_data",
          "data": {
            "text/plain": [
              "<Figure size 500x300 with 1 Axes>"
            ],
            "image/png": "[encoded data removed]"
          },
          "metadata": {}
        }
      ]
    },
    {
      "cell_type": "markdown",
      "source": [
        "## Save the Preprocessed Data"
      ],
      "metadata": {
        "id": "RHwH4bHT19pi"
      }
    },
    {
      "cell_type": "code",
      "source": [
        "#create the document labels\n",
        "doc_lbls = np.array(doc_labels(corpus))\n",
        "#preview the document labels\n",
        "print(doc_lbls[:10])"
      ],
      "metadata": {
        "colab": {
          "base_uri": "https://localhost:8080/"
        },
        "id": "xBj_8Hhh19xH",
        "outputId": "408b69b4-e9d1-483e-8748-afd44d492317"
      },
      "execution_count": null,
      "outputs": [
        {
          "output_type": "stream",
          "name": "stdout",
          "text": [
            "[0 1 2 3 4 5 6 7 8 9]\n"
          ]
        }
      ]
    },
    {
      "cell_type": "code",
      "source": [
        "#create the vocabulary\n",
        "vocab = np.array(vocabulary(corpus))\n",
        "#preview the document labels\n",
        "print(vocab[:10])"
      ],
      "metadata": {
        "colab": {
          "base_uri": "https://localhost:8080/"
        },
        "id": "0PRw7x-aywyA",
        "outputId": "5b860b24-e8fe-43a5-a747-6833c7fc102e"
      },
      "execution_count": null,
      "outputs": [
        {
          "output_type": "stream",
          "name": "stdout",
          "text": [
            "['able' 'air' 'amazing' 'amazon' 'ankle' 'arch' 'area' 'arrive' 'ask'\n",
            " 'awesome']\n"
          ]
        }
      ]
    },
    {
      "cell_type": "code",
      "source": [
        "#create the document-term matrix (DTM)\n",
        "dtm_main = dtm(corpus)\n",
        "#dtm_main = scipy.sparse.csr_matrix(dtm_main)\n",
        "#preview the dtm\n",
        "dtm_main"
      ],
      "metadata": {
        "colab": {
          "base_uri": "https://localhost:8080/"
        },
        "id": "9xvoSJGK2TuM",
        "outputId": "0a602aa7-cfb9-4eab-f86f-7bdbc77c41d3"
      },
      "execution_count": null,
      "outputs": [
        {
          "output_type": "execute_result",
          "data": {
            "text/plain": [
              "<21570x245 sparse matrix of type '<class 'numpy.int32'>'\n",
              "\twith 212452 stored elements in Compressed Sparse Row format>"
            ]
          },
          "metadata": {},
          "execution_count": 25
        }
      ]
    },
    {
      "cell_type": "code",
      "source": [
        "#save the files to disk\n",
        "corpus_file_path = '%s/corpus.p' % DATA_DIR\n",
        "doc_labels_file_path = '%s/doc_labels.p' % DATA_DIR\n",
        "vocab_file_path = '%s/vocab.p' % DATA_DIR\n",
        "dtm_file_path = '%s/dtm_main.npz' % DATA_DIR\n",
        "\n",
        "pickle.dump(corpus, open(corpus_file_path, 'wb') )\n",
        "pickle.dump(doc_lbls, open(doc_labels_file_path, 'wb'))\n",
        "pickle.dump(vocab, open(vocab_file_path, 'wb'))\n",
        "scipy.sparse.save_npz(dtm_file_path, dtm_main)"
      ],
      "metadata": {
        "id": "wjF5mUY12tYy"
      },
      "execution_count": null,
      "outputs": []
    },
    {
      "cell_type": "markdown",
      "source": [
        "# 4.&nbsp;Model: Parameter Tuning"
      ],
      "metadata": {
        "id": "ccZlhJcEEee5"
      }
    },
    {
      "cell_type": "markdown",
      "source": [
        "## Import the Corpus"
      ],
      "metadata": {
        "id": "QjMnhzHAh_DH"
      }
    },
    {
      "cell_type": "code",
      "source": [
        "#location of corpus files\n",
        "corpus_file_path = '%s/corpus.p' % DATA_DIR\n",
        "doc_labels_file_path = '%s/doc_labels.p' % DATA_DIR\n",
        "vocab_file_path = '%s/vocab.p' % DATA_DIR\n",
        "dtm_file_path = '%s/dtm_main.npz' % DATA_DIR\n",
        "\n",
        "#load the corpus\n",
        "corpus = pickle.load(open(corpus_file_path, 'rb'))\n",
        "doc_lbls = pickle.load(open(doc_labels_file_path, 'rb'))\n",
        "dtm_main = scipy.sparse.load_npz(dtm_file_path)\n",
        "vocab = pickle.load(open(vocab_file_path, 'rb'))\n",
        "\n",
        "#preview the document labels\n",
        "print(doc_lbls[:10])\n",
        "print(vocab[:10])\n",
        "dtm_main"
      ],
      "metadata": {
        "colab": {
          "base_uri": "https://localhost:8080/"
        },
        "id": "GCwj-JqNh_LG",
        "outputId": "1465c67f-de42-45eb-de06-728c2612cef9"
      },
      "execution_count": null,
      "outputs": [
        {
          "output_type": "stream",
          "name": "stderr",
          "text": [
            "/usr/local/lib/python3.10/dist-packages/ipykernel/ipkernel.py:283: DeprecationWarning: `should_run_async` will not call `transform_cell` automatically in the future. Please pass the result to `transformed_cell` argument and any exception that happen during thetransform in `preprocessing_exc_tuple` in IPython 7.17 and above.\n",
            "  and should_run_async(code)\n"
          ]
        },
        {
          "output_type": "stream",
          "name": "stdout",
          "text": [
            "[0 1 2 3 4 5 6 7 8 9]\n",
            "['able' 'air' 'amazing' 'amazon' 'ankle' 'arch' 'area' 'arrive' 'ask'\n",
            " 'awesome']\n"
          ]
        },
        {
          "output_type": "execute_result",
          "data": {
            "text/plain": [
              "<21570x245 sparse matrix of type '<class 'numpy.int32'>'\n",
              "\twith 212452 stored elements in Compressed Sparse Row format>"
            ]
          },
          "metadata": {},
          "execution_count": 11
        }
      ]
    },
    {
      "cell_type": "code",
      "source": [
        "# suppress the \"INFO\" messages and warnings from lda\n",
        "logger = logging.getLogger('lda')\n",
        "logger.addHandler(logging.NullHandler())\n",
        "logger.propagate = False\n",
        "warnings.filterwarnings('ignore')"
      ],
      "metadata": {
        "colab": {
          "base_uri": "https://localhost:8080/"
        },
        "id": "q0DpP0LLiFC7",
        "outputId": "6b24db48-c47a-4e39-fc5e-6c70eb3f26a4"
      },
      "execution_count": null,
      "outputs": [
        {
          "output_type": "stream",
          "name": "stderr",
          "text": [
            "/usr/local/lib/python3.10/dist-packages/ipykernel/ipkernel.py:283: DeprecationWarning: `should_run_async` will not call `transform_cell` automatically in the future. Please pass the result to `transformed_cell` argument and any exception that happen during thetransform in `preprocessing_exc_tuple` in IPython 7.17 and above.\n",
            "  and should_run_async(code)\n"
          ]
        }
      ]
    },
    {
      "cell_type": "markdown",
      "source": [
        "## Evaluate Model Options\n",
        "\n",
        "- [evaluate_topic_models()](https://tmtoolkit.readthedocs.io/en/latest/api.html#tmtoolkit.topicmod.tm_lda.evaluate_topic_models)\n",
        "- [Guide: Evaluate Topic Model](https://tmtoolkit.readthedocs.io/en/latest/topic_modeling.html#Evaluation-of-topic-models)\n",
        "- [tm_lda](https://tmtoolkit.readthedocs.io/en/latest/api.html#module-tmtoolkit.topicmod.tm_lda)\n",
        "\n",
        "A high alpha value indicates that each document contains most of the topics and on the contrary, a lower alpha value indicates that the documents are likely to contain a fewer number of topic.\n",
        "\n",
        "A Higher value of η indicates that the topics are likely to cover most of the words and on the contrary, lower eta value indicates that the topics are likely to contain a fewer number of words."
      ],
      "metadata": {
        "id": "Fmpl_eUyiQs0"
      }
    },
    {
      "cell_type": "code",
      "source": [
        "def build_param_inputs(kmax = 100, eta_factor = 1, alpha_factor = 1):\n",
        "  #setup parameters\n",
        "  const_params = {'n_iter': 500,'eta': round(0.1/eta_factor,5), 'random_state': 20191122  }\n",
        "  if kmax <=50:\n",
        "   ks = list(range(5, kmax+1, 5))\n",
        "  elif kmax <=100:\n",
        "    ks = [5] + list(range(10, kmax+1, 10))\n",
        "  else:\n",
        "    ks = list(range(10, 100, 10)) + list(range(100, kmax+1, 20))\n",
        "  varying_params = [dict(n_topics=k, alpha=round(1/(alpha_factor*k), 5)) for k in ks]\n",
        "  num_trials = len(varying_params)\n",
        "  #display the parameter selections\n",
        "  print('constant parameters:', const_params)\n",
        "  print('number of topics to try:', ks)\n",
        "  print('number of trials:', num_trials)\n",
        "  print('variable parameter trials:', varying_params)\n",
        "\n",
        "  return varying_params, const_params"
      ],
      "metadata": {
        "id": "6Y1kepd2iQzx"
      },
      "execution_count": 123,
      "outputs": []
    },
    {
      "cell_type": "code",
      "source": [
        "def evaluate_model_results_custom(dtm_p, varying_p, const_p):\n",
        "  #evaluate model results\n",
        "  eval_results = tm_lda.evaluate_topic_models(dtm_p,\n",
        "                                              varying_parameters = varying_p,\n",
        "                                              constant_parameters = const_p,\n",
        "                                              metric = ['arun_2010','cao_juan_2009','coherence_mimno_2011']\n",
        "                                              )\n",
        "  results_by_n_topics = results_by_parameter(eval_results, 'n_topics')\n",
        "  results_by_n_topics = [(x, {key: round(value, 3) for key, value in inner_dict.items()}) for x, inner_dict in results_by_n_topics]\n",
        "  #display the results of the models as text\n",
        "  print('number of results calculated:', len(results_by_n_topics))\n",
        "  print('results by n topic models:', results_by_n_topics)\n",
        "\n",
        "  return results_by_n_topics"
      ],
      "metadata": {
        "id": "dZgq5Dfmi75r"
      },
      "execution_count": 124,
      "outputs": []
    },
    {
      "cell_type": "code",
      "source": [
        "# plot the results of the model trials\n",
        "#plot_eval_results(eval_results = results_by_n_topics, figsize=(8, 6))\n",
        "#I cannot get this function to work for the life of me\n",
        "#package conflict with version of pyplot"
      ],
      "metadata": {
        "id": "Q4O6LOK7jEOq"
      },
      "execution_count": 125,
      "outputs": []
    },
    {
      "cell_type": "code",
      "source": [
        "def plot_eval_results_custom(results_by_n_topics):\n",
        "  # Extract data from results_by_n_topics\n",
        "  n_topics = [item[0] for item in results_by_n_topics]\n",
        "  arun_2010_values = [item[1]['arun_2010'] for item in results_by_n_topics]\n",
        "  cao_juan_2009_values = [item[1]['cao_juan_2009'] for item in results_by_n_topics]\n",
        "  coherence_mimno_2011_values = [item[1]['coherence_mimno_2011'] for item in results_by_n_topics]\n",
        "\n",
        "  # Create subplots with a single row and multiple columns\n",
        "  fig, axes = plt.subplots(1, 3, figsize=(12, 3))  # Adjust the figure size as needed\n",
        "  fs = 8\n",
        "\n",
        "  # Plot Arun 2010 Metric\n",
        "  axes[0].plot(n_topics, arun_2010_values, label='Arun 2010', marker='o')\n",
        "  axes[0].set_xlabel('Number of Topics', fontsize=fs)\n",
        "  axes[0].set_ylabel('Metric Value', fontsize=fs)\n",
        "  axes[0].set_title('Minimize: Arun 2010', fontsize=fs)\n",
        "\n",
        "  # Plot Cao Juan 2009 Metric\n",
        "  axes[1].plot(n_topics, cao_juan_2009_values, label='Cao Juan 2009', marker='o')\n",
        "  axes[1].set_xlabel('Number of Topics', fontsize=fs)\n",
        "  axes[1].set_ylabel('Metric Value', fontsize=fs)\n",
        "  axes[1].set_title('Minimize: Cao Juan 2009', fontsize=fs)\n",
        "\n",
        "  # Plot Coherence Mimno 2011 Metric\n",
        "  axes[2].plot(n_topics, coherence_mimno_2011_values, label='Coherence Mimno 2011', marker='o')\n",
        "  axes[2].set_xlabel('Number of Topics', fontsize=fs)\n",
        "  axes[2].set_ylabel('Metric Value', fontsize=fs)\n",
        "  axes[2].set_title('Maximize: Coherence Mimno 2011', fontsize=fs)\n",
        "\n",
        "  # Adjust layout spacing\n",
        "  plt.tight_layout()\n",
        "\n",
        "  # Show the plots\n",
        "  plt.show()"
      ],
      "metadata": {
        "id": "zkA7ZQBn-2Ih"
      },
      "execution_count": 126,
      "outputs": []
    },
    {
      "cell_type": "code",
      "source": [
        "# run calculations and vizualize\n",
        "varying_params, const_params = build_param_inputs(kmax = 100, eta_factor = 1, alpha_factor = 1)\n",
        "results_by_n_topics = evaluate_model_results_custom(dtm_p = dtm_main, varying_p = varying_params, const_p = const_params)\n",
        "plot_eval_results_custom(results_by_n_topics)"
      ],
      "metadata": {
        "colab": {
          "base_uri": "https://localhost:8080/"
        },
        "id": "uhWZJUpMRbzU",
        "outputId": "546c859e-3bc8-4049-ecfd-344d6139f637"
      },
      "execution_count": null,
      "outputs": [
        {
          "output_type": "stream",
          "name": "stdout",
          "text": [
            "constant parameters: {'n_iter': 500, 'eta': 0.1, 'random_state': 20191122}\n",
            "number of topics to try: [5, 10, 20, 30, 40, 50, 60, 70, 80, 90, 100]\n",
            "number of trials: 11\n",
            "variable parameter trials: [{'n_topics': 5, 'alpha': 0.2}, {'n_topics': 10, 'alpha': 0.1}, {'n_topics': 20, 'alpha': 0.05}, {'n_topics': 30, 'alpha': 0.03333}, {'n_topics': 40, 'alpha': 0.025}, {'n_topics': 50, 'alpha': 0.02}, {'n_topics': 60, 'alpha': 0.01667}, {'n_topics': 70, 'alpha': 0.01429}, {'n_topics': 80, 'alpha': 0.0125}, {'n_topics': 90, 'alpha': 0.01111}, {'n_topics': 100, 'alpha': 0.01}]\n"
          ]
        }
      ]
    },
    {
      "cell_type": "code",
      "source": [
        "eta_factor_list = [.1, 1,10,100]\n",
        "alpha_factor_list = [.1,1,10,100]\n",
        "all_model_runs = {}\n",
        "\n",
        "for e in eta_factor_list:\n",
        "  for a in alpha_factor_list:\n",
        "    run_code = 'eta_' + str(e).zfill(3) + '__' + 'alpha_' + str(a).zfill(3)\n",
        "    print('running the evaluation for:', run_code)\n",
        "    varying_params, const_params = build_param_inputs(kmax = 100, eta_factor = e, alpha_factor = a)\n",
        "    results_by_n_topics = evaluate_model_results_custom(dtm_p = dtm_main, varying_p = varying_params, const_p = const_params)\n",
        "    all_model_runs[run_code] = results_by_n_topics\n",
        "    plot_eval_results_custom(results_by_n_topics)\n",
        "#print summary of run\n",
        "print('evaluation data captured for', len(all_model_runs), 'sets of parameters.')\n",
        "#save the files to disk\n",
        "eval_file_path = '%s/explore_eval_ae.p' % DATA_DIR\n",
        "pickle.dump(all_model_runs, open(eval_file_path, 'wb') )"
      ],
      "metadata": {
        "colab": {
          "base_uri": "https://localhost:8080/"
        },
        "id": "wTRQ7CVAVgHX",
        "outputId": "d8773f1b-5d80-4346-ace0-9e896becb80d"
      },
      "execution_count": 122,
      "outputs": [
        {
          "output_type": "stream",
          "name": "stdout",
          "text": [
            "running the evaluation for: eta_0.1__alpha_0.1\n",
            "running the evaluation for: eta_0.1__alpha_001\n",
            "running the evaluation for: eta_0.1__alpha_010\n",
            "running the evaluation for: eta_0.1__alpha_100\n",
            "running the evaluation for: eta_001__alpha_0.1\n",
            "running the evaluation for: eta_001__alpha_001\n",
            "running the evaluation for: eta_001__alpha_010\n",
            "running the evaluation for: eta_001__alpha_100\n",
            "running the evaluation for: eta_010__alpha_0.1\n",
            "running the evaluation for: eta_010__alpha_001\n",
            "running the evaluation for: eta_010__alpha_010\n",
            "running the evaluation for: eta_010__alpha_100\n",
            "running the evaluation for: eta_100__alpha_0.1\n",
            "running the evaluation for: eta_100__alpha_001\n",
            "running the evaluation for: eta_100__alpha_010\n",
            "running the evaluation for: eta_100__alpha_100\n",
            "evaluation data captured for 0 sets of parameters.\n"
          ]
        }
      ]
    },
    {
      "cell_type": "code",
      "source": [
        "#location of corpus files\n",
        "eval_file_path = '%s/explore_eval_ae.p' % DATA_DIR\n",
        "#load the corpus\n",
        "all_model_runs = pickle.load(open(eval_file_path, 'rb'))\n",
        "#preview the document labels\n",
        "print(all_model_runs['eta_001__alpha_001'])"
      ],
      "metadata": {
        "id": "iMm8UPPFZ1hi"
      },
      "execution_count": null,
      "outputs": []
    },
    {
      "cell_type": "code",
      "source": [
        "all_model_runs.keys()"
      ],
      "metadata": {
        "id": "tZsAU644Z1pn"
      },
      "execution_count": null,
      "outputs": []
    },
    {
      "cell_type": "code",
      "source": [
        "plot_eval_results_custom(all_model_runs['eta_001__alpha_001'])"
      ],
      "metadata": {
        "id": "LrAY2ETfZ1wX"
      },
      "execution_count": null,
      "outputs": []
    },
    {
      "cell_type": "code",
      "source": [],
      "metadata": {
        "id": "F28vecnuZ10c"
      },
      "execution_count": null,
      "outputs": []
    },
    {
      "cell_type": "markdown",
      "source": [
        "## Scale Model Evaluation"
      ],
      "metadata": {
        "id": "3AwV7--Rkc45"
      }
    },
    {
      "cell_type": "code",
      "source": [
        "#alpha_factor_list = [1] + list(range(5, 21, 5))\n",
        "#eta_factors_list = [1] + list(range(5, 21, 5))\n",
        "\n",
        "#def test_alpha_eta():\n",
        "\n",
        "\n",
        "\n",
        "\n",
        "\n",
        "\n",
        "\n"
      ],
      "metadata": {
        "id": "DY0yI8wokq-g"
      },
      "execution_count": null,
      "outputs": []
    },
    {
      "cell_type": "code",
      "source": [],
      "metadata": {
        "id": "zy70uT3YkrCy"
      },
      "execution_count": null,
      "outputs": []
    },
    {
      "cell_type": "markdown",
      "source": [
        "# 5.&nbsp;Model: Final"
      ],
      "metadata": {
        "id": "GglxxFTwEeh0"
      }
    },
    {
      "cell_type": "markdown",
      "source": [
        "## Import the Corpus"
      ],
      "metadata": {
        "id": "Lkq_bLSniNAW"
      }
    },
    {
      "cell_type": "code",
      "source": [
        "#location of corpus files\n",
        "corpus_file_path = '%s/corpus.p' % DATA_DIR\n",
        "doc_labels_file_path = '%s/doc_labels.p' % DATA_DIR\n",
        "vocab_file_path = '%s/vocab.p' % DATA_DIR\n",
        "dtm_file_path = '%s/dtm_main.npz' % DATA_DIR\n",
        "\n",
        "#load the corpus\n",
        "corpus = pickle.load(open(corpus_file_path, 'rb'))\n",
        "doc_labels_main = pickle.load(open(doc_labels_file_path, 'rb'))\n",
        "dtm_main = scipy.sparse.load_npz(dtm_file_path)\n",
        "vocab_main = pickle.load(open(vocab_file_path, 'rb'))"
      ],
      "metadata": {
        "id": "jsXhBmbBXS9H"
      },
      "execution_count": 63,
      "outputs": []
    },
    {
      "cell_type": "markdown",
      "source": [
        "## Create the Model"
      ],
      "metadata": {
        "id": "kKLTUFppXPE5"
      }
    },
    {
      "cell_type": "code",
      "source": [
        "# set data to use\n",
        "dtms = {\n",
        "    'main': dtm_main\n",
        "}\n",
        "\n",
        "# and fixed hyperparameters\n",
        "# Here, alpha represents document-topic density - with a higher alpha, documents\n",
        "# are made up of more topics, and with lower alpha, documents contain fewer topics.\n",
        "#Beta represents topic-word density - with a high beta, topics are made up of\n",
        "#most of the words in the corpus, and with a low beta they consist of few words.\n",
        "# https://www.thoughtvector.io/blog/lda-alpha-and-beta-parameters-the-intuition/\n",
        "lda_params = {\n",
        "    'n_topics': 25,\n",
        "    'eta': .5,\n",
        "    'n_iter': 1000,\n",
        "    'random_state': 20191122,  # to make results reproducible\n",
        "    'alpha': 1/25\n",
        "}"
      ],
      "metadata": {
        "id": "qpbjfEVtXtrq"
      },
      "execution_count": 64,
      "outputs": []
    },
    {
      "cell_type": "code",
      "source": [
        "#create the model\n",
        "models = compute_models_parallel(dtms, constant_parameters=lda_params)"
      ],
      "metadata": {
        "id": "vrr9nFtbX-tn"
      },
      "execution_count": 65,
      "outputs": []
    },
    {
      "cell_type": "code",
      "source": [
        "#preview the model\n",
        "model_main = models['main'][0][1]\n",
        "print_ldamodel_topic_words(model_main.topic_word_, vocab, top_n=5)"
      ],
      "metadata": {
        "colab": {
          "base_uri": "https://localhost:8080/"
        },
        "id": "wHGSiYwZYGAE",
        "outputId": "cdac48c1-a71d-4bd2-f940-d53abbcd8e49"
      },
      "execution_count": 66,
      "outputs": [
        {
          "output_type": "stream",
          "name": "stdout",
          "text": [
            "topic_1\n",
            "> #1. shoe (0.129538)\n",
            "> #2. foot (0.062844)\n",
            "> #3. run (0.041595)\n",
            "> #4. support (0.030614)\n",
            "> #5. toe (0.028332)\n",
            "topic_2\n",
            "> #1. love (0.113414)\n",
            "> #2. son (0.072663)\n",
            "> #3. buy (0.054834)\n",
            "> #4. shoe (0.048842)\n",
            "> #5. wear (0.034384)\n",
            "topic_3\n",
            "> #1. shoe (0.157310)\n",
            "> #2. great (0.076691)\n",
            "> #3. run (0.058734)\n",
            "> #4. good (0.058485)\n",
            "> #5. comfortable (0.053123)\n",
            "topic_4\n",
            "> #1. shoe (0.150776)\n",
            "> #2. nike (0.037749)\n",
            "> #3. buy (0.031394)\n",
            "> #4. pair (0.029765)\n",
            "> #5. get (0.021618)\n",
            "topic_5\n",
            "> #1. shoe (0.093892)\n",
            "> #2. foot (0.059276)\n",
            "> #3. wear (0.052465)\n",
            "> #4. run (0.040394)\n",
            "> #5. day (0.039267)\n",
            "topic_6\n",
            "> #1. good (0.055237)\n",
            "> #2. buy (0.052081)\n",
            "> #3. price (0.051480)\n",
            "> #4. nike (0.048323)\n",
            "> #5. sneaker (0.033143)\n",
            "topic_7\n",
            "> #1. shoe (0.084699)\n",
            "> #2. pair (0.081086)\n",
            "> #3. nike (0.076821)\n",
            "> #4. air (0.045430)\n",
            "> #5. wear (0.044067)\n",
            "topic_8\n",
            "> #1. shoe (0.130713)\n",
            "> #2. play (0.054252)\n",
            "> #3. good (0.050538)\n",
            "> #4. great (0.042309)\n",
            "> #5. wear (0.041290)\n",
            "topic_9\n",
            "> #1. shoe (0.088785)\n",
            "> #2. love (0.069692)\n",
            "> #3. comfortable (0.067129)\n",
            "> #4. fit (0.063553)\n",
            "> #5. great (0.054580)\n",
            "topic_10\n",
            "> #1. size (0.179046)\n",
            "> #2. shoe (0.069603)\n",
            "> #3. small (0.066595)\n",
            "> #4. order (0.054142)\n",
            "> #5. fit (0.044379)\n",
            "topic_11\n",
            "> #1. color (0.089891)\n",
            "> #2. shoe (0.072422)\n",
            "> #3. look (0.056625)\n",
            "> #4. love (0.043172)\n",
            "> #5. black (0.039692)\n",
            "topic_12\n",
            "> #1. watch (0.151619)\n",
            "> #2. time (0.035699)\n",
            "> #3. band (0.026006)\n",
            "> #4. nike (0.024671)\n",
            "> #5. look (0.023277)\n",
            "topic_13\n",
            "> #1. sock (0.089042)\n",
            "> #2. foot (0.070195)\n",
            "> #3. wear (0.064166)\n",
            "> #4. fit (0.044071)\n",
            "> #5. comfortable (0.038666)\n",
            "topic_14\n",
            "> #1. shoe (0.065302)\n",
            "> #2. order (0.059713)\n",
            "> #3. size (0.049596)\n",
            "> #4. return (0.032828)\n",
            "> #5. amazon (0.027876)\n",
            "topic_15\n",
            "> #1. bag (0.061903)\n",
            "> #2. fit (0.050852)\n",
            "> #3. gym (0.039083)\n",
            "> #4. shirt (0.038364)\n",
            "> #5. perfect (0.033063)\n",
            "topic_16\n",
            "> #1. great (0.069931)\n",
            "> #2. product (0.058844)\n",
            "> #3. good (0.057539)\n",
            "> #4. fit (0.052104)\n",
            "> #5. shoe (0.047829)\n"
          ]
        }
      ]
    },
    {
      "cell_type": "markdown",
      "source": [
        "## Save Topic Model"
      ],
      "metadata": {
        "id": "fCbqhoQ9d3Qk"
      }
    },
    {
      "cell_type": "code",
      "source": [
        "#save the model to disk\n",
        "model_file_path = '%s/main_model.p' % MODEL_DIR\n",
        "\n",
        "with open(model_file_path, \"wb\") as modelfile:\n",
        "    save_ldamodel_to_pickle(modelfile, model_main, vocab, doc_lbls, dtm=dtm_main)"
      ],
      "metadata": {
        "id": "ZPri7Gmxd1_z"
      },
      "execution_count": 67,
      "outputs": []
    },
    {
      "cell_type": "markdown",
      "source": [
        "# 6.&nbsp; Model Evaluation"
      ],
      "metadata": {
        "id": "P_ch6h37Eekq"
      }
    },
    {
      "cell_type": "markdown",
      "source": [
        "## Load the Model"
      ],
      "metadata": {
        "id": "x17nHxZ8HOVt"
      }
    },
    {
      "cell_type": "code",
      "source": [
        "#build the paths\n",
        "corpus_file_path = '%s/corpus.p' % DATA_DIR\n",
        "model_file_path = '%s/main_model.p' % MODEL_DIR\n",
        "text_file_path = '%s/corpus_raw_text.p' % DATA_DIR\n",
        "#load the files\n",
        "with open(corpus_file_path, \"rb\") as corpusfile:\n",
        "    corpus = pickle.load(corpusfile)\n",
        "with open(text_file_path, \"rb\") as textfile:\n",
        "    corpus_raw_text = pickle.load(textfile)\n",
        "with open(model_file_path, \"rb\") as modelfile:\n",
        "    model_info = load_ldamodel_from_pickle(modelfile)\n",
        "\n",
        "#preview the model info keys\n",
        "model_info.keys()"
      ],
      "metadata": {
        "id": "F1M5oxq-HOeT",
        "colab": {
          "base_uri": "https://localhost:8080/"
        },
        "outputId": "92258a0a-b697-43cb-e6d1-b424b4ccb78d"
      },
      "execution_count": 81,
      "outputs": [
        {
          "output_type": "execute_result",
          "data": {
            "text/plain": [
              "dict_keys(['model', 'vocab', 'doc_labels', 'dtm'])"
            ]
          },
          "metadata": {},
          "execution_count": 81
        }
      ]
    },
    {
      "cell_type": "code",
      "source": [
        "#extract the parts of the model\n",
        "model_main      = model_info[\"model\"]\n",
        "vocab_main      = model_info[\"vocab\"]\n",
        "dtm_main        = model_info[\"dtm\"]\n",
        "doc_labels_main = model_info[\"doc_labels\"]"
      ],
      "metadata": {
        "id": "yrma7CLLHuEF"
      },
      "execution_count": 69,
      "outputs": []
    },
    {
      "cell_type": "markdown",
      "source": [
        "## Create Topic Names and Classification"
      ],
      "metadata": {
        "id": "utNNdIP_B6wA"
      }
    },
    {
      "cell_type": "code",
      "source": [
        "#create the document lengths\n",
        "doc_lengths_main = doc_lengths(dtm_main)\n",
        "#create the topic label names\n",
        "topic_labels_main = generate_topic_labels_from_top_words(\n",
        "    model_main.topic_word_,\n",
        "    model_main.doc_topic_,\n",
        "    doc_lengths_main,\n",
        "    vocab_main,\n",
        "    lambda_=0.7\n",
        ")"
      ],
      "metadata": {
        "id": "ZIPyVDUZB7Mq"
      },
      "execution_count": 70,
      "outputs": []
    },
    {
      "cell_type": "code",
      "source": [
        "#display the list of topic labels\n",
        "print('created topic labels:')\n",
        "print(topic_labels_main)"
      ],
      "metadata": {
        "id": "zhhXPcjSDawi",
        "colab": {
          "base_uri": "https://localhost:8080/"
        },
        "outputId": "0e7e03fe-8525-4163-94cf-ae572cd55fdf"
      },
      "execution_count": 71,
      "outputs": [
        {
          "output_type": "stream",
          "name": "stdout",
          "text": [
            "created topic labels:\n",
            "['1_shoe_foot_toe' '2_love_son_gift' '3_shoe_great_run' '4_shoe_nike_know'\n",
            " '5_shoe_foot_day' '6_price_good_buy' '7_pair_nike_air'\n",
            " '8_play_shoe_basketball' '9_love_comfortable_fit' '10_size_small_order'\n",
            " '11_color_black_white' '12_watch_band_wrist' '13_sock_sandal_foot'\n",
            " '14_order_return_size' '15_bag_shirt_gym' '16_product_great_good']\n"
          ]
        }
      ]
    },
    {
      "cell_type": "code",
      "source": [
        "#classify each document with the label\n",
        "doc_topic_main = model_main.doc_topic_\n",
        "documentclassifications = ldamodel_top_doc_topics(doc_topic_main,\n",
        "                                                  doc_labels_main,\n",
        "                                                  top_n=3,\n",
        "                                                  topic_labels=topic_labels_main)\n",
        "#preview the document classifications\n",
        "documentclassifications.head()"
      ],
      "metadata": {
        "id": "WfmM1TqSDu84",
        "colab": {
          "base_uri": "https://localhost:8080/",
          "height": 237
        },
        "outputId": "a66f1e61-9368-4603-8091-61e69f8e4b2e"
      },
      "execution_count": 75,
      "outputs": [
        {
          "output_type": "execute_result",
          "data": {
            "text/plain": [
              "                                  rank_1                           rank_2  \\\n",
              "document                                                                    \n",
              "0          14_order_return_size (0.7578)    11_color_black_white (0.1328)   \n",
              "1           12_watch_band_wrist (0.5078)  9_love_comfortable_fit (0.3828)   \n",
              "2          14_order_return_size (0.5625)     12_watch_band_wrist (0.3403)   \n",
              "3         16_product_great_good (0.3542)  8_play_shoe_basketball (0.3542)   \n",
              "4           12_watch_band_wrist (0.7847)    11_color_black_white (0.1181)   \n",
              "\n",
              "                                    rank_3  \n",
              "document                                    \n",
              "0         16_product_great_good (0.007812)  \n",
              "1         16_product_great_good (0.007812)  \n",
              "2         16_product_great_good (0.006944)  \n",
              "3               15_bag_shirt_gym (0.02083)  \n",
              "4         16_product_great_good (0.006944)  "
            ],
            "text/html": [
              "\n",
              "  <div id=\"df-571cdcaa-7eb3-4814-93b8-e73d758e9403\" class=\"colab-df-container\">\n",
              "    <div>\n",
              "<style scoped>\n",
              "    .dataframe tbody tr th:only-of-type {\n",
              "        vertical-align: middle;\n",
              "    }\n",
              "\n",
              "    .dataframe tbody tr th {\n",
              "        vertical-align: top;\n",
              "    }\n",
              "\n",
              "    .dataframe thead th {\n",
              "        text-align: right;\n",
              "    }\n",
              "</style>\n",
              "<table border=\"1\" class=\"dataframe\">\n",
              "  <thead>\n",
              "    <tr style=\"text-align: right;\">\n",
              "      <th></th>\n",
              "      <th>rank_1</th>\n",
              "      <th>rank_2</th>\n",
              "      <th>rank_3</th>\n",
              "    </tr>\n",
              "    <tr>\n",
              "      <th>document</th>\n",
              "      <th></th>\n",
              "      <th></th>\n",
              "      <th></th>\n",
              "    </tr>\n",
              "  </thead>\n",
              "  <tbody>\n",
              "    <tr>\n",
              "      <th>0</th>\n",
              "      <td>14_order_return_size (0.7578)</td>\n",
              "      <td>11_color_black_white (0.1328)</td>\n",
              "      <td>16_product_great_good (0.007812)</td>\n",
              "    </tr>\n",
              "    <tr>\n",
              "      <th>1</th>\n",
              "      <td>12_watch_band_wrist (0.5078)</td>\n",
              "      <td>9_love_comfortable_fit (0.3828)</td>\n",
              "      <td>16_product_great_good (0.007812)</td>\n",
              "    </tr>\n",
              "    <tr>\n",
              "      <th>2</th>\n",
              "      <td>14_order_return_size (0.5625)</td>\n",
              "      <td>12_watch_band_wrist (0.3403)</td>\n",
              "      <td>16_product_great_good (0.006944)</td>\n",
              "    </tr>\n",
              "    <tr>\n",
              "      <th>3</th>\n",
              "      <td>16_product_great_good (0.3542)</td>\n",
              "      <td>8_play_shoe_basketball (0.3542)</td>\n",
              "      <td>15_bag_shirt_gym (0.02083)</td>\n",
              "    </tr>\n",
              "    <tr>\n",
              "      <th>4</th>\n",
              "      <td>12_watch_band_wrist (0.7847)</td>\n",
              "      <td>11_color_black_white (0.1181)</td>\n",
              "      <td>16_product_great_good (0.006944)</td>\n",
              "    </tr>\n",
              "  </tbody>\n",
              "</table>\n",
              "</div>\n",
              "    <div class=\"colab-df-buttons\">\n",
              "\n",
              "  <div class=\"colab-df-container\">\n",
              "    <button class=\"colab-df-convert\" onclick=\"convertToInteractive('df-571cdcaa-7eb3-4814-93b8-e73d758e9403')\"\n",
              "            title=\"Convert this dataframe to an interactive table.\"\n",
              "            style=\"display:none;\">\n",
              "\n",
              "  <svg xmlns=\"http://www.w3.org/2000/svg\" height=\"24px\" viewBox=\"0 -960 960 960\">\n",
              "    <path d=\"M120-120v-720h720v720H120Zm60-500h600v-160H180v160Zm220 220h160v-160H400v160Zm0 220h160v-160H400v160ZM180-400h160v-160H180v160Zm440 0h160v-160H620v160ZM180-180h160v-160H180v160Zm440 0h160v-160H620v160Z\"/>\n",
              "  </svg>\n",
              "    </button>\n",
              "\n",
              "  <style>\n",
              "    .colab-df-container {\n",
              "      display:flex;\n",
              "      gap: 12px;\n",
              "    }\n",
              "\n",
              "    .colab-df-convert {\n",
              "      background-color: #E8F0FE;\n",
              "      border: none;\n",
              "      border-radius: 50%;\n",
              "      cursor: pointer;\n",
              "      display: none;\n",
              "      fill: #1967D2;\n",
              "      height: 32px;\n",
              "      padding: 0 0 0 0;\n",
              "      width: 32px;\n",
              "    }\n",
              "\n",
              "    .colab-df-convert:hover {\n",
              "      background-color: #E2EBFA;\n",
              "      box-shadow: 0px 1px 2px rgba(60, 64, 67, 0.3), 0px 1px 3px 1px rgba(60, 64, 67, 0.15);\n",
              "      fill: #174EA6;\n",
              "    }\n",
              "\n",
              "    .colab-df-buttons div {\n",
              "      margin-bottom: 4px;\n",
              "    }\n",
              "\n",
              "    [theme=dark] .colab-df-convert {\n",
              "      background-color: #3B4455;\n",
              "      fill: #D2E3FC;\n",
              "    }\n",
              "\n",
              "    [theme=dark] .colab-df-convert:hover {\n",
              "      background-color: #434B5C;\n",
              "      box-shadow: 0px 1px 3px 1px rgba(0, 0, 0, 0.15);\n",
              "      filter: drop-shadow(0px 1px 2px rgba(0, 0, 0, 0.3));\n",
              "      fill: #FFFFFF;\n",
              "    }\n",
              "  </style>\n",
              "\n",
              "    <script>\n",
              "      const buttonEl =\n",
              "        document.querySelector('#df-571cdcaa-7eb3-4814-93b8-e73d758e9403 button.colab-df-convert');\n",
              "      buttonEl.style.display =\n",
              "        google.colab.kernel.accessAllowed ? 'block' : 'none';\n",
              "\n",
              "      async function convertToInteractive(key) {\n",
              "        const element = document.querySelector('#df-571cdcaa-7eb3-4814-93b8-e73d758e9403');\n",
              "        const dataTable =\n",
              "          await google.colab.kernel.invokeFunction('convertToInteractive',\n",
              "                                                    [key], {});\n",
              "        if (!dataTable) return;\n",
              "\n",
              "        const docLinkHtml = 'Like what you see? Visit the ' +\n",
              "          '<a target=\"_blank\" href=https://colab.research.google.com/notebooks/data_table.ipynb>data table notebook</a>'\n",
              "          + ' to learn more about interactive tables.';\n",
              "        element.innerHTML = '';\n",
              "        dataTable['output_type'] = 'display_data';\n",
              "        await google.colab.output.renderOutput(dataTable, element);\n",
              "        const docLink = document.createElement('div');\n",
              "        docLink.innerHTML = docLinkHtml;\n",
              "        element.appendChild(docLink);\n",
              "      }\n",
              "    </script>\n",
              "  </div>\n",
              "\n",
              "\n",
              "<div id=\"df-6350d971-5abd-4cf1-a482-75bc8f172a42\">\n",
              "  <button class=\"colab-df-quickchart\" onclick=\"quickchart('df-6350d971-5abd-4cf1-a482-75bc8f172a42')\"\n",
              "            title=\"Suggest charts.\"\n",
              "            style=\"display:none;\">\n",
              "\n",
              "<svg xmlns=\"http://www.w3.org/2000/svg\" height=\"24px\"viewBox=\"0 0 24 24\"\n",
              "     width=\"24px\">\n",
              "    <g>\n",
              "        <path d=\"M19 3H5c-1.1 0-2 .9-2 2v14c0 1.1.9 2 2 2h14c1.1 0 2-.9 2-2V5c0-1.1-.9-2-2-2zM9 17H7v-7h2v7zm4 0h-2V7h2v10zm4 0h-2v-4h2v4z\"/>\n",
              "    </g>\n",
              "</svg>\n",
              "  </button>\n",
              "\n",
              "<style>\n",
              "  .colab-df-quickchart {\n",
              "      --bg-color: #E8F0FE;\n",
              "      --fill-color: #1967D2;\n",
              "      --hover-bg-color: #E2EBFA;\n",
              "      --hover-fill-color: #174EA6;\n",
              "      --disabled-fill-color: #AAA;\n",
              "      --disabled-bg-color: #DDD;\n",
              "  }\n",
              "\n",
              "  [theme=dark] .colab-df-quickchart {\n",
              "      --bg-color: #3B4455;\n",
              "      --fill-color: #D2E3FC;\n",
              "      --hover-bg-color: #434B5C;\n",
              "      --hover-fill-color: #FFFFFF;\n",
              "      --disabled-bg-color: #3B4455;\n",
              "      --disabled-fill-color: #666;\n",
              "  }\n",
              "\n",
              "  .colab-df-quickchart {\n",
              "    background-color: var(--bg-color);\n",
              "    border: none;\n",
              "    border-radius: 50%;\n",
              "    cursor: pointer;\n",
              "    display: none;\n",
              "    fill: var(--fill-color);\n",
              "    height: 32px;\n",
              "    padding: 0;\n",
              "    width: 32px;\n",
              "  }\n",
              "\n",
              "  .colab-df-quickchart:hover {\n",
              "    background-color: var(--hover-bg-color);\n",
              "    box-shadow: 0 1px 2px rgba(60, 64, 67, 0.3), 0 1px 3px 1px rgba(60, 64, 67, 0.15);\n",
              "    fill: var(--button-hover-fill-color);\n",
              "  }\n",
              "\n",
              "  .colab-df-quickchart-complete:disabled,\n",
              "  .colab-df-quickchart-complete:disabled:hover {\n",
              "    background-color: var(--disabled-bg-color);\n",
              "    fill: var(--disabled-fill-color);\n",
              "    box-shadow: none;\n",
              "  }\n",
              "\n",
              "  .colab-df-spinner {\n",
              "    border: 2px solid var(--fill-color);\n",
              "    border-color: transparent;\n",
              "    border-bottom-color: var(--fill-color);\n",
              "    animation:\n",
              "      spin 1s steps(1) infinite;\n",
              "  }\n",
              "\n",
              "  @keyframes spin {\n",
              "    0% {\n",
              "      border-color: transparent;\n",
              "      border-bottom-color: var(--fill-color);\n",
              "      border-left-color: var(--fill-color);\n",
              "    }\n",
              "    20% {\n",
              "      border-color: transparent;\n",
              "      border-left-color: var(--fill-color);\n",
              "      border-top-color: var(--fill-color);\n",
              "    }\n",
              "    30% {\n",
              "      border-color: transparent;\n",
              "      border-left-color: var(--fill-color);\n",
              "      border-top-color: var(--fill-color);\n",
              "      border-right-color: var(--fill-color);\n",
              "    }\n",
              "    40% {\n",
              "      border-color: transparent;\n",
              "      border-right-color: var(--fill-color);\n",
              "      border-top-color: var(--fill-color);\n",
              "    }\n",
              "    60% {\n",
              "      border-color: transparent;\n",
              "      border-right-color: var(--fill-color);\n",
              "    }\n",
              "    80% {\n",
              "      border-color: transparent;\n",
              "      border-right-color: var(--fill-color);\n",
              "      border-bottom-color: var(--fill-color);\n",
              "    }\n",
              "    90% {\n",
              "      border-color: transparent;\n",
              "      border-bottom-color: var(--fill-color);\n",
              "    }\n",
              "  }\n",
              "</style>\n",
              "\n",
              "  <script>\n",
              "    async function quickchart(key) {\n",
              "      const quickchartButtonEl =\n",
              "        document.querySelector('#' + key + ' button');\n",
              "      quickchartButtonEl.disabled = true;  // To prevent multiple clicks.\n",
              "      quickchartButtonEl.classList.add('colab-df-spinner');\n",
              "      try {\n",
              "        const charts = await google.colab.kernel.invokeFunction(\n",
              "            'suggestCharts', [key], {});\n",
              "      } catch (error) {\n",
              "        console.error('Error during call to suggestCharts:', error);\n",
              "      }\n",
              "      quickchartButtonEl.classList.remove('colab-df-spinner');\n",
              "      quickchartButtonEl.classList.add('colab-df-quickchart-complete');\n",
              "    }\n",
              "    (() => {\n",
              "      let quickchartButtonEl =\n",
              "        document.querySelector('#df-6350d971-5abd-4cf1-a482-75bc8f172a42 button');\n",
              "      quickchartButtonEl.style.display =\n",
              "        google.colab.kernel.accessAllowed ? 'block' : 'none';\n",
              "    })();\n",
              "  </script>\n",
              "</div>\n",
              "\n",
              "    </div>\n",
              "  </div>\n"
            ]
          },
          "metadata": {},
          "execution_count": 75
        }
      ]
    },
    {
      "cell_type": "code",
      "source": [
        "#add text from corpus to label table\n",
        "documentclassifications['text'] = corpus_raw_text\n",
        "#preview the document classifications\n",
        "documentclassifications.head()"
      ],
      "metadata": {
        "id": "DvGpGViJEig7",
        "colab": {
          "base_uri": "https://localhost:8080/",
          "height": 341
        },
        "outputId": "8a371d40-07f0-46b6-ef7d-4201aac7d201"
      },
      "execution_count": 82,
      "outputs": [
        {
          "output_type": "execute_result",
          "data": {
            "text/plain": [
              "                                  rank_1                           rank_2  \\\n",
              "document                                                                    \n",
              "0          14_order_return_size (0.7578)    11_color_black_white (0.1328)   \n",
              "1           12_watch_band_wrist (0.5078)  9_love_comfortable_fit (0.3828)   \n",
              "2          14_order_return_size (0.5625)     12_watch_band_wrist (0.3403)   \n",
              "3         16_product_great_good (0.3542)  8_play_shoe_basketball (0.3542)   \n",
              "4           12_watch_band_wrist (0.7847)    11_color_black_white (0.1181)   \n",
              "\n",
              "                                    rank_3  \\\n",
              "document                                     \n",
              "0         16_product_great_good (0.007812)   \n",
              "1         16_product_great_good (0.007812)   \n",
              "2         16_product_great_good (0.006944)   \n",
              "3               15_bag_shirt_gym (0.02083)   \n",
              "4         16_product_great_good (0.006944)   \n",
              "\n",
              "                                                       text  \n",
              "document                                                     \n",
              "0         the colour i received is not blue as shown but...  \n",
              "1         Very cute and is really practical. Fits better...  \n",
              "2         The watch was exactly what i ordered and I got...  \n",
              "3         This product came promptly and as described, p...  \n",
              "4         Why isn't Nike making these anymore?  I love t...  "
            ],
            "text/html": [
              "\n",
              "  <div id=\"df-9d15af1e-e4ae-470c-9fcd-30881b564123\" class=\"colab-df-container\">\n",
              "    <div>\n",
              "<style scoped>\n",
              "    .dataframe tbody tr th:only-of-type {\n",
              "        vertical-align: middle;\n",
              "    }\n",
              "\n",
              "    .dataframe tbody tr th {\n",
              "        vertical-align: top;\n",
              "    }\n",
              "\n",
              "    .dataframe thead th {\n",
              "        text-align: right;\n",
              "    }\n",
              "</style>\n",
              "<table border=\"1\" class=\"dataframe\">\n",
              "  <thead>\n",
              "    <tr style=\"text-align: right;\">\n",
              "      <th></th>\n",
              "      <th>rank_1</th>\n",
              "      <th>rank_2</th>\n",
              "      <th>rank_3</th>\n",
              "      <th>text</th>\n",
              "    </tr>\n",
              "    <tr>\n",
              "      <th>document</th>\n",
              "      <th></th>\n",
              "      <th></th>\n",
              "      <th></th>\n",
              "      <th></th>\n",
              "    </tr>\n",
              "  </thead>\n",
              "  <tbody>\n",
              "    <tr>\n",
              "      <th>0</th>\n",
              "      <td>14_order_return_size (0.7578)</td>\n",
              "      <td>11_color_black_white (0.1328)</td>\n",
              "      <td>16_product_great_good (0.007812)</td>\n",
              "      <td>the colour i received is not blue as shown but...</td>\n",
              "    </tr>\n",
              "    <tr>\n",
              "      <th>1</th>\n",
              "      <td>12_watch_band_wrist (0.5078)</td>\n",
              "      <td>9_love_comfortable_fit (0.3828)</td>\n",
              "      <td>16_product_great_good (0.007812)</td>\n",
              "      <td>Very cute and is really practical. Fits better...</td>\n",
              "    </tr>\n",
              "    <tr>\n",
              "      <th>2</th>\n",
              "      <td>14_order_return_size (0.5625)</td>\n",
              "      <td>12_watch_band_wrist (0.3403)</td>\n",
              "      <td>16_product_great_good (0.006944)</td>\n",
              "      <td>The watch was exactly what i ordered and I got...</td>\n",
              "    </tr>\n",
              "    <tr>\n",
              "      <th>3</th>\n",
              "      <td>16_product_great_good (0.3542)</td>\n",
              "      <td>8_play_shoe_basketball (0.3542)</td>\n",
              "      <td>15_bag_shirt_gym (0.02083)</td>\n",
              "      <td>This product came promptly and as described, p...</td>\n",
              "    </tr>\n",
              "    <tr>\n",
              "      <th>4</th>\n",
              "      <td>12_watch_band_wrist (0.7847)</td>\n",
              "      <td>11_color_black_white (0.1181)</td>\n",
              "      <td>16_product_great_good (0.006944)</td>\n",
              "      <td>Why isn't Nike making these anymore?  I love t...</td>\n",
              "    </tr>\n",
              "  </tbody>\n",
              "</table>\n",
              "</div>\n",
              "    <div class=\"colab-df-buttons\">\n",
              "\n",
              "  <div class=\"colab-df-container\">\n",
              "    <button class=\"colab-df-convert\" onclick=\"convertToInteractive('df-9d15af1e-e4ae-470c-9fcd-30881b564123')\"\n",
              "            title=\"Convert this dataframe to an interactive table.\"\n",
              "            style=\"display:none;\">\n",
              "\n",
              "  <svg xmlns=\"http://www.w3.org/2000/svg\" height=\"24px\" viewBox=\"0 -960 960 960\">\n",
              "    <path d=\"M120-120v-720h720v720H120Zm60-500h600v-160H180v160Zm220 220h160v-160H400v160Zm0 220h160v-160H400v160ZM180-400h160v-160H180v160Zm440 0h160v-160H620v160ZM180-180h160v-160H180v160Zm440 0h160v-160H620v160Z\"/>\n",
              "  </svg>\n",
              "    </button>\n",
              "\n",
              "  <style>\n",
              "    .colab-df-container {\n",
              "      display:flex;\n",
              "      gap: 12px;\n",
              "    }\n",
              "\n",
              "    .colab-df-convert {\n",
              "      background-color: #E8F0FE;\n",
              "      border: none;\n",
              "      border-radius: 50%;\n",
              "      cursor: pointer;\n",
              "      display: none;\n",
              "      fill: #1967D2;\n",
              "      height: 32px;\n",
              "      padding: 0 0 0 0;\n",
              "      width: 32px;\n",
              "    }\n",
              "\n",
              "    .colab-df-convert:hover {\n",
              "      background-color: #E2EBFA;\n",
              "      box-shadow: 0px 1px 2px rgba(60, 64, 67, 0.3), 0px 1px 3px 1px rgba(60, 64, 67, 0.15);\n",
              "      fill: #174EA6;\n",
              "    }\n",
              "\n",
              "    .colab-df-buttons div {\n",
              "      margin-bottom: 4px;\n",
              "    }\n",
              "\n",
              "    [theme=dark] .colab-df-convert {\n",
              "      background-color: #3B4455;\n",
              "      fill: #D2E3FC;\n",
              "    }\n",
              "\n",
              "    [theme=dark] .colab-df-convert:hover {\n",
              "      background-color: #434B5C;\n",
              "      box-shadow: 0px 1px 3px 1px rgba(0, 0, 0, 0.15);\n",
              "      filter: drop-shadow(0px 1px 2px rgba(0, 0, 0, 0.3));\n",
              "      fill: #FFFFFF;\n",
              "    }\n",
              "  </style>\n",
              "\n",
              "    <script>\n",
              "      const buttonEl =\n",
              "        document.querySelector('#df-9d15af1e-e4ae-470c-9fcd-30881b564123 button.colab-df-convert');\n",
              "      buttonEl.style.display =\n",
              "        google.colab.kernel.accessAllowed ? 'block' : 'none';\n",
              "\n",
              "      async function convertToInteractive(key) {\n",
              "        const element = document.querySelector('#df-9d15af1e-e4ae-470c-9fcd-30881b564123');\n",
              "        const dataTable =\n",
              "          await google.colab.kernel.invokeFunction('convertToInteractive',\n",
              "                                                    [key], {});\n",
              "        if (!dataTable) return;\n",
              "\n",
              "        const docLinkHtml = 'Like what you see? Visit the ' +\n",
              "          '<a target=\"_blank\" href=https://colab.research.google.com/notebooks/data_table.ipynb>data table notebook</a>'\n",
              "          + ' to learn more about interactive tables.';\n",
              "        element.innerHTML = '';\n",
              "        dataTable['output_type'] = 'display_data';\n",
              "        await google.colab.output.renderOutput(dataTable, element);\n",
              "        const docLink = document.createElement('div');\n",
              "        docLink.innerHTML = docLinkHtml;\n",
              "        element.appendChild(docLink);\n",
              "      }\n",
              "    </script>\n",
              "  </div>\n",
              "\n",
              "\n",
              "<div id=\"df-01a8152d-4244-4a9f-b97d-b75bb497cd3d\">\n",
              "  <button class=\"colab-df-quickchart\" onclick=\"quickchart('df-01a8152d-4244-4a9f-b97d-b75bb497cd3d')\"\n",
              "            title=\"Suggest charts.\"\n",
              "            style=\"display:none;\">\n",
              "\n",
              "<svg xmlns=\"http://www.w3.org/2000/svg\" height=\"24px\"viewBox=\"0 0 24 24\"\n",
              "     width=\"24px\">\n",
              "    <g>\n",
              "        <path d=\"M19 3H5c-1.1 0-2 .9-2 2v14c0 1.1.9 2 2 2h14c1.1 0 2-.9 2-2V5c0-1.1-.9-2-2-2zM9 17H7v-7h2v7zm4 0h-2V7h2v10zm4 0h-2v-4h2v4z\"/>\n",
              "    </g>\n",
              "</svg>\n",
              "  </button>\n",
              "\n",
              "<style>\n",
              "  .colab-df-quickchart {\n",
              "      --bg-color: #E8F0FE;\n",
              "      --fill-color: #1967D2;\n",
              "      --hover-bg-color: #E2EBFA;\n",
              "      --hover-fill-color: #174EA6;\n",
              "      --disabled-fill-color: #AAA;\n",
              "      --disabled-bg-color: #DDD;\n",
              "  }\n",
              "\n",
              "  [theme=dark] .colab-df-quickchart {\n",
              "      --bg-color: #3B4455;\n",
              "      --fill-color: #D2E3FC;\n",
              "      --hover-bg-color: #434B5C;\n",
              "      --hover-fill-color: #FFFFFF;\n",
              "      --disabled-bg-color: #3B4455;\n",
              "      --disabled-fill-color: #666;\n",
              "  }\n",
              "\n",
              "  .colab-df-quickchart {\n",
              "    background-color: var(--bg-color);\n",
              "    border: none;\n",
              "    border-radius: 50%;\n",
              "    cursor: pointer;\n",
              "    display: none;\n",
              "    fill: var(--fill-color);\n",
              "    height: 32px;\n",
              "    padding: 0;\n",
              "    width: 32px;\n",
              "  }\n",
              "\n",
              "  .colab-df-quickchart:hover {\n",
              "    background-color: var(--hover-bg-color);\n",
              "    box-shadow: 0 1px 2px rgba(60, 64, 67, 0.3), 0 1px 3px 1px rgba(60, 64, 67, 0.15);\n",
              "    fill: var(--button-hover-fill-color);\n",
              "  }\n",
              "\n",
              "  .colab-df-quickchart-complete:disabled,\n",
              "  .colab-df-quickchart-complete:disabled:hover {\n",
              "    background-color: var(--disabled-bg-color);\n",
              "    fill: var(--disabled-fill-color);\n",
              "    box-shadow: none;\n",
              "  }\n",
              "\n",
              "  .colab-df-spinner {\n",
              "    border: 2px solid var(--fill-color);\n",
              "    border-color: transparent;\n",
              "    border-bottom-color: var(--fill-color);\n",
              "    animation:\n",
              "      spin 1s steps(1) infinite;\n",
              "  }\n",
              "\n",
              "  @keyframes spin {\n",
              "    0% {\n",
              "      border-color: transparent;\n",
              "      border-bottom-color: var(--fill-color);\n",
              "      border-left-color: var(--fill-color);\n",
              "    }\n",
              "    20% {\n",
              "      border-color: transparent;\n",
              "      border-left-color: var(--fill-color);\n",
              "      border-top-color: var(--fill-color);\n",
              "    }\n",
              "    30% {\n",
              "      border-color: transparent;\n",
              "      border-left-color: var(--fill-color);\n",
              "      border-top-color: var(--fill-color);\n",
              "      border-right-color: var(--fill-color);\n",
              "    }\n",
              "    40% {\n",
              "      border-color: transparent;\n",
              "      border-right-color: var(--fill-color);\n",
              "      border-top-color: var(--fill-color);\n",
              "    }\n",
              "    60% {\n",
              "      border-color: transparent;\n",
              "      border-right-color: var(--fill-color);\n",
              "    }\n",
              "    80% {\n",
              "      border-color: transparent;\n",
              "      border-right-color: var(--fill-color);\n",
              "      border-bottom-color: var(--fill-color);\n",
              "    }\n",
              "    90% {\n",
              "      border-color: transparent;\n",
              "      border-bottom-color: var(--fill-color);\n",
              "    }\n",
              "  }\n",
              "</style>\n",
              "\n",
              "  <script>\n",
              "    async function quickchart(key) {\n",
              "      const quickchartButtonEl =\n",
              "        document.querySelector('#' + key + ' button');\n",
              "      quickchartButtonEl.disabled = true;  // To prevent multiple clicks.\n",
              "      quickchartButtonEl.classList.add('colab-df-spinner');\n",
              "      try {\n",
              "        const charts = await google.colab.kernel.invokeFunction(\n",
              "            'suggestCharts', [key], {});\n",
              "      } catch (error) {\n",
              "        console.error('Error during call to suggestCharts:', error);\n",
              "      }\n",
              "      quickchartButtonEl.classList.remove('colab-df-spinner');\n",
              "      quickchartButtonEl.classList.add('colab-df-quickchart-complete');\n",
              "    }\n",
              "    (() => {\n",
              "      let quickchartButtonEl =\n",
              "        document.querySelector('#df-01a8152d-4244-4a9f-b97d-b75bb497cd3d button');\n",
              "      quickchartButtonEl.style.display =\n",
              "        google.colab.kernel.accessAllowed ? 'block' : 'none';\n",
              "    })();\n",
              "  </script>\n",
              "</div>\n",
              "\n",
              "    </div>\n",
              "  </div>\n"
            ]
          },
          "metadata": {},
          "execution_count": 82
        }
      ]
    },
    {
      "cell_type": "markdown",
      "source": [
        "## Preview Samples from Topic Labels"
      ],
      "metadata": {
        "id": "ibu98y4iFt_W"
      }
    },
    {
      "cell_type": "code",
      "source": [
        "#preview the topic labels for a sample record\n",
        "k = 91\n",
        "documentclassifications.loc[k]"
      ],
      "metadata": {
        "id": "tfsjCEHBEsRt",
        "colab": {
          "base_uri": "https://localhost:8080/"
        },
        "outputId": "b7b04d41-1649-4e64-fb47-4a9588c54d79"
      },
      "execution_count": 86,
      "outputs": [
        {
          "output_type": "execute_result",
          "data": {
            "text/plain": [
              "rank_1                         12_watch_band_wrist (0.3924)\n",
              "rank_2                            6_price_good_buy (0.2812)\n",
              "rank_3                       16_product_great_good (0.2257)\n",
              "text      These watch has bought for its girlfriend. Suc...\n",
              "Name: 91, dtype: object"
            ]
          },
          "metadata": {},
          "execution_count": 86
        }
      ]
    },
    {
      "cell_type": "code",
      "source": [
        "#preview the full text for the sample record\n",
        "documentclassifications.loc[k]['text']"
      ],
      "metadata": {
        "id": "BSNluClxE5Yo",
        "colab": {
          "base_uri": "https://localhost:8080/",
          "height": 104
        },
        "outputId": "ffc2e0b4-2ee6-474d-ecd5-b404b58016cf"
      },
      "execution_count": 87,
      "outputs": [
        {
          "output_type": "execute_result",
          "data": {
            "text/plain": [
              "'These watch has bought for its girlfriend. Such accessory not to find in Russia, Alas Nike does not trade. When she has got and parcel of land, they seemed very small and on baby hand. But each woman paid attention to her hand and I caughted the glances of the mans on her hand. The Product perfect, reliable, stylish. The Price funny, quality excellent. Will Suit for any young girl, which concerns with the sport and active rest. You may be calm for her watch and beauty.Alex'"
            ],
            "application/vnd.google.colaboratory.intrinsic+json": {
              "type": "string"
            }
          },
          "metadata": {},
          "execution_count": 87
        }
      ]
    },
    {
      "cell_type": "code",
      "source": [
        "#lookup where reviews talk about battery issues\n",
        "print('Results:')\n",
        "lookup = documentclassifications[documentclassifications['text'].str.contains('battery')]\n",
        "lookup.head()"
      ],
      "metadata": {
        "id": "-5KNzpDHFFt0",
        "colab": {
          "base_uri": "https://localhost:8080/",
          "height": 359
        },
        "outputId": "95f29c66-b254-4e6e-8a80-df8b55746b8b"
      },
      "execution_count": 88,
      "outputs": [
        {
          "output_type": "stream",
          "name": "stdout",
          "text": [
            "Results:\n"
          ]
        },
        {
          "output_type": "execute_result",
          "data": {
            "text/plain": [
              "                                  rank_1                            rank_2  \\\n",
              "document                                                                     \n",
              "9               2_love_son_gift (0.6062)      12_watch_band_wrist (0.3063)   \n",
              "13          12_watch_band_wrist (0.7898)      13_sock_sandal_foot (0.1534)   \n",
              "15        16_product_great_good (0.4602)      12_watch_band_wrist (0.2784)   \n",
              "31          12_watch_band_wrist (0.6114)         6_price_good_buy (0.2201)   \n",
              "34          12_watch_band_wrist (0.9414)  16_product_great_good (0.003906)   \n",
              "\n",
              "                                   rank_3  \\\n",
              "document                                    \n",
              "9         16_product_great_good (0.00625)   \n",
              "13               2_love_son_gift (0.0322)   \n",
              "15               2_love_son_gift (0.1875)   \n",
              "31          10_size_small_order (0.08967)   \n",
              "34            15_bag_shirt_gym (0.003906)   \n",
              "\n",
              "                                                       text  \n",
              "document                                                     \n",
              "9         when it arrived, it had a dead battery--SO, I ...  \n",
              "13        I have used a similar watch (Arctic Blue) for ...  \n",
              "15        I've had several of these watches in various c...  \n",
              "31        I had this watch for exactly 12 DAYS, exactly....  \n",
              "34        I'm on my 4th watch... I keep returning it due...  "
            ],
            "text/html": [
              "\n",
              "  <div id=\"df-0dfa9d2e-e28e-4921-869c-8099d3ba6dca\" class=\"colab-df-container\">\n",
              "    <div>\n",
              "<style scoped>\n",
              "    .dataframe tbody tr th:only-of-type {\n",
              "        vertical-align: middle;\n",
              "    }\n",
              "\n",
              "    .dataframe tbody tr th {\n",
              "        vertical-align: top;\n",
              "    }\n",
              "\n",
              "    .dataframe thead th {\n",
              "        text-align: right;\n",
              "    }\n",
              "</style>\n",
              "<table border=\"1\" class=\"dataframe\">\n",
              "  <thead>\n",
              "    <tr style=\"text-align: right;\">\n",
              "      <th></th>\n",
              "      <th>rank_1</th>\n",
              "      <th>rank_2</th>\n",
              "      <th>rank_3</th>\n",
              "      <th>text</th>\n",
              "    </tr>\n",
              "    <tr>\n",
              "      <th>document</th>\n",
              "      <th></th>\n",
              "      <th></th>\n",
              "      <th></th>\n",
              "      <th></th>\n",
              "    </tr>\n",
              "  </thead>\n",
              "  <tbody>\n",
              "    <tr>\n",
              "      <th>9</th>\n",
              "      <td>2_love_son_gift (0.6062)</td>\n",
              "      <td>12_watch_band_wrist (0.3063)</td>\n",
              "      <td>16_product_great_good (0.00625)</td>\n",
              "      <td>when it arrived, it had a dead battery--SO, I ...</td>\n",
              "    </tr>\n",
              "    <tr>\n",
              "      <th>13</th>\n",
              "      <td>12_watch_band_wrist (0.7898)</td>\n",
              "      <td>13_sock_sandal_foot (0.1534)</td>\n",
              "      <td>2_love_son_gift (0.0322)</td>\n",
              "      <td>I have used a similar watch (Arctic Blue) for ...</td>\n",
              "    </tr>\n",
              "    <tr>\n",
              "      <th>15</th>\n",
              "      <td>16_product_great_good (0.4602)</td>\n",
              "      <td>12_watch_band_wrist (0.2784)</td>\n",
              "      <td>2_love_son_gift (0.1875)</td>\n",
              "      <td>I've had several of these watches in various c...</td>\n",
              "    </tr>\n",
              "    <tr>\n",
              "      <th>31</th>\n",
              "      <td>12_watch_band_wrist (0.6114)</td>\n",
              "      <td>6_price_good_buy (0.2201)</td>\n",
              "      <td>10_size_small_order (0.08967)</td>\n",
              "      <td>I had this watch for exactly 12 DAYS, exactly....</td>\n",
              "    </tr>\n",
              "    <tr>\n",
              "      <th>34</th>\n",
              "      <td>12_watch_band_wrist (0.9414)</td>\n",
              "      <td>16_product_great_good (0.003906)</td>\n",
              "      <td>15_bag_shirt_gym (0.003906)</td>\n",
              "      <td>I'm on my 4th watch... I keep returning it due...</td>\n",
              "    </tr>\n",
              "  </tbody>\n",
              "</table>\n",
              "</div>\n",
              "    <div class=\"colab-df-buttons\">\n",
              "\n",
              "  <div class=\"colab-df-container\">\n",
              "    <button class=\"colab-df-convert\" onclick=\"convertToInteractive('df-0dfa9d2e-e28e-4921-869c-8099d3ba6dca')\"\n",
              "            title=\"Convert this dataframe to an interactive table.\"\n",
              "            style=\"display:none;\">\n",
              "\n",
              "  <svg xmlns=\"http://www.w3.org/2000/svg\" height=\"24px\" viewBox=\"0 -960 960 960\">\n",
              "    <path d=\"M120-120v-720h720v720H120Zm60-500h600v-160H180v160Zm220 220h160v-160H400v160Zm0 220h160v-160H400v160ZM180-400h160v-160H180v160Zm440 0h160v-160H620v160ZM180-180h160v-160H180v160Zm440 0h160v-160H620v160Z\"/>\n",
              "  </svg>\n",
              "    </button>\n",
              "\n",
              "  <style>\n",
              "    .colab-df-container {\n",
              "      display:flex;\n",
              "      gap: 12px;\n",
              "    }\n",
              "\n",
              "    .colab-df-convert {\n",
              "      background-color: #E8F0FE;\n",
              "      border: none;\n",
              "      border-radius: 50%;\n",
              "      cursor: pointer;\n",
              "      display: none;\n",
              "      fill: #1967D2;\n",
              "      height: 32px;\n",
              "      padding: 0 0 0 0;\n",
              "      width: 32px;\n",
              "    }\n",
              "\n",
              "    .colab-df-convert:hover {\n",
              "      background-color: #E2EBFA;\n",
              "      box-shadow: 0px 1px 2px rgba(60, 64, 67, 0.3), 0px 1px 3px 1px rgba(60, 64, 67, 0.15);\n",
              "      fill: #174EA6;\n",
              "    }\n",
              "\n",
              "    .colab-df-buttons div {\n",
              "      margin-bottom: 4px;\n",
              "    }\n",
              "\n",
              "    [theme=dark] .colab-df-convert {\n",
              "      background-color: #3B4455;\n",
              "      fill: #D2E3FC;\n",
              "    }\n",
              "\n",
              "    [theme=dark] .colab-df-convert:hover {\n",
              "      background-color: #434B5C;\n",
              "      box-shadow: 0px 1px 3px 1px rgba(0, 0, 0, 0.15);\n",
              "      filter: drop-shadow(0px 1px 2px rgba(0, 0, 0, 0.3));\n",
              "      fill: #FFFFFF;\n",
              "    }\n",
              "  </style>\n",
              "\n",
              "    <script>\n",
              "      const buttonEl =\n",
              "        document.querySelector('#df-0dfa9d2e-e28e-4921-869c-8099d3ba6dca button.colab-df-convert');\n",
              "      buttonEl.style.display =\n",
              "        google.colab.kernel.accessAllowed ? 'block' : 'none';\n",
              "\n",
              "      async function convertToInteractive(key) {\n",
              "        const element = document.querySelector('#df-0dfa9d2e-e28e-4921-869c-8099d3ba6dca');\n",
              "        const dataTable =\n",
              "          await google.colab.kernel.invokeFunction('convertToInteractive',\n",
              "                                                    [key], {});\n",
              "        if (!dataTable) return;\n",
              "\n",
              "        const docLinkHtml = 'Like what you see? Visit the ' +\n",
              "          '<a target=\"_blank\" href=https://colab.research.google.com/notebooks/data_table.ipynb>data table notebook</a>'\n",
              "          + ' to learn more about interactive tables.';\n",
              "        element.innerHTML = '';\n",
              "        dataTable['output_type'] = 'display_data';\n",
              "        await google.colab.output.renderOutput(dataTable, element);\n",
              "        const docLink = document.createElement('div');\n",
              "        docLink.innerHTML = docLinkHtml;\n",
              "        element.appendChild(docLink);\n",
              "      }\n",
              "    </script>\n",
              "  </div>\n",
              "\n",
              "\n",
              "<div id=\"df-28a8aab5-a2d4-446f-99c9-fddb58d080d8\">\n",
              "  <button class=\"colab-df-quickchart\" onclick=\"quickchart('df-28a8aab5-a2d4-446f-99c9-fddb58d080d8')\"\n",
              "            title=\"Suggest charts.\"\n",
              "            style=\"display:none;\">\n",
              "\n",
              "<svg xmlns=\"http://www.w3.org/2000/svg\" height=\"24px\"viewBox=\"0 0 24 24\"\n",
              "     width=\"24px\">\n",
              "    <g>\n",
              "        <path d=\"M19 3H5c-1.1 0-2 .9-2 2v14c0 1.1.9 2 2 2h14c1.1 0 2-.9 2-2V5c0-1.1-.9-2-2-2zM9 17H7v-7h2v7zm4 0h-2V7h2v10zm4 0h-2v-4h2v4z\"/>\n",
              "    </g>\n",
              "</svg>\n",
              "  </button>\n",
              "\n",
              "<style>\n",
              "  .colab-df-quickchart {\n",
              "      --bg-color: #E8F0FE;\n",
              "      --fill-color: #1967D2;\n",
              "      --hover-bg-color: #E2EBFA;\n",
              "      --hover-fill-color: #174EA6;\n",
              "      --disabled-fill-color: #AAA;\n",
              "      --disabled-bg-color: #DDD;\n",
              "  }\n",
              "\n",
              "  [theme=dark] .colab-df-quickchart {\n",
              "      --bg-color: #3B4455;\n",
              "      --fill-color: #D2E3FC;\n",
              "      --hover-bg-color: #434B5C;\n",
              "      --hover-fill-color: #FFFFFF;\n",
              "      --disabled-bg-color: #3B4455;\n",
              "      --disabled-fill-color: #666;\n",
              "  }\n",
              "\n",
              "  .colab-df-quickchart {\n",
              "    background-color: var(--bg-color);\n",
              "    border: none;\n",
              "    border-radius: 50%;\n",
              "    cursor: pointer;\n",
              "    display: none;\n",
              "    fill: var(--fill-color);\n",
              "    height: 32px;\n",
              "    padding: 0;\n",
              "    width: 32px;\n",
              "  }\n",
              "\n",
              "  .colab-df-quickchart:hover {\n",
              "    background-color: var(--hover-bg-color);\n",
              "    box-shadow: 0 1px 2px rgba(60, 64, 67, 0.3), 0 1px 3px 1px rgba(60, 64, 67, 0.15);\n",
              "    fill: var(--button-hover-fill-color);\n",
              "  }\n",
              "\n",
              "  .colab-df-quickchart-complete:disabled,\n",
              "  .colab-df-quickchart-complete:disabled:hover {\n",
              "    background-color: var(--disabled-bg-color);\n",
              "    fill: var(--disabled-fill-color);\n",
              "    box-shadow: none;\n",
              "  }\n",
              "\n",
              "  .colab-df-spinner {\n",
              "    border: 2px solid var(--fill-color);\n",
              "    border-color: transparent;\n",
              "    border-bottom-color: var(--fill-color);\n",
              "    animation:\n",
              "      spin 1s steps(1) infinite;\n",
              "  }\n",
              "\n",
              "  @keyframes spin {\n",
              "    0% {\n",
              "      border-color: transparent;\n",
              "      border-bottom-color: var(--fill-color);\n",
              "      border-left-color: var(--fill-color);\n",
              "    }\n",
              "    20% {\n",
              "      border-color: transparent;\n",
              "      border-left-color: var(--fill-color);\n",
              "      border-top-color: var(--fill-color);\n",
              "    }\n",
              "    30% {\n",
              "      border-color: transparent;\n",
              "      border-left-color: var(--fill-color);\n",
              "      border-top-color: var(--fill-color);\n",
              "      border-right-color: var(--fill-color);\n",
              "    }\n",
              "    40% {\n",
              "      border-color: transparent;\n",
              "      border-right-color: var(--fill-color);\n",
              "      border-top-color: var(--fill-color);\n",
              "    }\n",
              "    60% {\n",
              "      border-color: transparent;\n",
              "      border-right-color: var(--fill-color);\n",
              "    }\n",
              "    80% {\n",
              "      border-color: transparent;\n",
              "      border-right-color: var(--fill-color);\n",
              "      border-bottom-color: var(--fill-color);\n",
              "    }\n",
              "    90% {\n",
              "      border-color: transparent;\n",
              "      border-bottom-color: var(--fill-color);\n",
              "    }\n",
              "  }\n",
              "</style>\n",
              "\n",
              "  <script>\n",
              "    async function quickchart(key) {\n",
              "      const quickchartButtonEl =\n",
              "        document.querySelector('#' + key + ' button');\n",
              "      quickchartButtonEl.disabled = true;  // To prevent multiple clicks.\n",
              "      quickchartButtonEl.classList.add('colab-df-spinner');\n",
              "      try {\n",
              "        const charts = await google.colab.kernel.invokeFunction(\n",
              "            'suggestCharts', [key], {});\n",
              "      } catch (error) {\n",
              "        console.error('Error during call to suggestCharts:', error);\n",
              "      }\n",
              "      quickchartButtonEl.classList.remove('colab-df-spinner');\n",
              "      quickchartButtonEl.classList.add('colab-df-quickchart-complete');\n",
              "    }\n",
              "    (() => {\n",
              "      let quickchartButtonEl =\n",
              "        document.querySelector('#df-28a8aab5-a2d4-446f-99c9-fddb58d080d8 button');\n",
              "      quickchartButtonEl.style.display =\n",
              "        google.colab.kernel.accessAllowed ? 'block' : 'none';\n",
              "    })();\n",
              "  </script>\n",
              "</div>\n",
              "\n",
              "    </div>\n",
              "  </div>\n"
            ]
          },
          "metadata": {},
          "execution_count": 88
        }
      ]
    },
    {
      "cell_type": "markdown",
      "source": [
        "## Export the Topic Labels to Excel"
      ],
      "metadata": {
        "id": "oIxjqN3IFyak"
      }
    },
    {
      "cell_type": "code",
      "source": [
        "#export the topic classification data to excel\n",
        "topic_excel_path = '%s/topics.documentclassification.xlsx' % DATA_DIR\n",
        "documentclassifications.to_excel(topic_excel_path)"
      ],
      "metadata": {
        "id": "wJjnTyC3FMWP"
      },
      "execution_count": 89,
      "outputs": []
    },
    {
      "cell_type": "markdown",
      "source": [
        "## Visualize the Topics"
      ],
      "metadata": {
        "id": "J1ZSDm-GFpZK"
      }
    },
    {
      "cell_type": "code",
      "source": [
        "#create parameters for ldavis\n",
        "ldavis_params = parameters_for_ldavis(model_main.topic_word_,\n",
        "                                      model_main.doc_topic_,\n",
        "                                      dtm_main,\n",
        "                                      vocab_main)"
      ],
      "metadata": {
        "id": "xO5ry-ZzF1Fj"
      },
      "execution_count": 90,
      "outputs": []
    },
    {
      "cell_type": "code",
      "source": [
        "%matplotlib inline\n",
        "vis = pyLDAvis.prepare(**ldavis_params)\n",
        "pyLDAvis.enable_notebook(local=True)\n",
        "pyLDAvis.display(vis)"
      ],
      "metadata": {
        "id": "Wl_bL4G1F1MD",
        "colab": {
          "base_uri": "https://localhost:8080/",
          "height": 881
        },
        "outputId": "8a1e1fe4-6864-4a07-a771-d4740fbac559"
      },
      "execution_count": 91,
      "outputs": [
        {
          "output_type": "execute_result",
          "data": {
            "text/plain": [
              "<IPython.core.display.HTML object>"
            ],
            "text/html": [
              "\n",
              "<link rel=\"stylesheet\" type=\"text/css\" href=\"https://cdn.rawgit.com/bmabey/pyLDAvis/files/ldavis.v1.0.0.css\">\n",
              "\n",
              "\n",
              "<div id=\"ldavis_el715601394696060993606516717621\"></div>\n",
              "<script type=\"text/javascript\">\n",
              "\n",
              "var ldavis_el715601394696060993606516717621_data = {\"mdsDat\": {\"x\": [0.20390845201067603, -0.19060025298368302, 0.028004872756792202, 0.11298283745397587, 0.1949150498727158, -0.08486969448136769, 0.017606158027768954, -0.008553667269327792, -0.07424139706982687, 0.07405690574514819, -0.10916691588245993, 0.1014699367087885, 0.09627376078243773, -0.07183251057644889, -0.05946469576045435, -0.23048883933473463], \"y\": [-0.0672280641231272, 0.007840780464770127, -0.20650872706510132, 0.1724135737136159, -0.01410386583098795, 0.11204531896259133, 0.006654558879097438, -0.07348632843094771, -0.17855867109106385, 0.04726184069073186, -0.04424190427629263, 0.09678555418693241, -0.05484671516207491, 0.2792845859622729, -0.0716195742287449, -0.011692362651671333], \"topics\": [1, 2, 3, 4, 5, 6, 7, 8, 9, 10, 11, 12, 13, 14, 15, 16], \"cluster\": [1, 1, 1, 1, 1, 1, 1, 1, 1, 1, 1, 1, 1, 1, 1, 1], \"Freq\": [8.267931189445042, 5.223865041903031, 6.273501586915077, 7.298279335849829, 8.370267864285873, 5.2982247403524765, 6.665752409855682, 5.461324371884475, 5.788416143243593, 7.392473147947065, 5.881170623030039, 6.8493963095060435, 5.711457031811481, 5.6496705964677485, 4.47709801537546, 5.3911715921270815]}, \"tinfo\": {\"Term\": [\"size\", \"watch\", \"shoe\", \"foot\", \"color\", \"sock\", \"love\", \"run\", \"order\", \"good\", \"small\", \"fit\", \"great\", \"son\", \"product\", \"wear\", \"pair\", \"bag\", \"play\", \"comfortable\", \"price\", \"air\", \"light\", \"quality\", \"nike\", \"support\", \"year\", \"black\", \"big\", \"sandal\", \"area\", \"arch\", \"toe\", \"heel\", \"narrow\", \"cushioning\", \"cushion\", \"support\", \"lace\", \"room\", \"uncomfortable\", \"thin\", \"sole\", \"provide\", \"ankle\", \"extra\", \"high\", \"ball\", \"heavy\", \"foot\", \"box\", \"snug\", \"help\", \"pain\", \"bit\", \"tight\", \"soft\", \"design\", \"model\", \"mile\", \"little\", \"run\", \"feel\", \"running\", \"shoe\", \"try\", \"light\", \"need\", \"nike\", \"great\", \"good\", \"fit\", \"look\", \"wear\", \"like\", \"comfortable\", \"walk\", \"christmas\", \"gift\", \"daughter\", \"school\", \"son\", \"husband\", \"old\", \"say\", \"ask\", \"friend\", \"pleased\", \"wife\", \"happy\", \"love\", \"kid\", \"thank\", \"arrive\", \"year\", \"enjoy\", \"man\", \"match\", \"get\", \"buy\", \"person\", \"receive\", \"compliment\", \"purchase\", \"glad\", \"want\", \"tell\", \"see\", \"perfect\", \"give\", \"wear\", \"fit\", \"great\", \"day\", \"pair\", \"shoe\", \"color\", \"comfortable\", \"look\", \"order\", \"like\", \"time\", \"training\", \"workout\", \"running\", \"lightweight\", \"runner\", \"weight\", \"casual\", \"light\", \"support\", \"cushioning\", \"provide\", \"run\", \"gym\", \"job\", \"comfort\", \"feel\", \"recommend\", \"great\", \"excellent\", \"good\", \"heavy\", \"walk\", \"use\", \"comfortable\", \"amazing\", \"people\", \"durable\", \"shoe\", \"stylish\", \"awesome\", \"look\", \"fit\", \"nice\", \"love\", \"perfect\", \"price\", \"work\", \"color\", \"nike\", \"like\", \"foot\", \"wear\", \"sell\", \"spend\", \"tell\", \"people\", \"see\", \"money\", \"know\", \"wife\", \"mean\", \"start\", \"stop\", \"reason\", \"man\", \"real\", \"pay\", \"line\", \"bad\", \"decide\", \"worth\", \"fall\", \"star\", \"review\", \"take\", \"place\", \"store\", \"fact\", \"fan\", \"go\", \"deal\", \"thing\", \"think\", \"give\", \"problem\", \"shoe\", \"month\", \"get\", \"nike\", \"pair\", \"say\", \"buy\", \"come\", \"try\", \"year\", \"price\", \"wear\", \"time\", \"purchase\", \"foot\", \"look\", \"feel\", \"want\", \"good\", \"hurt\", \"pain\", \"stand\", \"boot\", \"mile\", \"hour\", \"day\", \"week\", \"walk\", \"start\", \"work\", \"have\", \"heel\", \"job\", \"arch\", \"couple\", \"foot\", \"long\", \"issue\", \"month\", \"heavy\", \"runner\", \"uncomfortable\", \"end\", \"workout\", \"run\", \"support\", \"bad\", \"break\", \"help\", \"wear\", \"try\", \"use\", \"feel\", \"shoe\", \"pair\", \"comfortable\", \"time\", \"running\", \"buy\", \"find\", \"nike\", \"year\", \"good\", \"go\", \"love\", \"great\", \"cheap\", \"worth\", \"expensive\", \"money\", \"price\", \"leather\", \"quality\", \"brand\", \"spend\", \"last\", \"store\", \"sneaker\", \"well\", \"pay\", \"glad\", \"fall\", \"low\", \"deal\", \"one\", \"real\", \"high\", \"kid\", \"material\", \"product\", \"durable\", \"amazon\", \"line\", \"satisfied\", \"see\", \"find\", \"good\", \"son\", \"buy\", \"nike\", \"year\", \"look\", \"nice\", \"purchase\", \"think\", \"want\", \"pair\", \"great\", \"comfortable\", \"time\", \"love\", \"wear\", \"get\", \"fit\", \"max\", \"air\", \"model\", \"favorite\", \"own\", \"one\", \"pair\", \"fan\", \"replace\", \"last\", \"year\", \"style\", \"new\", \"comfort\", \"brand\", \"nike\", \"glad\", \"white\", \"black\", \"find\", \"old\", \"different\", \"line\", \"tennis\", \"enjoy\", \"summer\", \"stylish\", \"design\", \"casual\", \"make\", \"purchase\", \"wear\", \"buy\", \"comfortable\", \"shoe\", \"love\", \"color\", \"sneaker\", \"like\", \"look\", \"good\", \"time\", \"great\", \"fit\", \"run\", \"play\", \"basketball\", \"soccer\", \"tennis\", \"ball\", \"leather\", \"ankle\", \"boot\", \"enjoy\", \"sport\", \"school\", \"kid\", \"lace\", \"low\", \"durable\", \"break\", \"casual\", \"daughter\", \"month\", \"slide\", \"couple\", \"high\", \"amazing\", \"week\", \"recommend\", \"good\", \"last\", \"sole\", \"friend\", \"son\", \"shoe\", \"wear\", \"great\", \"comfortable\", \"look\", \"nice\", \"fit\", \"buy\", \"feel\", \"like\", \"pair\", \"time\", \"support\", \"love\", \"light\", \"quality\", \"come\", \"use\", \"super\", \"true\", \"cute\", \"comfy\", \"weight\", \"compliment\", \"light\", \"stylish\", \"summer\", \"bright\", \"color\", \"awesome\", \"lightweight\", \"sneaker\", \"beautiful\", \"favorite\", \"comfortable\", \"perfect\", \"casual\", \"love\", \"fit\", \"different\", \"clean\", \"recommend\", \"own\", \"great\", \"amazing\", \"easy\", \"running\", \"training\", \"size\", \"nice\", \"wear\", \"shoe\", \"look\", \"buy\", \"pair\", \"run\", \"happy\", \"walk\", \"purchase\", \"work\", \"nike\", \"foot\", \"feel\", \"half\", \"small\", \"large\", \"size\", \"normal\", \"big\", \"woman\", \"order\", \"tight\", \"snug\", \"man\", \"narrow\", \"true\", \"bit\", \"regular\", \"return\", \"little\", \"room\", \"sure\", \"review\", \"run\", \"fine\", \"cute\", \"read\", \"uncomfortable\", \"end\", \"wish\", \"know\", \"try\", \"fit\", \"toe\", \"wear\", \"shoe\", \"get\", \"foot\", \"nike\", \"buy\", \"think\", \"love\", \"need\", \"comfortable\", \"like\", \"perfect\", \"blue\", \"red\", \"white\", \"black\", \"bright\", \"picture\", \"match\", \"color\", \"clean\", \"show\", \"person\", \"different\", \"compliment\", \"wish\", \"lace\", \"beautiful\", \"wrong\", \"one\", \"cool\", \"stand\", \"awesome\", \"amazing\", \"complaint\", \"look\", \"come\", \"style\", \"ask\", \"super\", \"like\", \"receive\", \"sneaker\", \"nice\", \"get\", \"love\", \"shoe\", \"want\", \"great\", \"fit\", \"comfortable\", \"pair\", \"buy\", \"nike\", \"think\", \"expect\", \"lot\", \"watch\", \"band\", \"wrist\", \"face\", \"feature\", \"set\", \"read\", \"replace\", \"strap\", \"easy\", \"water\", \"turn\", \"stop\", \"change\", \"break\", \"sport\", \"woman\", \"use\", \"take\", \"keep\", \"time\", \"fall\", \"end\", \"design\", \"work\", \"complaint\", \"fact\", \"workout\", \"model\", \"stay\", \"month\", \"large\", \"thing\", \"year\", \"like\", \"nike\", \"look\", \"need\", \"big\", \"buy\", \"great\", \"find\", \"think\", \"wear\", \"light\", \"run\", \"good\", \"nice\", \"love\", \"get\", \"sandal\", \"sock\", \"slide\", \"dry\", \"stay\", \"summer\", \"thin\", \"tight\", \"soft\", \"strap\", \"snug\", \"keep\", \"foot\", \"mean\", \"water\", \"cushion\", \"right\", \"regular\", \"comfy\", \"wear\", \"uncomfortable\", \"place\", \"clean\", \"sport\", \"bit\", \"extra\", \"material\", \"feel\", \"help\", \"area\", \"fit\", \"little\", \"comfortable\", \"good\", \"work\", \"day\", \"walk\", \"great\", \"buy\", \"pair\", \"like\", \"size\", \"look\", \"nike\", \"recommend\", \"love\", \"time\", \"nice\", \"need\", \"ship\", \"seller\", \"send\", \"shipping\", \"item\", \"return\", \"receive\", \"service\", \"amazon\", \"pay\", \"wait\", \"wrong\", \"order\", \"box\", \"arrive\", \"sell\", \"quick\", \"delivery\", \"place\", \"store\", \"real\", \"review\", \"deal\", \"star\", \"want\", \"picture\", \"find\", \"glad\", \"able\", \"decide\", \"come\", \"right\", \"product\", \"size\", \"know\", \"purchase\", \"shoe\", \"happy\", \"day\", \"week\", \"try\", \"time\", \"price\", \"get\", \"buy\", \"pair\", \"look\", \"bag\", \"shirt\", \"gym\", \"short\", \"room\", \"water\", \"hold\", \"material\", \"strap\", \"extra\", \"item\", \"dry\", \"use\", \"durable\", \"keep\", \"perfect\", \"thin\", \"sport\", \"change\", \"clean\", \"fan\", \"need\", \"big\", \"expect\", \"small\", \"nice\", \"quality\", \"thing\", \"long\", \"type\", \"large\", \"fit\", \"little\", \"good\", \"like\", \"work\", \"great\", \"look\", \"size\", \"love\", \"color\", \"bit\", \"nike\", \"lot\", \"go\", \"buy\", \"fast\", \"delivery\", \"satisfied\", \"thank\", \"condition\", \"service\", \"product\", \"excellent\", \"arrive\", \"shipping\", \"quality\", \"quick\", \"seller\", \"pleased\", \"expect\", \"beautiful\", \"happy\", \"price\", \"gift\", \"show\", \"item\", \"deal\", \"recommend\", \"perfect\", \"ship\", \"picture\", \"friend\", \"wife\", \"good\", \"wait\", \"great\", \"purchase\", \"fit\", \"time\", \"nice\", \"love\", \"color\", \"shoe\", \"look\", \"nike\", \"comfortable\", \"buy\", \"size\"], \"Freq\": [5299.0, 2632.0, 19157.0, 4619.0, 3328.0, 1494.0, 6124.0, 4118.0, 2457.0, 5371.0, 1877.0, 6222.0, 6813.0, 1791.0, 1619.0, 6321.0, 4494.0, 702.0, 763.0, 5806.0, 1978.0, 1056.0, 1998.0, 1406.0, 5679.0, 1421.0, 1877.0, 887.0, 1430.0, 540.0, 177.318579155502, 413.3980312079371, 593.6949966994592, 342.67380717535104, 388.49513542181523, 159.38849418949425, 259.9961931654265, 641.5085566088133, 211.1865174246277, 106.59435512291596, 95.63708097702234, 104.6021234600262, 229.11660239063542, 120.5399767631442, 174.33023166116737, 108.5865867858057, 245.05445569375343, 77.70699601101461, 92.64873348268772, 1316.8750903284376, 164.3690733467186, 96.63319680846722, 105.59823929147107, 90.65650181979798, 256.01172983964705, 199.23312744728923, 95.63708097702234, 146.4389883807109, 92.64873348268772, 119.54386093169931, 403.4368728934883, 871.611313672579, 546.8775526215502, 231.1088340535252, 2714.425601845596, 225.13213906485595, 270.95346731132014, 239.0777607050842, 476.15332858896414, 387.4990195903703, 338.6893438495715, 352.6349654897998, 292.8680156031074, 271.949583142765, 205.20982243595847, 235.09329737930466, 179.31081081839176, 287.62523737374653, 445.3177746739282, 313.41143844170074, 203.32419542081917, 962.033572997165, 283.65812951713815, 409.6138039644531, 446.3095516380803, 93.23695239993762, 121.99848436034812, 96.21228329239389, 69.43430526028756, 316.386769334157, 1501.5602414959, 57.53298169046252, 168.61200167549617, 121.00670739619605, 353.0825170077842, 41.66455026402914, 50.59054294139791, 37.697442407420795, 342.1729704021112, 725.9906555289685, 32.73855758666036, 82.32740579426468, 55.54942776215835, 247.95415880766308, 28.77144973005202, 178.52977131701704, 51.58231990555, 55.54942776215835, 194.3982027434504, 66.4589743678313, 455.2355443154491, 447.3013286022324, 402.6713652153885, 163.6531168547357, 275.7239138039215, 646.6484983968016, 216.2172959547963, 279.6910216605298, 262.8308132699444, 167.62022471134406, 152.74357024906277, 130.92447703771688, 186.38630913828123, 177.464034885611, 378.71088747361745, 159.61948638027053, 139.79221026322557, 221.08404234310993, 78.32765430038616, 521.4672755163411, 348.96997329805, 67.42265243601142, 79.31901810623842, 933.8746187508766, 178.45539869146324, 51.560831542375446, 133.84402742811207, 491.7263613407738, 391.5986169496967, 1219.3873948363241, 110.05129608765812, 929.9091635274676, 53.543559154079944, 287.5054173352106, 241.90268226600716, 844.6518762241743, 58.500378183341184, 62.465833406750185, 68.41401624186368, 2501.220795803282, 57.50901437748894, 79.31901810623842, 653.3186616946904, 476.85590425299006, 205.22222144947398, 393.5813445614012, 177.464034885611, 174.48994346805426, 170.52448824464526, 222.07540614896217, 282.5485983059493, 151.68857593345254, 159.61948638027053, 148.7144845158958, 135.6387776692112, 102.48508784561318, 191.89958464258967, 178.83904016662683, 194.91355644473495, 211.99272999022483, 381.7798081777421, 91.43385790441386, 79.37797069583274, 208.97875818807958, 82.39194249797802, 80.3826279632145, 92.4385151717956, 88.41988610226856, 184.8669837709174, 92.4385151717956, 179.84369743400856, 85.4059143001233, 194.91355644473495, 84.40125703274154, 124.58754772801188, 137.64809220397473, 155.73192301684637, 73.3500270915422, 223.04395993142418, 55.266196278670535, 59.284825348197565, 331.5469448086541, 66.31742621986989, 187.88095557306264, 346.6168038193805, 139.65740673873825, 180.84835470139035, 2788.9386208244355, 198.932185514262, 399.8636389906137, 698.2468474029961, 550.5622290978774, 208.97875818807958, 580.7019471193303, 235.0998471400053, 216.01135905975187, 236.10450440738705, 229.07190353571477, 365.70529189963395, 256.19764975502227, 214.00204452498838, 257.202307022404, 241.12779074429585, 196.9228709794985, 188.88561284044442, 192.90424190997146, 293.9521862163087, 261.0705139165962, 178.36812601125868, 386.61871724277125, 328.8266871402462, 245.1278849227962, 833.0123290691714, 281.9952144709587, 590.8836512258338, 209.25696968674617, 689.5286681249712, 73.74462323944616, 160.43266839323366, 72.74820892733365, 166.41115426590866, 89.68725223324614, 1257.4848260290964, 194.3107550050587, 98.65498104225865, 239.1493990501212, 73.74462323944616, 91.68008085747115, 51.82350837297114, 91.68008085747115, 91.68008085747115, 856.9262725598713, 291.95935759208373, 120.57609590873366, 153.45776820844617, 77.73028048789615, 1113.0047507727838, 251.1063707954712, 280.99880015884617, 407.54341779713377, 1991.842174056009, 546.0450071807712, 580.9195081047087, 353.7370449430587, 175.3788830749212, 418.5039752303712, 223.20677005632118, 357.72270219150874, 215.23545555942115, 263.06334254082117, 188.3322691323837, 213.2426269351962, 212.24621262308366, 255.32379908022858, 301.7444731946529, 126.1532276313955, 216.97628568135625, 691.2744777200402, 107.98861602140335, 442.01564062737015, 201.8391093396961, 76.70511824863908, 77.7142633380831, 238.16833255968044, 445.04307589570215, 181.65620755081596, 149.36356468860768, 61.56794190697896, 66.61366735419901, 70.65024771197503, 61.56794190697896, 108.99776111084735, 61.56794190697896, 145.32698433083164, 50.46734592309486, 128.17151781028352, 299.72618301576495, 87.80571423252317, 148.3544195991637, 49.45820083365085, 41.38504011809878, 82.75998878530314, 285.59815176354886, 741.7317321922407, 247.2506383646765, 699.3476384355922, 648.8903839633919, 225.0494463969083, 443.02478571681416, 232.11346202301635, 212.9397053235802, 173.58304683526387, 171.56475665637586, 279.54328122688474, 306.790198641873, 261.3786696168926, 206.88483478691614, 205.87568969747215, 180.64706246137192, 160.46416067249177, 157.43672540415974, 384.2518416708673, 767.493047264321, 170.1170688327495, 151.1051030200194, 148.10321368116732, 153.10636257925415, 1369.8721745939795, 73.05598020986439, 89.06605668374233, 76.0578695487165, 535.3469383930906, 269.17941701486944, 330.2178335715291, 181.12399640854062, 159.11014125695843, 1297.8268304615283, 55.04464417675167, 127.08998830920251, 181.12399640854062, 382.2505821116325, 191.13029420471432, 157.1088816977237, 56.04527395636904, 63.04968241369065, 42.036457041725825, 44.037716600960565, 75.05723976909913, 103.07487359838557, 45.03834638057794, 103.07487359838557, 288.1913828275995, 744.4785623331214, 631.4073972363583, 616.3979505420978, 1430.910591150639, 570.3689806796986, 333.2197229103813, 192.1309239843317, 182.12462618815798, 235.15800450787876, 232.15611516902663, 167.11517949389741, 197.1340728824186, 185.1265155270101, 157.1088816977237, 750.9266008554501, 500.9570742556037, 218.7334151912608, 219.7413568307763, 153.21720862275268, 98.78836008891514, 155.2330919017837, 141.12190894856656, 54.438927950232696, 109.87571812358576, 83.6692354961825, 54.438927950232696, 86.69306041472903, 56.45481122926372, 86.69306041472903, 133.05837583244247, 47.38333647362413, 90.72482697279106, 152.20926698323717, 46.37539483410862, 47.38333647362413, 108.86777648407023, 55.446869589748204, 102.82012664697719, 277.19403028316043, 699.5215772401591, 33.27215352040699, 76.61364401957393, 48.391278113139634, 193.53487420337308, 1809.2653223467357, 571.5129890216894, 585.6241719749065, 487.853832941902, 437.4567509661265, 219.7413568307763, 329.60699553796695, 306.42433782911024, 185.471341087249, 174.3839830525784, 223.77312338883837, 173.3760414130629, 129.02660927438043, 219.7413568307763, 145.15367550662862, 124.9948427163184, 119.95513451874086, 119.95513451874086, 219.73423709962668, 344.44264606567765, 193.0110066069015, 232.60097770723513, 279.1191937501271, 143.52354273148447, 579.0132248351543, 122.73880790380933, 65.33334980832556, 88.0975831910174, 754.1988469541307, 136.59529778892608, 99.97457452111749, 321.67841268298577, 51.47685992320879, 64.34360053081723, 984.8104286135741, 332.56565473557754, 48.50761209068377, 1022.420901158891, 932.353716905632, 110.86181657370925, 43.55886570314207, 280.10894302763546, 49.49736136819212, 800.7170629970227, 48.50761209068377, 87.10783391350907, 113.83106440623426, 38.610119315600365, 505.7717782995371, 222.70348493215172, 524.5770145721956, 1302.5199466937513, 364.23763161584446, 365.2273808933528, 307.82192279786904, 283.0781908601605, 122.73880790380933, 142.53379345397613, 148.47228911902616, 135.60554851141774, 148.47228911902616, 143.52354273148447, 125.70805573633434, 498.3045160682213, 1247.723819613214, 575.421542026677, 3354.6005159910233, 179.94961403459646, 691.0970809643607, 116.67410555586358, 1014.3953820978865, 337.14970541144845, 132.49298267554678, 104.80994771610116, 239.27040323340853, 224.44020593370553, 317.37610901184445, 78.11559257663572, 233.33832431352732, 464.6894021888944, 64.2740750969129, 129.52694321560617, 115.68542573588338, 703.9499186241032, 60.319355816992086, 66.2514347368733, 57.35331635705148, 35.60236031748705, 63.2853952769327, 68.2287943768337, 153.255258895131, 185.88169295447764, 831.4896154015493, 115.68542573588338, 664.4027258248951, 1304.0785693520854, 233.33832431352732, 340.11574487138904, 385.59501659047834, 330.22894667158704, 144.3571405153092, 236.3043637734679, 146.3345001552696, 183.90433331451726, 145.3458203352894, 129.52694321560617, 336.2237053025762, 271.3753600170729, 469.9110632757676, 591.6264190424045, 227.47801859303996, 326.24703679711416, 130.70433409005818, 1339.8765569520574, 126.71366668787338, 96.78366117148727, 82.81632526384041, 233.46401969631722, 133.69733464169678, 119.72999873404996, 119.72999873404996, 57.874654000185295, 74.83499045947077, 107.7579965274955, 127.71133353841958, 52.88631974745427, 109.75333022858791, 72.83965675837837, 43.90731809253844, 844.0361322305941, 226.48035174249378, 149.66000425043606, 39.91665069035363, 54.881653448546686, 341.21203955530723, 95.78599432094106, 229.47335229413238, 284.34502907417357, 309.28670033782873, 643.505095270807, 1079.4855089594982, 185.57601087009942, 474.8993975284985, 391.09538208261745, 365.15604396841616, 292.32636387854325, 267.38469261488814, 255.41269040833367, 154.64833850316708, 141.67866944606644, 133.69733464169678, 2632.034478137361, 451.44458350095096, 328.5092936924288, 243.86532366033157, 254.94965306929666, 194.4896744749415, 202.55100495418884, 147.12935790936328, 163.252018867858, 342.61662203111166, 116.89936861218571, 95.7383761041614, 89.69237824472589, 106.82270551312652, 201.54333864428295, 119.92236754190347, 68.5313857367016, 363.777614539136, 134.02969588058633, 69.5390520466075, 619.7248572552395, 59.4623889475483, 85.66171300510221, 129.99903064096267, 398.0382690759372, 50.393392158395024, 43.33972798905359, 81.63104776547853, 74.57738359613711, 48.37805953858319, 170.30568303719943, 141.08336004992776, 123.95303278152716, 231.77332794146054, 275.10297926741504, 428.2682583731148, 404.08426693537274, 191.46667554522372, 172.32101565701126, 301.30230332496893, 306.34063487449856, 179.3746798263527, 164.2596851777639, 247.89598889995523, 177.3593472065409, 213.635334363154, 220.6889985324954, 175.34401458672903, 203.55867126409476, 165.26735148766986, 540.6537364700307, 1288.9286987279536, 257.7937641419688, 183.5680976445341, 137.42781847045308, 88.27839065458417, 90.28448974910943, 266.8212100673325, 125.39122390330152, 97.30583657994784, 86.2722915600589, 73.2326474456447, 1016.0992218725179, 46.15030966955365, 53.17165650039207, 89.28144020184679, 109.34243114709942, 43.141161027765754, 79.25094472922048, 928.8339112606691, 34.11371510240208, 40.132012385977866, 44.14421057502839, 63.202151973018374, 141.44001665950358, 42.13811148050313, 86.2722915600589, 334.02552973392875, 50.16250785860418, 30.10151691335156, 637.9495425545059, 202.62603904252407, 559.7116778680207, 452.38537631091924, 198.61384085347356, 191.59249402263515, 156.48575986844304, 423.29693944030294, 306.9431919578377, 239.73887229124142, 162.50405715201885, 216.66873270420092, 196.6077417589483, 193.5985931171604, 138.43086801771568, 172.53455262464516, 142.44306620676622, 131.4095211868773, 110.34548069436204, 188.43689840544894, 313.04169655538834, 268.46762242045065, 296.8329423245019, 286.7024709301979, 470.06400316710057, 368.7592892240604, 127.65407003962488, 399.15070340697247, 259.35019816557707, 102.32789155386484, 125.62797576076409, 855.021916150653, 204.6456526363354, 207.6847940546266, 89.15827874126964, 72.9495245103832, 70.9234302315224, 75.98866592867442, 218.828312588361, 59.77991169778798, 107.39312725101685, 57.75381741892718, 94.22351443842165, 316.08083797367954, 102.32789155386484, 352.550534993174, 46.61029888519276, 59.77991169778798, 51.675534582344774, 252.25886818956423, 116.51055150589046, 271.50676383874185, 710.1561752121057, 169.18900275627135, 244.154491074121, 935.0526401656548, 168.17595561684092, 215.78917117006978, 128.6671171790553, 162.09767278025853, 228.95878398266498, 186.41080412658815, 190.46299268430974, 215.78917117006978, 147.9150128282329, 148.9280599676633, 702.4167281012798, 435.3187429304763, 443.47440659981385, 266.08872179172295, 85.64466310763054, 86.66412106629772, 189.62937489168377, 197.78503856102128, 92.78086881830086, 73.41116760362428, 111.13111207431025, 54.041466388947676, 312.9837878904136, 98.897616570304, 60.15821414095081, 375.1707233691121, 50.983092512946115, 89.72249494229929, 65.25550393428676, 55.060924347614865, 40.78851292627422, 267.10817975039015, 234.48552507304012, 197.78503856102128, 259.9719740397198, 305.8475821797433, 177.3958793876775, 100.93653248763837, 90.7419529009665, 38.749597008939844, 111.13111207431025, 577.0233991852156, 198.80449651968846, 371.09289153444337, 214.09636589969634, 181.47371122234628, 358.8593960304371, 291.5751707584027, 255.89414220505105, 238.56335690770885, 152.92888837966498, 112.15057003297744, 147.83159858632902, 111.13111207431025, 109.09219615697587, 120.30623370231497, 213.88517135232203, 183.1901094944359, 172.29831335131502, 442.61289035786064, 135.6622717789993, 128.73112877883148, 804.0224896523264, 305.9703569259804, 292.10807092564477, 209.92451820936898, 504.00301407363287, 75.26231134896533, 134.67210849326105, 93.08525049225405, 365.38015407027615, 67.34100506305923, 263.39333563923515, 415.87848164292757, 118.82949592144885, 52.48855577698528, 97.0459036352071, 51.498392491247024, 382.2129299278266, 346.5670516412492, 45.55741277681745, 83.18361763487142, 59.419698777153116, 38.62626977664961, 786.1995505090376, 35.65577991943482, 955.5174723702804, 283.1966013540004, 711.9373040786679, 307.95068349745696, 231.70811049561078, 386.17358307077967, 258.4425192105438, 653.5176702201104, 279.23594821104734, 280.2261114967856, 268.3441520679265, 267.3539887821882, 160.41635392245587], \"Total\": [5299.0, 2632.0, 19157.0, 4619.0, 3328.0, 1494.0, 6124.0, 4118.0, 2457.0, 5371.0, 1877.0, 6222.0, 6813.0, 1791.0, 1619.0, 6321.0, 4494.0, 702.0, 763.0, 5806.0, 1978.0, 1056.0, 1998.0, 1406.0, 5679.0, 1421.0, 1877.0, 887.0, 1430.0, 540.0, 244.95481563590047, 587.8802458680137, 868.9499664878181, 531.3320128392885, 674.0460451215762, 287.8845299539509, 492.69025277720874, 1421.676104560664, 482.03769969140984, 256.64312604014407, 234.42722469196076, 267.17981137951307, 611.7825261509565, 342.24061282655373, 499.23412303459764, 325.1429820629935, 758.6822746546974, 246.3496978686143, 310.99247026623027, 4619.661531048849, 616.6207833155847, 363.7793501902432, 397.60720280356804, 367.9159584399464, 1071.7561118792564, 841.8974541253102, 410.38979326025753, 646.7881213065764, 410.9116545785958, 531.4042096562235, 1853.1912758775857, 4118.731311789303, 2643.223200756289, 1052.6560105334102, 19157.946333003652, 1345.5305297832656, 1998.8784735670613, 1620.3472798514488, 5679.841053138569, 6813.779739140291, 5371.611928143249, 6222.38094288033, 5200.298365659934, 6321.753131680121, 2429.4001072622787, 5806.351820252889, 1673.5621023144156, 340.8467701599024, 611.7776996838193, 563.8409221143997, 371.8278146652652, 1791.6366020682635, 643.3524420171553, 949.5602703451325, 1063.9158038005883, 262.3491711932945, 394.0441896880293, 323.2997528790304, 263.8756529203852, 1223.3842667703657, 6124.031927496196, 266.9738932260073, 827.0158607635624, 641.3188569247036, 1877.3274932188524, 231.34303498390406, 294.32188019323735, 228.34609888076298, 2467.8847771488836, 5776.3873913956695, 266.53273274558745, 690.0297392227416, 474.9199118465172, 2135.974471572106, 256.9825935310742, 1613.3373332169274, 467.9211629690288, 513.1353312613603, 1962.9755980646796, 629.9621731444577, 6321.753131680121, 6222.38094288033, 6813.779739140291, 2027.6885885518545, 4494.530015957164, 19157.946333003652, 3328.440485485303, 5806.351820252889, 5200.298365659934, 2457.553854370382, 2429.4001072622787, 2981.7907581130353, 358.04137829819314, 429.47232729202517, 1052.6560105334102, 465.147947557526, 410.81391000841995, 721.5740354691203, 286.625306309955, 1998.8784735670613, 1421.676104560664, 287.8845299539509, 342.24061282655373, 4118.731311789303, 796.947684221561, 247.9411670706638, 701.939270368421, 2643.223200756289, 2128.1557956596253, 6813.779739140291, 635.4830410499019, 5371.611928143249, 310.99247026623027, 1673.5621023144156, 1547.4954886138962, 5806.351820252889, 420.7975902363884, 450.95197317248795, 503.3947766953318, 19157.946333003652, 446.80031709170163, 626.4628847950079, 5200.298365659934, 6222.38094288033, 2246.7917143126724, 6124.031927496196, 1962.9755980646796, 1978.566401219015, 2043.7878144435501, 3328.440485485303, 5679.841053138569, 2429.4001072622787, 4619.661531048849, 6321.753131680121, 285.3257545520032, 247.6273802180281, 467.9211629690288, 450.95197317248795, 513.1353312613603, 568.4376648666853, 1080.4044188335647, 263.8756529203852, 230.88836728038248, 611.4288869291352, 244.2789818086926, 254.1382947092631, 294.32188019323735, 282.6898542399058, 604.7948827878904, 302.50192323497885, 597.9356013341882, 287.3306785672285, 658.8226110997575, 290.23671248120917, 459.2240900093769, 508.9317100440812, 577.9653980144487, 279.94812654824455, 862.4858210811753, 226.1304581360867, 245.8981206241118, 1376.5022099689666, 281.38029123381153, 813.0120565458384, 1526.2548746678224, 629.9621731444577, 837.1567045029559, 19157.946333003652, 962.8512343370778, 2467.8847771488836, 5679.841053138569, 4494.530015957164, 1063.9158038005883, 5776.3873913956695, 1436.1781263094626, 1345.5305297832656, 1877.3274932188524, 1978.566401219015, 6321.753131680121, 2981.7907581130353, 2135.974471572106, 4619.661531048849, 5200.298365659934, 2643.223200756289, 1613.3373332169274, 5371.611928143249, 402.8522658449084, 367.9159584399464, 267.6441129771454, 580.9058428885173, 531.4042096562235, 400.02831518295056, 2027.6885885518545, 783.9309850771933, 1673.5621023144156, 611.4288869291352, 2043.7878144435501, 241.02547828022657, 531.3320128392885, 247.9411670706638, 587.8802458680137, 320.9196246846453, 4619.661531048849, 732.8445156630056, 372.8432650035059, 962.8512343370778, 310.99247026623027, 410.81391000841995, 234.42722469196076, 424.9196878281345, 429.47232729202517, 4118.731311789303, 1421.676104560664, 597.9356013341882, 784.5088555614952, 397.60720280356804, 6321.753131680121, 1345.5305297832656, 1547.4954886138962, 2643.223200756289, 19157.946333003652, 4494.530015957164, 5806.351820252889, 2981.7907581130353, 1052.6560105334102, 5776.3873913956695, 1880.9654598622633, 5679.841053138569, 1877.3274932188524, 5371.611928143249, 1376.5022099689666, 6124.031927496196, 6813.779739140291, 450.91734370337576, 658.8226110997575, 303.96667491651976, 568.4376648666853, 1978.566401219015, 314.9930191423384, 1406.6064561854505, 644.4420319374548, 247.6273802180281, 263.31485944060006, 862.4858210811753, 1653.3280668493271, 704.938914234677, 604.7948827878904, 256.9825935310742, 290.23671248120917, 314.6052169541938, 281.38029123381153, 498.26974221650465, 282.6898542399058, 758.6822746546974, 266.9738932260073, 681.2677994119216, 1619.1505116048215, 503.3947766953318, 894.2116322305187, 302.50192323497885, 255.7817460115865, 513.1353312613603, 1880.9654598622633, 5371.611928143249, 1791.6366020682635, 5776.3873913956695, 5679.841053138569, 1877.3274932188524, 5200.298365659934, 2246.7917143126724, 2135.974471572106, 1526.2548746678224, 1613.3373332169274, 4494.530015957164, 6813.779739140291, 5806.351820252889, 2981.7907581130353, 6124.031927496196, 6321.753131680121, 2467.8847771488836, 6222.38094288033, 398.34753226208505, 1056.3154276034445, 410.9116545785958, 371.23274728320723, 413.50020914654493, 498.26974221650465, 4494.530015957164, 245.8981206241118, 304.34619565127616, 263.31485944060006, 1877.3274932188524, 976.2929867934408, 1213.6230406738587, 701.939270368421, 644.4420319374548, 5679.841053138569, 256.9825935310742, 597.141143867454, 887.8165707427759, 1880.9654598622633, 949.5602703451325, 794.1987149147398, 302.50192323497885, 344.7028278416954, 231.34303498390406, 256.2326352775585, 446.80031709170163, 646.7881213065764, 286.625306309955, 656.3710211252162, 2135.974471572106, 6321.753131680121, 5776.3873913956695, 5806.351820252889, 19157.946333003652, 6124.031927496196, 3328.440485485303, 1653.3280668493271, 2429.4001072622787, 5200.298365659934, 5371.611928143249, 2981.7907581130353, 6813.779739140291, 6222.38094288033, 4118.731311789303, 763.1685924067116, 576.9851161032161, 272.19497697561957, 344.7028278416954, 246.3496978686143, 314.9930191423384, 499.23412303459764, 580.9058428885173, 231.34303498390406, 473.3197925431219, 371.8278146652652, 266.9738932260073, 482.03769969140984, 314.6052169541938, 503.3947766953318, 784.5088555614952, 286.625306309955, 563.8409221143997, 962.8512343370778, 306.2894508844717, 320.9196246846453, 758.6822746546974, 420.7975902363884, 783.9309850771933, 2128.1557956596253, 5371.611928143249, 263.31485944060006, 611.7825261509565, 394.0441896880293, 1791.6366020682635, 19157.946333003652, 6321.753131680121, 6813.779739140291, 5806.351820252889, 5200.298365659934, 2246.7917143126724, 6222.38094288033, 5776.3873913956695, 2643.223200756289, 2429.4001072622787, 4494.530015957164, 2981.7907581130353, 1421.676104560664, 6124.031927496196, 1998.8784735670613, 1406.6064561854505, 1436.1781263094626, 1547.4954886138962, 363.7687407961742, 698.0595198251016, 404.1051495835967, 528.5117397564202, 721.5740354691203, 474.9199118465172, 1998.8784735670613, 446.80031709170163, 256.2326352775585, 358.69588859093255, 3328.440485485303, 626.4628847950079, 465.147947557526, 1653.3280668493271, 265.0916070552575, 371.23274728320723, 5806.351820252889, 1962.9755980646796, 286.625306309955, 6124.031927496196, 6222.38094288033, 794.1987149147398, 314.88759547404135, 2128.1557956596253, 413.50020914654493, 6813.779739140291, 420.7975902363884, 778.4746732733265, 1052.6560105334102, 358.04137829819314, 5299.383749765309, 2246.7917143126724, 6321.753131680121, 19157.946333003652, 5200.298365659934, 5776.3873913956695, 4494.530015957164, 4118.731311789303, 1223.3842667703657, 1673.5621023144156, 2135.974471572106, 2043.7878144435501, 5679.841053138569, 4619.661531048849, 2643.223200756289, 586.7236184036204, 1877.9369887297375, 907.4167468714417, 5299.383749765309, 303.1463240679916, 1430.4300370844862, 282.5593340866421, 2457.553854370382, 841.8974541253102, 363.7793501902432, 294.32188019323735, 674.0460451215762, 698.0595198251016, 1071.7561118792564, 280.6555981989113, 863.0454788281195, 1853.1912758775857, 256.64312604014407, 555.4388308084399, 508.9317100440812, 4118.731311789303, 362.83337502741836, 404.1051495835967, 370.4865126663405, 234.42722469196076, 424.9196878281345, 463.5759682058802, 1080.4044188335647, 1345.5305297832656, 6222.38094288033, 868.9499664878181, 6321.753131680121, 19157.946333003652, 2467.8847771488836, 4619.661531048849, 5679.841053138569, 5776.3873913956695, 1526.2548746678224, 6124.031927496196, 1620.3472798514488, 5806.351820252889, 2429.4001072622787, 1962.9755980646796, 386.5188957935819, 322.6342151462788, 597.141143867454, 887.8165707427759, 358.69588859093255, 539.4139773458929, 228.34609888076298, 3328.440485485303, 314.88759547404135, 275.295826718934, 266.53273274558745, 794.1987149147398, 474.9199118465172, 463.5759682058802, 482.03769969140984, 265.0916070552575, 342.9505653893471, 498.26974221650465, 610.0893455606508, 267.6441129771454, 626.4628847950079, 420.7975902363884, 258.9021184767398, 5200.298365659934, 1436.1781263094626, 976.2929867934408, 262.3491711932945, 363.7687407961742, 2429.4001072622787, 690.0297392227416, 1653.3280668493271, 2246.7917143126724, 2467.8847771488836, 6124.031927496196, 19157.946333003652, 1613.3373332169274, 6813.779739140291, 6222.38094288033, 5806.351820252889, 4494.530015957164, 5776.3873913956695, 5679.841053138569, 1526.2548746678224, 1394.437748204994, 1166.8285499337107, 2632.1844767230477, 451.5945820866375, 328.65929227811534, 261.094495791508, 278.0103157782153, 257.1443057532124, 370.4865126663405, 304.34619565127616, 353.46849777673395, 778.4746732733265, 281.9813513740467, 246.3326363692475, 244.2789818086926, 369.0117660571156, 784.5088555614952, 473.3197925431219, 282.5593340866421, 1547.4954886138962, 577.9653980144487, 309.70535446571176, 2981.7907581130353, 290.23671248120917, 424.9196878281345, 646.7881213065764, 2043.7878144435501, 258.9021184767398, 226.1304581360867, 429.47232729202517, 410.9116545785958, 272.12950269558473, 962.8512343370778, 907.4167468714417, 813.0120565458384, 1877.3274932188524, 2429.4001072622787, 5679.841053138569, 5200.298365659934, 1620.3472798514488, 1430.4300370844862, 5776.3873913956695, 6813.779739140291, 1880.9654598622633, 1526.2548746678224, 6321.753131680121, 1998.8784735670613, 4118.731311789303, 5371.611928143249, 2246.7917143126724, 6124.031927496196, 2467.8847771488836, 540.8037812233437, 1494.2768724736775, 306.2894508844717, 253.69204320100806, 272.12950269558473, 256.2326352775585, 267.17981137951307, 841.8974541253102, 410.38979326025753, 353.46849777673395, 363.7793501902432, 309.70535446571176, 4619.661531048849, 230.88836728038248, 281.9813513740467, 492.69025277720874, 658.4625421704319, 280.6555981989113, 528.5117397564202, 6321.753131680121, 234.42722469196076, 279.94812654824455, 314.88759547404135, 473.3197925431219, 1071.7561118792564, 325.1429820629935, 681.2677994119216, 2643.223200756289, 397.60720280356804, 244.95481563590047, 6222.38094288033, 1853.1912758775857, 5806.351820252889, 5371.611928143249, 2043.7878144435501, 2027.6885885518545, 1673.5621023144156, 6813.779739140291, 5776.3873913956695, 4494.530015957164, 2429.4001072622787, 5299.383749765309, 5200.298365659934, 5679.841053138569, 2128.1557956596253, 6124.031927496196, 2981.7907581130353, 2246.7917143126724, 1620.3472798514488, 263.94078014415464, 447.85384819318324, 453.18392117903426, 519.9580481543677, 515.8366514518563, 863.0454788281195, 690.0297392227416, 256.52524196299026, 894.2116322305187, 604.7948827878904, 248.11827477768963, 342.9505653893471, 2457.553854370382, 616.6207833155847, 641.3188569247036, 285.3257545520032, 233.59006514148138, 254.2535828704922, 279.94812654824455, 862.4858210811753, 282.6898542399058, 508.9317100440812, 281.38029123381153, 459.2240900093769, 1613.3373332169274, 539.4139773458929, 1880.9654598622633, 256.9825935310742, 331.08739669256533, 287.3306785672285, 1436.1781263094626, 658.4625421704319, 1619.1505116048215, 5299.383749765309, 1080.4044188335647, 2135.974471572106, 19157.946333003652, 1223.3842667703657, 2027.6885885518545, 783.9309850771933, 1345.5305297832656, 2981.7907581130353, 1978.566401219015, 2467.8847771488836, 5776.3873913956695, 4494.530015957164, 5200.298365659934, 702.5666087704786, 435.4686235996752, 796.947684221561, 511.6313026220384, 256.64312604014407, 281.9813513740467, 635.603009467303, 681.2677994119216, 353.46849777673395, 325.1429820629935, 515.8366514518563, 253.69204320100806, 1547.4954886138962, 503.3947766953318, 309.70535446571176, 1962.9755980646796, 267.17981137951307, 473.3197925431219, 369.0117660571156, 314.88759547404135, 245.8981206241118, 1620.3472798514488, 1430.4300370844862, 1394.437748204994, 1877.9369887297375, 2246.7917143126724, 1406.6064561854505, 813.0120565458384, 732.8445156630056, 314.2455868850121, 907.4167468714417, 6222.38094288033, 1853.1912758775857, 5371.611928143249, 2429.4001072622787, 2043.7878144435501, 6813.779739140291, 5200.298365659934, 5299.383749765309, 6124.031927496196, 3328.440485485303, 1071.7561118792564, 5679.841053138569, 1166.8285499337107, 1376.5022099689666, 5776.3873913956695, 269.47567015521736, 254.2535828704922, 255.7817460115865, 827.0158607635624, 256.5996963636521, 256.52524196299026, 1619.1505116048215, 635.4830410499019, 641.3188569247036, 519.9580481543677, 1406.6064561854505, 233.59006514148138, 447.85384819318324, 323.2997528790304, 1394.437748204994, 265.0916070552575, 1223.3842667703657, 1978.566401219015, 611.7776996838193, 275.295826718934, 515.8366514518563, 281.38029123381153, 2128.1557956596253, 1962.9755980646796, 263.94078014415464, 539.4139773458929, 394.0441896880293, 263.8756529203852, 5371.611928143249, 248.11827477768963, 6813.779739140291, 2135.974471572106, 6222.38094288033, 2981.7907581130353, 2246.7917143126724, 6124.031927496196, 3328.440485485303, 19157.946333003652, 5200.298365659934, 5679.841053138569, 5806.351820252889, 5776.3873913956695, 5299.383749765309], \"Category\": [\"Default\", \"Default\", \"Default\", \"Default\", \"Default\", \"Default\", \"Default\", \"Default\", \"Default\", \"Default\", \"Default\", \"Default\", \"Default\", \"Default\", \"Default\", \"Default\", \"Default\", \"Default\", \"Default\", \"Default\", \"Default\", \"Default\", \"Default\", \"Default\", \"Default\", \"Default\", \"Default\", \"Default\", \"Default\", \"Default\", \"Topic1\", \"Topic1\", \"Topic1\", \"Topic1\", \"Topic1\", \"Topic1\", \"Topic1\", \"Topic1\", \"Topic1\", \"Topic1\", \"Topic1\", \"Topic1\", \"Topic1\", \"Topic1\", \"Topic1\", \"Topic1\", \"Topic1\", \"Topic1\", \"Topic1\", \"Topic1\", \"Topic1\", \"Topic1\", \"Topic1\", \"Topic1\", \"Topic1\", \"Topic1\", \"Topic1\", \"Topic1\", \"Topic1\", \"Topic1\", \"Topic1\", \"Topic1\", \"Topic1\", \"Topic1\", \"Topic1\", \"Topic1\", \"Topic1\", \"Topic1\", \"Topic1\", \"Topic1\", \"Topic1\", \"Topic1\", \"Topic1\", \"Topic1\", \"Topic1\", \"Topic1\", \"Topic1\", \"Topic2\", \"Topic2\", \"Topic2\", \"Topic2\", \"Topic2\", \"Topic2\", \"Topic2\", \"Topic2\", \"Topic2\", \"Topic2\", \"Topic2\", \"Topic2\", \"Topic2\", \"Topic2\", \"Topic2\", \"Topic2\", \"Topic2\", \"Topic2\", \"Topic2\", \"Topic2\", \"Topic2\", \"Topic2\", \"Topic2\", \"Topic2\", \"Topic2\", \"Topic2\", \"Topic2\", \"Topic2\", \"Topic2\", \"Topic2\", \"Topic2\", \"Topic2\", \"Topic2\", \"Topic2\", \"Topic2\", \"Topic2\", \"Topic2\", \"Topic2\", \"Topic2\", \"Topic2\", \"Topic2\", \"Topic2\", \"Topic2\", \"Topic2\", \"Topic2\", \"Topic3\", \"Topic3\", \"Topic3\", \"Topic3\", \"Topic3\", \"Topic3\", \"Topic3\", \"Topic3\", \"Topic3\", \"Topic3\", \"Topic3\", \"Topic3\", \"Topic3\", \"Topic3\", \"Topic3\", \"Topic3\", \"Topic3\", \"Topic3\", \"Topic3\", \"Topic3\", \"Topic3\", \"Topic3\", \"Topic3\", \"Topic3\", \"Topic3\", \"Topic3\", \"Topic3\", \"Topic3\", \"Topic3\", \"Topic3\", \"Topic3\", \"Topic3\", \"Topic3\", \"Topic3\", \"Topic3\", \"Topic3\", \"Topic3\", \"Topic3\", \"Topic3\", \"Topic3\", \"Topic3\", \"Topic3\", \"Topic4\", \"Topic4\", \"Topic4\", \"Topic4\", \"Topic4\", \"Topic4\", \"Topic4\", \"Topic4\", \"Topic4\", \"Topic4\", \"Topic4\", \"Topic4\", \"Topic4\", \"Topic4\", \"Topic4\", \"Topic4\", \"Topic4\", \"Topic4\", \"Topic4\", \"Topic4\", \"Topic4\", \"Topic4\", \"Topic4\", \"Topic4\", \"Topic4\", \"Topic4\", \"Topic4\", \"Topic4\", \"Topic4\", \"Topic4\", \"Topic4\", \"Topic4\", \"Topic4\", \"Topic4\", \"Topic4\", \"Topic4\", \"Topic4\", \"Topic4\", \"Topic4\", \"Topic4\", \"Topic4\", \"Topic4\", \"Topic4\", \"Topic4\", \"Topic4\", \"Topic4\", \"Topic4\", \"Topic4\", \"Topic4\", \"Topic4\", \"Topic4\", \"Topic4\", \"Topic5\", \"Topic5\", \"Topic5\", \"Topic5\", \"Topic5\", \"Topic5\", \"Topic5\", \"Topic5\", \"Topic5\", \"Topic5\", \"Topic5\", \"Topic5\", \"Topic5\", \"Topic5\", \"Topic5\", \"Topic5\", \"Topic5\", \"Topic5\", \"Topic5\", \"Topic5\", \"Topic5\", \"Topic5\", \"Topic5\", \"Topic5\", \"Topic5\", \"Topic5\", \"Topic5\", \"Topic5\", \"Topic5\", \"Topic5\", \"Topic5\", \"Topic5\", \"Topic5\", \"Topic5\", \"Topic5\", \"Topic5\", \"Topic5\", \"Topic5\", \"Topic5\", \"Topic5\", \"Topic5\", \"Topic5\", \"Topic5\", \"Topic5\", \"Topic5\", \"Topic5\", \"Topic5\", \"Topic6\", \"Topic6\", \"Topic6\", \"Topic6\", \"Topic6\", \"Topic6\", \"Topic6\", \"Topic6\", \"Topic6\", \"Topic6\", \"Topic6\", \"Topic6\", \"Topic6\", \"Topic6\", \"Topic6\", \"Topic6\", \"Topic6\", \"Topic6\", \"Topic6\", \"Topic6\", \"Topic6\", \"Topic6\", \"Topic6\", \"Topic6\", \"Topic6\", \"Topic6\", \"Topic6\", \"Topic6\", \"Topic6\", \"Topic6\", \"Topic6\", \"Topic6\", \"Topic6\", \"Topic6\", \"Topic6\", \"Topic6\", \"Topic6\", \"Topic6\", \"Topic6\", \"Topic6\", \"Topic6\", \"Topic6\", \"Topic6\", \"Topic6\", \"Topic6\", \"Topic6\", \"Topic6\", \"Topic6\", \"Topic7\", \"Topic7\", \"Topic7\", \"Topic7\", \"Topic7\", \"Topic7\", \"Topic7\", \"Topic7\", \"Topic7\", \"Topic7\", \"Topic7\", \"Topic7\", \"Topic7\", \"Topic7\", \"Topic7\", \"Topic7\", \"Topic7\", \"Topic7\", \"Topic7\", \"Topic7\", \"Topic7\", \"Topic7\", \"Topic7\", \"Topic7\", \"Topic7\", \"Topic7\", \"Topic7\", \"Topic7\", \"Topic7\", \"Topic7\", \"Topic7\", \"Topic7\", \"Topic7\", \"Topic7\", \"Topic7\", \"Topic7\", \"Topic7\", \"Topic7\", \"Topic7\", \"Topic7\", \"Topic7\", \"Topic7\", \"Topic7\", \"Topic7\", \"Topic7\", \"Topic8\", \"Topic8\", \"Topic8\", \"Topic8\", \"Topic8\", \"Topic8\", \"Topic8\", \"Topic8\", \"Topic8\", \"Topic8\", \"Topic8\", \"Topic8\", \"Topic8\", \"Topic8\", \"Topic8\", \"Topic8\", \"Topic8\", \"Topic8\", \"Topic8\", \"Topic8\", \"Topic8\", \"Topic8\", \"Topic8\", \"Topic8\", \"Topic8\", \"Topic8\", \"Topic8\", \"Topic8\", \"Topic8\", \"Topic8\", \"Topic8\", \"Topic8\", \"Topic8\", \"Topic8\", \"Topic8\", \"Topic8\", \"Topic8\", \"Topic8\", \"Topic8\", \"Topic8\", \"Topic8\", \"Topic8\", \"Topic8\", \"Topic8\", \"Topic8\", \"Topic8\", \"Topic8\", \"Topic8\", \"Topic9\", \"Topic9\", \"Topic9\", \"Topic9\", \"Topic9\", \"Topic9\", \"Topic9\", \"Topic9\", \"Topic9\", \"Topic9\", \"Topic9\", \"Topic9\", \"Topic9\", \"Topic9\", \"Topic9\", \"Topic9\", \"Topic9\", \"Topic9\", \"Topic9\", \"Topic9\", \"Topic9\", \"Topic9\", \"Topic9\", \"Topic9\", \"Topic9\", \"Topic9\", \"Topic9\", \"Topic9\", \"Topic9\", \"Topic9\", \"Topic9\", \"Topic9\", \"Topic9\", \"Topic9\", \"Topic9\", \"Topic9\", \"Topic9\", \"Topic9\", \"Topic9\", \"Topic9\", \"Topic9\", \"Topic9\", \"Topic9\", \"Topic9\", \"Topic9\", \"Topic10\", \"Topic10\", \"Topic10\", \"Topic10\", \"Topic10\", \"Topic10\", \"Topic10\", \"Topic10\", \"Topic10\", \"Topic10\", \"Topic10\", \"Topic10\", \"Topic10\", \"Topic10\", \"Topic10\", \"Topic10\", \"Topic10\", \"Topic10\", \"Topic10\", \"Topic10\", \"Topic10\", \"Topic10\", \"Topic10\", \"Topic10\", \"Topic10\", \"Topic10\", \"Topic10\", \"Topic10\", \"Topic10\", \"Topic10\", \"Topic10\", \"Topic10\", \"Topic10\", \"Topic10\", \"Topic10\", \"Topic10\", \"Topic10\", \"Topic10\", \"Topic10\", \"Topic10\", \"Topic10\", \"Topic10\", \"Topic10\", \"Topic11\", \"Topic11\", \"Topic11\", \"Topic11\", \"Topic11\", \"Topic11\", \"Topic11\", \"Topic11\", \"Topic11\", \"Topic11\", \"Topic11\", \"Topic11\", \"Topic11\", \"Topic11\", \"Topic11\", \"Topic11\", \"Topic11\", \"Topic11\", \"Topic11\", \"Topic11\", \"Topic11\", \"Topic11\", \"Topic11\", \"Topic11\", \"Topic11\", \"Topic11\", \"Topic11\", \"Topic11\", \"Topic11\", \"Topic11\", \"Topic11\", \"Topic11\", \"Topic11\", \"Topic11\", \"Topic11\", \"Topic11\", \"Topic11\", \"Topic11\", \"Topic11\", \"Topic11\", \"Topic11\", \"Topic11\", \"Topic11\", \"Topic11\", \"Topic11\", \"Topic12\", \"Topic12\", \"Topic12\", \"Topic12\", \"Topic12\", \"Topic12\", \"Topic12\", \"Topic12\", \"Topic12\", \"Topic12\", \"Topic12\", \"Topic12\", \"Topic12\", \"Topic12\", \"Topic12\", \"Topic12\", \"Topic12\", \"Topic12\", \"Topic12\", \"Topic12\", \"Topic12\", \"Topic12\", \"Topic12\", \"Topic12\", \"Topic12\", \"Topic12\", \"Topic12\", \"Topic12\", \"Topic12\", \"Topic12\", \"Topic12\", \"Topic12\", \"Topic12\", \"Topic12\", \"Topic12\", \"Topic12\", \"Topic12\", \"Topic12\", \"Topic12\", \"Topic12\", \"Topic12\", \"Topic12\", \"Topic12\", \"Topic12\", \"Topic12\", \"Topic12\", \"Topic12\", \"Topic12\", \"Topic12\", \"Topic12\", \"Topic13\", \"Topic13\", \"Topic13\", \"Topic13\", \"Topic13\", \"Topic13\", \"Topic13\", \"Topic13\", \"Topic13\", \"Topic13\", \"Topic13\", \"Topic13\", \"Topic13\", \"Topic13\", \"Topic13\", \"Topic13\", \"Topic13\", \"Topic13\", \"Topic13\", \"Topic13\", \"Topic13\", \"Topic13\", \"Topic13\", \"Topic13\", \"Topic13\", \"Topic13\", \"Topic13\", \"Topic13\", \"Topic13\", \"Topic13\", \"Topic13\", \"Topic13\", \"Topic13\", \"Topic13\", \"Topic13\", \"Topic13\", \"Topic13\", \"Topic13\", \"Topic13\", \"Topic13\", \"Topic13\", \"Topic13\", \"Topic13\", \"Topic13\", \"Topic13\", \"Topic13\", \"Topic13\", \"Topic13\", \"Topic13\", \"Topic14\", \"Topic14\", \"Topic14\", \"Topic14\", \"Topic14\", \"Topic14\", \"Topic14\", \"Topic14\", \"Topic14\", \"Topic14\", \"Topic14\", \"Topic14\", \"Topic14\", \"Topic14\", \"Topic14\", \"Topic14\", \"Topic14\", \"Topic14\", \"Topic14\", \"Topic14\", \"Topic14\", \"Topic14\", \"Topic14\", \"Topic14\", \"Topic14\", \"Topic14\", \"Topic14\", \"Topic14\", \"Topic14\", \"Topic14\", \"Topic14\", \"Topic14\", \"Topic14\", \"Topic14\", \"Topic14\", \"Topic14\", \"Topic14\", \"Topic14\", \"Topic14\", \"Topic14\", \"Topic14\", \"Topic14\", \"Topic14\", \"Topic14\", \"Topic14\", \"Topic14\", \"Topic14\", \"Topic15\", \"Topic15\", \"Topic15\", \"Topic15\", \"Topic15\", \"Topic15\", \"Topic15\", \"Topic15\", \"Topic15\", \"Topic15\", \"Topic15\", \"Topic15\", \"Topic15\", \"Topic15\", \"Topic15\", \"Topic15\", \"Topic15\", \"Topic15\", \"Topic15\", \"Topic15\", \"Topic15\", \"Topic15\", \"Topic15\", \"Topic15\", \"Topic15\", \"Topic15\", \"Topic15\", \"Topic15\", \"Topic15\", \"Topic15\", \"Topic15\", \"Topic15\", \"Topic15\", \"Topic15\", \"Topic15\", \"Topic15\", \"Topic15\", \"Topic15\", \"Topic15\", \"Topic15\", \"Topic15\", \"Topic15\", \"Topic15\", \"Topic15\", \"Topic15\", \"Topic15\", \"Topic16\", \"Topic16\", \"Topic16\", \"Topic16\", \"Topic16\", \"Topic16\", \"Topic16\", \"Topic16\", \"Topic16\", \"Topic16\", \"Topic16\", \"Topic16\", \"Topic16\", \"Topic16\", \"Topic16\", \"Topic16\", \"Topic16\", \"Topic16\", \"Topic16\", \"Topic16\", \"Topic16\", \"Topic16\", \"Topic16\", \"Topic16\", \"Topic16\", \"Topic16\", \"Topic16\", \"Topic16\", \"Topic16\", \"Topic16\", \"Topic16\", \"Topic16\", \"Topic16\", \"Topic16\", \"Topic16\", \"Topic16\", \"Topic16\", \"Topic16\", \"Topic16\", \"Topic16\", \"Topic16\", \"Topic16\", \"Topic16\"], \"logprob\": [30.0, 29.0, 28.0, 27.0, 26.0, 25.0, 24.0, 23.0, 22.0, 21.0, 20.0, 19.0, 18.0, 17.0, 16.0, 15.0, 14.0, 13.0, 12.0, 11.0, 10.0, 9.0, 8.0, 7.0, 6.0, 5.0, 4.0, 3.0, 2.0, 1.0, -4.7722, -3.9257, -3.5638, -4.1133, -3.9878, -4.8788, -4.3895, -3.4863, -4.5974, -5.2811, -5.3896, -5.3, -4.5159, -5.1581, -4.7892, -5.2626, -4.4486, -5.5972, -5.4213, -2.7671, -4.848, -5.3792, -5.2905, -5.443, -4.4049, -4.6556, -5.3896, -4.9635, -5.4213, -5.1664, -3.9501, -3.1798, -3.6459, -4.5072, -2.0438, -4.5334, -4.3482, -4.4733, -3.7844, -3.9904, -4.125, -4.0847, -4.2704, -4.3445, -4.6261, -4.4901, -4.761, -3.8293, -3.3922, -3.7435, -4.1762, -2.6219, -3.8432, -3.4758, -3.39, -4.9558, -4.687, -4.9244, -5.2506, -3.734, -2.1767, -5.4386, -4.3634, -4.6951, -3.6243, -5.7613, -5.5672, -5.8614, -3.6557, -2.9034, -6.0024, -5.0803, -5.4737, -3.9777, -6.1316, -4.3062, -5.5478, -5.4737, -4.2211, -5.2944, -3.3702, -3.3877, -3.4929, -4.3932, -3.8716, -3.0192, -4.1147, -3.8573, -3.9195, -4.3693, -4.4622, -4.6164, -4.4462, -4.4953, -3.7373, -4.6013, -4.7339, -4.2755, -5.3132, -3.4174, -3.8191, -5.4631, -5.3006, -2.8347, -4.4897, -5.7313, -4.7774, -3.4761, -3.7038, -2.568, -4.9731, -2.839, -5.6936, -4.0128, -4.1855, -2.9351, -5.605, -5.5395, -5.4485, -1.8495, -5.6221, -5.3006, -3.192, -3.5069, -4.35, -3.6988, -4.4953, -4.5122, -4.5352, -4.2711, -4.0302, -4.6522, -4.6013, -4.672, -4.9154, -5.1957, -4.5684, -4.6389, -4.5528, -4.4688, -3.8805, -5.3098, -5.4512, -4.4831, -5.4139, -5.4386, -5.2988, -5.3433, -4.6057, -5.2988, -4.6333, -5.378, -4.5528, -5.3898, -5.0004, -4.9007, -4.7772, -5.5301, -4.418, -5.8132, -5.743, -4.0216, -5.6309, -4.5896, -3.9772, -4.8862, -4.6277, -1.892, -4.5324, -3.8343, -3.2768, -3.5144, -4.4831, -3.4611, -4.3654, -4.45, -4.3611, -4.3913, -3.9235, -4.2794, -4.4594, -4.2755, -4.34, -4.5426, -4.5842, -4.5632, -4.279, -4.3976, -4.7786, -4.005, -4.1669, -4.4606, -3.2374, -4.3205, -3.5808, -4.6189, -3.4264, -5.6618, -4.8845, -5.6754, -4.848, -5.4661, -2.8256, -4.693, -5.3708, -4.4853, -5.6618, -5.4441, -6.0146, -5.4441, -5.4441, -3.2091, -4.2858, -5.1701, -4.929, -5.6092, -2.9476, -4.4365, -4.3241, -3.9523, -2.3656, -3.6597, -3.5978, -4.0939, -4.7955, -3.9257, -4.5543, -4.0827, -4.5907, -4.39, -4.7242, -4.6, -4.6047, -3.9626, -3.7955, -4.6676, -4.1253, -2.9666, -4.8231, -3.4138, -4.1976, -5.1651, -5.1521, -4.0321, -3.4069, -4.303, -4.4987, -5.385, -5.3062, -5.2474, -5.385, -4.8138, -5.385, -4.5261, -5.5838, -4.6517, -3.8022, -5.03, -4.5055, -5.604, -5.7822, -5.0892, -3.8505, -2.8961, -3.9947, -2.955, -3.0298, -4.0888, -3.4115, -4.0579, -4.1441, -4.3485, -4.3601, -3.872, -3.7789, -3.9391, -4.1729, -4.1778, -4.3086, -4.427, -4.4461, -3.7834, -3.0916, -4.5982, -4.7167, -4.7368, -4.7036, -2.5122, -5.4435, -5.2453, -5.4032, -3.4518, -4.1393, -3.935, -4.5355, -4.6651, -2.5663, -5.7266, -4.8898, -4.5355, -3.7886, -4.4818, -4.6778, -5.7086, -5.5908, -5.9962, -5.9497, -5.4165, -5.0993, -5.9272, -5.0993, -4.0711, -3.122, -3.2868, -3.3108, -2.4687, -3.3884, -3.9259, -4.4765, -4.53, -4.2745, -4.2873, -4.616, -4.4508, -4.5137, -4.6778, -2.9141, -3.3189, -4.1476, -4.143, -4.5036, -4.9424, -4.4905, -4.5858, -5.5383, -4.8361, -5.1086, -5.5383, -5.0731, -5.502, -5.0731, -4.6446, -5.6772, -5.0276, -4.5102, -5.6987, -5.6772, -4.8453, -5.52, -4.9024, -3.9107, -2.985, -6.0307, -5.1967, -5.6561, -4.27, -2.0348, -3.1871, -3.1627, -3.3454, -3.4544, -4.143, -3.7375, -3.8105, -4.3125, -4.3742, -4.1248, -4.38, -4.6754, -4.143, -4.5576, -4.7072, -4.7483, -4.7483, -4.2012, -3.7517, -4.3308, -4.1443, -3.962, -4.6271, -3.2323, -4.7835, -5.4141, -5.1151, -2.9679, -4.6766, -4.9887, -3.82, -5.6525, -5.4294, -2.7011, -3.7868, -5.7119, -2.6637, -2.7559, -4.8853, -5.8195, -3.9584, -5.6917, -2.9081, -5.7119, -5.1264, -4.8589, -5.9401, -3.3675, -4.1878, -3.331, -2.4215, -3.6958, -3.6931, -3.8641, -3.9479, -4.7835, -4.634, -4.5932, -4.6838, -4.5932, -4.6271, -4.7596, -3.627, -2.7091, -3.4831, -1.7201, -4.6455, -3.2999, -5.0788, -2.9162, -4.0177, -4.9517, -5.186, -4.3606, -4.4246, -4.0781, -5.48, -4.3857, -3.6968, -5.675, -4.9743, -5.0873, -3.2815, -5.7385, -5.6447, -5.789, -6.2658, -5.6905, -5.6153, -4.8061, -4.6131, -3.115, -5.0873, -3.3393, -2.6649, -4.3857, -4.0089, -3.8834, -4.0384, -4.8659, -4.3731, -4.8523, -4.6238, -4.8591, -4.9743, -3.7917, -4.006, -3.4569, -3.2266, -4.1824, -3.8218, -4.7366, -2.4092, -4.7676, -5.037, -5.1929, -4.1565, -4.7139, -4.8243, -4.8243, -5.5512, -5.2942, -4.9296, -4.7597, -5.6413, -4.9113, -5.3212, -5.8274, -2.8713, -4.1868, -4.6011, -5.9227, -5.6043, -3.777, -5.0474, -4.1737, -3.9593, -3.8752, -3.1426, -2.6253, -4.386, -3.4464, -3.6405, -3.7092, -3.9316, -4.0208, -4.0666, -4.5683, -4.6559, -4.7139, -1.8864, -3.6494, -3.9673, -4.2653, -4.2208, -4.4915, -4.4509, -4.7706, -4.6666, -3.9253, -5.0006, -5.2003, -5.2655, -5.0907, -4.4559, -4.9751, -5.5346, -3.8654, -4.8638, -5.52, -3.3326, -5.6766, -5.3115, -4.8944, -3.7753, -5.842, -5.9928, -5.3597, -5.4501, -5.8828, -4.6243, -4.8125, -4.942, -4.3161, -4.1448, -3.7021, -3.7603, -4.5072, -4.6125, -4.0538, -4.0372, -4.5724, -4.6604, -4.2489, -4.5837, -4.3976, -4.3651, -4.5951, -4.4459, -4.6543, -3.2874, -2.4186, -4.0281, -4.3676, -4.6571, -5.0997, -5.0772, -3.9936, -4.7488, -5.0024, -5.1227, -5.2866, -2.6565, -5.7483, -5.6067, -5.0884, -4.8857, -5.8157, -5.2076, -2.7463, -6.0505, -5.888, -5.7927, -5.4339, -4.6283, -5.8393, -5.1227, -3.769, -5.6649, -6.1756, -3.122, -4.2688, -3.2528, -3.4657, -4.2888, -4.3248, -4.5272, -3.5321, -3.8535, -4.1007, -4.4895, -4.2018, -4.299, -4.3144, -4.6498, -4.4296, -4.6213, -4.7019, -4.8766, -4.3306, -3.823, -3.9766, -3.8762, -3.9109, -3.4165, -3.6592, -4.72, -3.58, -4.0112, -4.9412, -4.736, -2.8182, -4.2481, -4.2333, -5.0789, -5.2796, -5.3077, -5.2387, -4.181, -5.4787, -4.8928, -5.5131, -5.0237, -3.8133, -4.9412, -3.7041, -5.7275, -5.4787, -5.6243, -4.0389, -4.8114, -3.9653, -3.0038, -4.4383, -4.0715, -2.7287, -4.4443, -4.195, -4.7121, -4.4811, -4.1358, -4.3414, -4.3199, -4.195, -4.5727, -4.5659, -2.7822, -3.2606, -3.2421, -3.7529, -4.8865, -4.8747, -4.0916, -4.0495, -4.8065, -5.0406, -4.626, -5.347, -3.5906, -4.7426, -5.2397, -3.4093, -5.4052, -4.84, -5.1584, -5.3283, -5.6283, -3.7491, -3.8793, -4.0495, -3.7761, -3.6136, -4.1583, -4.7222, -4.8287, -5.6796, -4.626, -2.9788, -4.0444, -3.4203, -3.9703, -4.1356, -3.4538, -3.6614, -3.7919, -3.8621, -4.3067, -4.6169, -4.3406, -4.626, -4.6445, -4.5467, -4.1571, -4.312, -4.3733, -3.4298, -4.6123, -4.6648, -2.8329, -3.799, -3.8454, -4.1758, -3.2999, -5.2015, -4.6197, -4.989, -3.6216, -5.3127, -3.9489, -3.4921, -4.7448, -5.5619, -4.9473, -5.5809, -3.5765, -3.6744, -5.7035, -5.1014, -5.4379, -5.8686, -2.8553, -5.9486, -2.6602, -3.8764, -2.9545, -3.7926, -4.077, -3.5662, -3.9678, -3.0401, -3.8904, -3.8869, -3.9302, -3.9339, -4.4447], \"loglift\": [30.0, 29.0, 28.0, 27.0, 26.0, 25.0, 24.0, 23.0, 22.0, 21.0, 20.0, 19.0, 18.0, 17.0, 16.0, 15.0, 14.0, 13.0, 12.0, 11.0, 10.0, 9.0, 8.0, 7.0, 6.0, 5.0, 4.0, 3.0, 2.0, 1.0, 2.1697, 2.1407, 2.1119, 2.0542, 1.9418, 1.9016, 1.8536, 1.697, 1.6675, 1.6141, 1.5962, 1.555, 1.5106, 1.4493, 1.4407, 1.3961, 1.3627, 1.339, 1.2818, 1.2377, 1.1706, 1.1672, 1.167, 1.092, 1.061, 1.0516, 1.0362, 1.0074, 1.0032, 1.0009, 0.9681, 0.9398, 0.9173, 0.9766, 0.5386, 0.7049, 0.4944, 0.5792, 0.0138, -0.3742, -0.271, -0.3777, -0.384, -0.6533, 0.0214, -0.7139, 0.2592, 2.7822, 2.6344, 2.3647, 2.3483, 2.3301, 2.133, 2.1111, 2.0832, 1.9174, 1.7795, 1.7399, 1.6168, 1.5995, 1.5462, 1.4171, 1.3617, 1.2843, 1.281, 1.2377, 1.191, 1.1507, 0.9761, 0.8779, 0.855, 0.8259, 0.8061, 0.7985, 0.7623, 0.7506, 0.7468, 0.7287, 0.6396, 0.7029, 0.321, 0.3193, 0.1234, 0.435, 0.1607, -0.4367, 0.218, -0.0811, -0.033, 0.2667, 0.1853, -0.1737, 2.116, 1.885, 1.7465, 1.6993, 1.6909, 1.5859, 1.4716, 1.4251, 1.3642, 1.3173, 1.3068, 1.2849, 1.2724, 1.1984, 1.1117, 1.087, 1.0761, 1.0482, 1.0154, 1.015, 1.0096, 1.0074, 0.913, 0.8411, 0.7957, 0.7921, 0.773, 0.7329, 0.7187, 0.7022, 0.6944, 0.2001, 0.3757, 0.0241, 0.3654, 0.3406, 0.2852, 0.0616, -0.232, -0.0047, -0.5964, -0.9809, 1.8739, 1.7353, 1.7262, 1.6927, 1.6495, 1.6312, 1.5773, 1.5577, 1.5498, 1.544, 1.5307, 1.4665, 1.4594, 1.4553, 1.4323, 1.432, 1.4161, 1.4043, 1.3996, 1.3824, 1.313, 1.3099, 1.3062, 1.2782, 1.2651, 1.2086, 1.195, 1.194, 1.1723, 1.1526, 1.1352, 1.1111, 1.0852, 0.6905, 1.0406, 0.7975, 0.5214, 0.5179, 0.9901, 0.3202, 0.8078, 0.7883, 0.5442, 0.4614, -0.2324, 0.1632, 0.3168, -0.2707, -0.4536, 0.0206, 0.4726, -0.7092, 2.1653, 2.1374, 2.0747, 2.0733, 2.0005, 1.9907, 1.5909, 1.4581, 1.4394, 1.4082, 1.3939, 1.2962, 1.283, 1.2543, 1.2184, 1.2056, 1.1793, 1.153, 1.151, 1.0877, 1.0413, 0.9806, 0.9712, 0.9469, 0.9362, 0.9105, 0.8975, 0.8793, 0.8489, 0.8483, 0.7436, 0.8018, 0.7744, 0.6109, 0.2168, 0.3726, 0.1784, 0.3488, 0.6884, -0.1444, 0.349, -0.2844, 0.3146, -0.536, 0.4914, -0.8771, -0.9885, 2.369, 2.1569, 2.0584, 1.9747, 1.8862, 1.8673, 1.7802, 1.7769, 1.7658, 1.7175, 1.651, 1.6254, 1.5818, 1.5393, 1.5089, 1.466, 1.4442, 1.4182, 1.418, 1.4136, 1.2852, 1.272, 1.2672, 1.251, 1.1916, 1.1415, 1.1268, 1.1164, 1.1132, 1.0528, 0.9579, 0.9573, 0.8264, 0.7684, 0.8165, 0.475, 0.6678, 0.6321, 0.7639, 0.6967, 0.1603, -0.1627, -0.1629, 0.2697, -0.4549, -0.6174, 0.2048, -0.7391, 2.6722, 2.3888, 1.8263, 1.8093, 1.6814, 1.5282, 1.52, 1.4945, 1.4794, 1.4663, 1.4535, 1.4198, 1.4066, 1.3535, 1.3094, 1.232, 1.1673, 1.1609, 1.1186, 1.1147, 1.1051, 1.0878, 1.0223, 1.0094, 1.0028, 0.9471, 0.9243, 0.8716, 0.8575, 0.8569, 0.7051, 0.5691, 0.4946, 0.4654, 0.1138, 0.3345, 0.4067, 0.5558, 0.1175, -0.388, -0.4333, -0.1734, -0.8346, -0.8067, -0.5582, 2.8913, 2.7662, 2.6888, 2.4572, 2.4326, 1.7479, 1.7393, 1.4925, 1.4607, 1.4471, 1.4159, 1.3174, 1.1918, 1.1896, 1.1485, 1.1332, 1.1076, 1.0805, 1.0628, 1.0197, 0.9946, 0.966, 0.8808, 0.8761, 0.8692, 0.869, 0.8388, 0.8299, 0.8103, 0.6821, 0.5477, 0.504, 0.4535, 0.4308, 0.432, 0.5827, -0.0305, -0.0291, 0.2506, 0.2733, -0.0925, 0.0627, 0.5079, -0.42, 0.2849, 0.4868, 0.4249, 0.3502, 2.3452, 2.1429, 2.1104, 2.0286, 1.8995, 1.6527, 1.6103, 1.5573, 1.4827, 1.4453, 1.3647, 1.3262, 1.3119, 1.2123, 1.2104, 1.0967, 1.0751, 1.0739, 1.0729, 1.0593, 0.9511, 0.8803, 0.8712, 0.8215, 0.7266, 0.7081, 0.6889, 0.6591, 0.625, 0.6222, 0.5001, 0.5379, 0.3602, 0.1609, 0.1906, 0.0883, 0.1682, 0.1717, 0.55, 0.3862, 0.183, 0.1365, -0.795, -0.6223, -0.1965, 2.4414, 2.1959, 2.1492, 2.1474, 2.0832, 1.8773, 1.7202, 1.7198, 1.6896, 1.5947, 1.5722, 1.569, 1.47, 1.3877, 1.3258, 1.2967, 1.2214, 1.2202, 1.1488, 1.1233, 0.8381, 0.8104, 0.7965, 0.7391, 0.72, 0.7005, 0.6886, 0.6517, 0.6253, 0.592, 0.5883, 0.3518, -0.0825, 0.2461, -0.0041, -0.0852, -0.257, 0.2464, -0.6501, 0.2002, -0.8476, -0.2116, -0.1136, 2.694, 2.6604, 2.5938, 2.4275, 2.378, 2.3306, 2.2755, 1.9235, 1.9231, 1.788, 1.6645, 1.6091, 1.5658, 1.4797, 1.4406, 1.3116, 1.3111, 1.3022, 1.2696, 1.2119, 1.0916, 1.0795, 1.059, 1.0151, 0.9863, 0.958, 0.9505, 0.9421, 0.8705, 0.8588, 0.8587, 0.7663, 0.7566, 0.5804, -0.0428, 0.6708, 0.1698, 0.0665, 0.067, 0.1007, -0.2394, -0.2684, 0.544, 0.5467, 0.6669, 2.681, 2.6807, 2.6806, 2.6127, 2.5944, 2.4018, 2.0772, 1.9542, 1.9085, 1.8603, 1.8005, 1.7359, 1.6791, 1.4414, 1.322, 1.3081, 1.2644, 1.2332, 1.2196, 1.1873, 1.11, 1.0957, 1.0795, 1.0765, 1.045, 1.0444, 1.029, 1.0207, 0.9745, 0.9538, 0.9487, 0.8198, 0.8002, 0.5892, 0.5028, 0.0961, 0.1262, 0.5453, 0.5646, -0.2724, -0.421, 0.3309, 0.4519, -0.5577, 0.2588, -0.278, -0.5111, 0.1305, -0.723, -0.0225, 2.8624, 2.7149, 2.6903, 2.5392, 2.1795, 1.7971, 1.7777, 1.7136, 1.677, 1.5728, 1.4237, 1.4207, 1.3483, 1.2527, 1.1944, 1.1546, 1.0673, 0.99, 0.9653, 0.9449, 0.9353, 0.9203, 0.8979, 0.8493, 0.8375, 0.8194, 0.7962, 0.7942, 0.7925, 0.7662, 0.585, 0.6494, 0.5234, 0.3883, 0.5315, 0.5034, 0.493, 0.0841, -0.0722, -0.0684, 0.158, -0.3343, -0.4126, -0.5162, 0.1301, -0.7067, -0.1786, 0.0238, 0.1759, 2.5366, 2.5154, 2.35, 2.313, 2.2862, 2.266, 2.247, 2.1757, 2.067, 2.0269, 1.9878, 1.8693, 1.8178, 1.7706, 1.7461, 1.7104, 1.7098, 1.5968, 1.5696, 1.502, 1.3199, 1.3178, 1.2901, 1.2897, 1.2435, 1.2113, 1.1992, 1.1664, 1.1619, 1.1579, 1.1343, 1.1416, 1.0879, 0.8637, 1.0195, 0.7047, -0.1463, 0.8892, 0.6332, 1.0665, 0.7572, 0.3068, 0.5114, 0.3119, -0.4137, -0.5404, -0.6794, 3.106, 3.1059, 2.52, 2.4524, 2.0087, 1.9264, 1.8967, 1.8694, 1.7686, 1.618, 1.5711, 1.5598, 1.508, 1.4789, 1.4676, 1.4514, 1.4498, 1.4431, 1.3737, 1.3624, 1.3097, 1.3035, 1.2979, 1.1531, 1.1288, 1.112, 1.0356, 1.0199, 1.0173, 1.0131, 1.0063, 0.7282, 0.8739, 0.4338, 0.6772, 0.6847, 0.1624, 0.225, 0.0756, -0.1391, 0.0259, 0.849, -0.5424, 0.7549, 0.5711, -0.7653, 2.6894, 2.5926, 2.5253, 2.2953, 2.2831, 2.2309, 2.2204, 2.1895, 2.134, 2.0134, 1.8941, 1.7878, 1.7188, 1.6753, 1.5811, 1.5501, 1.3847, 1.3607, 1.2817, 1.2632, 1.2498, 1.2223, 1.2034, 1.1863, 1.1637, 1.051, 1.0286, 0.9989, 0.9987, 0.9804, 0.956, 0.8999, 0.7525, 0.6501, 0.6486, 0.1567, 0.3648, -0.4577, -0.004, -0.0887, -0.154, -0.1526, -0.5772]}, \"token.table\": {\"Topic\": [1, 2, 4, 5, 7, 10, 12, 14, 15, 1, 3, 4, 7, 11, 1, 3, 4, 5, 8, 9, 11, 13, 16, 2, 4, 6, 7, 11, 12, 14, 16, 1, 3, 5, 8, 13, 14, 1, 3, 5, 1, 4, 13, 15, 16, 2, 14, 15, 16, 2, 4, 8, 11, 12, 14, 16, 1, 2, 3, 4, 7, 9, 11, 12, 13, 16, 1, 4, 5, 6, 8, 10, 12, 13, 14, 15, 1, 8, 14, 15, 12, 2, 8, 15, 1, 2, 4, 6, 9, 11, 12, 16, 1, 4, 10, 11, 12, 13, 14, 15, 1, 3, 4, 5, 10, 12, 13, 15, 6, 7, 8, 11, 12, 4, 7, 11, 12, 5, 8, 10, 11, 13, 1, 2, 4, 5, 11, 14, 16, 3, 5, 6, 7, 10, 13, 14, 16, 1, 4, 5, 7, 8, 10, 12, 13, 2, 9, 11, 12, 1, 2, 3, 4, 5, 6, 7, 8, 9, 10, 11, 12, 13, 14, 15, 16, 2, 3, 6, 7, 8, 9, 12, 13, 1, 4, 7, 12, 14, 15, 4, 6, 7, 12, 13, 14, 2, 6, 11, 14, 16, 2, 6, 9, 11, 13, 15, 2, 3, 7, 9, 11, 12, 15, 16, 4, 5, 6, 7, 8, 10, 11, 12, 14, 15, 16, 1, 3, 4, 5, 7, 8, 11, 13, 16, 1, 2, 3, 4, 5, 6, 7, 8, 9, 10, 11, 12, 13, 15, 16, 1, 2, 3, 9, 10, 11, 13, 16, 1, 2, 4, 5, 6, 9, 11, 12, 15, 2, 3, 7, 9, 11, 12, 16, 4, 5, 6, 12, 14, 16, 1, 2, 3, 4, 8, 9, 11, 12, 13, 15, 4, 5, 6, 7, 8, 12, 14, 15, 1, 3, 5, 7, 13, 1, 3, 5, 7, 13, 1, 2, 9, 10, 11, 12, 2, 6, 8, 11, 14, 15, 2, 3, 4, 5, 7, 8, 9, 12, 13, 14, 15, 16, 1, 4, 5, 6, 12, 13, 14, 16, 1, 4, 5, 6, 7, 10, 12, 14, 14, 16, 1, 3, 7, 8, 11, 12, 15, 16, 1, 4, 5, 6, 7, 9, 11, 12, 14, 15, 5, 13, 15, 3, 4, 6, 7, 8, 9, 12, 13, 15, 1, 5, 6, 8, 9, 11, 12, 13, 15, 16, 1, 4, 5, 6, 10, 12, 14, 15, 2, 3, 5, 7, 8, 12, 13, 14, 15, 1, 3, 5, 6, 8, 12, 15, 16, 2, 3, 4, 6, 7, 8, 9, 10, 11, 13, 14, 15, 16, 3, 4, 5, 6, 8, 11, 13, 14, 16, 1, 4, 6, 13, 14, 15, 4, 12, 1, 4, 7, 11, 12, 13, 14, 2, 4, 5, 6, 11, 12, 2, 3, 4, 7, 11, 12, 15, 1, 9, 14, 16, 2, 3, 5, 6, 7, 9, 11, 12, 13, 1, 12, 1, 3, 4, 5, 7, 8, 9, 10, 11, 12, 13, 15, 1, 2, 4, 5, 6, 7, 10, 11, 12, 13, 14, 1, 4, 5, 10, 11, 12, 13, 14, 15, 1, 2, 3, 5, 6, 7, 8, 9, 10, 11, 13, 14, 15, 16, 1, 3, 4, 5, 7, 8, 9, 10, 13, 2, 3, 4, 5, 7, 8, 9, 12, 14, 16, 1, 2, 4, 5, 6, 7, 8, 9, 10, 11, 12, 13, 14, 15, 16, 2, 11, 14, 16, 1, 2, 3, 4, 5, 8, 9, 10, 11, 12, 14, 15, 2, 4, 6, 7, 10, 11, 14, 1, 2, 4, 5, 6, 7, 9, 10, 11, 12, 13, 14, 15, 1, 2, 3, 4, 5, 6, 7, 8, 9, 12, 13, 14, 15, 16, 1, 2, 3, 5, 6, 7, 8, 9, 10, 11, 12, 13, 14, 15, 16, 1, 3, 4, 5, 9, 15, 4, 5, 7, 10, 12, 2, 3, 4, 6, 7, 8, 9, 12, 14, 15, 16, 1, 4, 5, 8, 12, 13, 14, 15, 1, 3, 5, 7, 12, 13, 15, 1, 5, 13, 1, 4, 5, 7, 8, 12, 13, 1, 3, 4, 5, 6, 8, 12, 13, 14, 15, 16, 1, 2, 4, 5, 6, 7, 8, 12, 13, 15, 1, 4, 5, 8, 11, 12, 13, 1, 5, 13, 2, 6, 7, 9, 10, 11, 13, 15, 16, 1, 4, 5, 8, 10, 11, 12, 14, 15, 2, 14, 15, 16, 3, 4, 5, 7, 12, 15, 16, 1, 5, 11, 12, 13, 15, 2, 4, 6, 8, 10, 15, 1, 4, 5, 6, 7, 10, 11, 12, 13, 14, 15, 1, 4, 8, 11, 10, 12, 13, 14, 15, 4, 5, 6, 7, 8, 12, 1, 6, 7, 8, 11, 15, 1, 3, 5, 8, 9, 11, 12, 15, 1, 3, 5, 7, 8, 9, 15, 1, 2, 3, 4, 5, 6, 7, 8, 9, 10, 11, 12, 13, 14, 15, 16, 1, 3, 4, 6, 7, 12, 14, 1, 3, 4, 5, 6, 8, 10, 11, 12, 13, 15, 1, 3, 4, 5, 6, 7, 12, 13, 15, 1, 2, 3, 4, 6, 7, 8, 9, 10, 11, 12, 13, 14, 15, 16, 1, 2, 3, 4, 5, 6, 7, 8, 9, 11, 12, 13, 15, 1, 2, 3, 4, 5, 6, 7, 8, 9, 10, 11, 12, 13, 14, 15, 16, 1, 5, 6, 8, 12, 13, 14, 1, 3, 4, 5, 7, 11, 12, 13, 16, 2, 4, 10, 12, 1, 2, 7, 9, 11, 13, 1, 4, 6, 8, 11, 12, 13, 15, 16, 1, 7, 1, 4, 6, 12, 13, 15, 16, 1, 3, 4, 5, 7, 1, 5, 6, 7, 12, 3, 4, 6, 12, 14, 15, 4, 5, 6, 7, 8, 12, 13, 1, 10, 13, 1, 3, 4, 5, 6, 7, 8, 10, 12, 13, 14, 15, 1, 2, 4, 5, 6, 7, 8, 12, 14, 16, 1, 3, 6, 8, 9, 10, 11, 12, 13, 15, 16, 1, 3, 4, 5, 6, 7, 9, 10, 11, 12, 13, 14, 15, 16, 1, 5, 6, 10, 12, 2, 4, 5, 6, 7, 8, 12, 1, 4, 5, 6, 7, 10, 11, 13, 14, 2, 4, 9, 10, 11, 13, 14, 15, 16, 4, 5, 6, 7, 8, 9, 12, 1, 5, 13, 1, 2, 3, 4, 5, 6, 7, 8, 9, 10, 11, 13, 14, 4, 6, 12, 14, 1, 3, 4, 10, 11, 12, 13, 16, 1, 2, 3, 5, 7, 8, 9, 10, 11, 12, 13, 15, 16, 1, 2, 4, 11, 12, 14, 15, 16, 11, 14, 15, 16, 1, 4, 12, 13, 14, 15, 8, 12, 2, 5, 7, 12, 13, 14, 15, 16, 3, 4, 6, 8, 11, 12, 13, 14, 16, 1, 4, 5, 7, 8, 10, 12, 13, 14, 6, 8, 12, 13, 14, 15, 16, 1, 3, 5, 7, 8, 12, 13, 2, 4, 5, 6, 7, 8, 9, 10, 12, 14, 15, 16, 3, 6, 7, 8, 13, 14, 15, 16, 1, 4, 12, 14, 15, 16, 4, 5, 10, 12, 14, 1, 3, 4, 5, 6, 11, 12, 14, 1, 4, 8, 10, 11, 12, 13, 14, 2, 9, 11, 12, 14, 16, 1, 2, 3, 5, 6, 7, 8, 9, 10, 12, 13, 15, 16, 6, 7, 11, 1, 3, 5, 6, 8, 9, 10, 12, 13, 15, 5, 6, 7, 12, 1, 6, 10, 12, 14, 1, 4, 5, 6, 10, 12, 14, 1, 4, 5, 9, 10, 11, 12, 13, 14, 15, 16, 1, 10, 15, 1, 3, 4, 5, 7, 9, 10, 12, 1, 3, 5, 7, 12, 1, 3, 4, 5, 7, 9, 12, 13, 2, 6, 11, 12, 16, 2, 4, 8, 10, 11, 12, 13, 14, 15, 2, 6, 8, 11, 15, 2, 4, 6, 7, 11, 12, 14, 16, 4, 6, 7, 12, 14, 14, 16, 1, 10, 11, 12, 14, 16, 14, 16, 4, 8, 12, 13, 15, 2, 7, 14, 16, 4, 14, 16, 15, 1, 2, 3, 4, 5, 7, 8, 9, 10, 11, 14, 16, 1, 3, 5, 6, 7, 8, 10, 11, 12, 13, 15, 3, 4, 8, 11, 12, 13, 14, 16, 9, 10, 11, 13, 14, 15, 16, 8, 13, 16, 1, 10, 12, 13, 14, 15, 2, 5, 6, 7, 8, 9, 10, 11, 14, 15, 16, 1, 9, 10, 13, 15, 2, 8, 15, 1, 6, 7, 10, 13, 15, 1, 6, 7, 8, 9, 13, 15, 16, 1, 3, 4, 5, 7, 8, 11, 13, 2, 6, 8, 9, 10, 11, 14, 15, 16, 4, 5, 6, 12, 14, 3, 4, 6, 8, 11, 12, 13, 15, 5, 6, 8, 11, 12, 13, 14, 1, 4, 8, 11, 12, 13, 14, 1, 4, 5, 6, 8, 12, 1, 4, 5, 7, 11, 12, 13, 15, 4, 5, 7, 8, 12, 4, 5, 6, 7, 10, 14, 12, 13, 15, 1, 2, 3, 4, 7, 8, 9, 10, 11, 12, 16, 2, 3, 6, 7, 8, 9, 11, 12, 7, 9, 11, 13, 15, 1, 8, 9, 11, 12, 1, 3, 5, 6, 8, 1, 2, 4, 5, 6, 10, 11, 12, 13, 14, 1, 4, 5, 7, 8, 12, 13, 14, 1, 2, 4, 5, 9, 12, 13, 14, 5, 7, 8, 9, 15, 2, 4, 7, 14, 16, 1, 6, 12, 13, 15, 1, 4, 5, 6, 8, 11, 12, 13, 14, 15, 1, 2, 4, 5, 6, 7, 8, 10, 11, 12, 13, 14, 15, 1, 7, 10, 11, 13, 14, 15, 1, 2, 4, 5, 6, 7, 8, 9, 10, 12, 13, 14, 15, 16, 1, 4, 5, 10, 13, 1, 3, 5, 9, 12, 9, 10, 11, 16, 1, 4, 5, 6, 7, 8, 10, 12, 13, 14, 4, 5, 8, 11, 12, 14, 1, 3, 4, 5, 7, 8, 12, 13, 15, 1, 5, 10, 12, 13, 1, 3, 5, 6, 8, 9, 12, 13, 15, 2, 4, 11, 14, 16, 1, 3, 4, 5, 7, 9, 10, 13, 1, 2, 3, 4, 5, 6, 7, 8, 9, 10, 11, 12, 13, 14, 15, 12, 4, 12, 13, 15, 1, 2, 3, 4, 5, 6, 7, 8, 9, 10, 11, 12, 13, 1, 4, 5, 6, 8, 12, 14, 1, 3, 5, 9, 12, 15, 1, 3, 5, 6, 7, 8, 10, 11, 12, 13, 14, 15, 7, 11, 2, 3, 4, 12, 13, 16, 1, 4, 7, 10, 11, 12, 13, 15, 4, 5, 10, 12, 13, 1, 3, 4, 5, 7, 9, 12, 13, 15, 16, 3, 5, 9, 12, 15, 3, 4, 5, 6, 8, 13, 14, 16, 12, 4, 6, 7, 10, 11, 12, 13, 14, 2, 4, 5, 6, 7, 8, 12], \"Freq\": [0.05436630986202742, 0.09363086698460278, 0.16611928013397267, 0.12081402191561649, 0.08759016588882196, 0.09363086698460278, 0.15403787794241103, 0.18122103287342475, 0.0483256087662466, 0.136322916656349, 0.02650723379429008, 0.10224218749226173, 0.7261088685793032, 0.008520182291021812, 0.0974340180440856, 0.14020992840490365, 0.030893713038368603, 0.15446856519184302, 0.13070417054694408, 0.11644553376000473, 0.17348008090776215, 0.06891674447020688, 0.09030469965061591, 0.05927008561474085, 0.1453794552814398, 0.1655089183204084, 0.07716294164937959, 0.003354910506494765, 0.017892856034638745, 0.44620309736380376, 0.08499106616453404, 0.34853386812251524, 0.06409818264322119, 0.18828841151446224, 0.3104755721781027, 0.08613193292682848, 0.002003068207600662, 0.7025240308767299, 0.013608213673156995, 0.28237043371800763, 0.7225822425270947, 0.0816477110200107, 0.12247156653001605, 0.06531816881600856, 0.004082385551000535, 0.1886736974805755, 0.3243316452558653, 0.03118573512075628, 0.45531173276304165, 0.35448939890676895, 0.1791505564367542, 0.022870283800436708, 0.15246855866957804, 0.11816313296892299, 0.16771541453653585, 0.003811713966739451, 0.05108044032085171, 0.03831033024063878, 0.12610483704210265, 0.11971978200199619, 0.07502439672125095, 0.21868813512364638, 0.17558901360292775, 0.028732747680479086, 0.06225428664103802, 0.10375714440173003, 0.08529346619636373, 0.30103576304598967, 0.20236292960313748, 0.058534731703386876, 0.0468277853627095, 0.03846568083365423, 0.10034525434866322, 0.07693136166730846, 0.09031072891379689, 0.9991935159408298, 0.316623079609376, 0.6210683484645453, 0.004059270251402257, 0.056829783519631596, 0.9986833719663106, 0.03639608616220065, 0.8683066270125013, 0.09532308280576361, 0.01131684263159135, 0.08299017929833656, 0.0679010557895481, 0.08299017929833656, 0.19238632473705292, 0.21879229087743274, 0.08676246017553367, 0.2527428187722068, 0.052431784886778236, 0.05802450860803458, 0.48307151142351684, 0.029361799536595814, 0.12024356000701143, 0.021671804419868337, 0.07060813698086137, 0.1635871688467481, 0.23886031267983182, 0.003732192385622372, 0.080242136290881, 0.07371079961604185, 0.295776246560573, 0.07091165532682507, 0.13155978159318862, 0.10450138679742642, 0.03716984013081794, 0.20387094132357722, 0.013516305502115616, 0.6668044047710371, 0.07884511542900777, 0.00517439126978177, 0.0853774559513992, 0.8692977333233374, 0.03880793452336328, 0.6662009080088903, 0.24272436183269647, 0.008607246873499874, 0.0206573924963997, 0.061972177489199094, 0.2659657352419555, 0.04703052635376042, 0.13298286762097775, 0.03567833033733549, 0.11514370245231, 0.3324571690524443, 0.07135666067467097, 0.04034497861946315, 0.12258666580529187, 0.31344944927429064, 0.24672506155748616, 0.027931139044243717, 0.04965535830087772, 0.08534514707963359, 0.11482801607077973, 0.16061004169266926, 0.03951516898787895, 0.19502647919824126, 0.045888583340762644, 0.16953282178670645, 0.05863541204653005, 0.25748593985650153, 0.0726569236228742, 0.06133329290843769, 0.24533317163375076, 0.6328480677370616, 0.05854541595805416, 0.01956239987787546, 0.1256840912507751, 0.02198606003973614, 0.10058189671721808, 0.07253668627283025, 0.12100988951004378, 0.1092378258667205, 0.052974286394954787, 0.06318828279136764, 0.05712913238671595, 0.046222661658342906, 0.05210869348000455, 0.05314740497794484, 0.03739361392585044, 0.0207742299588058, 0.046222661658342906, 0.05233313203607738, 0.2721322865876024, 0.05582200750514921, 0.15699939610823216, 0.1639771470463758, 0.17095489798451946, 0.08722188672679564, 0.03837763015979008, 0.12465727174910765, 0.18969584831385947, 0.08671810208633576, 0.2899636538511852, 0.13278709381970163, 0.1761461448628695, 0.16854530228492304, 0.5655138431928338, 0.017741610766834004, 0.06209563768391901, 0.04435402691708501, 0.13971518478881778, 0.8449544640393387, 0.05867739333606519, 0.011735478667213037, 0.023470957334426074, 0.06161126300286845, 0.022230154825444895, 0.12067798333812943, 0.13973240175993934, 0.4033185232616431, 0.13973240175993934, 0.17466550219992416, 0.06489525678525274, 0.0666979028070653, 0.10004685421059796, 0.22653251674111372, 0.4025909448714753, 0.015322491185406895, 0.04596747355622069, 0.07751377893794076, 0.16362872800735237, 0.0814662177738733, 0.07102183087978697, 0.06545149120294094, 0.08355509515269056, 0.041081255116739525, 0.15736209587090055, 0.055703396768460374, 0.1754656998206502, 0.030636868222653206, 0.07450329317781576, 0.08690210474758513, 0.19089970551108865, 0.07692973207163273, 0.07265585806765314, 0.25785706490676896, 0.06838198406367355, 0.09402522808755112, 0.09117597875156472, 0.061258860723707544, 0.04047291781050994, 0.04822305100826717, 0.14553027893566342, 0.007061232469067692, 0.10006283084215437, 0.044950772546991896, 0.10609071221818776, 0.08404588890012278, 0.169641804439797, 0.031689433519718424, 0.0628621914929197, 0.009644610201653433, 0.09644610201653434, 0.007061232469067692, 0.04615634882219857, 0.10028159454778918, 0.07000790562770189, 0.10217370010529464, 0.4408605948987713, 0.049194744495141864, 0.06622369451269097, 0.14947633904293103, 0.024597372247570932, 0.16608593337509978, 0.0811117349041185, 0.04248709923549064, 0.10428651630529522, 0.12359883413960915, 0.003862463566862786, 0.16994839694196257, 0.19312317834313927, 0.11587390700588357, 0.11791461802952971, 0.10949214531313474, 0.0610629271938636, 0.30320901779021925, 0.2821528359992318, 0.1263370907459247, 0.002105618179098745, 0.11301650162088, 0.10132513938423723, 0.027279845218833105, 0.05455969043766621, 0.17537043354964138, 0.5300084213944717, 0.03769939627262922, 0.0540904381302941, 0.11637639718942064, 0.09015073021715683, 0.07048147998795898, 0.08851162603139034, 0.20980533577811045, 0.14424116834745093, 0.06884237580219249, 0.11801550137518713, 0.15580225126192568, 0.28044405227146624, 0.056088810454293245, 0.052972765429054734, 0.14645411618621015, 0.08724926070667838, 0.12775784603477905, 0.09348135075715541, 0.5277149254210439, 0.1217803674048563, 0.1217803674048563, 0.04668247417186158, 0.1806408783172035, 0.5523047731166143, 0.23273219999253558, 0.11462929253363692, 0.04863060895366415, 0.04863060895366415, 0.05939048295902785, 0.08908572443854178, 0.47759846712884896, 0.1633238281373266, 0.13857779357106498, 0.07176350024215865, 0.5551211125759586, 0.030150347967384333, 0.1613930391195279, 0.08513039426084988, 0.08158329449998114, 0.08690394414128425, 0.08088026974454021, 0.015288343671224064, 0.0853188211329601, 0.41081258961708533, 0.0419196520017434, 0.03008351496595703, 0.03402889397788582, 0.07397585647366482, 0.09468909628629098, 0.10652523332207735, 0.009370275153330878, 0.01726103317718846, 0.0497547285156755, 0.2345580058596131, 0.003553909179691107, 0.22034236914084865, 0.07107818359382215, 0.031985182617219964, 0.2061267324220842, 0.18124936816424647, 0.038283416357944744, 0.29582639912957304, 0.1392124231197991, 0.1044093173398493, 0.10092900676185433, 0.05568496924791963, 0.08352745387187945, 0.1809761500557388, 0.2792487688803382, 0.7197538690859422, 0.22573079991800943, 0.08812777805018177, 0.15924844103804775, 0.1035887917431961, 0.055659649294851635, 0.20099317800918648, 0.06802846024926311, 0.0989504876352918, 0.04532870593207235, 0.08939828114380935, 0.06925218961844387, 0.023923483686371518, 0.19768352309264886, 0.1397635099572231, 0.2933774578381349, 0.061697405296431806, 0.018886960805030144, 0.059179143855761125, 0.06306859213287468, 0.7252888095280589, 0.21285649844845203, 0.13508284779274823, 0.003973024935080831, 0.17481309714355656, 0.0774739862340762, 0.17282658467601614, 0.03377071194818706, 0.12515028545504617, 0.07946049870161662, 0.19666473428650114, 0.015414759672967212, 0.05395165885538524, 0.04881340563106284, 0.07193554514051366, 0.11175700762901229, 0.10790331771077048, 0.44060521398564617, 0.043675152406740435, 0.08478117820131967, 0.020553012897289617, 0.10590236529167593, 0.17415055625742262, 0.216511502374093, 0.009413543581482305, 0.14826331140834628, 0.20239118700186953, 0.07766173454722901, 0.06589480507037614, 0.1815485821862854, 0.10374204696359164, 0.1253549734143399, 0.1815485821862854, 0.2334196056680812, 0.05187102348179582, 0.06483877935224477, 0.004322585290149652, 0.05187102348179582, 0.05507621405942695, 0.17309667275819898, 0.04406097124754156, 0.07238588133524684, 0.10543160977090302, 0.029898516203688916, 0.03776654678360705, 0.4815234714909899, 0.026533991960292724, 0.07673343620949517, 0.032271071303058715, 0.07027922194888343, 0.012191293603377737, 0.0509165791670482, 0.054502253756276944, 0.010757023767686238, 0.1018331583340964, 0.06454214260611743, 0.09609607899133041, 0.14199271373345837, 0.2617542450136985, 0.023028840256657915, 0.20067989366516184, 0.05263734915807523, 0.41451912461984247, 0.036188177546176724, 0.09869502967139106, 0.042767846190936126, 0.11843403560566927, 0.009869502967139107, 0.3352371295496153, 0.11379608984711713, 0.09226709987604091, 0.12917393982645728, 0.10149380986364501, 0.22451660969836623, 0.06511052616587913, 0.9345275520279123, 0.15920013737527997, 0.24322243210112218, 0.11940010303145998, 0.03095558226741555, 0.19015571964269554, 0.09728897284044888, 0.15477791133707774, 0.07235473355687078, 0.2894189342274831, 0.16538224812999033, 0.23084605468144487, 0.037900098529789455, 0.2032823466597798, 0.10166812148278208, 0.0732010474676031, 0.2399367666993657, 0.29687091472972366, 0.09353467176415951, 0.02846707401517898, 0.1667357192317626, 0.05566365227465632, 0.0037109101516437544, 0.14843640606575018, 0.7941347724517634, 0.0781181084164334, 0.08081183629286212, 0.06734319691071844, 0.04040591814643106, 0.4067529093407394, 0.1723985840914392, 0.07003692478714718, 0.03501846239357359, 0.04848710177571727, 0.0827307430503709, 0.9172321512106338, 0.20694430944896758, 0.1861363807109544, 0.07453021747979272, 0.15435699863835242, 0.041615857476026384, 0.06999030575513529, 0.047669073108902955, 0.02269955862328712, 0.0310227301184924, 0.009458149426369633, 0.1263608763362983, 0.029131100233218472, 0.05635403853070328, 0.016480898060866053, 0.09463225338174702, 0.11855613766364935, 0.15204957565831262, 0.20308719545970427, 0.02073403304431536, 0.015949256187934892, 0.09516389525467818, 0.039873140469837226, 0.18766958114470056, 0.11575561370787947, 0.06890215101659491, 0.14331647411451742, 0.16536516243982782, 0.06614606497593112, 0.09921909746389669, 0.11575561370787947, 0.13504821599252603, 0.0909508393419053, 0.05673069573213833, 0.07183745323588055, 0.07665875882218126, 0.018963801972782784, 0.025231499234973705, 0.029731384448854366, 0.05303436144930779, 0.149781893547742, 0.1335501647405296, 0.06283768280811923, 0.10253309880199506, 0.011892553779541746, 0.09272977744318361, 0.11442565258153681, 0.28508582093047585, 0.03463457201888848, 0.055631781305339634, 0.2720978564233927, 0.010823303755902652, 0.01710081993432619, 0.031171114816999638, 0.07359846554013803, 0.2199295323199419, 0.3096099452616957, 0.0431423694217117, 0.1624183319405617, 0.0659824473508532, 0.0025377864365712767, 0.12181374895542127, 0.05583130160456808, 0.08120916597028086, 0.0050755728731425535, 0.14972939975770533, 0.028364371241379478, 0.13858021377931118, 0.1620821213793113, 0.07050572280000042, 0.06483284855172453, 0.03282162957931054, 0.03120080836551743, 0.03808929852413816, 0.09441283570344884, 0.125208438765518, 0.06685887506896591, 0.03646847731034505, 0.07698900765517287, 0.02350190760000014, 0.0093197219793104, 0.7273883965204783, 0.013076645330705227, 0.06538322665352614, 0.19451509929424027, 0.1777884526636762, 0.10476819531966633, 0.04285971626713623, 0.22223556582959525, 0.0888942263318381, 0.07619505114157551, 0.0015873968987828232, 0.041272319368353405, 0.028573144178090818, 0.09365641702818657, 0.09841860772453503, 0.023810953481742347, 0.11284811006661949, 0.10117416764593472, 0.24126147669415202, 0.21402227771255422, 0.07004365452410866, 0.08171759694479343, 0.18289176459072815, 0.02252085014865243, 0.03269155666739869, 0.241191040301697, 0.13657805896602118, 0.0515800116307846, 0.037776909926771816, 0.04794761644551808, 0.0857245263722899, 0.05521240681605112, 0.0675625504459573, 0.05957128103837095, 0.08281861022407667, 0.07918621503881015, 0.06310954784799182, 0.009308192897933897, 0.17313238790157048, 0.03592962458602484, 0.0489610946431323, 0.13813358260533903, 0.04319001504641328, 0.13031470057107455, 0.004654096448966949, 0.04114221260886782, 0.08414606379732242, 0.012845306199148778, 0.06906679130266952, 0.14632479235552087, 0.056796670103226525, 0.05914485284651238, 0.1789021727540908, 0.031113421348537527, 0.04505575638679727, 0.028912000026707043, 0.0860021929728443, 0.11755589858574793, 0.00953949239459877, 0.06971167519129871, 0.044908994965341904, 0.06208008127561969, 0.017317847731733154, 0.05268735030247629, 0.1403039189113296, 0.0025095750192856777, 0.22335217671642532, 0.007528725057857033, 0.10916651333892698, 0.1003830007714271, 0.5558708667717775, 0.06647081995115972, 0.034087599974953704, 0.015339419988729168, 0.8487812393763473, 0.034087599974953704, 0.25829987239758617, 0.011443665232804451, 0.04005282831481558, 0.09563634515986577, 0.03678320967687145, 0.053131302866592095, 0.10054077311678197, 0.023704735125094935, 0.1373239827936534, 0.027791758422525098, 0.21497742544482648, 0.07882984046155396, 0.1784043757814116, 0.3070214839028944, 0.049787267659928816, 0.14521286400812572, 0.07468090148989323, 0.11202135223483985, 0.049787267659928816, 0.29904261000398435, 0.17363764451844252, 0.2379478832289768, 0.048232679032900704, 0.09003433419474798, 0.04180165516184728, 0.11254291774343497, 0.6455474010818673, 0.3011299830119497, 0.0526977470270912, 0.26659476803383697, 0.223839003349165, 0.1961735085532008, 0.0025150449814512923, 0.10311684423950299, 0.08048143940644135, 0.1257522490725646, 0.32292833005952065, 0.015816897798833662, 0.023725346698250497, 0.10412791050898829, 0.19112084840257343, 0.14367015500607244, 0.022407271881681023, 0.05140491784620941, 0.031633795597667325, 0.0329518704142368, 0.05931336674562624, 0.059785745872801464, 0.08023876419770723, 0.05663912766896981, 0.13687789186667704, 0.08810530970728638, 0.02674625473256908, 0.10383840072644465, 0.0723722186881281, 0.0786654550957914, 0.29892872936400733, 0.03999716868212815, 0.07249486823635727, 0.6124566454450874, 0.037497345639495146, 0.0024998230426330095, 0.14998938255798058, 0.08249416040688931, 0.20851316257046607, 0.7297960689966312, 0.062057488860257755, 0.44143766534801926, 0.04196766536759338, 0.0994789105009621, 0.055956887156791174, 0.0854896887117643, 0.018652295718930394, 0.11035941633700481, 0.05440252918021365, 0.09170712061807443, 0.2252957418962902, 0.14483297693332942, 0.2655271243777706, 0.06437021197036863, 0.0509597511432085, 0.0026820921654320262, 0.10996577878271308, 0.0616881198049366, 0.07509858063209673, 0.04071056203721491, 0.5563776811752704, 0.21518439933956454, 0.18804402464808792, 0.20972717283846568, 0.10083037155695465, 0.2944246849463076, 0.03629893376050367, 0.1451957350420147, 0.0846975121078419, 0.12906287559290194, 0.11623951436714876, 0.12592614056441115, 0.10332401277079889, 0.2260212779361226, 0.23570790413338497, 0.19373252394524793, 0.21724970670034757, 0.17604717611924717, 0.18728422991409274, 0.20226696830722016, 0.11237053794845565, 0.10487916875189193, 0.02961853861588988, 0.35357130472718545, 0.06201381522701944, 0.07312076720797814, 0.06664171188575223, 0.1416136377572235, 0.025916221288903644, 0.08237656052544373, 0.008330213985719028, 0.15642290706516843, 0.0009255793317465588, 0.4377250993751685, 0.1327696983886767, 0.1804838087471074, 0.24894318447876881, 0.6336669473893489, 0.15538615579460557, 0.041877120001383064, 0.04628523789626549, 0.12232527158298737, 0.060763756492858936, 0.13292071732812893, 0.29622331290268733, 0.28862784334107994, 0.12532524776652157, 0.0949433695200921, 0.19365508532884482, 0.3428647412379548, 0.07936683824952658, 0.3142926794681252, 0.019048041179886375, 0.050794776479697004, 0.13557602604844307, 0.2606461607794791, 0.06753787275475946, 0.07254067814400089, 0.2896624320370795, 0.04552552904209711, 0.0885496553895735, 0.04002244311393153, 0.1354407782100525, 0.3439765795810857, 0.1354407782100525, 0.04299707244763571, 0.05159648693716285, 0.21498536223817855, 0.07739473040574428, 0.08438297149456253, 0.06297851043252715, 0.06256688618133416, 0.027990449081123178, 0.009055733526245734, 0.046513540384807636, 0.0749156137171238, 0.0716226197075799, 0.03210669159305306, 0.05968551642298325, 0.1403638696568089, 0.11319666907807167, 0.06709475294445703, 0.016464970047719518, 0.08808758975529941, 0.042808922124070746, 0.08264410266436681, 0.06611528213149345, 0.3041302978048699, 0.16198244122215896, 0.18512278996818166, 0.04297493338547074, 0.1553709130090096, 0.2174627116184528, 0.0259012658999646, 0.08040184623114012, 0.02859931443121091, 0.038312289143697636, 0.00647531647499115, 0.25091851340590704, 0.06637199386865929, 0.06960965210615486, 0.10954077036860028, 0.10738233154360324, 0.17056824105030288, 0.046394561565682384, 0.061404566778109036, 0.26472191011007007, 0.09278912313136477, 0.07914366384734053, 0.06276911270651146, 0.09824730684497446, 0.12417367948462049, 0.05634292100138324, 0.05057402124014946, 0.12556971813618859, 0.046343494748578025, 0.08518741980755214, 0.045189714796331264, 0.08403363985530538, 0.06999598376963652, 0.02038344582302602, 0.162298379949377, 0.07768785011794822, 0.03788244176543515, 0.0286522021474611, 0.05615062434267545, 0.05365076777947414, 0.1156982317647863, 0.04970738846190819, 0.08827346571683696, 0.02056857453596201, 0.12169739933777522, 0.08313132208284646, 0.04713631664491294, 0.05227846027890344, 0.08655941783884012, 0.1148412078257879, 0.0702759629978702, 0.05399250815690028, 0.0951296572288243, 0.018778478192392055, 0.2452632543041119, 0.06433669919828235, 0.00016329111471645265, 0.03478100743460442, 0.03363796963158925, 0.09307593538837802, 0.035924045237619585, 0.1668835192402146, 0.03853670307308283, 0.10515947787739552, 0.03331138740215634, 0.02824936284594631, 0.00016329111471645265, 0.03902657641723219, 0.06303037028055072, 0.20660814410291212, 0.12714347329409975, 0.22567966509702708, 0.17800086261173967, 0.07310749714410736, 0.060393149814697386, 0.13032206012645225, 0.19044107063976198, 0.0365646855628343, 0.18891754207464387, 0.05332349977913335, 0.15692344220716387, 0.08836465677684956, 0.14778227081645529, 0.08227054251637718, 0.05789408547448764, 0.17327967586547047, 0.31258294469849573, 0.3567522738406745, 0.15629147234924787, 0.06131044089923548, 0.16641405386935346, 0.10072429576302971, 0.07444839252050023, 0.5736905541285606, 0.026275903242529493, 0.1805457414928095, 0.04843910137611963, 0.18788499927707006, 0.09247464808168292, 0.0029357031137042197, 0.019082070239077428, 0.12623523388928146, 0.2906346082567178, 0.052842656046675957, 0.0351451907345794, 0.9639823744341778, 0.17324389474947194, 0.34215669213020705, 0.030317681581157586, 0.16025060264326152, 0.19923047896189272, 0.034648778949894384, 0.056304265793578376, 0.22581680351691324, 0.052690587487279755, 0.04704516739935692, 0.6191144029755371, 0.05645420087922831, 0.22632602157603618, 0.04380503643407152, 0.13628233557266695, 0.4137142329884532, 0.18252098514196466, 0.026388117690121615, 0.37295206335371883, 0.38174810258375935, 0.05629465107225944, 0.15481029044871347, 0.00703683138403243, 0.2066778261306497, 0.24822110776495113, 0.11839835265775911, 0.07166216081916998, 0.1578644702103455, 0.17655894694578114, 0.019733058776293187, 0.5756283310437899, 0.35457518329759224, 0.06824459594849056, 0.14749924474333131, 0.051840738738241965, 0.08825268618534049, 0.08948698948863197, 0.023451762762538034, 0.02962327927899541, 0.0672695300293854, 0.0901041411402777, 0.1178759654643359, 0.06788668168103115, 0.0604808618612823, 0.16477949098941197, 0.04779078680625226, 0.07003822204364556, 0.14419633950162322, 0.10629330168976797, 0.09805351086110378, 0.27191309734591806, 0.031311205148923896, 0.08404586645237468, 0.08816576186670676, 0.057678535800649286, 0.0596405973666289, 0.09124121238924571, 0.10325834767953661, 0.09791739866162953, 0.09925263591610631, 0.046288224821861235, 0.1264024600904672, 0.07788883984447804, 0.058305360112152135, 0.13619419995663018, 0.10325834767953661, 0.08380516207173996, 0.04982533795441683, 0.12289076286990441, 0.06302993281866158, 0.11426376089193117, 0.22852752178386235, 0.026057067198776294, 0.06795964823464627, 0.04489562253843213, 0.07535422135862334, 0.034155885382179736, 0.01390883992367113, 0.026057067198776294, 0.04929715415984704, 0.12865074356386663, 0.13854695460724098, 0.05937726626024614, 0.5937726626024614, 0.07916968834699485, 0.4317788062583738, 0.07898392797409276, 0.08635576125167475, 0.1095243801240753, 0.2011457365740229, 0.045284118705146516, 0.04633723774480109, 0.008027780258553104, 0.08629863777944587, 0.07024307726233965, 0.21875701204557207, 0.3070625948896562, 0.01003472532319138, 0.2167500669809338, 0.05218057168059517, 0.03010417596957414, 0.0683606585879035, 0.02726288169874723, 0.028076699062888937, 0.41260540361984616, 0.0488290418485025, 0.015462529918692458, 0.3479069231705803, 0.0028483607744959794, 0.048422133166431645, 0.13301081543227936, 0.15961297851873524, 0.014510270774430475, 0.35792001243595173, 0.091898381571393, 0.11850054465784889, 0.12091892312025396, 0.24733909446565527, 0.7094011390718244, 0.043488192433521804, 0.024919179447541913, 0.061407977924299716, 0.024029208752986846, 0.12259346317496067, 0.12148099980676683, 0.062297948618854786, 0.3048149628851109, 0.049838358895083826, 0.06852774348074027, 0.009344692292828218, 0.06496786070251999, 0.0533982416733041, 0.03292891569853753, 0.30588883151129764, 0.2463645183523424, 0.018187984576347425, 0.4282443641158167, 0.16853235936708097, 0.13748692474682922, 0.39693805693036177, 0.037698027753162854, 0.13083433161391814, 0.0776135865506294, 0.01552271731012588, 0.03548049670885915, 0.047886484219506184, 0.09882955253812979, 0.09016923092396378, 0.01681121254514579, 0.000509430683186236, 0.03260356372391911, 0.1696404175010166, 0.06622598881421068, 0.058075097883230904, 0.013245197762842137, 0.03871673192215394, 0.1910365061948385, 0.1767724470656239, 0.08629334102072224, 0.12381218494277539, 0.202601757179087, 0.31140640455304114, 0.10505276298174882, 0.07128580345190098, 0.060030150275285035, 0.037518843922053145, 0.6043595711109212, 0.18909409893654588, 0.05190818402179691, 0.15387068835032655, 0.16788824622443155, 0.260762595199649, 0.09287434897521744, 0.14288361380802683, 0.271478866235251, 0.06072553586841141, 0.9840551713896702, 0.015723917518876224, 0.2969380556128061, 0.030931047459667304, 0.12063108509270248, 0.055675885427401144, 0.058768990173367876, 0.11444487560076902, 0.030931047459667304, 0.28765874137490594, 0.08794246172016103, 0.1157403662868786, 0.3492427646473062, 0.05357414334676477, 0.027292488120049974, 0.027797904566717567, 0.03335748548006108, 0.09400745908017213, 0.21025324181371832, 0.11228483209223118, 0.21620802775206216, 0.16245465068663234, 0.032252026239257894, 0.08958896177571637, 0.08839444228537348, 0.13736974138943175, 0.04539174063302963, 0.11706291005360273, 0.18528234271603009, 0.017293018653496143, 0.02717474359835108, 0.04076211539752662, 0.16798932406253395, 0.06484881995061054, 0.4965566784789606, 0.35355242909561513, 0.23083175122771565, 0.18408101680184918, 0.005843841803233308, 0.10226723155658288, 0.037984971721016496, 0.08473570614688296, 0.11610625655908176, 0.10018846332114313, 0.05430776516473179, 0.09972029293179199, 0.1348330721331272, 0.04728520932446475, 0.06928921762396814, 0.040262653484197705, 0.04634886854576248, 0.11423357500167722, 0.04494435737770907, 0.13249222018637152, 0.04052306154955184, 0.3142314597351213, 0.014218618087562048, 0.0888663630472628, 0.03554654521890512, 0.022038858035721174, 0.12583477007492413, 0.35830917580656363, 0.132711123571218, 0.16267815147439627, 0.04709104384785155, 0.3125132909902876, 0.021405019930841616, 0.3210752989626242, 0.12686021863993768, 0.09716952917101611, 0.15385175452077549, 0.5479281783810075, 0.07287714687826208, 0.035374456670501736, 0.038911902337551915, 0.3112952187004153, 0.035374456670501736, 0.21932163135711077, 0.12734804401380626, 0.021224674002301044, 0.21224674002301044, 0.12198082951435685, 0.31478923745640475, 0.0590229820230759, 0.043283520150255654, 0.10230650217333155, 0.12591569498256192, 0.08263217483230625, 0.1455900223235872, 0.11883545786354928, 0.04057796122169975, 0.13912443847439915, 0.03767953542014977, 0.5347595603859717, 0.1289799481689742, 0.014566602719229728, 0.027723534207566253, 0.18419704083671137, 0.08974906836686702, 0.04839871226066651, 0.023494520514886656, 0.13015964365247207, 0.13156931488336526, 0.03900090405471185, 0.03806112323411638, 0.06484487662108718, 0.02866331502816172, 0.17949813673373405, 0.02789536750130329, 0.1301783816727487, 0.8399605103170213, 0.1496496070968554, 0.007126171766516924, 0.0855140611982031, 0.04275703059910155, 0.03919394471584308, 0.07126171766516924, 0.27792069889416005, 0.12114492003078771, 0.15321269298011386, 0.04988320236561847, 0.15771513061723638, 0.06571463775718182, 0.2924301380194591, 0.4830025875152864, 0.07299731189779723, 0.009269499923529809, 0.26997418527280564, 0.10312318664926912, 0.5445831205073762, 0.0707364058664803, 0.2711562224881745, 0.1139642094515516, 0.011789400977746717, 0.2279284189031032, 0.09431520782197374, 0.2102443174364831, 0.14883154883339492, 0.159462373750066, 0.06074757095240609, 0.0015186892738101522, 0.06834101732145685, 0.10327087061909035, 0.01974296055953198, 0.1655371308453066, 0.17768664503578782, 0.03644854257144366, 0.05922888167859594, 0.4169213555451436, 0.24937352107373073, 0.33509566894282566, 0.21171567989978365, 0.22676885897522697, 0.023793734667636235, 0.20807378173636992, 0.038118534110396826, 0.06871047868307198, 0.1709264204695501, 0.05195774713136892, 0.18743279651465994, 0.3407869027539272, 0.22394567895258072, 0.09736768650112206, 0.1509199140767392, 0.21944490668223693, 0.3600416434310294, 0.07504825812942302, 0.16624614142593708, 0.057948655011326636, 0.10829748641461043, 0.01234971336306961, 1.0003628280412769, 0.08210124579823899, 0.16029290846322852, 0.011728749399748427, 0.07037249639849057, 0.6724482989189099, 0.41920610485037463, 0.19644411639849393, 0.06955437614109354, 0.06955437614109354, 0.057335364116306846, 0.033837264068640106, 0.04793612409724015, 0.10245171620782698, 0.0028197720057200086, 0.5459516259770641, 0.0860613400554978, 0.22591101764568172, 0.07530367254856057, 0.06454600504162335, 0.10913300368996998, 0.380016709277574, 0.16175070189763407, 0.0506688945703432, 0.06431052003158945, 0.08769616367944016, 0.10718420005264909, 0.04092487638373874, 0.4766481743421194, 0.09813344765867164, 0.056076255804955226, 0.056076255804955226, 0.3119241729150634, 0.6988887139471143, 0.30143762422639114, 0.02868592505704596, 0.11915691946772937, 0.1103304809886383, 0.12798335794682045, 0.5913713780991013, 0.019859486577954895, 0.49897623727206925, 0.5028744891257573, 0.08166620660134005, 0.054444137734226704, 0.7544401943171415, 0.054444137734226704, 0.050555270753210514, 0.09092948799686086, 0.022732371999215215, 0.7122809893087434, 0.17428151866064998, 0.02500201707838648, 0.5711999286369834, 0.4038787374200893, 0.9989238636855132, 0.14166445363324542, 0.03377188706732122, 0.13054635170845497, 0.1455792782546505, 0.10397774194451911, 0.07469485377640907, 0.0944255698682907, 0.06801355308921105, 0.06806575075082978, 0.05632127688661452, 0.048804813613516754, 0.03413727069865236, 0.13095367632245022, 0.05472690950788965, 0.035181584683643345, 0.0019545324824246303, 0.0019545324824246303, 0.039090649648492605, 0.07818129929698521, 0.025408922271520196, 0.041045182130917235, 0.07231770184971133, 0.5199056403249517, 0.0326921047342597, 0.13803333110020763, 0.0326921047342597, 0.35234823991368786, 0.11987105069228557, 0.003632456081584411, 0.1271359628554544, 0.18888771624238937, 0.09548280024491695, 0.6330924798847755, 0.01811531388045855, 0.04094815741728652, 0.13397784224089138, 0.04830750368122281, 0.030192189800764255, 0.15018473495305126, 0.8423404699540702, 0.006529771084915273, 0.0484574299063962, 0.6645590387162907, 0.0697573990960209, 0.024494964568068406, 0.05431492143354299, 0.13844979973256055, 0.0653227887226343, 0.08649221099385838, 0.26915408316270617, 0.1161294021735721, 0.017540378453299952, 0.19475868489526155, 0.024798466089148208, 0.13850850571743756, 0.07620992017640668, 0.001814521908962064, 0.00907260954481032, 0.2666451516538049, 0.06322513905193312, 0.36285731977631186, 0.2364070416724456, 0.0687229772303621, 0.09551976413704656, 0.8045703210005075, 0.10286743830143476, 0.029445680924687592, 0.07093732222765647, 0.0006692200210156272, 0.03546866111382824, 0.8626246070891433, 0.0006692200210156272, 0.23392394639580993, 0.029240493299476242, 0.09015818767338507, 0.08284806434851602, 0.1047784343231232, 0.3045884718695442, 0.07553794102364696, 0.08041135657355966, 0.3743160195188291, 0.03596049095814079, 0.10624690510359777, 0.1471110993742123, 0.08499752408287822, 0.12586171835349275, 0.04413332981226369, 0.08172838854122906, 0.536939242528015, 0.13786277848692277, 0.10828088674681383, 0.025116700534054754, 0.021767807129514122, 0.03460523184691988, 0.021767807129514122, 0.04409376315978501, 0.07088491039611008, 0.41190921581527945, 0.1171114437121873, 0.3109510746840835, 0.08076651290495676, 0.07672818725970892, 0.035916520432538665, 0.0042254729920633725, 0.14577881822618635, 0.2324010145634855, 0.006338209488095059, 0.25352837952380236, 0.13310239924999623, 0.19014628464285177, 0.665062265035509, 0.01868152429875025, 0.011208914579250152, 0.19802415756675268, 0.0037363048597500504, 0.0672534874755009, 0.03362674373775045, 0.16985171661706014, 0.27219826380939127, 0.0936362027504306, 0.12847758051803268, 0.08928103052948033, 0.04137413609902747, 0.2046930943846622, 0.07032706651457853, 0.34182225352434675, 0.34182225352434675, 0.0735980928640938, 0.06705604016506324, 0.10303733000973132, 0.09554274616480915, 0.025723047044371696, 0.03674721006338814, 0.022048326038032882, 0.07349442012677627, 0.17638660830426306, 0.5034367778684175, 0.06247025710775983, 0.335681765958147, 0.11871672210714955, 0.10234200181650824, 0.07368624130788592, 0.3684312065394296, 0.25855497510725073, 0.055653088812323025, 0.2759465653611017, 0.09855234477182202, 0.056812528162579756, 0.25391721770622383, 0.4611443481533618, 0.2744233237477061, 0.2631068980261512, 0.07067550513358208, 0.047117003422388046, 0.08808831074620374, 0.03482561122524334, 0.27553204175266055, 0.05633554757024658, 0.07477263586596364, 0.0921854414785853, 0.15364240246430885, 0.05428698220405579, 0.05223841683786501, 0.09847799635954467, 0.12981190429212708, 0.06042967958426605, 0.1678602210674057, 0.08057290611235474, 0.27529076255054535, 0.10071613264044342, 0.08728731495505096, 0.1717189535686504, 0.253675726862779, 0.12098380819609461, 0.3434379071373008, 0.10927569772550481, 0.1594419571980166, 0.0027489992620347687, 0.6047798376476492, 0.1511949594119123, 0.08246997786104307, 0.45157965161016417, 0.24548488849212974, 0.20539136802206845, 0.007033950959659878, 0.09073796737961243, 0.07561588724156916, 0.04861021322672303, 0.1062223177917281, 0.07741626550922556, 0.08821853511516402, 0.2340491747953331, 0.0630132393679743, 0.07201513070625634, 0.059412482832661484, 0.17463669196267162, 0.10900306526382232, 0.2699123520818458, 0.07266871017588154, 0.05363642893934114, 0.010381244310840221, 0.23184778960876493, 0.08651036925700184, 0.16609990897344354, 0.05129069146545213, 0.11112983150847962, 0.410325531723617, 0.0769360371981782, 0.008548448577575356, 0.12395250437484265, 0.04274224288787677, 0.17524319584029477, 0.06092204154949445, 0.18276612464848335, 0.6382309114708943, 0.09283358712303916, 0.026109446378354766, 0.20434916428805447, 0.07859583241848249, 0.05803999932441784, 0.12333499856438791, 0.535660827098273, 0.3929937649774508, 0.0486563709019701, 0.029942382093520063, 0.3368517985521007, 0.1908826858461904, 0.11069946537124412, 0.23123888321993216, 0.06518968516306597, 0.0012299940596804902, 0.06887966734210745, 0.06149970298402451, 0.15251926340038077, 0.07748962575987088, 0.10700948319220265, 0.1242294000277295, 0.0714166433202862, 0.011793574126285795, 0.2273539012122873, 0.07272704044542908, 0.11400454988742936, 0.04324310512971458, 0.04389830369228602, 0.09434859301028636, 0.10155577719857213, 0.10745256426171503, 0.038656715191714555, 0.028828736753143056, 0.045863899380000316, 0.2363708299922954, 0.005938965577695863, 0.40028627993670124, 0.0023755862310783455, 0.3171407618489591, 0.007126758693235037, 0.029694827888479318, 0.04460406875905883, 0.04393333088298276, 0.08585444813773731, 0.11872060406546488, 0.06942137017387352, 0.05600661265235207, 0.05801882628058029, 0.02750025291911898, 0.039908903626526326, 0.20792874158358254, 0.04762238920140116, 0.07679948681071033, 0.020122136282282183, 0.1032936329157152, 0.6835836617853501, 0.09321595387982048, 0.03222279887203671, 0.13349445246986635, 0.05754071227149412, 0.1145119041683873, 0.5194930286663424, 0.15919947652678235, 0.10892595762358792, 0.09775406453398916, 0.49279465465378797, 0.3208895425652573, 0.06016678923098574, 0.12463120626418475, 0.1672202859910153, 0.16053147455137468, 0.18654351903886596, 0.028984849571775984, 0.09290015888389738, 0.0029728050842847166, 0.13823543641923933, 0.05053768643284018, 0.05128088770391136, 0.12039860591353102, 0.2110966730451952, 0.13396519635560464, 0.07713147668959056, 0.11366743933202819, 0.38971693485266806, 0.07307192528487526, 0.12092453032253675, 0.03500446930389222, 0.1432001016977409, 0.18456901996597716, 0.1145600813581927, 0.09546673446516059, 0.10501340791167665, 0.07637338757212847, 0.12410675480470877, 0.4095087510682463, 0.22181724016196674, 0.15356578165059237, 0.07251717466833528, 0.14503434933667056, 0.051696435038823034, 0.1563817159924397, 0.1815837280738659, 0.023909601205455655, 0.07754465255823456, 0.029079244709337957, 0.23521877942664482, 0.042649558907029005, 0.20226230208939514, 0.10075839847911097, 0.229729148532373, 0.11284940629660428, 0.41109426579477276, 0.1450920938099198, 0.10695748891090204, 0.17208802685106026, 0.10277479381382765, 0.3531389717672799, 0.07887367897340261, 0.0854464855545195, 0.007767862323138136, 0.09321434787765764, 0.012396663480241193, 0.11095013814815867, 0.030371825526590922, 0.11714846988827927, 0.026652826482518564, 0.10661130593007426, 0.03657015726671152, 0.06012381787916978, 0.001859499522036179, 0.04338832218084417, 0.1152889703662431, 0.06942131548935068, 0.03347099139665122, 0.19586728298781084, 0.04090898948479594, 0.9999299149718878, 0.08865834523516995, 0.4149210557005954, 0.18795569189856032, 0.30853104141839144, 0.04302603950744768, 0.07197370579370843, 0.023569411347829795, 0.05789533257252151, 0.17605875724922526, 0.028631298348705994, 0.1176888727703716, 0.09048123014066203, 0.08304658360812511, 0.1050341552681811, 0.016609316721625023, 0.03922962425679053, 0.14695290699418712, 0.04081991987706542, 0.1811383944544778, 0.359725543916639, 0.04337116486938201, 0.13138911710430431, 0.07908859476181425, 0.16455530200441998, 0.14690107291774396, 0.3062748784417114, 0.08176569152968767, 0.38665471079292985, 0.02771718356938565, 0.05127678960336345, 0.13192632456808864, 0.02553412733575909, 0.07802094463704168, 0.2581783986171197, 0.06525388096916213, 0.060998193079868944, 0.05957963045010455, 0.1191592609002091, 0.039719753633403035, 0.0950436961942144, 0.041138316263167427, 0.02553412733575909, 0.21268003604218214, 0.7870835979513827, 0.2614867996965912, 0.049265628928343276, 0.3448594024984029, 0.1705348693673421, 0.022737982582312282, 0.14779688678502984, 0.06255716859576448, 0.12511433719152895, 0.13805719965961816, 0.14668577463834429, 0.25885724936178406, 0.09275718102130595, 0.07981431855321675, 0.09491432476598748, 0.1698758250374472, 0.0849379125187236, 0.41407232352877754, 0.24419649849133035, 0.08847699220700375, 0.022996516403439075, 0.08366817670187408, 0.03914300664415162, 0.3376084323058077, 0.05235377138655279, 0.06654311129505776, 0.1947364580546543, 0.09736822902732716, 0.08856105253239303, 0.01761435298986823, 0.41213365507400107, 0.2142163630893113, 0.07451003933541263, 0.19093197579699484, 0.10943662027388729, 0.06223222960055915, 0.2959825554172935, 0.009107155551301338, 0.4583934960821674, 0.004553577775650669, 0.07437510366896094, 0.05616079256635826, 0.039464340722305806, 1.0010366593304665, 0.13704599071484702, 0.07872854785746532, 0.07872854785746532, 0.061233315000250796, 0.21869041071518142, 0.02624284928582177, 0.032074593571559944, 0.3673998900015048, 0.18803325539900803, 0.1257106183404133, 0.11452450399656297, 0.11985122511268217, 0.28497957971237764, 0.043146441040565586, 0.12357992989396561], \"Term\": [\"able\", \"able\", \"able\", \"able\", \"able\", \"able\", \"able\", \"able\", \"able\", \"air\", \"air\", \"air\", \"air\", \"air\", \"amazing\", \"amazing\", \"amazing\", \"amazing\", \"amazing\", \"amazing\", \"amazing\", \"amazing\", \"amazing\", \"amazon\", \"amazon\", \"amazon\", \"amazon\", \"amazon\", \"amazon\", \"amazon\", \"amazon\", \"ankle\", \"ankle\", \"ankle\", \"ankle\", \"ankle\", \"ankle\", \"arch\", \"arch\", \"arch\", \"area\", \"area\", \"area\", \"area\", \"area\", \"arrive\", \"arrive\", \"arrive\", \"arrive\", \"ask\", \"ask\", \"ask\", \"ask\", \"ask\", \"ask\", \"ask\", \"awesome\", \"awesome\", \"awesome\", \"awesome\", \"awesome\", \"awesome\", \"awesome\", \"awesome\", \"awesome\", \"awesome\", \"bad\", \"bad\", \"bad\", \"bad\", \"bad\", \"bad\", \"bad\", \"bad\", \"bad\", \"bag\", \"ball\", \"ball\", \"ball\", \"ball\", \"band\", \"basketball\", \"basketball\", \"basketball\", \"beautiful\", \"beautiful\", \"beautiful\", \"beautiful\", \"beautiful\", \"beautiful\", \"beautiful\", \"beautiful\", \"big\", \"big\", \"big\", \"big\", \"big\", \"big\", \"big\", \"big\", \"bit\", \"bit\", \"bit\", \"bit\", \"bit\", \"bit\", \"bit\", \"bit\", \"black\", \"black\", \"black\", \"black\", \"black\", \"blue\", \"blue\", \"blue\", \"blue\", \"boot\", \"boot\", \"boot\", \"boot\", \"boot\", \"box\", \"box\", \"box\", \"box\", \"box\", \"box\", \"box\", \"brand\", \"brand\", \"brand\", \"brand\", \"brand\", \"brand\", \"brand\", \"brand\", \"break\", \"break\", \"break\", \"break\", \"break\", \"break\", \"break\", \"break\", \"bright\", \"bright\", \"bright\", \"bright\", \"buy\", \"buy\", \"buy\", \"buy\", \"buy\", \"buy\", \"buy\", \"buy\", \"buy\", \"buy\", \"buy\", \"buy\", \"buy\", \"buy\", \"buy\", \"buy\", \"casual\", \"casual\", \"casual\", \"casual\", \"casual\", \"casual\", \"casual\", \"casual\", \"change\", \"change\", \"change\", \"change\", \"change\", \"change\", \"cheap\", \"cheap\", \"cheap\", \"cheap\", \"cheap\", \"cheap\", \"christmas\", \"christmas\", \"christmas\", \"christmas\", \"christmas\", \"clean\", \"clean\", \"clean\", \"clean\", \"clean\", \"clean\", \"color\", \"color\", \"color\", \"color\", \"color\", \"color\", \"color\", \"color\", \"come\", \"come\", \"come\", \"come\", \"come\", \"come\", \"come\", \"come\", \"come\", \"come\", \"come\", \"comfort\", \"comfort\", \"comfort\", \"comfort\", \"comfort\", \"comfort\", \"comfort\", \"comfort\", \"comfort\", \"comfortable\", \"comfortable\", \"comfortable\", \"comfortable\", \"comfortable\", \"comfortable\", \"comfortable\", \"comfortable\", \"comfortable\", \"comfortable\", \"comfortable\", \"comfortable\", \"comfortable\", \"comfortable\", \"comfortable\", \"comfy\", \"comfy\", \"comfy\", \"comfy\", \"comfy\", \"comfy\", \"comfy\", \"comfy\", \"complaint\", \"complaint\", \"complaint\", \"complaint\", \"complaint\", \"complaint\", \"complaint\", \"complaint\", \"complaint\", \"compliment\", \"compliment\", \"compliment\", \"compliment\", \"compliment\", \"compliment\", \"compliment\", \"condition\", \"condition\", \"condition\", \"condition\", \"condition\", \"condition\", \"cool\", \"cool\", \"cool\", \"cool\", \"cool\", \"cool\", \"cool\", \"cool\", \"cool\", \"cool\", \"couple\", \"couple\", \"couple\", \"couple\", \"couple\", \"couple\", \"couple\", \"couple\", \"cushion\", \"cushion\", \"cushion\", \"cushion\", \"cushion\", \"cushioning\", \"cushioning\", \"cushioning\", \"cushioning\", \"cushioning\", \"cute\", \"cute\", \"cute\", \"cute\", \"cute\", \"cute\", \"daughter\", \"daughter\", \"daughter\", \"daughter\", \"daughter\", \"daughter\", \"day\", \"day\", \"day\", \"day\", \"day\", \"day\", \"day\", \"day\", \"day\", \"day\", \"day\", \"day\", \"deal\", \"deal\", \"deal\", \"deal\", \"deal\", \"deal\", \"deal\", \"deal\", \"decide\", \"decide\", \"decide\", \"decide\", \"decide\", \"decide\", \"decide\", \"decide\", \"delivery\", \"delivery\", \"design\", \"design\", \"design\", \"design\", \"design\", \"design\", \"design\", \"design\", \"different\", \"different\", \"different\", \"different\", \"different\", \"different\", \"different\", \"different\", \"different\", \"different\", \"dry\", \"dry\", \"dry\", \"durable\", \"durable\", \"durable\", \"durable\", \"durable\", \"durable\", \"durable\", \"durable\", \"durable\", \"easy\", \"easy\", \"easy\", \"easy\", \"easy\", \"easy\", \"easy\", \"easy\", \"easy\", \"easy\", \"end\", \"end\", \"end\", \"end\", \"end\", \"end\", \"end\", \"end\", \"enjoy\", \"enjoy\", \"enjoy\", \"enjoy\", \"enjoy\", \"enjoy\", \"enjoy\", \"enjoy\", \"enjoy\", \"excellent\", \"excellent\", \"excellent\", \"excellent\", \"excellent\", \"excellent\", \"excellent\", \"excellent\", \"expect\", \"expect\", \"expect\", \"expect\", \"expect\", \"expect\", \"expect\", \"expect\", \"expect\", \"expect\", \"expect\", \"expect\", \"expect\", \"expensive\", \"expensive\", \"expensive\", \"expensive\", \"expensive\", \"expensive\", \"expensive\", \"expensive\", \"expensive\", \"extra\", \"extra\", \"extra\", \"extra\", \"extra\", \"extra\", \"face\", \"face\", \"fact\", \"fact\", \"fact\", \"fact\", \"fact\", \"fact\", \"fact\", \"fall\", \"fall\", \"fall\", \"fall\", \"fall\", \"fall\", \"fan\", \"fan\", \"fan\", \"fan\", \"fan\", \"fan\", \"fan\", \"fast\", \"fast\", \"fast\", \"fast\", \"favorite\", \"favorite\", \"favorite\", \"favorite\", \"favorite\", \"favorite\", \"favorite\", \"favorite\", \"favorite\", \"feature\", \"feature\", \"feel\", \"feel\", \"feel\", \"feel\", \"feel\", \"feel\", \"feel\", \"feel\", \"feel\", \"feel\", \"feel\", \"feel\", \"find\", \"find\", \"find\", \"find\", \"find\", \"find\", \"find\", \"find\", \"find\", \"find\", \"find\", \"fine\", \"fine\", \"fine\", \"fine\", \"fine\", \"fine\", \"fine\", \"fine\", \"fine\", \"fit\", \"fit\", \"fit\", \"fit\", \"fit\", \"fit\", \"fit\", \"fit\", \"fit\", \"fit\", \"fit\", \"fit\", \"fit\", \"fit\", \"foot\", \"foot\", \"foot\", \"foot\", \"foot\", \"foot\", \"foot\", \"foot\", \"foot\", \"friend\", \"friend\", \"friend\", \"friend\", \"friend\", \"friend\", \"friend\", \"friend\", \"friend\", \"friend\", \"get\", \"get\", \"get\", \"get\", \"get\", \"get\", \"get\", \"get\", \"get\", \"get\", \"get\", \"get\", \"get\", \"get\", \"get\", \"gift\", \"gift\", \"gift\", \"gift\", \"give\", \"give\", \"give\", \"give\", \"give\", \"give\", \"give\", \"give\", \"give\", \"give\", \"give\", \"give\", \"glad\", \"glad\", \"glad\", \"glad\", \"glad\", \"glad\", \"glad\", \"go\", \"go\", \"go\", \"go\", \"go\", \"go\", \"go\", \"go\", \"go\", \"go\", \"go\", \"go\", \"go\", \"good\", \"good\", \"good\", \"good\", \"good\", \"good\", \"good\", \"good\", \"good\", \"good\", \"good\", \"good\", \"good\", \"good\", \"great\", \"great\", \"great\", \"great\", \"great\", \"great\", \"great\", \"great\", \"great\", \"great\", \"great\", \"great\", \"great\", \"great\", \"great\", \"gym\", \"gym\", \"gym\", \"gym\", \"gym\", \"gym\", \"half\", \"half\", \"half\", \"half\", \"half\", \"happy\", \"happy\", \"happy\", \"happy\", \"happy\", \"happy\", \"happy\", \"happy\", \"happy\", \"happy\", \"happy\", \"have\", \"have\", \"have\", \"have\", \"have\", \"have\", \"have\", \"have\", \"heavy\", \"heavy\", \"heavy\", \"heavy\", \"heavy\", \"heavy\", \"heavy\", \"heel\", \"heel\", \"heel\", \"help\", \"help\", \"help\", \"help\", \"help\", \"help\", \"help\", \"high\", \"high\", \"high\", \"high\", \"high\", \"high\", \"high\", \"high\", \"high\", \"high\", \"high\", \"hold\", \"hold\", \"hold\", \"hold\", \"hold\", \"hold\", \"hold\", \"hold\", \"hold\", \"hold\", \"hour\", \"hour\", \"hour\", \"hour\", \"hour\", \"hour\", \"hour\", \"hurt\", \"hurt\", \"hurt\", \"husband\", \"husband\", \"husband\", \"husband\", \"husband\", \"husband\", \"husband\", \"husband\", \"husband\", \"issue\", \"issue\", \"issue\", \"issue\", \"issue\", \"issue\", \"issue\", \"issue\", \"issue\", \"item\", \"item\", \"item\", \"item\", \"job\", \"job\", \"job\", \"job\", \"job\", \"job\", \"job\", \"keep\", \"keep\", \"keep\", \"keep\", \"keep\", \"keep\", \"kid\", \"kid\", \"kid\", \"kid\", \"kid\", \"kid\", \"know\", \"know\", \"know\", \"know\", \"know\", \"know\", \"know\", \"know\", \"know\", \"know\", \"know\", \"lace\", \"lace\", \"lace\", \"lace\", \"large\", \"large\", \"large\", \"large\", \"large\", \"last\", \"last\", \"last\", \"last\", \"last\", \"last\", \"leather\", \"leather\", \"leather\", \"leather\", \"leather\", \"leather\", \"light\", \"light\", \"light\", \"light\", \"light\", \"light\", \"light\", \"light\", \"lightweight\", \"lightweight\", \"lightweight\", \"lightweight\", \"lightweight\", \"lightweight\", \"lightweight\", \"like\", \"like\", \"like\", \"like\", \"like\", \"like\", \"like\", \"like\", \"like\", \"like\", \"like\", \"like\", \"like\", \"like\", \"like\", \"like\", \"line\", \"line\", \"line\", \"line\", \"line\", \"line\", \"line\", \"little\", \"little\", \"little\", \"little\", \"little\", \"little\", \"little\", \"little\", \"little\", \"little\", \"little\", \"long\", \"long\", \"long\", \"long\", \"long\", \"long\", \"long\", \"long\", \"long\", \"look\", \"look\", \"look\", \"look\", \"look\", \"look\", \"look\", \"look\", \"look\", \"look\", \"look\", \"look\", \"look\", \"look\", \"look\", \"lot\", \"lot\", \"lot\", \"lot\", \"lot\", \"lot\", \"lot\", \"lot\", \"lot\", \"lot\", \"lot\", \"lot\", \"lot\", \"love\", \"love\", \"love\", \"love\", \"love\", \"love\", \"love\", \"love\", \"love\", \"love\", \"love\", \"love\", \"love\", \"love\", \"love\", \"love\", \"low\", \"low\", \"low\", \"low\", \"low\", \"low\", \"low\", \"make\", \"make\", \"make\", \"make\", \"make\", \"make\", \"make\", \"make\", \"make\", \"man\", \"man\", \"man\", \"man\", \"match\", \"match\", \"match\", \"match\", \"match\", \"match\", \"material\", \"material\", \"material\", \"material\", \"material\", \"material\", \"material\", \"material\", \"material\", \"max\", \"max\", \"mean\", \"mean\", \"mean\", \"mean\", \"mean\", \"mean\", \"mean\", \"mile\", \"mile\", \"mile\", \"mile\", \"mile\", \"model\", \"model\", \"model\", \"model\", \"model\", \"money\", \"money\", \"money\", \"money\", \"money\", \"money\", \"month\", \"month\", \"month\", \"month\", \"month\", \"month\", \"month\", \"narrow\", \"narrow\", \"narrow\", \"need\", \"need\", \"need\", \"need\", \"need\", \"need\", \"need\", \"need\", \"need\", \"need\", \"need\", \"need\", \"new\", \"new\", \"new\", \"new\", \"new\", \"new\", \"new\", \"new\", \"new\", \"new\", \"nice\", \"nice\", \"nice\", \"nice\", \"nice\", \"nice\", \"nice\", \"nice\", \"nice\", \"nice\", \"nice\", \"nike\", \"nike\", \"nike\", \"nike\", \"nike\", \"nike\", \"nike\", \"nike\", \"nike\", \"nike\", \"nike\", \"nike\", \"nike\", \"nike\", \"normal\", \"normal\", \"normal\", \"normal\", \"normal\", \"old\", \"old\", \"old\", \"old\", \"old\", \"old\", \"old\", \"one\", \"one\", \"one\", \"one\", \"one\", \"one\", \"one\", \"one\", \"one\", \"order\", \"order\", \"order\", \"order\", \"order\", \"order\", \"order\", \"order\", \"order\", \"own\", \"own\", \"own\", \"own\", \"own\", \"own\", \"own\", \"pain\", \"pain\", \"pain\", \"pair\", \"pair\", \"pair\", \"pair\", \"pair\", \"pair\", \"pair\", \"pair\", \"pair\", \"pair\", \"pair\", \"pair\", \"pair\", \"pay\", \"pay\", \"pay\", \"pay\", \"people\", \"people\", \"people\", \"people\", \"people\", \"people\", \"people\", \"people\", \"perfect\", \"perfect\", \"perfect\", \"perfect\", \"perfect\", \"perfect\", \"perfect\", \"perfect\", \"perfect\", \"perfect\", \"perfect\", \"perfect\", \"perfect\", \"person\", \"person\", \"person\", \"person\", \"person\", \"person\", \"person\", \"person\", \"picture\", \"picture\", \"picture\", \"picture\", \"place\", \"place\", \"place\", \"place\", \"place\", \"place\", \"play\", \"play\", \"pleased\", \"pleased\", \"pleased\", \"pleased\", \"pleased\", \"pleased\", \"pleased\", \"pleased\", \"price\", \"price\", \"price\", \"price\", \"price\", \"price\", \"price\", \"price\", \"price\", \"problem\", \"problem\", \"problem\", \"problem\", \"problem\", \"problem\", \"problem\", \"problem\", \"problem\", \"product\", \"product\", \"product\", \"product\", \"product\", \"product\", \"product\", \"provide\", \"provide\", \"provide\", \"provide\", \"provide\", \"provide\", \"provide\", \"purchase\", \"purchase\", \"purchase\", \"purchase\", \"purchase\", \"purchase\", \"purchase\", \"purchase\", \"purchase\", \"purchase\", \"purchase\", \"purchase\", \"quality\", \"quality\", \"quality\", \"quality\", \"quality\", \"quality\", \"quality\", \"quality\", \"quick\", \"quick\", \"quick\", \"quick\", \"quick\", \"quick\", \"read\", \"read\", \"read\", \"read\", \"read\", \"real\", \"real\", \"real\", \"real\", \"real\", \"real\", \"real\", \"real\", \"reason\", \"reason\", \"reason\", \"reason\", \"reason\", \"reason\", \"reason\", \"reason\", \"receive\", \"receive\", \"receive\", \"receive\", \"receive\", \"receive\", \"recommend\", \"recommend\", \"recommend\", \"recommend\", \"recommend\", \"recommend\", \"recommend\", \"recommend\", \"recommend\", \"recommend\", \"recommend\", \"recommend\", \"recommend\", \"red\", \"red\", \"red\", \"regular\", \"regular\", \"regular\", \"regular\", \"regular\", \"regular\", \"regular\", \"regular\", \"regular\", \"regular\", \"replace\", \"replace\", \"replace\", \"replace\", \"return\", \"return\", \"return\", \"return\", \"return\", \"review\", \"review\", \"review\", \"review\", \"review\", \"review\", \"review\", \"right\", \"right\", \"right\", \"right\", \"right\", \"right\", \"right\", \"right\", \"right\", \"right\", \"right\", \"room\", \"room\", \"room\", \"run\", \"run\", \"run\", \"run\", \"run\", \"run\", \"run\", \"run\", \"runner\", \"runner\", \"runner\", \"runner\", \"runner\", \"running\", \"running\", \"running\", \"running\", \"running\", \"running\", \"running\", \"sandal\", \"satisfied\", \"satisfied\", \"satisfied\", \"satisfied\", \"satisfied\", \"say\", \"say\", \"say\", \"say\", \"say\", \"say\", \"say\", \"say\", \"say\", \"school\", \"school\", \"school\", \"school\", \"school\", \"see\", \"see\", \"see\", \"see\", \"see\", \"see\", \"see\", \"see\", \"sell\", \"sell\", \"sell\", \"sell\", \"sell\", \"seller\", \"seller\", \"send\", \"send\", \"send\", \"send\", \"send\", \"send\", \"service\", \"service\", \"set\", \"set\", \"set\", \"set\", \"set\", \"ship\", \"ship\", \"ship\", \"ship\", \"shipping\", \"shipping\", \"shipping\", \"shirt\", \"shoe\", \"shoe\", \"shoe\", \"shoe\", \"shoe\", \"shoe\", \"shoe\", \"shoe\", \"shoe\", \"shoe\", \"shoe\", \"shoe\", \"short\", \"short\", \"short\", \"short\", \"short\", \"short\", \"short\", \"short\", \"short\", \"short\", \"short\", \"show\", \"show\", \"show\", \"show\", \"show\", \"show\", \"show\", \"show\", \"size\", \"size\", \"size\", \"size\", \"size\", \"size\", \"size\", \"slide\", \"slide\", \"slide\", \"small\", \"small\", \"small\", \"small\", \"small\", \"small\", \"sneaker\", \"sneaker\", \"sneaker\", \"sneaker\", \"sneaker\", \"sneaker\", \"sneaker\", \"sneaker\", \"sneaker\", \"sneaker\", \"sneaker\", \"snug\", \"snug\", \"snug\", \"snug\", \"snug\", \"soccer\", \"soccer\", \"soccer\", \"sock\", \"sock\", \"sock\", \"sock\", \"sock\", \"sock\", \"soft\", \"soft\", \"soft\", \"soft\", \"soft\", \"soft\", \"soft\", \"soft\", \"sole\", \"sole\", \"sole\", \"sole\", \"sole\", \"sole\", \"sole\", \"sole\", \"son\", \"son\", \"son\", \"son\", \"son\", \"son\", \"son\", \"son\", \"son\", \"spend\", \"spend\", \"spend\", \"spend\", \"spend\", \"sport\", \"sport\", \"sport\", \"sport\", \"sport\", \"sport\", \"sport\", \"sport\", \"stand\", \"stand\", \"stand\", \"stand\", \"stand\", \"stand\", \"stand\", \"star\", \"star\", \"star\", \"star\", \"star\", \"star\", \"star\", \"start\", \"start\", \"start\", \"start\", \"start\", \"start\", \"stay\", \"stay\", \"stay\", \"stay\", \"stay\", \"stay\", \"stay\", \"stay\", \"stop\", \"stop\", \"stop\", \"stop\", \"stop\", \"store\", \"store\", \"store\", \"store\", \"store\", \"store\", \"strap\", \"strap\", \"strap\", \"style\", \"style\", \"style\", \"style\", \"style\", \"style\", \"style\", \"style\", \"style\", \"style\", \"style\", \"stylish\", \"stylish\", \"stylish\", \"stylish\", \"stylish\", \"stylish\", \"stylish\", \"stylish\", \"summer\", \"summer\", \"summer\", \"summer\", \"summer\", \"super\", \"super\", \"super\", \"super\", \"super\", \"support\", \"support\", \"support\", \"support\", \"support\", \"sure\", \"sure\", \"sure\", \"sure\", \"sure\", \"sure\", \"sure\", \"sure\", \"sure\", \"sure\", \"take\", \"take\", \"take\", \"take\", \"take\", \"take\", \"take\", \"take\", \"tell\", \"tell\", \"tell\", \"tell\", \"tell\", \"tell\", \"tell\", \"tell\", \"tennis\", \"tennis\", \"tennis\", \"tennis\", \"tennis\", \"thank\", \"thank\", \"thank\", \"thank\", \"thank\", \"thin\", \"thin\", \"thin\", \"thin\", \"thin\", \"thing\", \"thing\", \"thing\", \"thing\", \"thing\", \"thing\", \"thing\", \"thing\", \"thing\", \"thing\", \"think\", \"think\", \"think\", \"think\", \"think\", \"think\", \"think\", \"think\", \"think\", \"think\", \"think\", \"think\", \"think\", \"tight\", \"tight\", \"tight\", \"tight\", \"tight\", \"tight\", \"tight\", \"time\", \"time\", \"time\", \"time\", \"time\", \"time\", \"time\", \"time\", \"time\", \"time\", \"time\", \"time\", \"time\", \"time\", \"toe\", \"toe\", \"toe\", \"toe\", \"toe\", \"training\", \"training\", \"training\", \"training\", \"training\", \"true\", \"true\", \"true\", \"true\", \"try\", \"try\", \"try\", \"try\", \"try\", \"try\", \"try\", \"try\", \"try\", \"try\", \"turn\", \"turn\", \"turn\", \"turn\", \"turn\", \"turn\", \"type\", \"type\", \"type\", \"type\", \"type\", \"type\", \"type\", \"type\", \"type\", \"uncomfortable\", \"uncomfortable\", \"uncomfortable\", \"uncomfortable\", \"uncomfortable\", \"use\", \"use\", \"use\", \"use\", \"use\", \"use\", \"use\", \"use\", \"use\", \"wait\", \"wait\", \"wait\", \"wait\", \"wait\", \"walk\", \"walk\", \"walk\", \"walk\", \"walk\", \"walk\", \"walk\", \"walk\", \"want\", \"want\", \"want\", \"want\", \"want\", \"want\", \"want\", \"want\", \"want\", \"want\", \"want\", \"want\", \"want\", \"want\", \"want\", \"watch\", \"water\", \"water\", \"water\", \"water\", \"wear\", \"wear\", \"wear\", \"wear\", \"wear\", \"wear\", \"wear\", \"wear\", \"wear\", \"wear\", \"wear\", \"wear\", \"wear\", \"week\", \"week\", \"week\", \"week\", \"week\", \"week\", \"week\", \"weight\", \"weight\", \"weight\", \"weight\", \"weight\", \"weight\", \"well\", \"well\", \"well\", \"well\", \"well\", \"well\", \"well\", \"well\", \"well\", \"well\", \"well\", \"well\", \"white\", \"white\", \"wife\", \"wife\", \"wife\", \"wife\", \"wife\", \"wife\", \"wish\", \"wish\", \"wish\", \"wish\", \"wish\", \"wish\", \"wish\", \"wish\", \"woman\", \"woman\", \"woman\", \"woman\", \"woman\", \"work\", \"work\", \"work\", \"work\", \"work\", \"work\", \"work\", \"work\", \"work\", \"work\", \"workout\", \"workout\", \"workout\", \"workout\", \"workout\", \"worth\", \"worth\", \"worth\", \"worth\", \"worth\", \"worth\", \"worth\", \"worth\", \"wrist\", \"wrong\", \"wrong\", \"wrong\", \"wrong\", \"wrong\", \"wrong\", \"wrong\", \"wrong\", \"year\", \"year\", \"year\", \"year\", \"year\", \"year\", \"year\"]}, \"R\": 30, \"lambda.step\": 0.01, \"plot.opts\": {\"xlab\": \"PC1\", \"ylab\": \"PC2\"}, \"topic.order\": [1, 2, 3, 4, 5, 6, 7, 8, 9, 10, 11, 12, 13, 14, 15, 16]};\n",
              "\n",
              "function LDAvis_load_lib(url, callback){\n",
              "  var s = document.createElement('script');\n",
              "  s.src = url;\n",
              "  s.async = true;\n",
              "  s.onreadystatechange = s.onload = callback;\n",
              "  s.onerror = function(){console.warn(\"failed to load library \" + url);};\n",
              "  document.getElementsByTagName(\"head\")[0].appendChild(s);\n",
              "}\n",
              "\n",
              "if(typeof(LDAvis) !== \"undefined\"){\n",
              "   // already loaded: just create the visualization\n",
              "   !function(LDAvis){\n",
              "       new LDAvis(\"#\" + \"ldavis_el715601394696060993606516717621\", ldavis_el715601394696060993606516717621_data);\n",
              "   }(LDAvis);\n",
              "}else if(typeof define === \"function\" && define.amd){\n",
              "   // require.js is available: use it to load d3/LDAvis\n",
              "   require.config({paths: {d3: \"https://cdnjs.cloudflare.com/ajax/libs/d3/3.5.5/d3.min\"}});\n",
              "   require([\"d3\"], function(d3){\n",
              "      window.d3 = d3;\n",
              "      LDAvis_load_lib(\"https://cdn.rawgit.com/bmabey/pyLDAvis/files/ldavis.v1.0.0.js\", function(){\n",
              "        new LDAvis(\"#\" + \"ldavis_el715601394696060993606516717621\", ldavis_el715601394696060993606516717621_data);\n",
              "      });\n",
              "    });\n",
              "}else{\n",
              "    // require.js not available: dynamically load d3 & LDAvis\n",
              "    LDAvis_load_lib(\"https://cdnjs.cloudflare.com/ajax/libs/d3/3.5.5/d3.min.js\", function(){\n",
              "         LDAvis_load_lib(\"https://cdn.rawgit.com/bmabey/pyLDAvis/files/ldavis.v1.0.0.js\", function(){\n",
              "                 new LDAvis(\"#\" + \"ldavis_el715601394696060993606516717621\", ldavis_el715601394696060993606516717621_data);\n",
              "            })\n",
              "         });\n",
              "}\n",
              "</script>"
            ]
          },
          "metadata": {},
          "execution_count": 91
        }
      ]
    },
    {
      "cell_type": "markdown",
      "source": [
        "## Generate Topic Wordcloud"
      ],
      "metadata": {
        "id": "jhbcV2BkGk8d"
      }
    },
    {
      "cell_type": "code",
      "source": [
        "# some options for wordcloud output\n",
        "img_w = 400   # image width\n",
        "img_h = 300   # image height\n",
        "\n",
        "topic_clouds = generate_wordclouds_for_topic_words(\n",
        "    model_main.topic_word_, vocab_main,\n",
        "    top_n=20, topic_labels=topic_labels_main,\n",
        "    width=img_w, height=img_h\n",
        ")\n",
        "\n",
        "# show all generated word clouds\n",
        "topic_clouds.keys()"
      ],
      "metadata": {
        "id": "qLH9zmSMGlFx",
        "colab": {
          "base_uri": "https://localhost:8080/"
        },
        "outputId": "ef98fe1f-9057-4988-e8ab-b6a737bc4361"
      },
      "execution_count": 92,
      "outputs": [
        {
          "output_type": "execute_result",
          "data": {
            "text/plain": [
              "dict_keys(['1_shoe_foot_toe', '2_love_son_gift', '3_shoe_great_run', '4_shoe_nike_know', '5_shoe_foot_day', '6_price_good_buy', '7_pair_nike_air', '8_play_shoe_basketball', '9_love_comfortable_fit', '10_size_small_order', '11_color_black_white', '12_watch_band_wrist', '13_sock_sandal_foot', '14_order_return_size', '15_bag_shirt_gym', '16_product_great_good'])"
            ]
          },
          "metadata": {},
          "execution_count": 92
        }
      ]
    },
    {
      "cell_type": "code",
      "source": [
        "#display wordcloud for a topic\n",
        "topic_clouds['1_shoe_foot_toe']"
      ],
      "metadata": {
        "id": "mu45cqpKHDLI",
        "colab": {
          "base_uri": "https://localhost:8080/",
          "height": 317
        },
        "outputId": "7afb0abe-33ea-4b1c-caf3-e4b30df2ac15"
      },
      "execution_count": 94,
      "outputs": [
        {
          "output_type": "execute_result",
          "data": {
            "text/plain": [
              "<PIL.Image.Image image mode=RGBA size=400x300>"
            ],
            "image/png": "[encoded data removed]"
          },
          "metadata": {},
          "execution_count": 94
        }
      ]
    },
    {
      "cell_type": "markdown",
      "source": [
        "# 7.&nbsp; ...."
      ],
      "metadata": {
        "id": "ECRMa1527UUD"
      }
    },
    {
      "cell_type": "markdown",
      "source": [
        "# 8.&nbsp; Results"
      ],
      "metadata": {
        "id": "cXHvb30HEend"
      }
    },
    {
      "cell_type": "markdown",
      "source": [
        "# 9.&nbsp; References"
      ],
      "metadata": {
        "id": "Q3D69G2sErhN"
      }
    }
  ]
}