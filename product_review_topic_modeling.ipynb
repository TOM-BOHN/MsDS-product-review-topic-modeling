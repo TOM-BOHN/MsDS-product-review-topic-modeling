{
  "nbformat": 4,
  "nbformat_minor": 0,
  "metadata": {
    "colab": {
      "provenance": [],
      "toc_visible": true,
      "authorship_tag": "ABX9TyMNB8VT6WilZ5tikSACVeuu",
      "include_colab_link": true
    },
    "kernelspec": {
      "name": "python3",
      "display_name": "Python 3"
    },
    "language_info": {
      "name": "python"
    }
  },
  "cells": [
    {
      "cell_type": "markdown",
      "metadata": {
        "id": "view-in-github",
        "colab_type": "text"
      },
      "source": [
        "<a href=\"https://colab.research.google.com/github/TOM-BOHN/MsDS-product-review-topic-modeling/blob/main/product_review_topic_modeling.ipynb\" target=\"_parent\"><img src=\"https://colab.research.google.com/assets/colab-badge.svg\" alt=\"Open In Colab\"/></a>"
      ]
    },
    {
      "cell_type": "markdown",
      "source": [
        "# Product Review Topic Modeling\n",
        "**Thomas Bohn**   --   **2023-09-18**\n",
        "\n",
        "A report focused on modeling topics on text review data from Amazon for clothing and shoes manufactured by Nike. Use unsupervised clustering methods to create popular topics in the review data.\n",
        "\n",
        "--  [Main Report](https://github.com/TOM-BOHN/MsDS-product-review-topic-modeling/blob/main/product_review_topic_modeling.ipynb)  --  [Github Repo](https://github.com/TOM-BOHN/MsDS-product-review-topic-modeling)  --  [Presentation Slides](tbd)  --  [Presentation Video](tbd) --"
      ],
      "metadata": {
        "id": "lY1sN4KoCifk"
      }
    },
    {
      "cell_type": "markdown",
      "source": [
        "# 1.&nbsp;Introduction"
      ],
      "metadata": {
        "id": "Vm8H3NhtDkZD"
      }
    },
    {
      "cell_type": "markdown",
      "source": [
        "## Setup Functions"
      ],
      "metadata": {
        "id": "P8L2lHJra6rW"
      }
    },
    {
      "cell_type": "markdown",
      "source": [
        "### Import Python Libraries\n",
        "\n",
        "The following python libraries are used in this notebook."
      ],
      "metadata": {
        "id": "Rc9iJV4NDkj6"
      }
    },
    {
      "cell_type": "code",
      "source": [
        "# Special Install of Packages\n",
        "print('[-] Importing packages...')\n",
        "#special_install_tmtoolkit\n",
        "import os\n",
        "try:\n",
        "  import tmtoolkit\n",
        "except:\n",
        "  print('starting patch of tmtoolkit.')\n",
        "  !pip install --quiet -U \"tmtoolkit[recommended,lda,sklearn,wordclouds,textproc_extra,topic_modeling_eval_extra]\"\n",
        "  print('finished patch of tmtoolkit.')\n",
        "  os.kill(os.getpid(), 9)\n",
        "\n",
        "#special_install_matplotlib\n",
        "import os\n",
        "import matplotlib\n",
        "if matplotlib.__version__ != \"3.1.3\":\n",
        "    print('starting patch of matplotlib.')\n",
        "    !pip uninstall --quiet -y matplotlib\n",
        "    !pip install --quiet matplotlib==3.1.3\n",
        "    print('finished patch of matplotlib.')\n",
        "    os.kill(os.getpid(), 9)\n",
        "\n",
        "#special_install_lda\n",
        "import os\n",
        "try:\n",
        "  from tmtoolkit.topicmod.tm_lda import compute_models_parallel\n",
        "except:\n",
        "  !pip install --quiet tmtoolkit['lda']\n",
        "  from tmtoolkit.topicmod.tm_lda import compute_models_parallel\n",
        "\n",
        "try:\n",
        "  from lda import LDA\n",
        "except:\n",
        "  !pip install --quiet lda\n",
        "  from lda import LDA\n",
        "\n",
        "#special_install_pyLDAvis\n",
        "try:\n",
        "  import pyLDAvis\n",
        "except:\n",
        "  !pip install --quiet pyLDAvis==2.1.2\n",
        "  import pyLDAvis\n"
      ],
      "metadata": {
        "colab": {
          "base_uri": "https://localhost:8080/"
        },
        "id": "6YRoOyQDwdHV",
        "outputId": "4f58e362-9100-4e73-ec83-548b596aedca"
      },
      "execution_count": 9,
      "outputs": [
        {
          "output_type": "stream",
          "name": "stdout",
          "text": [
            "[-] Importing packages...\n"
          ]
        },
        {
          "output_type": "stream",
          "name": "stderr",
          "text": [
            "/usr/local/lib/python3.10/dist-packages/ipykernel/ipkernel.py:283: DeprecationWarning: `should_run_async` will not call `transform_cell` automatically in the future. Please pass the result to `transformed_cell` argument and any exception that happen during thetransform in `preprocessing_exc_tuple` in IPython 7.17 and above.\n",
            "  and should_run_async(code)\n"
          ]
        }
      ]
    },
    {
      "cell_type": "code",
      "source": [
        "print('[-] Importing packages...')\n",
        "# File Connection and File Manipulation\n",
        "import os\n",
        "import pickle\n",
        "import json\n",
        "import glob\n",
        "# Import Usability Functions\n",
        "import logging\n",
        "import warnings\n",
        "# Basic Data Science Toolkits\n",
        "import pandas as pd\n",
        "import numpy as np\n",
        "import math\n",
        "import random\n",
        "import time\n",
        "from time import sleep\n",
        "# Basic Data Vizualization\n",
        "import seaborn as sns\n",
        "import matplotlib.pyplot as plt\n",
        "# Text Preprocessing (tmtoolkit)\n",
        "import tmtoolkit\n",
        "from tmtoolkit.corpus import Corpus, lemmatize, to_lowercase, remove_chars, filter_clean_tokens\n",
        "from tmtoolkit.corpus import filter_for_pos, remove_common_tokens, remove_uncommon_tokens\n",
        "from tmtoolkit.corpus import corpus_num_tokens, corpus_tokens_flattened\n",
        "from tmtoolkit.corpus import doc_tokens, tokens_table, doc_labels, dtm\n",
        "from tmtoolkit.corpus import vocabulary, vocabulary_size, vocabulary_counts\n",
        "from tmtoolkit.topicmod.model_io import print_ldamodel_topic_words\n",
        "from tmtoolkit.topicmod.tm_lda import compute_models_parallel\n",
        "from tmtoolkit.corpus.visualize import plot_doc_lengths_hist, plot_doc_frequencies_hist, plot_ranked_vocab_counts\n",
        "#https://tmtoolkit.readthedocs.io/en/latest/preprocessing.html\n",
        "# Text Preprocessing(other)\n",
        "from string import punctuation\n",
        "import nltk\n",
        "import scipy.sparse\n",
        "# Topic Modeling\n",
        "from lda import LDA\n",
        "import pyLDAvis\n",
        "from tmtoolkit.topicmod import tm_lda\n",
        "from tmtoolkit.topicmod.tm_lda import compute_models_parallel\n",
        "from tmtoolkit.topicmod.model_io import print_ldamodel_topic_words\n",
        "from tmtoolkit.topicmod.model_io import save_ldamodel_to_pickle\n",
        "from tmtoolkit.topicmod.model_io import load_ldamodel_from_pickle\n",
        "from tmtoolkit.topicmod.model_io import ldamodel_top_doc_topics\n",
        "from tmtoolkit.topicmod.evaluate import results_by_parameter\n",
        "from tmtoolkit.topicmod.visualize import plot_eval_results\n",
        "from tmtoolkit.topicmod.visualize import parameters_for_ldavis\n",
        "from tmtoolkit.topicmod.visualize import generate_wordclouds_for_topic_words\n",
        "from tmtoolkit.topicmod.model_stats import generate_topic_labels_from_top_words\n",
        "from tmtoolkit.bow.bow_stats import doc_lengths"
      ],
      "metadata": {
        "id": "H380lVJDDpRT",
        "colab": {
          "base_uri": "https://localhost:8080/"
        },
        "outputId": "9156fd95-2071-4f47-8bf2-c9973dd5dec7"
      },
      "execution_count": 48,
      "outputs": [
        {
          "output_type": "stream",
          "name": "stdout",
          "text": [
            "[-] Importing packages...\n"
          ]
        }
      ]
    },
    {
      "cell_type": "markdown",
      "source": [
        "### Set Global Variables"
      ],
      "metadata": {
        "id": "gkSK-tf_w07v"
      }
    },
    {
      "cell_type": "code",
      "source": [
        "random.seed(20191120)   # to make the sampling reproducible\n",
        "np.set_printoptions(precision=5)"
      ],
      "metadata": {
        "id": "VAB5u0jbw1Et"
      },
      "execution_count": 3,
      "outputs": []
    },
    {
      "cell_type": "markdown",
      "source": [
        "### Verify GPU Runtime"
      ],
      "metadata": {
        "id": "trDcYLfsDkpX"
      }
    },
    {
      "cell_type": "code",
      "source": [
        "gpu_info = !nvidia-smi\n",
        "gpu_info = '\\n'.join(gpu_info)\n",
        "if gpu_info.find('failed') >= 0:\n",
        "  print('Not connected to a GPU')\n",
        "else:\n",
        "  print(gpu_info)"
      ],
      "metadata": {
        "colab": {
          "base_uri": "https://localhost:8080/"
        },
        "id": "s7yTkyWkDt9R",
        "outputId": "bc8e13eb-c773-4e14-8168-ef1884fbd4ed"
      },
      "execution_count": 4,
      "outputs": [
        {
          "output_type": "stream",
          "name": "stdout",
          "text": [
            "/bin/bash: line 1: nvidia-smi: command not found\n"
          ]
        }
      ]
    },
    {
      "cell_type": "code",
      "source": [
        "from psutil import virtual_memory\n",
        "ram_gb = virtual_memory().total / 1e9\n",
        "print('  [.] Your runtime has {:.1f} gigabytes of available RAM'.format(ram_gb))\n",
        "\n",
        "if ram_gb < 20:\n",
        "  print('  [.] Not using a high-RAM runtime')\n",
        "else:\n",
        "  print('  [.] You are using a high-RAM runtime!')"
      ],
      "metadata": {
        "colab": {
          "base_uri": "https://localhost:8080/"
        },
        "id": "O-WqHeL7Dxyp",
        "outputId": "f425a29e-98a0-47c6-a3db-fa77ad18b10a"
      },
      "execution_count": 5,
      "outputs": [
        {
          "output_type": "stream",
          "name": "stdout",
          "text": [
            "  [.] Your runtime has 13.6 gigabytes of available RAM\n",
            "  [.] Not using a high-RAM runtime\n"
          ]
        }
      ]
    },
    {
      "cell_type": "markdown",
      "source": [
        "### Mount Google Drive"
      ],
      "metadata": {
        "id": "I-dych_HDktc"
      }
    },
    {
      "cell_type": "code",
      "source": [
        "from google.colab import drive\n",
        "drive.mount('/content/drive')"
      ],
      "metadata": {
        "colab": {
          "base_uri": "https://localhost:8080/"
        },
        "id": "hsxT8HBSD1TA",
        "outputId": "602c4f6d-7006-4615-aff8-bb9215107d99"
      },
      "execution_count": 6,
      "outputs": [
        {
          "output_type": "stream",
          "name": "stdout",
          "text": [
            "Drive already mounted at /content/drive; to attempt to forcibly remount, call drive.mount(\"/content/drive\", force_remount=True).\n"
          ]
        }
      ]
    },
    {
      "cell_type": "markdown",
      "source": [
        "### Setup Directories"
      ],
      "metadata": {
        "id": "ux9ssn7tDkwc"
      }
    },
    {
      "cell_type": "code",
      "source": [
        "ROOT_DIR = \"/content/drive/MyDrive/MSDS_marketing_text_analytics/master_files/2_topic_modeling\"\n",
        "DATA_DIR = \"%s/data\" % ROOT_DIR\n",
        "EVAL_DIR = \"%s/evaluation\" % ROOT_DIR\n",
        "MODEL_DIR = \"%s/models\" % ROOT_DIR\n",
        "\n",
        "#Create missing directories, if they don't exist\n",
        "if not os.path.exists(DATA_DIR):\n",
        "  # Create a new directory because it does not exist\n",
        "  os.makedirs(DATA_DIR)\n",
        "  print(\"The data directory is created!\")\n",
        "if not os.path.exists(EVAL_DIR):\n",
        "  # Create a new directory because it does not exist\n",
        "  os.makedirs(EVAL_DIR)\n",
        "  print(\"The evaluation directory is created!\")\n",
        "if not os.path.exists(MODEL_DIR):\n",
        "  # Create a new directory because it does not exist\n",
        "  os.makedirs(MODEL_DIR)\n",
        "  print(\"The model directory is created!\")"
      ],
      "metadata": {
        "id": "QgUhHdlkD4_h"
      },
      "execution_count": 7,
      "outputs": []
    },
    {
      "cell_type": "markdown",
      "source": [
        "# 2.&nbsp;Data Source"
      ],
      "metadata": {
        "id": "uaL-mWljDkzE"
      }
    },
    {
      "cell_type": "markdown",
      "source": [
        "## Copy Data From Source"
      ],
      "metadata": {
        "id": "GwCxNYFLD_mO"
      }
    },
    {
      "cell_type": "code",
      "source": [
        "#!wget <URL> -P <COLAB PATH>\n",
        "#source_url = 'http://128.138.93.164/meta_Clothing_Shoes_and_Jewelry.json.gz' # true source, need better link\n",
        "source_url = 'https://docs.google.com/uc?export=download&id=12cPbdNpQ6Dmqg25Fb0kAxFSEug-8t3gc&confirm=t' # local source, working for testing\n",
        "dest_path = '%s/meta_Clothing_Shoes_and_Jewelry.jsonl.gz' % DATA_DIR\n",
        "!wget \"$source_url\" -O \"$dest_path\"\n"
      ],
      "metadata": {
        "colab": {
          "base_uri": "https://localhost:8080/"
        },
        "id": "qF0u3FMYFN2l",
        "outputId": "482bb923-4933-41aa-d12b-416e0ac5da66"
      },
      "execution_count": null,
      "outputs": [
        {
          "output_type": "stream",
          "name": "stdout",
          "text": [
            "--2023-09-18 22:13:46--  https://docs.google.com/uc?export=download&id=12cPbdNpQ6Dmqg25Fb0kAxFSEug-8t3gc&confirm=t\n",
            "Resolving docs.google.com (docs.google.com)... 108.177.126.138, 108.177.126.139, 108.177.126.113, ...\n",
            "Connecting to docs.google.com (docs.google.com)|108.177.126.138|:443... connected.\n",
            "HTTP request sent, awaiting response... 303 See Other\n",
            "Location: https://doc-0o-58-docs.googleusercontent.com/docs/securesc/ha0ro937gcuc7l7deffksulhg5h7mbp1/7qeuhp3jkprbc4o70snmnq820i7po11u/1695075225000/15741694635513001712/*/12cPbdNpQ6Dmqg25Fb0kAxFSEug-8t3gc?e=download&uuid=df5822a8-2268-40fd-a6f4-bb63239e6a05 [following]\n",
            "Warning: wildcards not supported in HTTP.\n",
            "--2023-09-18 22:13:47--  https://doc-0o-58-docs.googleusercontent.com/docs/securesc/ha0ro937gcuc7l7deffksulhg5h7mbp1/7qeuhp3jkprbc4o70snmnq820i7po11u/1695075225000/15741694635513001712/*/12cPbdNpQ6Dmqg25Fb0kAxFSEug-8t3gc?e=download&uuid=df5822a8-2268-40fd-a6f4-bb63239e6a05\n",
            "Resolving doc-0o-58-docs.googleusercontent.com (doc-0o-58-docs.googleusercontent.com)... 142.251.18.132, 2a00:1450:4013:c18::84\n",
            "Connecting to doc-0o-58-docs.googleusercontent.com (doc-0o-58-docs.googleusercontent.com)|142.251.18.132|:443... connected.\n",
            "HTTP request sent, awaiting response... 200 OK\n",
            "Length: 279297714 (266M) [application/x-gzip]\n",
            "Saving to: ‘/content/drive/MyDrive/MSDS_marketing_text_analytics/master_files/2_topic_modeling/data/meta_Clothing_Shoes_and_Jewelry.jsonl.gz’\n",
            "\n",
            "/content/drive/MyDr 100%[===================>] 266.36M  32.6MB/s    in 7.7s    \n",
            "\n",
            "2023-09-18 22:13:55 (34.5 MB/s) - ‘/content/drive/MyDrive/MSDS_marketing_text_analytics/master_files/2_topic_modeling/data/meta_Clothing_Shoes_and_Jewelry.jsonl.gz’ saved [279297714/279297714]\n",
            "\n"
          ]
        }
      ]
    },
    {
      "cell_type": "code",
      "source": [
        "#!wget <URL> -P <COLAB PATH>\n",
        "#source_url = 'http://128.138.93.164/reviews_Clothing_Shoes_and_Jewelry.json.gz' # true source, need better link\n",
        "source_url = \"https://docs.google.com/uc?export=download&id=12detwlesuD7S-O8i9w4LOii1DWML0i7Q&confirm=t\" # local source, working for testing\n",
        "dest_path = '%s/reviews_Clothing_Shoes_and_Jewelry.json.gz' % DATA_DIR\n",
        "file_name = 'reviews_Clothing_Shoes_and_Jewelry.json.gz'\n",
        "print(dest_path)\n",
        "!wget \"$source_url\" -O \"$dest_path\""
      ],
      "metadata": {
        "colab": {
          "base_uri": "https://localhost:8080/"
        },
        "id": "UiXBplpkFN-Z",
        "outputId": "22cb641f-dce3-46ea-ae12-452bb7e13f79"
      },
      "execution_count": null,
      "outputs": [
        {
          "output_type": "stream",
          "name": "stdout",
          "text": [
            "/content/drive/MyDrive/MSDS_marketing_text_analytics/master_files/2_topic_modeling/data/reviews_Clothing_Shoes_and_Jewelry.json.gz\n",
            "--2023-09-18 22:14:37--  https://docs.google.com/uc?export=download&id=12detwlesuD7S-O8i9w4LOii1DWML0i7Q&confirm=t\n",
            "Resolving docs.google.com (docs.google.com)... 108.177.126.138, 108.177.126.102, 108.177.126.100, ...\n",
            "Connecting to docs.google.com (docs.google.com)|108.177.126.138|:443... connected.\n",
            "HTTP request sent, awaiting response... 303 See Other\n",
            "Location: https://doc-0o-58-docs.googleusercontent.com/docs/securesc/ha0ro937gcuc7l7deffksulhg5h7mbp1/bhu56oc1bj6feidn253emcrplo7110r7/1695075225000/15741694635513001712/*/12detwlesuD7S-O8i9w4LOii1DWML0i7Q?e=download&uuid=ba539796-3687-4d5a-b0d9-600b1016498d [following]\n",
            "Warning: wildcards not supported in HTTP.\n",
            "--2023-09-18 22:14:38--  https://doc-0o-58-docs.googleusercontent.com/docs/securesc/ha0ro937gcuc7l7deffksulhg5h7mbp1/bhu56oc1bj6feidn253emcrplo7110r7/1695075225000/15741694635513001712/*/12detwlesuD7S-O8i9w4LOii1DWML0i7Q?e=download&uuid=ba539796-3687-4d5a-b0d9-600b1016498d\n",
            "Resolving doc-0o-58-docs.googleusercontent.com (doc-0o-58-docs.googleusercontent.com)... 142.251.18.132, 2a00:1450:4013:c18::84\n",
            "Connecting to doc-0o-58-docs.googleusercontent.com (doc-0o-58-docs.googleusercontent.com)|142.251.18.132|:443... connected.\n",
            "HTTP request sent, awaiting response... 200 OK\n",
            "Length: 888065454 (847M) [application/x-gzip]\n",
            "Saving to: ‘/content/drive/MyDrive/MSDS_marketing_text_analytics/master_files/2_topic_modeling/data/reviews_Clothing_Shoes_and_Jewelry.json.gz’\n",
            "\n",
            "/content/drive/MyDr 100%[===================>] 846.92M  23.4MB/s    in 35s     \n",
            "\n",
            "2023-09-18 22:15:13 (24.1 MB/s) - ‘/content/drive/MyDrive/MSDS_marketing_text_analytics/master_files/2_topic_modeling/data/reviews_Clothing_Shoes_and_Jewelry.json.gz’ saved [888065454/888065454]\n",
            "\n"
          ]
        }
      ]
    },
    {
      "cell_type": "code",
      "source": [
        "meta_file_path = '%s/meta_Clothing_Shoes_and_Jewelry.jsonl.gz' % DATA_DIR\n",
        "review_file_path = '%s/reviews_Clothing_Shoes_and_Jewelry.json.gz' % DATA_DIR\n",
        "\n",
        "!gzip -d \"$meta_file_path\"\n",
        "!gzip -d \"$review_file_path\""
      ],
      "metadata": {
        "id": "RE5Bt8SpGJuJ"
      },
      "execution_count": null,
      "outputs": []
    },
    {
      "cell_type": "markdown",
      "source": [
        "## Load the Product Data"
      ],
      "metadata": {
        "id": "iLawHwl8Dk3H"
      }
    },
    {
      "cell_type": "code",
      "source": [
        "##this assigns the filename we're trying to load in to a string variable\n",
        "meta_file_path = '%s/meta_Clothing_Shoes_and_Jewelry.jsonl' % DATA_DIR\n",
        "loadedjson = open(meta_file_path, 'r')"
      ],
      "metadata": {
        "id": "XpLJWRlyG66-"
      },
      "execution_count": null,
      "outputs": []
    },
    {
      "cell_type": "code",
      "source": [
        "#The data used in this script comes from: http://jmcauley.ucsd.edu/data/amazon/links.html\n",
        "#The data here is the 'per category' data for Clothing, Shoes and Jewelry\n",
        "#use the above url to better understand the data, where it came from, and some\n",
        "#tips on how to use it!\n",
        "\n",
        "#getting reviews is going to be a two step process:\n",
        "#1) go through the amazon product catalog for \"Clothing, Shoes and Jewelery\n",
        "#and extract out matching products by their ASIN\n",
        "#2) go through the review data and parse out the matching reviews by ASIN\n",
        "\n",
        "#1) - Extracting ASINs by brand\n",
        "#First, let's iterate through the data and store it as a python dictionary\n",
        "\n",
        "#let's set a counter to see how many products we have in the json\n",
        "count = 0\n",
        "start_time = time.time()\n",
        "#loading the json file\n",
        "#we've always got to initiate dictionaries before we can use them\n",
        "allproducts = {}\n",
        "\n",
        "#each line of data here is a product and its metadata\n",
        "print('loading product data to dictionary:')\n",
        "for aline in loadedjson:\n",
        "    #creating a counter to know our progress in processing the entire catalog\n",
        "    count += 1\n",
        "    if count % 100000 == 0:\n",
        "        #we're only going to print our count every 100k, this way we don't spam\n",
        "        #our output console\n",
        "        current_runtime = round(time.time() - start_time,3)\n",
        "        print('[-] current progress:', count, 'and a runtime of', current_runtime, 'seconds.')\n",
        "    #interestingly enough, this data isn't true JSON, instead it's python\n",
        "    #dictionaries that have essentially been printed as text. It's odd, but if\n",
        "    #we read the documentaion, all we need to do to load a dictionary is use\n",
        "    #the eval function. https://www.programiz.com/python-programming/methods/built-in/eval\n",
        "    #eval takes whatever string is passed to it, and interprets it as python code\n",
        "    #and runs it. So here, it's exactly what we need to interpret a printed\n",
        "    #python dictionary\n",
        "\n",
        "    aproduct = eval(aline)\n",
        "\n",
        "    #making a dictionary entry with the ASIN of the product as the key\n",
        "    #and it's metadata as nested dictionaries\n",
        "    allproducts[aproduct['asin']] = aproduct"
      ],
      "metadata": {
        "colab": {
          "base_uri": "https://localhost:8080/"
        },
        "id": "JgonsDHsHiGy",
        "outputId": "aa105c7e-e62e-418e-ccfd-609969bb380a"
      },
      "execution_count": null,
      "outputs": [
        {
          "output_type": "stream",
          "name": "stdout",
          "text": [
            "loading product data to dictionary:\n",
            "[-] current progress: 100000 and a runtime of 14.454 seconds.\n",
            "[-] current progress: 200000 and a runtime of 29.4 seconds.\n",
            "[-] current progress: 300000 and a runtime of 45.329 seconds.\n",
            "[-] current progress: 400000 and a runtime of 63.058 seconds.\n",
            "[-] current progress: 500000 and a runtime of 79.572 seconds.\n",
            "[-] current progress: 600000 and a runtime of 95.584 seconds.\n",
            "[-] current progress: 700000 and a runtime of 113.943 seconds.\n",
            "[-] current progress: 800000 and a runtime of 134.295 seconds.\n",
            "[-] current progress: 900000 and a runtime of 152.333 seconds.\n",
            "[-] current progress: 1000000 and a runtime of 171.838 seconds.\n",
            "[-] current progress: 1100000 and a runtime of 192.491 seconds.\n",
            "[-] current progress: 1200000 and a runtime of 211.064 seconds.\n",
            "[-] current progress: 1300000 and a runtime of 235.86 seconds.\n",
            "[-] current progress: 1400000 and a runtime of 255.625 seconds.\n",
            "[-] current progress: 1500000 and a runtime of 276.365 seconds.\n"
          ]
        }
      ]
    },
    {
      "cell_type": "code",
      "source": [
        "#print a summary of the records processed\n",
        "allproducts_length = len(allproducts)\n",
        "current_runtime = round(time.time() - start_time,3)\n",
        "print('Process completed for', count, 'of', allproducts_length, 'records with a final runtime of', current_runtime, 'seconds.')"
      ],
      "metadata": {
        "colab": {
          "base_uri": "https://localhost:8080/"
        },
        "id": "82nO1J0qK7px",
        "outputId": "1fe01287-267b-46aa-ac79-508a8ced65c2"
      },
      "execution_count": null,
      "outputs": [
        {
          "output_type": "stream",
          "name": "stdout",
          "text": [
            "Process completed for 1503384 of 1503384 records with a final runtime of 277.317 seconds.\n"
          ]
        }
      ]
    },
    {
      "cell_type": "markdown",
      "source": [
        "## Summarize the Product Categories"
      ],
      "metadata": {
        "id": "SM_uvP__Xj3q"
      }
    },
    {
      "cell_type": "code",
      "source": [
        "#Next we need to explore the product data to see what categories are common in the\n",
        "#data. As you'll learn, product categories are wishywashy in that they can be\n",
        "#product categories (e.g., baby, house and home), or they can be brands!\n",
        "#We're already dealing with a subset of the product categories, Clothing, Shoes\n",
        "#and Jewlery. We still need to find a list of product ids for our specific\n",
        "#brand. To do this,We're going to use the 'categories' metadata field to find\n",
        "#your brand\n",
        "\n",
        "##Let's create a dictionary of all the product subcategories\n",
        "#and by doing so, also come up with a list of brands and the number of products\n",
        "#they have listed in the amazon product catalog\n",
        "\n",
        "allcategories = {}\n",
        "count = 0\n",
        "start_time = time.time()\n",
        "\n",
        "#each line of data here is a product and its metadata\n",
        "print('loading categories data to dictionary:')\n",
        "for aproduct in allproducts:\n",
        "    #creating a counter to know our progress in processing the entire catalog\n",
        "    count += 1\n",
        "    if count % 100000 == 0:\n",
        "        #we now know there are 1.5 million products, so we can build a counter\n",
        "        #that tells how our processing is going. When the counter reaches one\n",
        "        #we're done!\n",
        "        current_progress = int(round(count/allproducts_length,2)*100)\n",
        "        current_runtime = round(time.time() - start_time,3)\n",
        "        print('[-] current progress:', current_progress, '%', 'and a runtime of', current_runtime, 'seconds.')\n",
        "\n",
        "    #setting a dict up with just one product, so we can inspect and ref it\n",
        "    aproduct = allproducts[aproduct]\n",
        "    #creating a dictionary entry for each product category\n",
        "    #also counting the occurances of each category\n",
        "    if 'categories' in aproduct:\n",
        "        for categories in aproduct['categories']:\n",
        "            for acategory in categories:\n",
        "                if acategory in allcategories:\n",
        "                    allcategories[acategory] += 1\n",
        "                if acategory not in allcategories:\n",
        "                    allcategories[acategory] = 1"
      ],
      "metadata": {
        "colab": {
          "base_uri": "https://localhost:8080/"
        },
        "id": "Z8HacV-QLvxB",
        "outputId": "3cba69f1-0f64-4cc9-c05f-64d940dd3d17"
      },
      "execution_count": null,
      "outputs": [
        {
          "output_type": "stream",
          "name": "stdout",
          "text": [
            "loading categories data to dictionary:\n",
            "[-] current progress: 7 % and a runtime of 0.801 seconds.\n",
            "[-] current progress: 13 % and a runtime of 1.545 seconds.\n",
            "[-] current progress: 20 % and a runtime of 2.029 seconds.\n",
            "[-] current progress: 27 % and a runtime of 2.492 seconds.\n",
            "[-] current progress: 33 % and a runtime of 2.947 seconds.\n",
            "[-] current progress: 40 % and a runtime of 3.423 seconds.\n",
            "[-] current progress: 47 % and a runtime of 3.853 seconds.\n",
            "[-] current progress: 53 % and a runtime of 4.283 seconds.\n",
            "[-] current progress: 60 % and a runtime of 4.722 seconds.\n",
            "[-] current progress: 67 % and a runtime of 5.135 seconds.\n",
            "[-] current progress: 73 % and a runtime of 5.583 seconds.\n",
            "[-] current progress: 80 % and a runtime of 5.983 seconds.\n",
            "[-] current progress: 86 % and a runtime of 6.392 seconds.\n",
            "[-] current progress: 93 % and a runtime of 6.81 seconds.\n",
            "[-] current progress: 100 % and a runtime of 7.197 seconds.\n"
          ]
        }
      ]
    },
    {
      "cell_type": "code",
      "source": [
        "#print a summary of the categories processed\n",
        "allcategories_length = len(allcategories)\n",
        "current_runtime = round(time.time() - start_time,3)\n",
        "print('Process completed for', allcategories_length, 'categories with a final runtime of', current_runtime, 'seconds.')"
      ],
      "metadata": {
        "colab": {
          "base_uri": "https://localhost:8080/"
        },
        "id": "DYX33syoMams",
        "outputId": "44735419-0b60-44bf-c400-3869b2f8db35"
      },
      "execution_count": null,
      "outputs": [
        {
          "output_type": "stream",
          "name": "stdout",
          "text": [
            "Process completed for 2773 catregories with a final runtime of 7.224 seconds.\n"
          ]
        }
      ]
    },
    {
      "cell_type": "code",
      "source": [
        "#create a sorted list of categories\n",
        "sortedlist = []\n",
        "#covert the dictionary to a list of tuples\n",
        "for acategory in allcategories:\n",
        "  sortedlist.append((allcategories[acategory],acategory))\n",
        "#sort the list\n",
        "sortedlist = sorted(sortedlist, reverse=True)\n",
        "#print the top x records in the list\n",
        "top_n = 20\n",
        "for item in range(0,top_n):\n",
        "  print('[',str(item).zfill(2),']', sortedlist[item])"
      ],
      "metadata": {
        "colab": {
          "base_uri": "https://localhost:8080/"
        },
        "id": "24HHwOM3MvMp",
        "outputId": "bae6991c-3b17-4a91-cd9e-9de0d923200f"
      },
      "execution_count": null,
      "outputs": [
        {
          "output_type": "stream",
          "name": "stdout",
          "text": [
            "[ 00 ] (3429257, 'Clothing, Shoes & Jewelry')\n",
            "[ 01 ] (1086181, 'Women')\n",
            "[ 02 ] (617092, 'Clothing')\n",
            "[ 03 ] (541681, 'Men')\n",
            "[ 04 ] (537761, 'Novelty, Costumes & More')\n",
            "[ 05 ] (432653, 'Shoes')\n",
            "[ 06 ] (339900, 'Novelty')\n",
            "[ 07 ] (268065, 'Shoes & Accessories: International Shipping Available')\n",
            "[ 08 ] (255454, 'Jewelry')\n",
            "[ 09 ] (174962, 'Accessories')\n",
            "[ 10 ] (97095, 'Girls')\n",
            "[ 11 ] (93596, 'Tops & Tees')\n",
            "[ 12 ] (87688, 'Dresses')\n",
            "[ 13 ] (84549, 'T-Shirts')\n",
            "[ 14 ] (82063, 'Boots')\n",
            "[ 15 ] (80302, 'Shirts')\n",
            "[ 16 ] (79897, 'Sandals')\n",
            "[ 17 ] (79545, 'Watches')\n",
            "[ 18 ] (77684, 'Boys')\n",
            "[ 19 ] (73507, 'Jewelry: International Shipping Available')\n"
          ]
        }
      ]
    },
    {
      "cell_type": "code",
      "source": [
        "nike_categories = allcategories['Nike']\n",
        "print(nike_categories, 'product records for Nike.')"
      ],
      "metadata": {
        "colab": {
          "base_uri": "https://localhost:8080/"
        },
        "id": "pphGYYnnNJ0B",
        "outputId": "7fe2a764-f8d4-4a2e-9830-1c2c698b176e"
      },
      "execution_count": null,
      "outputs": [
        {
          "output_type": "stream",
          "name": "stdout",
          "text": [
            "8327 product records for Nike.\n"
          ]
        }
      ]
    },
    {
      "cell_type": "markdown",
      "source": [
        "## Extract a List of Product Ids"
      ],
      "metadata": {
        "id": "9_8Wzo6RXpvC"
      }
    },
    {
      "cell_type": "code",
      "source": [
        "#Now, go ahead and use the Variable Expolorer in Spyder to locate a brand\n",
        "#that has a lot of product entries! Alternatively, type allcategories['Brand name']\n",
        "#to get a count for a specific brand. For instance:\n",
        "#>>allcategories['Nike']\n",
        "#>> 8327\n",
        "#>>allcategories['adidas']\n",
        "#>> 8645\n",
        "\n",
        "#I'd reccommend at least 1.5k products, but you're welcome to try smaller counts\n",
        "#all I care about is whether you have at least 2k reviews when it's all said and done\n",
        "\n",
        "\n",
        "##Now we need to go through our newly first dictionary and extract out the\n",
        "##matching ASINs for Nike\n",
        "\n",
        "##First, create a set where we will store our ASINs\n",
        "##We choose a set here because we don't want duplicates\n",
        "allnikeasins = set()\n",
        "count = 0\n",
        "start_time = time.time()\n",
        "\n",
        "for areview in allproducts:\n",
        "    theproduct = allproducts[areview]\n",
        "    count += 1\n",
        "    if count % 100000 == 0:\n",
        "        current_progress = int(round(count/allproducts_length,2)*100)\n",
        "        current_runtime = round(time.time() - start_time,3)\n",
        "        print('[-] current progress:', current_progress, '%', 'and a runtime of', current_runtime, 'seconds.')\n",
        "\n",
        "    #let's iterate fore each category for a product, again, any given product\n",
        "    #can be assigned multiple product categories,\n",
        "    for categories in theproduct['categories']:\n",
        "        #each category is actually encoded as a list (even though they should\n",
        "        #just be strings, so we need to iterate one more time)\n",
        "        for acategory in categories:\n",
        "            #checking to see if the product category matches Nike\n",
        "            #lowercasing the category string incase capitalization might get\n",
        "            #in the way of a match\n",
        "            if 'nike' in acategory.lower():\n",
        "                #let's go ahead and store it to our set of Nike ASINs\n",
        "                allnikeasins.add(theproduct['asin'])"
      ],
      "metadata": {
        "colab": {
          "base_uri": "https://localhost:8080/"
        },
        "id": "lMutjGO2NxCI",
        "outputId": "8de2f443-b7d1-4620-a644-c65ccd9ddfdf"
      },
      "execution_count": null,
      "outputs": [
        {
          "output_type": "stream",
          "name": "stdout",
          "text": [
            "[-] current progress: 7 % and a runtime of 0.311 seconds.\n",
            "[-] current progress: 13 % and a runtime of 0.61 seconds.\n",
            "[-] current progress: 20 % and a runtime of 0.932 seconds.\n",
            "[-] current progress: 27 % and a runtime of 1.244 seconds.\n",
            "[-] current progress: 33 % and a runtime of 1.558 seconds.\n",
            "[-] current progress: 40 % and a runtime of 1.858 seconds.\n",
            "[-] current progress: 47 % and a runtime of 2.165 seconds.\n",
            "[-] current progress: 53 % and a runtime of 2.471 seconds.\n",
            "[-] current progress: 60 % and a runtime of 2.753 seconds.\n",
            "[-] current progress: 67 % and a runtime of 3.037 seconds.\n",
            "[-] current progress: 73 % and a runtime of 3.338 seconds.\n",
            "[-] current progress: 80 % and a runtime of 3.63 seconds.\n",
            "[-] current progress: 86 % and a runtime of 3.911 seconds.\n",
            "[-] current progress: 93 % and a runtime of 4.201 seconds.\n",
            "[-] current progress: 100 % and a runtime of 4.649 seconds.\n"
          ]
        }
      ]
    },
    {
      "cell_type": "code",
      "source": [
        "#print a summary of the categories processed\n",
        "allnikeasins_length = len(allnikeasins)\n",
        "current_runtime = round(time.time() - start_time,3)\n",
        "print('Process completed for', allnikeasins_length, 'records with a final runtime of', current_runtime, 'seconds.')"
      ],
      "metadata": {
        "colab": {
          "base_uri": "https://localhost:8080/"
        },
        "id": "QJnKh-pJN31B",
        "outputId": "0d88a64c-46f2-4090-de34-d15de81c47f2"
      },
      "execution_count": null,
      "outputs": [
        {
          "output_type": "stream",
          "name": "stdout",
          "text": [
            "Process completed for 8327 records with a final runtime of 4.684 seconds.\n"
          ]
        }
      ]
    },
    {
      "cell_type": "code",
      "source": [
        "# write the ASINs out to a file as a checkpoint\n",
        "outputfile = open('%s/allasins.txt' % DATA_DIR, 'w')\n",
        "\n",
        "outputfile.write(','.join(allnikeasins))\n",
        "outputfile.close()"
      ],
      "metadata": {
        "id": "3w3CxJ7AOSrF"
      },
      "execution_count": null,
      "outputs": []
    },
    {
      "cell_type": "markdown",
      "source": [
        "## Load the Review Data"
      ],
      "metadata": {
        "id": "FoMzFNfNqYXS"
      }
    },
    {
      "cell_type": "code",
      "source": [
        "#this assigns the filename we're trying to load in to a string variable\n",
        "review_file_path = '%s/reviews_Clothing_Shoes_and_Jewelry.json' % DATA_DIR\n",
        "loadedjson = open(review_file_path, 'r')"
      ],
      "metadata": {
        "id": "JTQOhtdOqYiL"
      },
      "execution_count": 16,
      "outputs": []
    },
    {
      "cell_type": "code",
      "source": [
        "#2) - Parsing the review data\n",
        "#First, let's iterate through the data and store it as a python dictionary\n",
        "\n",
        "#let's set a counter to see how many products we have in the json\n",
        "count = 0\n",
        "start_time = time.time()\n",
        "#loading the json file\n",
        "#we've always got to initiate dictionaries before we can use them\n",
        "allreviews = {}\n",
        "\n",
        "#each line of data here is a product and its metadata\n",
        "print('loading review data to dictionary:')\n",
        "for aline in loadedjson:\n",
        "    #creating a counter to know our progress in processing the entire catalog\n",
        "    count += 1\n",
        "    if count % 500000 == 0:\n",
        "        #we're only going to print our count every 100k, this way we don't spam\n",
        "        #our output console\n",
        "        current_runtime = round(time.time() - start_time,3)\n",
        "        print('[-] current progress:', count, 'and a runtime of', current_runtime, 'seconds.')\n",
        "    #interestingly enough, this data isn't true JSON, instead it's python\n",
        "    #dictionaries that have essentially been printed as text. It's odd, but if\n",
        "    #we read the documentaion, all we need to do to load a dictionary is use\n",
        "    #the eval function. https://www.programiz.com/python-programming/methods/built-in/eval\n",
        "    #eval takes whatever string is passed to it, and interprets it as python code\n",
        "    #and runs it. So here, it's exactly what we need to interpret a printed\n",
        "    #python dictionary\n",
        "\n",
        "    areview = eval(aline)\n",
        "\n",
        "    #making a dictionary entry with the iteration count as the review key\n",
        "    #and it's metadata as nested dictionaries\n",
        "    allreviews[count] = areview\n",
        "print('completed load of review data to dictionary.')"
      ],
      "metadata": {
        "colab": {
          "base_uri": "https://localhost:8080/"
        },
        "id": "sBxD7Mz9qYqt",
        "outputId": "59113a0a-c104-40d9-ab32-dbbddb0de015"
      },
      "execution_count": 17,
      "outputs": [
        {
          "output_type": "stream",
          "name": "stdout",
          "text": [
            "loading review data to dictionary:\n",
            "[-] current progress: 500000 and a runtime of 36.032 seconds.\n",
            "[-] current progress: 1000000 and a runtime of 68.749 seconds.\n",
            "[-] current progress: 1500000 and a runtime of 101.409 seconds.\n",
            "[-] current progress: 2000000 and a runtime of 132.848 seconds.\n",
            "[-] current progress: 2500000 and a runtime of 165.368 seconds.\n",
            "[-] current progress: 3000000 and a runtime of 199.647 seconds.\n",
            "[-] current progress: 3500000 and a runtime of 236.8 seconds.\n",
            "[-] current progress: 4000000 and a runtime of 275.601 seconds.\n",
            "[-] current progress: 4500000 and a runtime of 308.862 seconds.\n",
            "[-] current progress: 5000000 and a runtime of 343.602 seconds.\n",
            "[-] current progress: 5500000 and a runtime of 372.095 seconds.\n"
          ]
        }
      ]
    },
    {
      "cell_type": "code",
      "source": [
        "#print a summary of the records processed\n",
        "allreviews_length = len(allreviews)\n",
        "current_runtime = round(time.time() - start_time,3)\n",
        "print('Process completed for', count, 'of', allreviews_length, 'records with a final runtime of', current_runtime, 'seconds.')"
      ],
      "metadata": {
        "colab": {
          "base_uri": "https://localhost:8080/"
        },
        "id": "PBwc5FH0qYwm",
        "outputId": "f0e352aa-7e12-4036-87b2-1b319b6244f4"
      },
      "execution_count": 18,
      "outputs": [
        {
          "output_type": "stream",
          "name": "stdout",
          "text": [
            "Process completed for 5748920 of 5748920 records with a final runtime of 417.348 seconds.\n"
          ]
        }
      ]
    },
    {
      "cell_type": "markdown",
      "source": [
        "## Extract a List of Reviews Related to the Product Ids"
      ],
      "metadata": {
        "id": "W4mwdMoVrvRc"
      }
    },
    {
      "cell_type": "code",
      "source": [
        "#Load the list of Nike Asins\n",
        "\n",
        "allnikeasins = []\n",
        "allasins_file_path = '%s/allasins.txt' % DATA_DIR\n",
        "\n",
        "#open the file and load to a list\n",
        "for data in open(allasins_file_path, 'r'):\n",
        "  asins = data.split(',')\n",
        "  for anasin in asins:\n",
        "    allnikeasins.append(anasin)"
      ],
      "metadata": {
        "id": "G342m_ScrvZo"
      },
      "execution_count": 19,
      "outputs": []
    },
    {
      "cell_type": "code",
      "source": [
        "#print a summary of the records processed\n",
        "allnikeasins_length = len(allnikeasins)\n",
        "print('Process completed for', allnikeasins_length, 'records.')\n",
        "print('First 5 Asins in list:', allnikeasins[0:5])"
      ],
      "metadata": {
        "colab": {
          "base_uri": "https://localhost:8080/"
        },
        "id": "LH-GwtrytizW",
        "outputId": "361970b8-2872-4aaf-f1e1-22d9eea65803"
      },
      "execution_count": 21,
      "outputs": [
        {
          "output_type": "stream",
          "name": "stdout",
          "text": [
            "Process completed for 8327 records.\n",
            "First 5 Asins in list: ['B00DT6VLOQ', 'B001LQK6L0', 'B00ANBSBDY', 'B00AQL3UDW', 'B004TU1VV4']\n"
          ]
        }
      ]
    },
    {
      "cell_type": "code",
      "source": [
        "#Now, we need to go through all the reviews and pick out the reviews that\n",
        "#correspond to the matching ASINs, that is reviews that are tied to Nike ASINs\n",
        "\n",
        "#let's set a counter to see how many products we have in the json\n",
        "count = 0\n",
        "start_time = time.time()\n",
        "#loading the json file\n",
        "#we've always got to initiate dictionaries before we can use them\n",
        "nikereviews = {}\n",
        "\n",
        "#each line of data here is a product and its metadata\n",
        "print('loading review data to dictionary:')\n",
        "for areview in allreviews:\n",
        "  count += 1\n",
        "  if count % 500000 == 0:\n",
        "      current_progress = int(round(count/allreviews_length,2)*100)\n",
        "      current_runtime = round(time.time() - start_time,3)\n",
        "      print('[-] current progress:', current_progress, '%', 'and a runtime of', current_runtime, 'seconds.')\n",
        "  #setting current review as a dictionary, so we can easily reference its\n",
        "  #entries\n",
        "  thereview = allreviews[areview]\n",
        "  theasin = thereview['asin']\n",
        "  reviewerid = thereview['reviewerID']\n",
        "  if theasin in allnikeasins:\n",
        "      #im setting the key here as something unique. if we just did by asin\n",
        "      #we'd only have one review for each asin, with the last review the only\n",
        "      #one being stored\n",
        "      thekey = '%s.%s' % (theasin, reviewerid)\n",
        "      nikereviews[thekey] = thereview\n",
        "print('completed load of review data to dictionary.')"
      ],
      "metadata": {
        "colab": {
          "base_uri": "https://localhost:8080/"
        },
        "id": "b-fX3DsWso5E",
        "outputId": "058d5041-6d34-464d-b25f-dc853217f040"
      },
      "execution_count": 22,
      "outputs": [
        {
          "output_type": "stream",
          "name": "stdout",
          "text": [
            "loading review data to dictionary:\n",
            "[-] current progress: 9 % and a runtime of 95.051 seconds.\n",
            "[-] current progress: 17 % and a runtime of 188.805 seconds.\n",
            "[-] current progress: 26 % and a runtime of 281.424 seconds.\n",
            "[-] current progress: 35 % and a runtime of 374.236 seconds.\n",
            "[-] current progress: 43 % and a runtime of 466.713 seconds.\n",
            "[-] current progress: 52 % and a runtime of 559.326 seconds.\n",
            "[-] current progress: 61 % and a runtime of 654.168 seconds.\n",
            "[-] current progress: 70 % and a runtime of 747.421 seconds.\n",
            "[-] current progress: 78 % and a runtime of 840.299 seconds.\n",
            "[-] current progress: 87 % and a runtime of 933.018 seconds.\n",
            "[-] current progress: 96 % and a runtime of 1025.682 seconds.\n",
            "completed load of review data to dictionary.\n"
          ]
        }
      ]
    },
    {
      "cell_type": "code",
      "source": [
        "#print a summary of the records processed\n",
        "nikereviews_length = len(nikereviews)\n",
        "current_runtime = round(time.time() - start_time,3)\n",
        "print('Process completed for', count, 'of', nikereviews_length, 'records with a final runtime of', current_runtime, 'seconds.')"
      ],
      "metadata": {
        "colab": {
          "base_uri": "https://localhost:8080/"
        },
        "id": "PId1RbyvsMaO",
        "outputId": "703b1aee-4222-40a6-ff14-8d22d26a24ce"
      },
      "execution_count": 23,
      "outputs": [
        {
          "output_type": "stream",
          "name": "stdout",
          "text": [
            "Process completed for 5748920 of 21570 records with a final runtime of 1077.421 seconds.\n"
          ]
        }
      ]
    },
    {
      "cell_type": "code",
      "source": [
        "#save our data to a JSON dictionary\n",
        "allnikereviews_file_path = '%s/allnikereviews.json' % DATA_DIR\n",
        "json.dump(nikereviews, open(allnikereviews_file_path, 'w'))"
      ],
      "metadata": {
        "id": "4FBY0qHUtBtH"
      },
      "execution_count": 24,
      "outputs": []
    },
    {
      "cell_type": "markdown",
      "source": [
        "## Preview a Record from the File"
      ],
      "metadata": {
        "id": "idr8Itvsvc4z"
      }
    },
    {
      "cell_type": "code",
      "source": [
        "#this assigns the filename we're trying to load\n",
        "allnikereviews_file_path = '%s/allnikereviews.json' % DATA_DIR\n",
        "json_file = json.load(open(allnikereviews_file_path, 'r'))"
      ],
      "metadata": {
        "id": "yFoB9nR6vdBb"
      },
      "execution_count": 25,
      "outputs": []
    },
    {
      "cell_type": "code",
      "source": [
        "#select a random review\n",
        "count = 0\n",
        "for a_review in json_file:\n",
        "  count += 1\n",
        "  if count % 1000 == 0:\n",
        "    the_review = json_file[a_review]\n",
        "    print(the_review)\n",
        "    #sleep(10)\n",
        "  if count >= 10000:\n",
        "    break"
      ],
      "metadata": {
        "colab": {
          "base_uri": "https://localhost:8080/"
        },
        "id": "lAJnHBS7vdFQ",
        "outputId": "9cf15538-ef59-4e42-98e4-53dbe65f212c"
      },
      "execution_count": 27,
      "outputs": [
        {
          "output_type": "stream",
          "name": "stdout",
          "text": [
            "{'reviewerID': 'A7H6Q3JAE3UTR', 'asin': 'B000G42Z2Q', 'reviewerName': 'april fritsche', 'helpful': [0, 0], 'reviewText': 'I bought these for my son and he loves them.  He said that that r very comfortable.  He said he wears them all the time.  He said that they look great.', 'overall': 5.0, 'summary': 'love them', 'unixReviewTime': 1388620800, 'reviewTime': '01 2, 2014'}\n",
            "{'reviewerID': 'A278R123DX0CLR', 'asin': 'B0013UXIAK', 'reviewerName': 'AQB', 'helpful': [0, 2], 'reviewText': 'Too much money for the pair. I saw a better pair for less price. I will shop around Zappos or Nike websites next time.', 'overall': 3.0, 'summary': 'its ok', 'unixReviewTime': 1377561600, 'reviewTime': '08 27, 2013'}\n",
            "{'reviewerID': 'A1CZIWT35UVJS6', 'asin': 'B001PA87L8', 'reviewerName': 'Courtney', 'helpful': [1, 1], 'reviewText': \"I love these shoes, they are perfect. Very comfy especially since I'm on my feet all day at work. It's wierd that they don't have a tongue but it only makes them fit better.\", 'overall': 5.0, 'summary': 'Comfy and cute', 'unixReviewTime': 1380067200, 'reviewTime': '09 25, 2013'}\n",
            "{'reviewerID': 'A24AX2P3PW6EBH', 'asin': 'B002FKHOOS', 'reviewerName': 'MattyBoy717', 'helpful': [9, 15], 'reviewText': \"I walked around in these for a month before I noticed that the right shoe was bigger than the left. Yeah, I kept feeling my foot slipping out as I walked, but I have a high arch, so I thought it was me. Finally, I gave them a good look side-by-side and I couldn't believe it. Even though the right shoe was imprinted with the correct shoe size, it was a full size bigger than the left one. And since it had been a month, it was too late to return them. I'm out $80. So, I'm letting myself look like a fool today to all of you out there so you won't make the same mistake I did. When you get your shoes, look at them carefully and make sure they match.\", 'overall': 2.0, 'summary': 'My Fault', 'unixReviewTime': 1371427200, 'reviewTime': '06 17, 2013'}\n",
            "{'reviewerID': 'A269BGMUL7YS1W', 'asin': 'B00310WE0U', 'reviewerName': 'Youn Sang Mo', 'helpful': [2, 4], 'reviewText': 'i am having great day after wearing this shoes. very satisfied and good. i would like to have another purchase.', 'overall': 5.0, 'summary': 'nice and quick', 'unixReviewTime': 1384732800, 'reviewTime': '11 18, 2013'}\n",
            "{'reviewerID': 'A39MEJK05JXJBZ', 'asin': 'B003PBU4Z2', 'reviewerName': 'souldivider', 'helpful': [0, 0], 'reviewText': 'I love this blazer models of Nike and I fell in love with this shoe when I first saw it. The shiny back, the greys, the pinks, they suit very well. I usually wear size 6.5 but only a size 7 was left in stock. Thinking that my other Nike was size 7, I decided to purchase this one. Result: Size 6.5 would be much better, however the puffy inside of this shoe made size 7 OK.', 'overall': 5.0, 'summary': 'Very cute and very cool', 'unixReviewTime': 1297036800, 'reviewTime': '02 7, 2011'}\n",
            "{'reviewerID': 'A32PRDGJLLJFV1', 'asin': 'B004HJT24K', 'reviewerName': 'tiani patterson', 'helpful': [0, 0], 'reviewText': 'I am very pleased, it is just what I expected.  My daughter had these shoes before but they were lost in a fire.  We saw these online and I decided to order them.  The product is exactley the same as if I bought them from the mall.  The delivery was on time, I am very pleased.', 'overall': 5.0, 'summary': 'Like I bought them from the store', 'unixReviewTime': 1355184000, 'reviewTime': '12 11, 2012'}\n",
            "{'reviewerID': 'A1RT1XBKWCT6PH', 'asin': 'B004TRMR1U', 'reviewerName': 'bpkc', 'helpful': [0, 3], 'reviewText': 'I purchased these cleats for my adult wooden bat baseball league. Although the cleats look nice....that is about it.Problems:Uncomfortable...I have worn them for at least 10 games total an I get blisters every time on the outside of my toes.The swoosh that you can switch the colors on....never stay in place....the move around and never match up with the the swoosh on the shoe.The tongue on my left shoe keeps sliding into my cleat...making it very uncomfortable....does not matter how tight I tie the shoe lace (yes i have the laces going through the loop in the middle of the tongue.)Just about every game i have a spike come loose and I have to re tighten them.This is just a bad cleat period. I would not recommend this to a regular ball player....there are far more effective and comfortable cleats out there.', 'overall': 2.0, 'summary': 'Too many problems', 'unixReviewTime': 1365465600, 'reviewTime': '04 9, 2013'}\n",
            "{'reviewerID': 'A1B7PCTWYWQSYV', 'asin': 'B00515GEJK', 'reviewerName': 'Marissa Gaytan', 'helpful': [0, 0], 'reviewText': \"This bag is a perfect fit.  It's not too big and not too small.\", 'overall': 5.0, 'summary': \"This bag is a perfect fit. It's not too big and not too ...\", 'unixReviewTime': 1405209600, 'reviewTime': '07 13, 2014'}\n",
            "{'reviewerID': 'AGP3D5ZB7N3NA', 'asin': 'B00594DYW8', 'reviewerName': 'S. M. Hughes \"mom of 2\"', 'helpful': [0, 0], 'reviewText': 'I absolutely love this pair of shoes. I am more prone to barefoot running, and the flexibility of these shoes are not at all restrictive on my feet and they feel great! I was so very happy to find them for a good price! Seller shipped very quickly and overall, the experience with this purchase was A+!', 'overall': 5.0, 'summary': 'Great Item, great seller!', 'unixReviewTime': 1322524800, 'reviewTime': '11 29, 2011'}\n"
          ]
        }
      ]
    },
    {
      "cell_type": "code",
      "source": [
        "#print the review to the screen\n",
        "the_review"
      ],
      "metadata": {
        "colab": {
          "base_uri": "https://localhost:8080/"
        },
        "id": "ESPlq5dvvdJJ",
        "outputId": "e86f9bd3-03f5-4531-9ea4-8ead2567a57b"
      },
      "execution_count": 28,
      "outputs": [
        {
          "output_type": "execute_result",
          "data": {
            "text/plain": [
              "{'reviewerID': 'AGP3D5ZB7N3NA',\n",
              " 'asin': 'B00594DYW8',\n",
              " 'reviewerName': 'S. M. Hughes \"mom of 2\"',\n",
              " 'helpful': [0, 0],\n",
              " 'reviewText': 'I absolutely love this pair of shoes. I am more prone to barefoot running, and the flexibility of these shoes are not at all restrictive on my feet and they feel great! I was so very happy to find them for a good price! Seller shipped very quickly and overall, the experience with this purchase was A+!',\n",
              " 'overall': 5.0,\n",
              " 'summary': 'Great Item, great seller!',\n",
              " 'unixReviewTime': 1322524800,\n",
              " 'reviewTime': '11 29, 2011'}"
            ]
          },
          "metadata": {},
          "execution_count": 28
        }
      ]
    },
    {
      "cell_type": "markdown",
      "source": [
        "# 3.&nbsp;Preprocessing the Data"
      ],
      "metadata": {
        "id": "VQqWaZtyDk7D"
      }
    },
    {
      "cell_type": "markdown",
      "source": [
        "## Load the Nike Review Data"
      ],
      "metadata": {
        "id": "qxanJVFlv_cQ"
      }
    },
    {
      "cell_type": "code",
      "source": [
        "#this assigns the filename we're trying to load\n",
        "allnikereviews_file_path = '%s/allnikereviews.json' % DATA_DIR\n",
        "json_file = json.load(open(allnikereviews_file_path, 'r'))"
      ],
      "metadata": {
        "id": "9FWNy7Fav_kD"
      },
      "execution_count": 23,
      "outputs": []
    },
    {
      "cell_type": "code",
      "source": [
        "#extract review text from all review details\n",
        "reviews = []\n",
        "for a_review in json_file:\n",
        "    the_review = json_file[a_review]\n",
        "    text = the_review[\"reviewText\"]\n",
        "    reviews.append(text)\n",
        "#create a corpus of the nike reviews\n",
        "corpus = Corpus({ i:r for i, r in enumerate(reviews)}, language='en')"
      ],
      "metadata": {
        "id": "glFt6w9Fv_ny"
      },
      "execution_count": 24,
      "outputs": []
    },
    {
      "cell_type": "code",
      "source": [
        "#print the length of the corpus\n",
        "corpus_length = len(corpus)\n",
        "print('Length of the Corpus:', corpus_length)"
      ],
      "metadata": {
        "colab": {
          "base_uri": "https://localhost:8080/"
        },
        "id": "yRLd7_Cxv_qr",
        "outputId": "f7d2ef00-b18b-467b-c5d2-ceb7436d3294"
      },
      "execution_count": 25,
      "outputs": [
        {
          "output_type": "stream",
          "name": "stdout",
          "text": [
            "Length of the Corpus: 21570\n"
          ]
        }
      ]
    },
    {
      "cell_type": "code",
      "source": [
        "#print a random corpus\n",
        "k = 91\n",
        "print('record for key', k, 'contains:')\n",
        "print(corpus[k])"
      ],
      "metadata": {
        "colab": {
          "base_uri": "https://localhost:8080/"
        },
        "id": "XbbBxEXIv_tq",
        "outputId": "d378f373-9941-480f-e8f4-e2384ad0e8f6"
      },
      "execution_count": 26,
      "outputs": [
        {
          "output_type": "stream",
          "name": "stdout",
          "text": [
            "record for key 91 contains:\n",
            "Document \"91\" (102 tokens, 9 token attributes, 2 document attributes)\n"
          ]
        }
      ]
    },
    {
      "cell_type": "code",
      "source": [
        "#view a histogram of document lengths\n",
        "fig, ax = plt.subplots(figsize=(5, 3))   # make the plot larger\n",
        "plot_doc_lengths_hist(fig, ax, corpus, y_log=False, bins=20)  # use 20 bins\n",
        "ax.set_xticks(range(0, 1001, 100))    # set x axis ticks and range\n",
        "plt.show()"
      ],
      "metadata": {
        "colab": {
          "base_uri": "https://localhost:8080/",
          "height": 331
        },
        "id": "VOQEVTwnymRC",
        "outputId": "e148924a-55a9-43f8-f436-52a751dd4794"
      },
      "execution_count": 27,
      "outputs": [
        {
          "output_type": "display_data",
          "data": {
            "text/plain": [
              "<Figure size 500x300 with 1 Axes>"
            ],
            "image/png": "[encoded data removed]"
          },
          "metadata": {}
        }
      ]
    },
    {
      "cell_type": "code",
      "source": [
        "#rank-frequency distribution plot for token frequencies\n",
        "fig, ax = plt.subplots(figsize=(5, 3))\n",
        "plot_ranked_vocab_counts(fig, ax, corpus, zipf=True)\n",
        "plt.show();"
      ],
      "metadata": {
        "colab": {
          "base_uri": "https://localhost:8080/",
          "height": 331
        },
        "id": "YbZEU3IeKV2O",
        "outputId": "bd9360b5-5a1d-4628-a326-48001b73e41c"
      },
      "execution_count": 28,
      "outputs": [
        {
          "output_type": "display_data",
          "data": {
            "text/plain": [
              "<Figure size 500x300 with 1 Axes>"
            ],
            "image/png": "[encoded data removed]"
          },
          "metadata": {}
        }
      ]
    },
    {
      "cell_type": "code",
      "source": [
        "#save the files to disk\n",
        "corpus_file_path = '%s/corpus_source.p' % DATA_DIR\n",
        "pickle.dump(corpus, open(corpus_file_path, 'wb') )"
      ],
      "metadata": {
        "id": "gHs_P3cBvCXT"
      },
      "execution_count": 29,
      "outputs": []
    },
    {
      "cell_type": "markdown",
      "source": [
        "## Preprocess Text Data"
      ],
      "metadata": {
        "id": "rfAX7oZkywiN"
      }
    },
    {
      "cell_type": "code",
      "source": [
        "#location of corpus files\n",
        "corpus_file_path = '%s/corpus_source.p' % DATA_DIR\n",
        "#load the corpus\n",
        "corpus = pickle.load(open(corpus_file_path, 'rb'))"
      ],
      "metadata": {
        "id": "m0mW4aqvvS02"
      },
      "execution_count": 15,
      "outputs": []
    },
    {
      "cell_type": "code",
      "source": [
        "#print a random corpus\n",
        "k = 91\n",
        "print('record for key', k, 'contains:')\n",
        "print(corpus[k])"
      ],
      "metadata": {
        "colab": {
          "base_uri": "https://localhost:8080/"
        },
        "id": "hTBI_xPXvqpX",
        "outputId": "61a5f05d-8b88-42f4-d09f-697146e8e1ab"
      },
      "execution_count": 16,
      "outputs": [
        {
          "output_type": "stream",
          "name": "stdout",
          "text": [
            "record for key 91 contains:\n",
            "Document \"91\" (102 tokens, 9 token attributes, 2 document attributes)\n"
          ]
        }
      ]
    },
    {
      "cell_type": "code",
      "source": [
        "####create an english pre-processor\n",
        "####preproc = TMPreproc(corpus, language='en')\n",
        "####tag the words with parts of speach\n",
        "####preproc.pos_tag()\n",
        "# lemmatize the words (convert to root base)\n",
        "lemmatize(corpus, inplace=True)\n",
        "# convert words to lowercase\n",
        "to_lowercase(corpus, inplace=True)\n",
        "# remove special charecters\n",
        "#####preproc.remove_special_chars_in_tokens()\n",
        "remove_chars(corpus, chars=punctuation, inplace=True)\n",
        "# add custom stopwords to remove for urls and not\n",
        "####preproc.add_stopwords(['http', 'nt'])       #####\n",
        "filter_clean_tokens(corpus, remove_stopwords=True, inplace=True)\n",
        "# limit words to nouns, verbs, and adjectives\n",
        "filter_for_pos(corpus, search_pos=['N', 'V', 'ADJ'], inplace=True)\n",
        "# remove numbers and any word shorter than 2 characters\n",
        "filter_clean_tokens(corpus, remove_numbers=True, inplace=True)\n",
        "filter_clean_tokens(corpus, remove_shorter_than=2, inplace=True)\n",
        "# remove tokens that are fairly common\n",
        "remove_common_tokens(corpus, df_threshold=0.8, inplace=True)\n",
        "# remove tokens that are extreamly rare\n",
        "remove_uncommon_tokens(corpus, df_threshold=0.01, inplace=True)"
      ],
      "metadata": {
        "id": "6TGbhg9fywqr"
      },
      "execution_count": 17,
      "outputs": []
    },
    {
      "cell_type": "markdown",
      "source": [
        "## Review Preprocessing of Text"
      ],
      "metadata": {
        "id": "HNZMaAvjzMR2"
      }
    },
    {
      "cell_type": "code",
      "source": [
        "#create a summary of a sample\n",
        "def preview_sample_review(corpus, k = 0):\n",
        "  samp_texty = corpus[k]\n",
        "  tok = doc_tokens(corpus, with_attr=True)\n",
        "  samp_token_list = tok[k]['token']\n",
        "  samp_token_list_length = len(samp_token_list)\n",
        "\n",
        "  #print a random corpus\n",
        "  print('record for key', k, 'contains:')\n",
        "  print(corpus[k])\n",
        "  print('the text contains', samp_token_list_length, 'tokens.')\n",
        "  print('sample token list:', samp_token_list[0:10])\n",
        "  print()"
      ],
      "metadata": {
        "id": "tILVppqtzMZa"
      },
      "execution_count": 18,
      "outputs": []
    },
    {
      "cell_type": "code",
      "source": [
        "preview_sample_review(corpus, k = 91)\n",
        "preview_sample_review(corpus, k = 1)\n",
        "preview_sample_review(corpus, k = 2000)"
      ],
      "metadata": {
        "colab": {
          "base_uri": "https://localhost:8080/"
        },
        "id": "mvge12yS1n15",
        "outputId": "cbe22192-5b4d-445d-e9c9-fe21b2c87189"
      },
      "execution_count": 19,
      "outputs": [
        {
          "output_type": "stream",
          "name": "stdout",
          "text": [
            "record for key 91 contains:\n",
            "Document \"91\" (17 tokens, 9 token attributes, 2 document attributes)\n",
            "the text contains 17 tokens.\n",
            "sample token list: ['watch', 'buy', 'find', 'nike', 'get', 'small', 'woman', 'pay', 'man', 'product']\n",
            "\n",
            "record for key 1 contains:\n",
            "Document \"1\" (7 tokens, 9 token attributes, 2 document attributes)\n",
            "the text contains 7 tokens.\n",
            "sample token list: ['cute', 'fit', 'small', 'wrist', 'wear', 'love', 'watch']\n",
            "\n",
            "record for key 2000 contains:\n",
            "Document \"2000\" (8 tokens, 9 token attributes, 2 document attributes)\n",
            "the text contains 8 tokens.\n",
            "sample token list: ['great', 'shoe', 'fit', 'comfortable', 'shoe', 'recommend', 'awesome', 'price']\n",
            "\n"
          ]
        }
      ]
    },
    {
      "cell_type": "code",
      "source": [
        "#create a summary of the preprocess\n",
        "n = 5\n",
        "vocab_size = vocabulary_size(corpus)\n",
        "tokens_table = tokens_table(corpus)\n",
        "#print a summary of the preprocess\n",
        "print('corpus vocabulary size:', vocab_size)\n",
        "print('first', n, 'rows of tokens table:')\n",
        "print(tokens_table.head(5))"
      ],
      "metadata": {
        "colab": {
          "base_uri": "https://localhost:8080/"
        },
        "id": "QV-I-zm1ywuw",
        "outputId": "edb03f7b-28de-4f93-d3f6-910724df0edf"
      },
      "execution_count": 20,
      "outputs": [
        {
          "output_type": "stream",
          "name": "stdout",
          "text": [
            "corpus vocabulary size: 245\n",
            "first 5 rows of tokens table:\n",
            "   doc  position     token  is_punct  is_stop     lemma  like_num   pos  tag\n",
            "0    0         0   receive     False    False   receive     False  VERB  VBD\n",
            "1    0         1      blue     False    False      blue     False   ADJ   JJ\n",
            "2    0         2      show     False    False      show     False  VERB  VBN\n",
            "3    0         3    change     False    False    change     False  VERB  VBP\n",
            "4    0         4  daughter     False    False  daughter     False  NOUN   NN\n"
          ]
        }
      ]
    },
    {
      "cell_type": "code",
      "source": [
        "#view a histogram of document lengths\n",
        "fig, ax = plt.subplots(figsize=(5, 3))   # make the plot larger\n",
        "plot_doc_lengths_hist(fig, ax, corpus, y_log=False, bins=50)  # use 20 bins\n",
        "ax.set_xticks(range(0, 201, 20))    # set x axis ticks and range\n",
        "plt.show()"
      ],
      "metadata": {
        "colab": {
          "base_uri": "https://localhost:8080/",
          "height": 331
        },
        "id": "bUht5wnfcq3D",
        "outputId": "e2cb0ad4-6696-4648-eda0-917cf77de1a3"
      },
      "execution_count": 21,
      "outputs": [
        {
          "output_type": "display_data",
          "data": {
            "text/plain": [
              "<Figure size 500x300 with 1 Axes>"
            ],
            "image/png": "[encoded data removed]"
          },
          "metadata": {}
        }
      ]
    },
    {
      "cell_type": "code",
      "source": [
        "#rank-frequency distribution plot for token frequencies\n",
        "fig, ax = plt.subplots(figsize=(5, 3))\n",
        "plot_ranked_vocab_counts(fig, ax, corpus, zipf=True)\n",
        "plt.show();"
      ],
      "metadata": {
        "colab": {
          "base_uri": "https://localhost:8080/",
          "height": 331
        },
        "id": "wRCcpYj7c2lY",
        "outputId": "cf2bb28f-eb6b-4794-d3c9-7a0c654c13e9"
      },
      "execution_count": 22,
      "outputs": [
        {
          "output_type": "display_data",
          "data": {
            "text/plain": [
              "<Figure size 500x300 with 1 Axes>"
            ],
            "image/png": "[encoded data removed]"
          },
          "metadata": {}
        }
      ]
    },
    {
      "cell_type": "markdown",
      "source": [
        "## Save the Preprocessed Data"
      ],
      "metadata": {
        "id": "RHwH4bHT19pi"
      }
    },
    {
      "cell_type": "code",
      "source": [
        "#create the document labels\n",
        "doc_lbls = np.array(doc_labels(corpus))\n",
        "#preview the document labels\n",
        "print(doc_lbls[:10])"
      ],
      "metadata": {
        "colab": {
          "base_uri": "https://localhost:8080/"
        },
        "id": "xBj_8Hhh19xH",
        "outputId": "408b69b4-e9d1-483e-8748-afd44d492317"
      },
      "execution_count": 23,
      "outputs": [
        {
          "output_type": "stream",
          "name": "stdout",
          "text": [
            "[0 1 2 3 4 5 6 7 8 9]\n"
          ]
        }
      ]
    },
    {
      "cell_type": "code",
      "source": [
        "#create the vocabulary\n",
        "vocab = np.array(vocabulary(corpus))\n",
        "#preview the document labels\n",
        "print(vocab[:10])"
      ],
      "metadata": {
        "colab": {
          "base_uri": "https://localhost:8080/"
        },
        "id": "0PRw7x-aywyA",
        "outputId": "5b860b24-e8fe-43a5-a747-6833c7fc102e"
      },
      "execution_count": 24,
      "outputs": [
        {
          "output_type": "stream",
          "name": "stdout",
          "text": [
            "['able' 'air' 'amazing' 'amazon' 'ankle' 'arch' 'area' 'arrive' 'ask'\n",
            " 'awesome']\n"
          ]
        }
      ]
    },
    {
      "cell_type": "code",
      "source": [
        "#create the document-term matrix (DTM)\n",
        "dtm_main = dtm(corpus)\n",
        "#dtm_main = scipy.sparse.csr_matrix(dtm_main)\n",
        "#preview the dtm\n",
        "dtm_main"
      ],
      "metadata": {
        "colab": {
          "base_uri": "https://localhost:8080/"
        },
        "id": "9xvoSJGK2TuM",
        "outputId": "0a602aa7-cfb9-4eab-f86f-7bdbc77c41d3"
      },
      "execution_count": 25,
      "outputs": [
        {
          "output_type": "execute_result",
          "data": {
            "text/plain": [
              "<21570x245 sparse matrix of type '<class 'numpy.int32'>'\n",
              "\twith 212452 stored elements in Compressed Sparse Row format>"
            ]
          },
          "metadata": {},
          "execution_count": 25
        }
      ]
    },
    {
      "cell_type": "code",
      "source": [
        "#save the files to disk\n",
        "corpus_file_path = '%s/corpus.p' % DATA_DIR\n",
        "doc_labels_file_path = '%s/doc_labels.p' % DATA_DIR\n",
        "vocab_file_path = '%s/vocab.p' % DATA_DIR\n",
        "dtm_file_path = '%s/dtm_main.npz' % DATA_DIR\n",
        "\n",
        "pickle.dump(corpus, open(corpus_file_path, 'wb') )\n",
        "pickle.dump(doc_lbls, open(doc_labels_file_path, 'wb'))\n",
        "pickle.dump(vocab, open(vocab_file_path, 'wb'))\n",
        "scipy.sparse.save_npz(dtm_file_path, dtm_main)"
      ],
      "metadata": {
        "id": "wjF5mUY12tYy"
      },
      "execution_count": 26,
      "outputs": []
    },
    {
      "cell_type": "markdown",
      "source": [
        "# 4.&nbsp;Model: Parameter Tuning"
      ],
      "metadata": {
        "id": "ccZlhJcEEee5"
      }
    },
    {
      "cell_type": "markdown",
      "source": [
        "## Import the Corpus"
      ],
      "metadata": {
        "id": "QjMnhzHAh_DH"
      }
    },
    {
      "cell_type": "code",
      "source": [
        "#location of corpus files\n",
        "corpus_file_path = '%s/corpus.p' % DATA_DIR\n",
        "doc_labels_file_path = '%s/doc_labels.p' % DATA_DIR\n",
        "vocab_file_path = '%s/vocab.p' % DATA_DIR\n",
        "dtm_file_path = '%s/dtm_main.npz' % DATA_DIR\n",
        "\n",
        "#load the corpus\n",
        "corpus = pickle.load(open(corpus_file_path, 'rb'))\n",
        "doc_lbls = pickle.load(open(doc_labels_file_path, 'rb'))\n",
        "dtm_main = scipy.sparse.load_npz(dtm_file_path)\n",
        "vocab = pickle.load(open(vocab_file_path, 'rb'))\n",
        "\n",
        "#preview the document labels\n",
        "print(doc_lbls[:10])\n",
        "print(vocab[:10])\n",
        "dtm_main"
      ],
      "metadata": {
        "colab": {
          "base_uri": "https://localhost:8080/"
        },
        "id": "GCwj-JqNh_LG",
        "outputId": "1465c67f-de42-45eb-de06-728c2612cef9"
      },
      "execution_count": 11,
      "outputs": [
        {
          "output_type": "stream",
          "name": "stderr",
          "text": [
            "/usr/local/lib/python3.10/dist-packages/ipykernel/ipkernel.py:283: DeprecationWarning: `should_run_async` will not call `transform_cell` automatically in the future. Please pass the result to `transformed_cell` argument and any exception that happen during thetransform in `preprocessing_exc_tuple` in IPython 7.17 and above.\n",
            "  and should_run_async(code)\n"
          ]
        },
        {
          "output_type": "stream",
          "name": "stdout",
          "text": [
            "[0 1 2 3 4 5 6 7 8 9]\n",
            "['able' 'air' 'amazing' 'amazon' 'ankle' 'arch' 'area' 'arrive' 'ask'\n",
            " 'awesome']\n"
          ]
        },
        {
          "output_type": "execute_result",
          "data": {
            "text/plain": [
              "<21570x245 sparse matrix of type '<class 'numpy.int32'>'\n",
              "\twith 212452 stored elements in Compressed Sparse Row format>"
            ]
          },
          "metadata": {},
          "execution_count": 11
        }
      ]
    },
    {
      "cell_type": "code",
      "source": [
        "# suppress the \"INFO\" messages and warnings from lda\n",
        "logger = logging.getLogger('lda')\n",
        "logger.addHandler(logging.NullHandler())\n",
        "logger.propagate = False\n",
        "warnings.filterwarnings('ignore')"
      ],
      "metadata": {
        "colab": {
          "base_uri": "https://localhost:8080/"
        },
        "id": "q0DpP0LLiFC7",
        "outputId": "6b24db48-c47a-4e39-fc5e-6c70eb3f26a4"
      },
      "execution_count": 12,
      "outputs": [
        {
          "output_type": "stream",
          "name": "stderr",
          "text": [
            "/usr/local/lib/python3.10/dist-packages/ipykernel/ipkernel.py:283: DeprecationWarning: `should_run_async` will not call `transform_cell` automatically in the future. Please pass the result to `transformed_cell` argument and any exception that happen during thetransform in `preprocessing_exc_tuple` in IPython 7.17 and above.\n",
            "  and should_run_async(code)\n"
          ]
        }
      ]
    },
    {
      "cell_type": "markdown",
      "source": [
        "## Evaluate Model Options"
      ],
      "metadata": {
        "id": "Fmpl_eUyiQs0"
      }
    },
    {
      "cell_type": "code",
      "source": [
        "#setup parameters\n",
        "const_params = {'n_iter': 500,'eta': 0.1, 'random_state': 20191122  }\n",
        "ks = list(range(10, 100, 10)) + list(range(100, 201, 20))\n",
        "varying_params = [dict(n_topics=k, alpha=round(1/k, 4)) for k in ks]\n",
        "num_trials = len(varying_params)\n",
        "#display the parameter selections\n",
        "print('constant parameters:', const_params)\n",
        "print('number of topics to try:', ks)\n",
        "print('number of trials:', ks)\n",
        "print('variable parameter trials:', varying_params)"
      ],
      "metadata": {
        "colab": {
          "base_uri": "https://localhost:8080/"
        },
        "id": "6Y1kepd2iQzx",
        "outputId": "1cf20e4e-b000-4339-8023-c512b9571349"
      },
      "execution_count": 45,
      "outputs": [
        {
          "output_type": "stream",
          "name": "stdout",
          "text": [
            "constant parameters: {'n_iter': 500, 'eta': 0.1, 'random_state': 20191122}\n",
            "number of topics to try: [10, 20, 30, 40, 50, 60, 70, 80, 90, 100, 120, 140, 160, 180, 200]\n",
            "number of trials: [10, 20, 30, 40, 50, 60, 70, 80, 90, 100, 120, 140, 160, 180, 200]\n",
            "variable parameter trials: [{'n_topics': 10, 'alpha': 0.1}, {'n_topics': 20, 'alpha': 0.05}, {'n_topics': 30, 'alpha': 0.0333}, {'n_topics': 40, 'alpha': 0.025}, {'n_topics': 50, 'alpha': 0.02}, {'n_topics': 60, 'alpha': 0.0167}, {'n_topics': 70, 'alpha': 0.0143}, {'n_topics': 80, 'alpha': 0.0125}, {'n_topics': 90, 'alpha': 0.0111}, {'n_topics': 100, 'alpha': 0.01}, {'n_topics': 120, 'alpha': 0.0083}, {'n_topics': 140, 'alpha': 0.0071}, {'n_topics': 160, 'alpha': 0.0063}, {'n_topics': 180, 'alpha': 0.0056}, {'n_topics': 200, 'alpha': 0.005}]\n"
          ]
        }
      ]
    },
    {
      "cell_type": "code",
      "source": [
        "#evaluate model results\n",
        "eval_results = tm_lda.evaluate_topic_models(dtm_main,\n",
        "                                            varying_parameters = varying_params,\n",
        "                                            constant_parameters = const_params,\n",
        "                                            metric = ['arun_2010','cao_juan_2009','coherence_mimno_2011']\n",
        "                                            )\n",
        "results_by_n_topics = results_by_parameter(eval_results, 'n_topics')\n",
        "results_by_n_topics = [(x, {key: round(value, 3) for key, value in inner_dict.items()}) for x, inner_dict in results_by_n_topics]\n",
        "#display the results of the models as text\n",
        "print('results by n topic models:', results_by_n_topics)"
      ],
      "metadata": {
        "colab": {
          "base_uri": "https://localhost:8080/"
        },
        "id": "dZgq5Dfmi75r",
        "outputId": "318caa63-f23b-430a-8fd8-66ff75415383"
      },
      "execution_count": 46,
      "outputs": [
        {
          "output_type": "stream",
          "name": "stdout",
          "text": [
            "results by n topic models: [(10, {'arun_2010': 0.141, 'cao_juan_2009': 0.443, 'coherence_mimno_2011': -417.351}), (20, {'arun_2010': 0.187, 'cao_juan_2009': 0.401, 'coherence_mimno_2011': -412.594}), (30, {'arun_2010': 0.249, 'cao_juan_2009': 0.37, 'coherence_mimno_2011': -426.802}), (40, {'arun_2010': 0.29, 'cao_juan_2009': 0.356, 'coherence_mimno_2011': -425.949}), (50, {'arun_2010': 0.346, 'cao_juan_2009': 0.339, 'coherence_mimno_2011': -439.717}), (60, {'arun_2010': 0.419, 'cao_juan_2009': 0.336, 'coherence_mimno_2011': -440.296}), (70, {'arun_2010': 0.434, 'cao_juan_2009': 0.328, 'coherence_mimno_2011': -448.58}), (80, {'arun_2010': 0.482, 'cao_juan_2009': 0.322, 'coherence_mimno_2011': -446.482}), (90, {'arun_2010': 0.543, 'cao_juan_2009': 0.315, 'coherence_mimno_2011': -445.246}), (100, {'arun_2010': 0.554, 'cao_juan_2009': 0.316, 'coherence_mimno_2011': -449.502}), (120, {'arun_2010': 0.593, 'cao_juan_2009': 0.301, 'coherence_mimno_2011': -454.648}), (140, {'arun_2010': 0.656, 'cao_juan_2009': 0.301, 'coherence_mimno_2011': -464.041}), (160, {'arun_2010': 0.726, 'cao_juan_2009': 0.292, 'coherence_mimno_2011': -465.193}), (180, {'arun_2010': 0.789, 'cao_juan_2009': 0.285, 'coherence_mimno_2011': -468.851}), (200, {'arun_2010': 0.854, 'cao_juan_2009': 0.284, 'coherence_mimno_2011': -468.872})]\n"
          ]
        }
      ]
    },
    {
      "cell_type": "code",
      "source": [
        "# plot the results of the model trials\n",
        "#plot_eval_results(eval_results = results_by_n_topics, figsize=(8, 6))\n",
        "#I cannot get this function to work for the life of me\n",
        "#package conflict with version of pyplot"
      ],
      "metadata": {
        "id": "Q4O6LOK7jEOq"
      },
      "execution_count": 44,
      "outputs": []
    },
    {
      "cell_type": "code",
      "source": [
        "# Extract data from results_by_n_topics\n",
        "n_topics = [item[0] for item in results_by_n_topics]\n",
        "arun_2010_values = [item[1]['arun_2010'] for item in results_by_n_topics]\n",
        "cao_juan_2009_values = [item[1]['cao_juan_2009'] for item in results_by_n_topics]\n",
        "coherence_mimno_2011_values = [item[1]['coherence_mimno_2011'] for item in results_by_n_topics]\n",
        "\n",
        "# Create subplots with a single row and multiple columns\n",
        "fig, axes = plt.subplots(1, 3, figsize=(12, 3))  # Adjust the figure size as needed\n",
        "fs = 8\n",
        "\n",
        "# Plot Arun 2010 Metric\n",
        "axes[0].plot(n_topics, arun_2010_values, label='Arun 2010', marker='o')\n",
        "axes[0].set_xlabel('Number of Topics', fontsize=fs)\n",
        "axes[0].set_ylabel('Metric Value', fontsize=fs)\n",
        "axes[0].set_title('Minimuze: Arun 2010', fontsize=fs)\n",
        "\n",
        "# Plot Cao Juan 2009 Metric\n",
        "axes[1].plot(n_topics, cao_juan_2009_values, label='Cao Juan 2009', marker='o')\n",
        "axes[1].set_xlabel('Number of Topics', fontsize=fs)\n",
        "axes[1].set_ylabel('Metric Value', fontsize=fs)\n",
        "axes[1].set_title('Minimuze: Cao Juan 2009', fontsize=fs)\n",
        "\n",
        "# Plot Coherence Mimno 2011 Metric\n",
        "axes[2].plot(n_topics, coherence_mimno_2011_values, label='Coherence Mimno 2011', marker='o')\n",
        "axes[2].set_xlabel('Number of Topics', fontsize=fs)\n",
        "axes[2].set_ylabel('Metric Value', fontsize=fs)\n",
        "axes[2].set_title('Maximize: Coherence Mimno 2011', fontsize=fs)\n",
        "\n",
        "# Adjust layout spacing\n",
        "plt.tight_layout()\n",
        "\n",
        "# Show the plots\n",
        "plt.show()"
      ],
      "metadata": {
        "colab": {
          "base_uri": "https://localhost:8080/",
          "height": 170
        },
        "id": "zkA7ZQBn-2Ih",
        "outputId": "fe6aa3e5-827e-442d-f214-c22501822267"
      },
      "execution_count": 47,
      "outputs": [
        {
          "output_type": "display_data",
          "data": {
            "text/plain": [
              "<Figure size 1200x300 with 3 Axes>"
            ],
            "image/png": "[encoded data removed]"
          },
          "metadata": {}
        }
      ]
    },
    {
      "cell_type": "markdown",
      "source": [
        "## Scale Model Evaluation"
      ],
      "metadata": {
        "id": "3AwV7--Rkc45"
      }
    },
    {
      "cell_type": "code",
      "source": [
        "#alpha_factor_list = [1] + list(range(5, 21, 5))\n",
        "#eta_factors_list = [1] + list(range(5, 21, 5))\n",
        "\n",
        "#def test_alpha_eta():\n",
        "\n",
        "\n",
        "\n",
        "\n",
        "\n",
        "\n",
        "\n"
      ],
      "metadata": {
        "id": "DY0yI8wokq-g"
      },
      "execution_count": null,
      "outputs": []
    },
    {
      "cell_type": "code",
      "source": [],
      "metadata": {
        "id": "zy70uT3YkrCy"
      },
      "execution_count": null,
      "outputs": []
    },
    {
      "cell_type": "markdown",
      "source": [
        "# 5.&nbsp;Model: Final"
      ],
      "metadata": {
        "id": "GglxxFTwEeh0"
      }
    },
    {
      "cell_type": "markdown",
      "source": [
        "## Import the Corpus"
      ],
      "metadata": {
        "id": "Lkq_bLSniNAW"
      }
    },
    {
      "cell_type": "code",
      "source": [
        "#location of corpus files\n",
        "corpus_file_path = '%s/corpus.p' % DATA_DIR\n",
        "doc_labels_file_path = '%s/doc_labels.p' % DATA_DIR\n",
        "vocab_file_path = '%s/vocab.p' % DATA_DIR\n",
        "dtm_file_path = '%s/dtm_main.npz' % DATA_DIR\n",
        "\n",
        "#load the corpus\n",
        "corpus = pickle.load(open(corpus_file_path, 'rb'))\n",
        "doc_labels_main = pickle.load(open(doc_labels_file_path, 'rb'))\n",
        "dtm_main = scipy.sparse.load_npz(dtm_file_path)\n",
        "vocab_main = pickle.load(open(vocab_file_path, 'rb'))"
      ],
      "metadata": {
        "id": "jsXhBmbBXS9H"
      },
      "execution_count": 57,
      "outputs": []
    },
    {
      "cell_type": "markdown",
      "source": [
        "## Create the Model"
      ],
      "metadata": {
        "id": "kKLTUFppXPE5"
      }
    },
    {
      "cell_type": "code",
      "source": [
        "# set data to use\n",
        "dtms = {\n",
        "    'main': dtm_main\n",
        "}\n",
        "\n",
        "# and fixed hyperparameters\n",
        "# Here, alpha represents document-topic density - with a higher alpha, documents\n",
        "# are made up of more topics, and with lower alpha, documents contain fewer topics.\n",
        "#Beta represents topic-word density - with a high beta, topics are made up of\n",
        "#most of the words in the corpus, and with a low beta they consist of few words.\n",
        "# https://www.thoughtvector.io/blog/lda-alpha-and-beta-parameters-the-intuition/\n",
        "lda_params = {\n",
        "    'n_topics': 16,\n",
        "    'eta': .01,\n",
        "    'n_iter': 500,\n",
        "    'random_state': 20191122,  # to make results reproducible\n",
        "    'alpha': 1/16\n",
        "}"
      ],
      "metadata": {
        "id": "qpbjfEVtXtrq"
      },
      "execution_count": 58,
      "outputs": []
    },
    {
      "cell_type": "code",
      "source": [
        "#create the model\n",
        "models = compute_models_parallel(dtms, constant_parameters=lda_params)"
      ],
      "metadata": {
        "colab": {
          "base_uri": "https://localhost:8080/"
        },
        "id": "vrr9nFtbX-tn",
        "outputId": "a4effd60-4a7f-423d-9a38-e01f292d9880"
      },
      "execution_count": 59,
      "outputs": [
        {
          "output_type": "stream",
          "name": "stderr",
          "text": [
            "WARNING:lda:all zero row in document-term matrix found\n"
          ]
        }
      ]
    },
    {
      "cell_type": "code",
      "source": [
        "#preview the model\n",
        "model_main = models['main'][0][1]\n",
        "print_ldamodel_topic_words(model_main.topic_word_, vocab, top_n=5)"
      ],
      "metadata": {
        "colab": {
          "base_uri": "https://localhost:8080/"
        },
        "id": "wHGSiYwZYGAE",
        "outputId": "690b6264-daab-4e89-e122-194871de4a10"
      },
      "execution_count": 60,
      "outputs": [
        {
          "output_type": "stream",
          "name": "stdout",
          "text": [
            "topic_1\n",
            "> #1. shoe (0.129538)\n",
            "> #2. foot (0.062844)\n",
            "> #3. run (0.041595)\n",
            "> #4. support (0.030614)\n",
            "> #5. toe (0.028332)\n",
            "topic_2\n",
            "> #1. love (0.113414)\n",
            "> #2. son (0.072663)\n",
            "> #3. buy (0.054834)\n",
            "> #4. shoe (0.048842)\n",
            "> #5. wear (0.034384)\n",
            "topic_3\n",
            "> #1. shoe (0.157310)\n",
            "> #2. great (0.076691)\n",
            "> #3. run (0.058734)\n",
            "> #4. good (0.058485)\n",
            "> #5. comfortable (0.053123)\n",
            "topic_4\n",
            "> #1. shoe (0.150776)\n",
            "> #2. nike (0.037749)\n",
            "> #3. buy (0.031394)\n",
            "> #4. pair (0.029765)\n",
            "> #5. get (0.021618)\n",
            "topic_5\n",
            "> #1. shoe (0.093892)\n",
            "> #2. foot (0.059276)\n",
            "> #3. wear (0.052465)\n",
            "> #4. run (0.040394)\n",
            "> #5. day (0.039267)\n",
            "topic_6\n",
            "> #1. good (0.055237)\n",
            "> #2. buy (0.052081)\n",
            "> #3. price (0.051480)\n",
            "> #4. nike (0.048323)\n",
            "> #5. sneaker (0.033143)\n",
            "topic_7\n",
            "> #1. shoe (0.084699)\n",
            "> #2. pair (0.081086)\n",
            "> #3. nike (0.076821)\n",
            "> #4. air (0.045430)\n",
            "> #5. wear (0.044067)\n",
            "topic_8\n",
            "> #1. shoe (0.130713)\n",
            "> #2. play (0.054252)\n",
            "> #3. good (0.050538)\n",
            "> #4. great (0.042309)\n",
            "> #5. wear (0.041290)\n",
            "topic_9\n",
            "> #1. shoe (0.088785)\n",
            "> #2. love (0.069692)\n",
            "> #3. comfortable (0.067129)\n",
            "> #4. fit (0.063553)\n",
            "> #5. great (0.054580)\n",
            "topic_10\n",
            "> #1. size (0.179046)\n",
            "> #2. shoe (0.069603)\n",
            "> #3. small (0.066595)\n",
            "> #4. order (0.054142)\n",
            "> #5. fit (0.044379)\n",
            "topic_11\n",
            "> #1. color (0.089891)\n",
            "> #2. shoe (0.072422)\n",
            "> #3. look (0.056625)\n",
            "> #4. love (0.043172)\n",
            "> #5. black (0.039692)\n",
            "topic_12\n",
            "> #1. watch (0.151619)\n",
            "> #2. time (0.035699)\n",
            "> #3. band (0.026006)\n",
            "> #4. nike (0.024671)\n",
            "> #5. look (0.023277)\n",
            "topic_13\n",
            "> #1. sock (0.089042)\n",
            "> #2. foot (0.070195)\n",
            "> #3. wear (0.064166)\n",
            "> #4. fit (0.044071)\n",
            "> #5. comfortable (0.038666)\n",
            "topic_14\n",
            "> #1. shoe (0.065302)\n",
            "> #2. order (0.059713)\n",
            "> #3. size (0.049596)\n",
            "> #4. return (0.032828)\n",
            "> #5. amazon (0.027876)\n",
            "topic_15\n",
            "> #1. bag (0.061903)\n",
            "> #2. fit (0.050852)\n",
            "> #3. gym (0.039083)\n",
            "> #4. shirt (0.038364)\n",
            "> #5. perfect (0.033063)\n",
            "topic_16\n",
            "> #1. great (0.069931)\n",
            "> #2. product (0.058844)\n",
            "> #3. good (0.057539)\n",
            "> #4. fit (0.052104)\n",
            "> #5. shoe (0.047829)\n"
          ]
        }
      ]
    },
    {
      "cell_type": "markdown",
      "source": [
        "## Save Topic Model"
      ],
      "metadata": {
        "id": "fCbqhoQ9d3Qk"
      }
    },
    {
      "cell_type": "code",
      "source": [
        "#save the model to disk\n",
        "model_file_path = '%s/main_model.p' % MODEL_DIR\n",
        "\n",
        "with open(model_file_path, \"wb\") as modelfile:\n",
        "    save_ldamodel_to_pickle(modelfile, model_main, vocab, doc_lbls, dtm=dtm_main)"
      ],
      "metadata": {
        "id": "ZPri7Gmxd1_z"
      },
      "execution_count": 96,
      "outputs": []
    },
    {
      "cell_type": "markdown",
      "source": [
        "# 6.&nbsp; Model Evaluation"
      ],
      "metadata": {
        "id": "P_ch6h37Eekq"
      }
    },
    {
      "cell_type": "markdown",
      "source": [
        "## Load the Model"
      ],
      "metadata": {
        "id": "x17nHxZ8HOVt"
      }
    },
    {
      "cell_type": "code",
      "source": [
        "#build the paths\n",
        "corpus_file_path = '%s/corpus.p' % DATA_DIR\n",
        "model_file_path = '%s/main_model.p' % MODEL_DIR\n",
        "#load the files\n",
        "with open(corpus_file_path, \"rb\") as corpusfile:\n",
        "    corpus = pickle.load(corpusfile)\n",
        "with open(model_file_path, \"rb\") as modelfile:\n",
        "    model_info = load_ldamodel_from_pickle(modelfile)\n",
        "#preview the model info keys\n",
        "model_info.keys()"
      ],
      "metadata": {
        "id": "F1M5oxq-HOeT"
      },
      "execution_count": null,
      "outputs": []
    },
    {
      "cell_type": "code",
      "source": [
        "#extract the parts of the model\n",
        "model_main      = model_info[\"model\"]\n",
        "vocab_main      = model_info[\"vocab\"]\n",
        "dtm_main        = model_info[\"dtm\"]\n",
        "doc_labels_main = model_info[\"doc_labels\"]"
      ],
      "metadata": {
        "id": "yrma7CLLHuEF"
      },
      "execution_count": null,
      "outputs": []
    },
    {
      "cell_type": "markdown",
      "source": [
        "## Create Topic Names and Classification"
      ],
      "metadata": {
        "id": "utNNdIP_B6wA"
      }
    },
    {
      "cell_type": "code",
      "source": [
        "#create the document lengths\n",
        "doc_lengths_main = doc_lengths(dtm_main)\n",
        "#create the topic label names\n",
        "topic_labels_main = generate_topic_labels_from_top_words(\n",
        "    model_main.topic_word_,\n",
        "    model_main.doc_topic_,\n",
        "    doc_lengths_main,\n",
        "    vocab_main,\n",
        "    lambda_=0.7\n",
        ")"
      ],
      "metadata": {
        "id": "ZIPyVDUZB7Mq"
      },
      "execution_count": null,
      "outputs": []
    },
    {
      "cell_type": "code",
      "source": [
        "#display the list of topic labels\n",
        "print('created topic labels:')\n",
        "print(topic_labels_main)"
      ],
      "metadata": {
        "id": "zhhXPcjSDawi"
      },
      "execution_count": null,
      "outputs": []
    },
    {
      "cell_type": "code",
      "source": [
        "#classify each document with the label\n",
        "doc_topic_main = model_main.doc_topic_\n",
        "documentclassifications = ldamodel_top_doc_topics(doc_topic_main,\n",
        "                                                  doc_labels_main,\n",
        "                                                  top_n=3,\n",
        "                                                  topic_labels=topic_labels_main)\n",
        "#preview the document classifications\n",
        "documentclassifications.head()"
      ],
      "metadata": {
        "id": "WfmM1TqSDu84"
      },
      "execution_count": null,
      "outputs": []
    },
    {
      "cell_type": "code",
      "source": [
        "#add text from corpus to label table\n",
        "documentclassifications['text'] = np.nan\n",
        "for index, arow in documentclassifications.iterrows():\n",
        "  documentclassifications['text'][index] = corpus[index]"
      ],
      "metadata": {
        "id": "DvGpGViJEig7"
      },
      "execution_count": null,
      "outputs": []
    },
    {
      "cell_type": "markdown",
      "source": [
        "## Preview Samples from Topic Labels"
      ],
      "metadata": {
        "id": "ibu98y4iFt_W"
      }
    },
    {
      "cell_type": "code",
      "source": [
        "#preview the topic labels for a sample record\n",
        "k = '91'\n",
        "documentclassifications.loc[k]"
      ],
      "metadata": {
        "id": "tfsjCEHBEsRt"
      },
      "execution_count": null,
      "outputs": []
    },
    {
      "cell_type": "code",
      "source": [
        "#preview the full text for the sample record\n",
        "documentclassifications.loc[k]['text']"
      ],
      "metadata": {
        "id": "BSNluClxE5Yo"
      },
      "execution_count": null,
      "outputs": []
    },
    {
      "cell_type": "code",
      "source": [
        "#lookup where reviews talk about battery issues\n",
        "print('Results:')\n",
        "lookup = documentclassifications[documentclassifications['text'].str.contains('battery')]\n",
        "lookup.head()"
      ],
      "metadata": {
        "id": "-5KNzpDHFFt0"
      },
      "execution_count": null,
      "outputs": []
    },
    {
      "cell_type": "markdown",
      "source": [
        "## Export the Topic Labels to Excel"
      ],
      "metadata": {
        "id": "oIxjqN3IFyak"
      }
    },
    {
      "cell_type": "code",
      "source": [
        "#export the topic classification data to excel\n",
        "topic_excel_path = '%s/topics.documentclassification.xlsx' % DATA_DIR\n",
        "documentclassifications.to_excel(topic_excel_path)"
      ],
      "metadata": {
        "id": "wJjnTyC3FMWP"
      },
      "execution_count": null,
      "outputs": []
    },
    {
      "cell_type": "markdown",
      "source": [
        "## Visualize the Topics"
      ],
      "metadata": {
        "id": "J1ZSDm-GFpZK"
      }
    },
    {
      "cell_type": "code",
      "source": [
        "#create parameters for ldavis\n",
        "ldavis_params = parameters_for_ldavis(model_main.topic_word_,\n",
        "                                      model_main.doc_topic_,\n",
        "                                      dtm_main,\n",
        "                                      vocab_main)"
      ],
      "metadata": {
        "id": "xO5ry-ZzF1Fj"
      },
      "execution_count": null,
      "outputs": []
    },
    {
      "cell_type": "code",
      "source": [
        "%matplotlib inline\n",
        "vis = pyLDAvis.prepare(**ldavis_params)\n",
        "pyLDAvis.enable_notebook(local=True)\n",
        "pyLDAvis.display(vis)"
      ],
      "metadata": {
        "id": "Wl_bL4G1F1MD"
      },
      "execution_count": null,
      "outputs": []
    },
    {
      "cell_type": "markdown",
      "source": [
        "## Generate Topic Wordcloud"
      ],
      "metadata": {
        "id": "jhbcV2BkGk8d"
      }
    },
    {
      "cell_type": "code",
      "source": [
        "# some options for wordcloud output\n",
        "img_w = 400   # image width\n",
        "img_h = 300   # image height\n",
        "\n",
        "topic_clouds = generate_wordclouds_for_topic_words(\n",
        "    model_main.topic_word_, vocab_main,\n",
        "    top_n=20, topic_labels=topic_labels_main,\n",
        "    width=img_w, height=img_h\n",
        ")\n",
        "\n",
        "# show all generated word clouds\n",
        "topic_clouds.keys()"
      ],
      "metadata": {
        "id": "qLH9zmSMGlFx"
      },
      "execution_count": null,
      "outputs": []
    },
    {
      "cell_type": "code",
      "source": [
        "#display wordcloud for a topic\n",
        "topic_clouds['1_last_long']"
      ],
      "metadata": {
        "id": "mu45cqpKHDLI"
      },
      "execution_count": null,
      "outputs": []
    },
    {
      "cell_type": "markdown",
      "source": [
        "# 7.&nbsp; ...."
      ],
      "metadata": {
        "id": "ECRMa1527UUD"
      }
    },
    {
      "cell_type": "markdown",
      "source": [
        "# 8.&nbsp; Results"
      ],
      "metadata": {
        "id": "cXHvb30HEend"
      }
    },
    {
      "cell_type": "markdown",
      "source": [
        "# 9.&nbsp; References"
      ],
      "metadata": {
        "id": "Q3D69G2sErhN"
      }
    }
  ]
}